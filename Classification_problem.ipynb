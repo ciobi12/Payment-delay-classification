{
 "cells": [
  {
   "cell_type": "code",
   "execution_count": 1,
   "id": "9d88357d",
   "metadata": {},
   "outputs": [
    {
     "data": {
      "text/html": [
       "        <script type=\"text/javascript\">\n",
       "        window.PlotlyConfig = {MathJaxConfig: 'local'};\n",
       "        if (window.MathJax) {MathJax.Hub.Config({SVG: {font: \"STIX-Web\"}});}\n",
       "        if (typeof require !== 'undefined') {\n",
       "        require.undef(\"plotly\");\n",
       "        requirejs.config({\n",
       "            paths: {\n",
       "                'plotly': ['https://cdn.plot.ly/plotly-2.4.2.min']\n",
       "            }\n",
       "        });\n",
       "        require(['plotly'], function(Plotly) {\n",
       "            window._Plotly = Plotly;\n",
       "        });\n",
       "        }\n",
       "        </script>\n",
       "        "
      ]
     },
     "metadata": {},
     "output_type": "display_data"
    }
   ],
   "source": [
    "import pandas as pd\n",
    "import numpy as np\n",
    "import seaborn as sns\n",
    "from sklearn.model_selection import train_test_split\n",
    "from sklearn.ensemble import RandomForestRegressor\n",
    "from sklearn.preprocessing import StandardScaler\n",
    "import plotly.express as px\n",
    "import plotly.graph_objects as go\n",
    "import time\n",
    "from plotly.subplots import make_subplots\n",
    "from plotly.offline import download_plotlyjs, init_notebook_mode, plot, iplot\n",
    "init_notebook_mode(connected=True)\n"
   ]
  },
  {
   "cell_type": "code",
   "execution_count": 2,
   "id": "e8595bb6",
   "metadata": {},
   "outputs": [
    {
     "data": {
      "text/html": [
       "<div>\n",
       "<style scoped>\n",
       "    .dataframe tbody tr th:only-of-type {\n",
       "        vertical-align: middle;\n",
       "    }\n",
       "\n",
       "    .dataframe tbody tr th {\n",
       "        vertical-align: top;\n",
       "    }\n",
       "\n",
       "    .dataframe thead th {\n",
       "        text-align: right;\n",
       "    }\n",
       "</style>\n",
       "<table border=\"1\" class=\"dataframe\">\n",
       "  <thead>\n",
       "    <tr style=\"text-align: right;\">\n",
       "      <th></th>\n",
       "      <th>state</th>\n",
       "      <th>account_length</th>\n",
       "      <th>area_code</th>\n",
       "      <th>international_plan</th>\n",
       "      <th>voice_mail_plan</th>\n",
       "      <th>number_vmail_messages</th>\n",
       "      <th>total_day_minutes</th>\n",
       "      <th>total_day_calls</th>\n",
       "      <th>total_day_charge</th>\n",
       "      <th>total_eve_minutes</th>\n",
       "      <th>total_eve_calls</th>\n",
       "      <th>total_eve_charge</th>\n",
       "      <th>total_night_minutes</th>\n",
       "      <th>total_night_calls</th>\n",
       "      <th>total_night_charge</th>\n",
       "      <th>total_intl_minutes</th>\n",
       "      <th>total_intl_calls</th>\n",
       "      <th>total_intl_charge</th>\n",
       "      <th>number_customer_service_calls</th>\n",
       "      <th>payment_delay</th>\n",
       "    </tr>\n",
       "  </thead>\n",
       "  <tbody>\n",
       "    <tr>\n",
       "      <th>0</th>\n",
       "      <td>HI</td>\n",
       "      <td>33</td>\n",
       "      <td>area_code_415</td>\n",
       "      <td>no</td>\n",
       "      <td>no</td>\n",
       "      <td>0</td>\n",
       "      <td>200.5</td>\n",
       "      <td>117</td>\n",
       "      <td>34.09</td>\n",
       "      <td>159.9</td>\n",
       "      <td>111</td>\n",
       "      <td>13.59</td>\n",
       "      <td>196.2</td>\n",
       "      <td>84</td>\n",
       "      <td>8.83</td>\n",
       "      <td>16.3</td>\n",
       "      <td>6</td>\n",
       "      <td>4.40</td>\n",
       "      <td>3</td>\n",
       "      <td>no</td>\n",
       "    </tr>\n",
       "    <tr>\n",
       "      <th>1</th>\n",
       "      <td>TN</td>\n",
       "      <td>80</td>\n",
       "      <td>area_code_415</td>\n",
       "      <td>yes</td>\n",
       "      <td>no</td>\n",
       "      <td>0</td>\n",
       "      <td>276.5</td>\n",
       "      <td>122</td>\n",
       "      <td>47.01</td>\n",
       "      <td>195.6</td>\n",
       "      <td>79</td>\n",
       "      <td>16.63</td>\n",
       "      <td>210.3</td>\n",
       "      <td>78</td>\n",
       "      <td>9.46</td>\n",
       "      <td>7.2</td>\n",
       "      <td>3</td>\n",
       "      <td>1.94</td>\n",
       "      <td>1</td>\n",
       "      <td>yes</td>\n",
       "    </tr>\n",
       "    <tr>\n",
       "      <th>2</th>\n",
       "      <td>CT</td>\n",
       "      <td>37</td>\n",
       "      <td>area_code_408</td>\n",
       "      <td>no</td>\n",
       "      <td>no</td>\n",
       "      <td>0</td>\n",
       "      <td>134.9</td>\n",
       "      <td>98</td>\n",
       "      <td>22.93</td>\n",
       "      <td>248.4</td>\n",
       "      <td>130</td>\n",
       "      <td>21.11</td>\n",
       "      <td>236.2</td>\n",
       "      <td>113</td>\n",
       "      <td>10.63</td>\n",
       "      <td>14.7</td>\n",
       "      <td>2</td>\n",
       "      <td>3.97</td>\n",
       "      <td>3</td>\n",
       "      <td>no</td>\n",
       "    </tr>\n",
       "    <tr>\n",
       "      <th>3</th>\n",
       "      <td>TN</td>\n",
       "      <td>106</td>\n",
       "      <td>area_code_415</td>\n",
       "      <td>no</td>\n",
       "      <td>no</td>\n",
       "      <td>0</td>\n",
       "      <td>119.2</td>\n",
       "      <td>142</td>\n",
       "      <td>20.26</td>\n",
       "      <td>228.4</td>\n",
       "      <td>139</td>\n",
       "      <td>19.41</td>\n",
       "      <td>197.9</td>\n",
       "      <td>61</td>\n",
       "      <td>8.91</td>\n",
       "      <td>8.4</td>\n",
       "      <td>9</td>\n",
       "      <td>2.27</td>\n",
       "      <td>2</td>\n",
       "      <td>no</td>\n",
       "    </tr>\n",
       "    <tr>\n",
       "      <th>4</th>\n",
       "      <td>TX</td>\n",
       "      <td>123</td>\n",
       "      <td>area_code_408</td>\n",
       "      <td>no</td>\n",
       "      <td>no</td>\n",
       "      <td>0</td>\n",
       "      <td>260.9</td>\n",
       "      <td>85</td>\n",
       "      <td>44.35</td>\n",
       "      <td>168.5</td>\n",
       "      <td>103</td>\n",
       "      <td>14.32</td>\n",
       "      <td>178.3</td>\n",
       "      <td>91</td>\n",
       "      <td>8.02</td>\n",
       "      <td>13.3</td>\n",
       "      <td>5</td>\n",
       "      <td>3.59</td>\n",
       "      <td>3</td>\n",
       "      <td>no</td>\n",
       "    </tr>\n",
       "    <tr>\n",
       "      <th>5</th>\n",
       "      <td>CT</td>\n",
       "      <td>152</td>\n",
       "      <td>area_code_408</td>\n",
       "      <td>no</td>\n",
       "      <td>yes</td>\n",
       "      <td>20</td>\n",
       "      <td>239.1</td>\n",
       "      <td>105</td>\n",
       "      <td>40.65</td>\n",
       "      <td>209.1</td>\n",
       "      <td>111</td>\n",
       "      <td>17.77</td>\n",
       "      <td>268.2</td>\n",
       "      <td>130</td>\n",
       "      <td>12.07</td>\n",
       "      <td>13.3</td>\n",
       "      <td>3</td>\n",
       "      <td>3.59</td>\n",
       "      <td>5</td>\n",
       "      <td>no</td>\n",
       "    </tr>\n",
       "    <tr>\n",
       "      <th>6</th>\n",
       "      <td>NY</td>\n",
       "      <td>87</td>\n",
       "      <td>area_code_415</td>\n",
       "      <td>no</td>\n",
       "      <td>no</td>\n",
       "      <td>0</td>\n",
       "      <td>204.8</td>\n",
       "      <td>101</td>\n",
       "      <td>34.82</td>\n",
       "      <td>161.0</td>\n",
       "      <td>80</td>\n",
       "      <td>13.69</td>\n",
       "      <td>285.7</td>\n",
       "      <td>89</td>\n",
       "      <td>12.86</td>\n",
       "      <td>9.5</td>\n",
       "      <td>3</td>\n",
       "      <td>2.57</td>\n",
       "      <td>0</td>\n",
       "      <td>no</td>\n",
       "    </tr>\n",
       "    <tr>\n",
       "      <th>7</th>\n",
       "      <td>UT</td>\n",
       "      <td>110</td>\n",
       "      <td>area_code_415</td>\n",
       "      <td>no</td>\n",
       "      <td>no</td>\n",
       "      <td>0</td>\n",
       "      <td>271.1</td>\n",
       "      <td>108</td>\n",
       "      <td>46.09</td>\n",
       "      <td>237.0</td>\n",
       "      <td>122</td>\n",
       "      <td>20.15</td>\n",
       "      <td>239.9</td>\n",
       "      <td>122</td>\n",
       "      <td>10.80</td>\n",
       "      <td>9.8</td>\n",
       "      <td>5</td>\n",
       "      <td>2.65</td>\n",
       "      <td>2</td>\n",
       "      <td>yes</td>\n",
       "    </tr>\n",
       "    <tr>\n",
       "      <th>8</th>\n",
       "      <td>IL</td>\n",
       "      <td>66</td>\n",
       "      <td>area_code_415</td>\n",
       "      <td>no</td>\n",
       "      <td>yes</td>\n",
       "      <td>21</td>\n",
       "      <td>134.4</td>\n",
       "      <td>110</td>\n",
       "      <td>22.85</td>\n",
       "      <td>136.2</td>\n",
       "      <td>104</td>\n",
       "      <td>11.58</td>\n",
       "      <td>215.6</td>\n",
       "      <td>105</td>\n",
       "      <td>9.70</td>\n",
       "      <td>9.7</td>\n",
       "      <td>4</td>\n",
       "      <td>2.62</td>\n",
       "      <td>3</td>\n",
       "      <td>no</td>\n",
       "    </tr>\n",
       "    <tr>\n",
       "      <th>9</th>\n",
       "      <td>MI</td>\n",
       "      <td>119</td>\n",
       "      <td>area_code_510</td>\n",
       "      <td>yes</td>\n",
       "      <td>yes</td>\n",
       "      <td>22</td>\n",
       "      <td>172.1</td>\n",
       "      <td>119</td>\n",
       "      <td>29.26</td>\n",
       "      <td>223.6</td>\n",
       "      <td>133</td>\n",
       "      <td>19.01</td>\n",
       "      <td>150.0</td>\n",
       "      <td>94</td>\n",
       "      <td>6.75</td>\n",
       "      <td>13.9</td>\n",
       "      <td>20</td>\n",
       "      <td>3.75</td>\n",
       "      <td>1</td>\n",
       "      <td>yes</td>\n",
       "    </tr>\n",
       "  </tbody>\n",
       "</table>\n",
       "</div>"
      ],
      "text/plain": [
       "  state  account_length      area_code international_plan voice_mail_plan  \\\n",
       "0    HI              33  area_code_415                 no              no   \n",
       "1    TN              80  area_code_415                yes              no   \n",
       "2    CT              37  area_code_408                 no              no   \n",
       "3    TN             106  area_code_415                 no              no   \n",
       "4    TX             123  area_code_408                 no              no   \n",
       "5    CT             152  area_code_408                 no             yes   \n",
       "6    NY              87  area_code_415                 no              no   \n",
       "7    UT             110  area_code_415                 no              no   \n",
       "8    IL              66  area_code_415                 no             yes   \n",
       "9    MI             119  area_code_510                yes             yes   \n",
       "\n",
       "   number_vmail_messages  total_day_minutes  total_day_calls  \\\n",
       "0                      0              200.5              117   \n",
       "1                      0              276.5              122   \n",
       "2                      0              134.9               98   \n",
       "3                      0              119.2              142   \n",
       "4                      0              260.9               85   \n",
       "5                     20              239.1              105   \n",
       "6                      0              204.8              101   \n",
       "7                      0              271.1              108   \n",
       "8                     21              134.4              110   \n",
       "9                     22              172.1              119   \n",
       "\n",
       "   total_day_charge  total_eve_minutes  total_eve_calls  total_eve_charge  \\\n",
       "0             34.09              159.9              111             13.59   \n",
       "1             47.01              195.6               79             16.63   \n",
       "2             22.93              248.4              130             21.11   \n",
       "3             20.26              228.4              139             19.41   \n",
       "4             44.35              168.5              103             14.32   \n",
       "5             40.65              209.1              111             17.77   \n",
       "6             34.82              161.0               80             13.69   \n",
       "7             46.09              237.0              122             20.15   \n",
       "8             22.85              136.2              104             11.58   \n",
       "9             29.26              223.6              133             19.01   \n",
       "\n",
       "   total_night_minutes  total_night_calls  total_night_charge  \\\n",
       "0                196.2                 84                8.83   \n",
       "1                210.3                 78                9.46   \n",
       "2                236.2                113               10.63   \n",
       "3                197.9                 61                8.91   \n",
       "4                178.3                 91                8.02   \n",
       "5                268.2                130               12.07   \n",
       "6                285.7                 89               12.86   \n",
       "7                239.9                122               10.80   \n",
       "8                215.6                105                9.70   \n",
       "9                150.0                 94                6.75   \n",
       "\n",
       "   total_intl_minutes  total_intl_calls  total_intl_charge  \\\n",
       "0                16.3                 6               4.40   \n",
       "1                 7.2                 3               1.94   \n",
       "2                14.7                 2               3.97   \n",
       "3                 8.4                 9               2.27   \n",
       "4                13.3                 5               3.59   \n",
       "5                13.3                 3               3.59   \n",
       "6                 9.5                 3               2.57   \n",
       "7                 9.8                 5               2.65   \n",
       "8                 9.7                 4               2.62   \n",
       "9                13.9                20               3.75   \n",
       "\n",
       "   number_customer_service_calls payment_delay  \n",
       "0                              3            no  \n",
       "1                              1           yes  \n",
       "2                              3            no  \n",
       "3                              2            no  \n",
       "4                              3            no  \n",
       "5                              5            no  \n",
       "6                              0            no  \n",
       "7                              2           yes  \n",
       "8                              3            no  \n",
       "9                              1           yes  "
      ]
     },
     "execution_count": 2,
     "metadata": {},
     "output_type": "execute_result"
    }
   ],
   "source": [
    "df = pd.read_csv('train.csv')\n",
    "df.head(10)"
   ]
  },
  {
   "cell_type": "code",
   "execution_count": 3,
   "id": "8e76ddad",
   "metadata": {},
   "outputs": [],
   "source": [
    "#Creating labels \n",
    "\n",
    "labels = df['payment_delay']\n",
    "labels = labels.replace(('yes', 'no'), (1,0))\n",
    "labels = np.array(labels)"
   ]
  },
  {
   "cell_type": "markdown",
   "id": "9e41e983",
   "metadata": {},
   "source": [
    "**EDA**"
   ]
  },
  {
   "cell_type": "code",
   "execution_count": 4,
   "id": "41aa73b3",
   "metadata": {},
   "outputs": [
    {
     "name": "stdout",
     "output_type": "stream",
     "text": [
      "(3000, 20)\n"
     ]
    }
   ],
   "source": [
    "# no. of training examples\n",
    "\n",
    "print(df.shape)"
   ]
  },
  {
   "cell_type": "code",
   "execution_count": 5,
   "id": "bd70a978",
   "metadata": {},
   "outputs": [
    {
     "data": {
      "text/plain": [
       "state                            0\n",
       "account_length                   0\n",
       "area_code                        0\n",
       "international_plan               0\n",
       "voice_mail_plan                  0\n",
       "number_vmail_messages            0\n",
       "total_day_minutes                0\n",
       "total_day_calls                  0\n",
       "total_day_charge                 0\n",
       "total_eve_minutes                0\n",
       "total_eve_calls                  0\n",
       "total_eve_charge                 0\n",
       "total_night_minutes              0\n",
       "total_night_calls                0\n",
       "total_night_charge               0\n",
       "total_intl_minutes               0\n",
       "total_intl_calls                 0\n",
       "total_intl_charge                0\n",
       "number_customer_service_calls    0\n",
       "payment_delay                    0\n",
       "dtype: int64"
      ]
     },
     "execution_count": 5,
     "metadata": {},
     "output_type": "execute_result"
    }
   ],
   "source": [
    "df.isnull().sum()"
   ]
  },
  {
   "cell_type": "code",
   "execution_count": 6,
   "id": "849c398a",
   "metadata": {},
   "outputs": [
    {
     "data": {
      "text/plain": [
       "state                            0\n",
       "account_length                   0\n",
       "area_code                        0\n",
       "international_plan               0\n",
       "voice_mail_plan                  0\n",
       "number_vmail_messages            0\n",
       "total_day_minutes                0\n",
       "total_day_calls                  0\n",
       "total_day_charge                 0\n",
       "total_eve_minutes                0\n",
       "total_eve_calls                  0\n",
       "total_eve_charge                 0\n",
       "total_night_minutes              0\n",
       "total_night_calls                0\n",
       "total_night_charge               0\n",
       "total_intl_minutes               0\n",
       "total_intl_calls                 0\n",
       "total_intl_charge                0\n",
       "number_customer_service_calls    0\n",
       "payment_delay                    0\n",
       "dtype: int64"
      ]
     },
     "execution_count": 6,
     "metadata": {},
     "output_type": "execute_result"
    }
   ],
   "source": [
    "# Counting the NaN values so we eliminate them.\n",
    "\n",
    "df.isna().sum()\n",
    "# df.dropna()"
   ]
  },
  {
   "cell_type": "code",
   "execution_count": 7,
   "id": "b9af55b5",
   "metadata": {},
   "outputs": [
    {
     "name": "stdout",
     "output_type": "stream",
     "text": [
      "(3000, 20)\n"
     ]
    }
   ],
   "source": [
    "#Drop any duplicated rows\n",
    "\n",
    "df = df.drop_duplicates()\n",
    "print(df.shape)"
   ]
  },
  {
   "cell_type": "markdown",
   "id": "af7be3fd",
   "metadata": {},
   "source": [
    "Seems like there were no NaN, null values or duplicate rows. Great, the dataset is clean! </br> </br> \n",
    "Since we're interested in predicting the payment delays, we'll split the dataset in **2 parts**: one part contains information about the customers that registered payment delays and the other part containts information about those who didn't. We'll only analise the statistic parameters of each column: **mean** and **standard deviation**, so we can get an idea of the mathematical distribution that features these values."
   ]
  },
  {
   "cell_type": "code",
   "execution_count": 8,
   "id": "ff92b9f3",
   "metadata": {},
   "outputs": [
    {
     "name": "stdout",
     "output_type": "stream",
     "text": [
      "No. of customers who delayed their payment:  413\n"
     ]
    },
    {
     "data": {
      "text/html": [
       "<div>\n",
       "<style scoped>\n",
       "    .dataframe tbody tr th:only-of-type {\n",
       "        vertical-align: middle;\n",
       "    }\n",
       "\n",
       "    .dataframe tbody tr th {\n",
       "        vertical-align: top;\n",
       "    }\n",
       "\n",
       "    .dataframe thead th {\n",
       "        text-align: right;\n",
       "    }\n",
       "</style>\n",
       "<table border=\"1\" class=\"dataframe\">\n",
       "  <thead>\n",
       "    <tr style=\"text-align: right;\">\n",
       "      <th></th>\n",
       "      <th>account_length</th>\n",
       "      <th>number_vmail_messages</th>\n",
       "      <th>total_day_minutes</th>\n",
       "      <th>total_day_calls</th>\n",
       "      <th>total_day_charge</th>\n",
       "      <th>total_eve_minutes</th>\n",
       "      <th>total_eve_calls</th>\n",
       "      <th>total_eve_charge</th>\n",
       "      <th>total_night_minutes</th>\n",
       "      <th>total_night_calls</th>\n",
       "      <th>total_night_charge</th>\n",
       "      <th>total_intl_minutes</th>\n",
       "      <th>total_intl_calls</th>\n",
       "      <th>total_intl_charge</th>\n",
       "      <th>number_customer_service_calls</th>\n",
       "    </tr>\n",
       "  </thead>\n",
       "  <tbody>\n",
       "    <tr>\n",
       "      <th>mean</th>\n",
       "      <td>103.765133</td>\n",
       "      <td>4.622276</td>\n",
       "      <td>209.580872</td>\n",
       "      <td>100.104116</td>\n",
       "      <td>35.629201</td>\n",
       "      <td>211.148426</td>\n",
       "      <td>99.687651</td>\n",
       "      <td>17.947579</td>\n",
       "      <td>206.382082</td>\n",
       "      <td>99.581114</td>\n",
       "      <td>9.287264</td>\n",
       "      <td>10.683051</td>\n",
       "      <td>4.285714</td>\n",
       "      <td>2.884964</td>\n",
       "      <td>2.256659</td>\n",
       "    </tr>\n",
       "    <tr>\n",
       "      <th>std</th>\n",
       "      <td>38.769615</td>\n",
       "      <td>11.377362</td>\n",
       "      <td>67.943348</td>\n",
       "      <td>20.021501</td>\n",
       "      <td>11.550457</td>\n",
       "      <td>49.828265</td>\n",
       "      <td>19.755711</td>\n",
       "      <td>4.235185</td>\n",
       "      <td>51.128992</td>\n",
       "      <td>19.604124</td>\n",
       "      <td>2.300929</td>\n",
       "      <td>2.859689</td>\n",
       "      <td>2.720065</td>\n",
       "      <td>0.771956</td>\n",
       "      <td>1.849163</td>\n",
       "    </tr>\n",
       "  </tbody>\n",
       "</table>\n",
       "</div>"
      ],
      "text/plain": [
       "      account_length  number_vmail_messages  total_day_minutes  \\\n",
       "mean      103.765133               4.622276         209.580872   \n",
       "std        38.769615              11.377362          67.943348   \n",
       "\n",
       "      total_day_calls  total_day_charge  total_eve_minutes  total_eve_calls  \\\n",
       "mean       100.104116         35.629201         211.148426        99.687651   \n",
       "std         20.021501         11.550457          49.828265        19.755711   \n",
       "\n",
       "      total_eve_charge  total_night_minutes  total_night_calls  \\\n",
       "mean         17.947579           206.382082          99.581114   \n",
       "std           4.235185            51.128992          19.604124   \n",
       "\n",
       "      total_night_charge  total_intl_minutes  total_intl_calls  \\\n",
       "mean            9.287264           10.683051          4.285714   \n",
       "std             2.300929            2.859689          2.720065   \n",
       "\n",
       "      total_intl_charge  number_customer_service_calls  \n",
       "mean           2.884964                       2.256659  \n",
       "std            0.771956                       1.849163  "
      ]
     },
     "execution_count": 8,
     "metadata": {},
     "output_type": "execute_result"
    }
   ],
   "source": [
    "df_yes = df[df['payment_delay'] == 'yes'].describe(percentiles=[])\n",
    "print('No. of customers who delayed their payment: ', df[df['payment_delay'] == 'yes'].shape[0])\n",
    "df_yes = df_yes[1:3]\n",
    "df_yes"
   ]
  },
  {
   "cell_type": "code",
   "execution_count": 9,
   "id": "f518d639",
   "metadata": {},
   "outputs": [
    {
     "name": "stdout",
     "output_type": "stream",
     "text": [
      "No. of customers who paid on time:  2587\n"
     ]
    },
    {
     "data": {
      "text/html": [
       "<div>\n",
       "<style scoped>\n",
       "    .dataframe tbody tr th:only-of-type {\n",
       "        vertical-align: middle;\n",
       "    }\n",
       "\n",
       "    .dataframe tbody tr th {\n",
       "        vertical-align: top;\n",
       "    }\n",
       "\n",
       "    .dataframe thead th {\n",
       "        text-align: right;\n",
       "    }\n",
       "</style>\n",
       "<table border=\"1\" class=\"dataframe\">\n",
       "  <thead>\n",
       "    <tr style=\"text-align: right;\">\n",
       "      <th></th>\n",
       "      <th>account_length</th>\n",
       "      <th>number_vmail_messages</th>\n",
       "      <th>total_day_minutes</th>\n",
       "      <th>total_day_calls</th>\n",
       "      <th>total_day_charge</th>\n",
       "      <th>total_eve_minutes</th>\n",
       "      <th>total_eve_calls</th>\n",
       "      <th>total_eve_charge</th>\n",
       "      <th>total_night_minutes</th>\n",
       "      <th>total_night_calls</th>\n",
       "      <th>total_night_charge</th>\n",
       "      <th>total_intl_minutes</th>\n",
       "      <th>total_intl_calls</th>\n",
       "      <th>total_intl_charge</th>\n",
       "      <th>number_customer_service_calls</th>\n",
       "    </tr>\n",
       "  </thead>\n",
       "  <tbody>\n",
       "    <tr>\n",
       "      <th>mean</th>\n",
       "      <td>99.990336</td>\n",
       "      <td>8.512949</td>\n",
       "      <td>175.806997</td>\n",
       "      <td>100.248550</td>\n",
       "      <td>29.887762</td>\n",
       "      <td>198.259644</td>\n",
       "      <td>100.336683</td>\n",
       "      <td>16.852319</td>\n",
       "      <td>200.256320</td>\n",
       "      <td>99.996908</td>\n",
       "      <td>9.011631</td>\n",
       "      <td>10.130421</td>\n",
       "      <td>4.528798</td>\n",
       "      <td>2.735717</td>\n",
       "      <td>1.485504</td>\n",
       "    </tr>\n",
       "    <tr>\n",
       "      <th>std</th>\n",
       "      <td>39.581515</td>\n",
       "      <td>13.996993</td>\n",
       "      <td>50.014753</td>\n",
       "      <td>19.726153</td>\n",
       "      <td>8.502478</td>\n",
       "      <td>49.956122</td>\n",
       "      <td>19.764935</td>\n",
       "      <td>4.246245</td>\n",
       "      <td>50.780369</td>\n",
       "      <td>19.683300</td>\n",
       "      <td>2.285141</td>\n",
       "      <td>2.724591</td>\n",
       "      <td>2.449064</td>\n",
       "      <td>0.735540</td>\n",
       "      <td>1.173339</td>\n",
       "    </tr>\n",
       "  </tbody>\n",
       "</table>\n",
       "</div>"
      ],
      "text/plain": [
       "      account_length  number_vmail_messages  total_day_minutes  \\\n",
       "mean       99.990336               8.512949         175.806997   \n",
       "std        39.581515              13.996993          50.014753   \n",
       "\n",
       "      total_day_calls  total_day_charge  total_eve_minutes  total_eve_calls  \\\n",
       "mean       100.248550         29.887762         198.259644       100.336683   \n",
       "std         19.726153          8.502478          49.956122        19.764935   \n",
       "\n",
       "      total_eve_charge  total_night_minutes  total_night_calls  \\\n",
       "mean         16.852319           200.256320          99.996908   \n",
       "std           4.246245            50.780369          19.683300   \n",
       "\n",
       "      total_night_charge  total_intl_minutes  total_intl_calls  \\\n",
       "mean            9.011631           10.130421          4.528798   \n",
       "std             2.285141            2.724591          2.449064   \n",
       "\n",
       "      total_intl_charge  number_customer_service_calls  \n",
       "mean           2.735717                       1.485504  \n",
       "std            0.735540                       1.173339  "
      ]
     },
     "execution_count": 9,
     "metadata": {},
     "output_type": "execute_result"
    }
   ],
   "source": [
    "df_no = df[df['payment_delay'] == 'no'].describe(percentiles=[])\n",
    "print('No. of customers who paid on time: ', df[df['payment_delay'] == 'no'].shape[0])\n",
    "df_no = df_no[1:3]\n",
    "df_no"
   ]
  },
  {
   "cell_type": "code",
   "execution_count": 10,
   "id": "fc2e7af2",
   "metadata": {},
   "outputs": [
    {
     "data": {
      "application/vnd.plotly.v1+json": {
       "config": {
        "linkText": "Export to plot.ly",
        "plotlyServerURL": "https://plot.ly",
        "showLink": false
       },
       "data": [
        {
         "name": "Mean - Payment delay",
         "type": "bar",
         "x": [
          "account_length",
          "number_vmail_messages",
          "total_day_minutes",
          "total_day_calls",
          "total_day_charge",
          "total_eve_minutes",
          "total_eve_calls",
          "total_eve_charge",
          "total_night_minutes",
          "total_night_calls",
          "total_night_charge",
          "total_intl_minutes",
          "total_intl_calls",
          "total_intl_charge",
          "number_customer_service_calls"
         ],
         "y": [
          103.76513317191284,
          4.62227602905569,
          209.58087167070215,
          100.1041162227603,
          35.629200968523,
          211.14842615012108,
          99.68765133171912,
          17.94757869249395,
          206.38208232445518,
          99.58111380145279,
          9.287263922518159,
          10.683050847457627,
          4.285714285714286,
          2.88496368038741,
          2.2566585956416465
         ]
        },
        {
         "name": "Mean - Payment on time",
         "type": "bar",
         "x": [
          "account_length",
          "number_vmail_messages",
          "total_day_minutes",
          "total_day_calls",
          "total_day_charge",
          "total_eve_minutes",
          "total_eve_calls",
          "total_eve_charge",
          "total_night_minutes",
          "total_night_calls",
          "total_night_charge",
          "total_intl_minutes",
          "total_intl_calls",
          "total_intl_charge",
          "number_customer_service_calls"
         ],
         "y": [
          99.99033629686896,
          8.512949362195593,
          175.80699652106685,
          100.24855044453034,
          29.887761886354852,
          198.25964437572475,
          100.33668341708542,
          16.85231928875145,
          200.2563200618477,
          99.99690761499807,
          9.01163123308852,
          10.130421337456514,
          4.528797835330499,
          2.735717046772323,
          1.4855044453034403
         ]
        }
       ],
       "layout": {
        "barmode": "group",
        "template": {
         "data": {
          "bar": [
           {
            "error_x": {
             "color": "#2a3f5f"
            },
            "error_y": {
             "color": "#2a3f5f"
            },
            "marker": {
             "line": {
              "color": "#E5ECF6",
              "width": 0.5
             },
             "pattern": {
              "fillmode": "overlay",
              "size": 10,
              "solidity": 0.2
             }
            },
            "type": "bar"
           }
          ],
          "barpolar": [
           {
            "marker": {
             "line": {
              "color": "#E5ECF6",
              "width": 0.5
             },
             "pattern": {
              "fillmode": "overlay",
              "size": 10,
              "solidity": 0.2
             }
            },
            "type": "barpolar"
           }
          ],
          "carpet": [
           {
            "aaxis": {
             "endlinecolor": "#2a3f5f",
             "gridcolor": "white",
             "linecolor": "white",
             "minorgridcolor": "white",
             "startlinecolor": "#2a3f5f"
            },
            "baxis": {
             "endlinecolor": "#2a3f5f",
             "gridcolor": "white",
             "linecolor": "white",
             "minorgridcolor": "white",
             "startlinecolor": "#2a3f5f"
            },
            "type": "carpet"
           }
          ],
          "choropleth": [
           {
            "colorbar": {
             "outlinewidth": 0,
             "ticks": ""
            },
            "type": "choropleth"
           }
          ],
          "contour": [
           {
            "colorbar": {
             "outlinewidth": 0,
             "ticks": ""
            },
            "colorscale": [
             [
              0,
              "#0d0887"
             ],
             [
              0.1111111111111111,
              "#46039f"
             ],
             [
              0.2222222222222222,
              "#7201a8"
             ],
             [
              0.3333333333333333,
              "#9c179e"
             ],
             [
              0.4444444444444444,
              "#bd3786"
             ],
             [
              0.5555555555555556,
              "#d8576b"
             ],
             [
              0.6666666666666666,
              "#ed7953"
             ],
             [
              0.7777777777777778,
              "#fb9f3a"
             ],
             [
              0.8888888888888888,
              "#fdca26"
             ],
             [
              1,
              "#f0f921"
             ]
            ],
            "type": "contour"
           }
          ],
          "contourcarpet": [
           {
            "colorbar": {
             "outlinewidth": 0,
             "ticks": ""
            },
            "type": "contourcarpet"
           }
          ],
          "heatmap": [
           {
            "colorbar": {
             "outlinewidth": 0,
             "ticks": ""
            },
            "colorscale": [
             [
              0,
              "#0d0887"
             ],
             [
              0.1111111111111111,
              "#46039f"
             ],
             [
              0.2222222222222222,
              "#7201a8"
             ],
             [
              0.3333333333333333,
              "#9c179e"
             ],
             [
              0.4444444444444444,
              "#bd3786"
             ],
             [
              0.5555555555555556,
              "#d8576b"
             ],
             [
              0.6666666666666666,
              "#ed7953"
             ],
             [
              0.7777777777777778,
              "#fb9f3a"
             ],
             [
              0.8888888888888888,
              "#fdca26"
             ],
             [
              1,
              "#f0f921"
             ]
            ],
            "type": "heatmap"
           }
          ],
          "heatmapgl": [
           {
            "colorbar": {
             "outlinewidth": 0,
             "ticks": ""
            },
            "colorscale": [
             [
              0,
              "#0d0887"
             ],
             [
              0.1111111111111111,
              "#46039f"
             ],
             [
              0.2222222222222222,
              "#7201a8"
             ],
             [
              0.3333333333333333,
              "#9c179e"
             ],
             [
              0.4444444444444444,
              "#bd3786"
             ],
             [
              0.5555555555555556,
              "#d8576b"
             ],
             [
              0.6666666666666666,
              "#ed7953"
             ],
             [
              0.7777777777777778,
              "#fb9f3a"
             ],
             [
              0.8888888888888888,
              "#fdca26"
             ],
             [
              1,
              "#f0f921"
             ]
            ],
            "type": "heatmapgl"
           }
          ],
          "histogram": [
           {
            "marker": {
             "pattern": {
              "fillmode": "overlay",
              "size": 10,
              "solidity": 0.2
             }
            },
            "type": "histogram"
           }
          ],
          "histogram2d": [
           {
            "colorbar": {
             "outlinewidth": 0,
             "ticks": ""
            },
            "colorscale": [
             [
              0,
              "#0d0887"
             ],
             [
              0.1111111111111111,
              "#46039f"
             ],
             [
              0.2222222222222222,
              "#7201a8"
             ],
             [
              0.3333333333333333,
              "#9c179e"
             ],
             [
              0.4444444444444444,
              "#bd3786"
             ],
             [
              0.5555555555555556,
              "#d8576b"
             ],
             [
              0.6666666666666666,
              "#ed7953"
             ],
             [
              0.7777777777777778,
              "#fb9f3a"
             ],
             [
              0.8888888888888888,
              "#fdca26"
             ],
             [
              1,
              "#f0f921"
             ]
            ],
            "type": "histogram2d"
           }
          ],
          "histogram2dcontour": [
           {
            "colorbar": {
             "outlinewidth": 0,
             "ticks": ""
            },
            "colorscale": [
             [
              0,
              "#0d0887"
             ],
             [
              0.1111111111111111,
              "#46039f"
             ],
             [
              0.2222222222222222,
              "#7201a8"
             ],
             [
              0.3333333333333333,
              "#9c179e"
             ],
             [
              0.4444444444444444,
              "#bd3786"
             ],
             [
              0.5555555555555556,
              "#d8576b"
             ],
             [
              0.6666666666666666,
              "#ed7953"
             ],
             [
              0.7777777777777778,
              "#fb9f3a"
             ],
             [
              0.8888888888888888,
              "#fdca26"
             ],
             [
              1,
              "#f0f921"
             ]
            ],
            "type": "histogram2dcontour"
           }
          ],
          "mesh3d": [
           {
            "colorbar": {
             "outlinewidth": 0,
             "ticks": ""
            },
            "type": "mesh3d"
           }
          ],
          "parcoords": [
           {
            "line": {
             "colorbar": {
              "outlinewidth": 0,
              "ticks": ""
             }
            },
            "type": "parcoords"
           }
          ],
          "pie": [
           {
            "automargin": true,
            "type": "pie"
           }
          ],
          "scatter": [
           {
            "marker": {
             "colorbar": {
              "outlinewidth": 0,
              "ticks": ""
             }
            },
            "type": "scatter"
           }
          ],
          "scatter3d": [
           {
            "line": {
             "colorbar": {
              "outlinewidth": 0,
              "ticks": ""
             }
            },
            "marker": {
             "colorbar": {
              "outlinewidth": 0,
              "ticks": ""
             }
            },
            "type": "scatter3d"
           }
          ],
          "scattercarpet": [
           {
            "marker": {
             "colorbar": {
              "outlinewidth": 0,
              "ticks": ""
             }
            },
            "type": "scattercarpet"
           }
          ],
          "scattergeo": [
           {
            "marker": {
             "colorbar": {
              "outlinewidth": 0,
              "ticks": ""
             }
            },
            "type": "scattergeo"
           }
          ],
          "scattergl": [
           {
            "marker": {
             "colorbar": {
              "outlinewidth": 0,
              "ticks": ""
             }
            },
            "type": "scattergl"
           }
          ],
          "scattermapbox": [
           {
            "marker": {
             "colorbar": {
              "outlinewidth": 0,
              "ticks": ""
             }
            },
            "type": "scattermapbox"
           }
          ],
          "scatterpolar": [
           {
            "marker": {
             "colorbar": {
              "outlinewidth": 0,
              "ticks": ""
             }
            },
            "type": "scatterpolar"
           }
          ],
          "scatterpolargl": [
           {
            "marker": {
             "colorbar": {
              "outlinewidth": 0,
              "ticks": ""
             }
            },
            "type": "scatterpolargl"
           }
          ],
          "scatterternary": [
           {
            "marker": {
             "colorbar": {
              "outlinewidth": 0,
              "ticks": ""
             }
            },
            "type": "scatterternary"
           }
          ],
          "surface": [
           {
            "colorbar": {
             "outlinewidth": 0,
             "ticks": ""
            },
            "colorscale": [
             [
              0,
              "#0d0887"
             ],
             [
              0.1111111111111111,
              "#46039f"
             ],
             [
              0.2222222222222222,
              "#7201a8"
             ],
             [
              0.3333333333333333,
              "#9c179e"
             ],
             [
              0.4444444444444444,
              "#bd3786"
             ],
             [
              0.5555555555555556,
              "#d8576b"
             ],
             [
              0.6666666666666666,
              "#ed7953"
             ],
             [
              0.7777777777777778,
              "#fb9f3a"
             ],
             [
              0.8888888888888888,
              "#fdca26"
             ],
             [
              1,
              "#f0f921"
             ]
            ],
            "type": "surface"
           }
          ],
          "table": [
           {
            "cells": {
             "fill": {
              "color": "#EBF0F8"
             },
             "line": {
              "color": "white"
             }
            },
            "header": {
             "fill": {
              "color": "#C8D4E3"
             },
             "line": {
              "color": "white"
             }
            },
            "type": "table"
           }
          ]
         },
         "layout": {
          "annotationdefaults": {
           "arrowcolor": "#2a3f5f",
           "arrowhead": 0,
           "arrowwidth": 1
          },
          "autotypenumbers": "strict",
          "coloraxis": {
           "colorbar": {
            "outlinewidth": 0,
            "ticks": ""
           }
          },
          "colorscale": {
           "diverging": [
            [
             0,
             "#8e0152"
            ],
            [
             0.1,
             "#c51b7d"
            ],
            [
             0.2,
             "#de77ae"
            ],
            [
             0.3,
             "#f1b6da"
            ],
            [
             0.4,
             "#fde0ef"
            ],
            [
             0.5,
             "#f7f7f7"
            ],
            [
             0.6,
             "#e6f5d0"
            ],
            [
             0.7,
             "#b8e186"
            ],
            [
             0.8,
             "#7fbc41"
            ],
            [
             0.9,
             "#4d9221"
            ],
            [
             1,
             "#276419"
            ]
           ],
           "sequential": [
            [
             0,
             "#0d0887"
            ],
            [
             0.1111111111111111,
             "#46039f"
            ],
            [
             0.2222222222222222,
             "#7201a8"
            ],
            [
             0.3333333333333333,
             "#9c179e"
            ],
            [
             0.4444444444444444,
             "#bd3786"
            ],
            [
             0.5555555555555556,
             "#d8576b"
            ],
            [
             0.6666666666666666,
             "#ed7953"
            ],
            [
             0.7777777777777778,
             "#fb9f3a"
            ],
            [
             0.8888888888888888,
             "#fdca26"
            ],
            [
             1,
             "#f0f921"
            ]
           ],
           "sequentialminus": [
            [
             0,
             "#0d0887"
            ],
            [
             0.1111111111111111,
             "#46039f"
            ],
            [
             0.2222222222222222,
             "#7201a8"
            ],
            [
             0.3333333333333333,
             "#9c179e"
            ],
            [
             0.4444444444444444,
             "#bd3786"
            ],
            [
             0.5555555555555556,
             "#d8576b"
            ],
            [
             0.6666666666666666,
             "#ed7953"
            ],
            [
             0.7777777777777778,
             "#fb9f3a"
            ],
            [
             0.8888888888888888,
             "#fdca26"
            ],
            [
             1,
             "#f0f921"
            ]
           ]
          },
          "colorway": [
           "#636efa",
           "#EF553B",
           "#00cc96",
           "#ab63fa",
           "#FFA15A",
           "#19d3f3",
           "#FF6692",
           "#B6E880",
           "#FF97FF",
           "#FECB52"
          ],
          "font": {
           "color": "#2a3f5f"
          },
          "geo": {
           "bgcolor": "white",
           "lakecolor": "white",
           "landcolor": "#E5ECF6",
           "showlakes": true,
           "showland": true,
           "subunitcolor": "white"
          },
          "hoverlabel": {
           "align": "left"
          },
          "hovermode": "closest",
          "mapbox": {
           "style": "light"
          },
          "paper_bgcolor": "white",
          "plot_bgcolor": "#E5ECF6",
          "polar": {
           "angularaxis": {
            "gridcolor": "white",
            "linecolor": "white",
            "ticks": ""
           },
           "bgcolor": "#E5ECF6",
           "radialaxis": {
            "gridcolor": "white",
            "linecolor": "white",
            "ticks": ""
           }
          },
          "scene": {
           "xaxis": {
            "backgroundcolor": "#E5ECF6",
            "gridcolor": "white",
            "gridwidth": 2,
            "linecolor": "white",
            "showbackground": true,
            "ticks": "",
            "zerolinecolor": "white"
           },
           "yaxis": {
            "backgroundcolor": "#E5ECF6",
            "gridcolor": "white",
            "gridwidth": 2,
            "linecolor": "white",
            "showbackground": true,
            "ticks": "",
            "zerolinecolor": "white"
           },
           "zaxis": {
            "backgroundcolor": "#E5ECF6",
            "gridcolor": "white",
            "gridwidth": 2,
            "linecolor": "white",
            "showbackground": true,
            "ticks": "",
            "zerolinecolor": "white"
           }
          },
          "shapedefaults": {
           "line": {
            "color": "#2a3f5f"
           }
          },
          "ternary": {
           "aaxis": {
            "gridcolor": "white",
            "linecolor": "white",
            "ticks": ""
           },
           "baxis": {
            "gridcolor": "white",
            "linecolor": "white",
            "ticks": ""
           },
           "bgcolor": "#E5ECF6",
           "caxis": {
            "gridcolor": "white",
            "linecolor": "white",
            "ticks": ""
           }
          },
          "title": {
           "x": 0.05
          },
          "xaxis": {
           "automargin": true,
           "gridcolor": "white",
           "linecolor": "white",
           "ticks": "",
           "title": {
            "standoff": 15
           },
           "zerolinecolor": "white",
           "zerolinewidth": 2
          },
          "yaxis": {
           "automargin": true,
           "gridcolor": "white",
           "linecolor": "white",
           "ticks": "",
           "title": {
            "standoff": 15
           },
           "zerolinecolor": "white",
           "zerolinewidth": 2
          }
         }
        }
       }
      },
      "text/html": [
       "<div>                            <div id=\"f9347884-baee-4e65-a49f-524246538ded\" class=\"plotly-graph-div\" style=\"height:525px; width:100%;\"></div>            <script type=\"text/javascript\">                require([\"plotly\"], function(Plotly) {                    window.PLOTLYENV=window.PLOTLYENV || {};                                    if (document.getElementById(\"f9347884-baee-4e65-a49f-524246538ded\")) {                    Plotly.newPlot(                        \"f9347884-baee-4e65-a49f-524246538ded\",                        [{\"name\":\"Mean - Payment delay\",\"type\":\"bar\",\"x\":[\"account_length\",\"number_vmail_messages\",\"total_day_minutes\",\"total_day_calls\",\"total_day_charge\",\"total_eve_minutes\",\"total_eve_calls\",\"total_eve_charge\",\"total_night_minutes\",\"total_night_calls\",\"total_night_charge\",\"total_intl_minutes\",\"total_intl_calls\",\"total_intl_charge\",\"number_customer_service_calls\"],\"y\":[103.76513317191284,4.62227602905569,209.58087167070215,100.1041162227603,35.629200968523,211.14842615012108,99.68765133171912,17.94757869249395,206.38208232445518,99.58111380145279,9.287263922518159,10.683050847457627,4.285714285714286,2.88496368038741,2.2566585956416465]},{\"name\":\"Mean - Payment on time\",\"type\":\"bar\",\"x\":[\"account_length\",\"number_vmail_messages\",\"total_day_minutes\",\"total_day_calls\",\"total_day_charge\",\"total_eve_minutes\",\"total_eve_calls\",\"total_eve_charge\",\"total_night_minutes\",\"total_night_calls\",\"total_night_charge\",\"total_intl_minutes\",\"total_intl_calls\",\"total_intl_charge\",\"number_customer_service_calls\"],\"y\":[99.99033629686896,8.512949362195593,175.80699652106685,100.24855044453034,29.887761886354852,198.25964437572475,100.33668341708542,16.85231928875145,200.2563200618477,99.99690761499807,9.01163123308852,10.130421337456514,4.528797835330499,2.735717046772323,1.4855044453034403]}],                        {\"barmode\":\"group\",\"template\":{\"data\":{\"bar\":[{\"error_x\":{\"color\":\"#2a3f5f\"},\"error_y\":{\"color\":\"#2a3f5f\"},\"marker\":{\"line\":{\"color\":\"#E5ECF6\",\"width\":0.5},\"pattern\":{\"fillmode\":\"overlay\",\"size\":10,\"solidity\":0.2}},\"type\":\"bar\"}],\"barpolar\":[{\"marker\":{\"line\":{\"color\":\"#E5ECF6\",\"width\":0.5},\"pattern\":{\"fillmode\":\"overlay\",\"size\":10,\"solidity\":0.2}},\"type\":\"barpolar\"}],\"carpet\":[{\"aaxis\":{\"endlinecolor\":\"#2a3f5f\",\"gridcolor\":\"white\",\"linecolor\":\"white\",\"minorgridcolor\":\"white\",\"startlinecolor\":\"#2a3f5f\"},\"baxis\":{\"endlinecolor\":\"#2a3f5f\",\"gridcolor\":\"white\",\"linecolor\":\"white\",\"minorgridcolor\":\"white\",\"startlinecolor\":\"#2a3f5f\"},\"type\":\"carpet\"}],\"choropleth\":[{\"colorbar\":{\"outlinewidth\":0,\"ticks\":\"\"},\"type\":\"choropleth\"}],\"contour\":[{\"colorbar\":{\"outlinewidth\":0,\"ticks\":\"\"},\"colorscale\":[[0.0,\"#0d0887\"],[0.1111111111111111,\"#46039f\"],[0.2222222222222222,\"#7201a8\"],[0.3333333333333333,\"#9c179e\"],[0.4444444444444444,\"#bd3786\"],[0.5555555555555556,\"#d8576b\"],[0.6666666666666666,\"#ed7953\"],[0.7777777777777778,\"#fb9f3a\"],[0.8888888888888888,\"#fdca26\"],[1.0,\"#f0f921\"]],\"type\":\"contour\"}],\"contourcarpet\":[{\"colorbar\":{\"outlinewidth\":0,\"ticks\":\"\"},\"type\":\"contourcarpet\"}],\"heatmap\":[{\"colorbar\":{\"outlinewidth\":0,\"ticks\":\"\"},\"colorscale\":[[0.0,\"#0d0887\"],[0.1111111111111111,\"#46039f\"],[0.2222222222222222,\"#7201a8\"],[0.3333333333333333,\"#9c179e\"],[0.4444444444444444,\"#bd3786\"],[0.5555555555555556,\"#d8576b\"],[0.6666666666666666,\"#ed7953\"],[0.7777777777777778,\"#fb9f3a\"],[0.8888888888888888,\"#fdca26\"],[1.0,\"#f0f921\"]],\"type\":\"heatmap\"}],\"heatmapgl\":[{\"colorbar\":{\"outlinewidth\":0,\"ticks\":\"\"},\"colorscale\":[[0.0,\"#0d0887\"],[0.1111111111111111,\"#46039f\"],[0.2222222222222222,\"#7201a8\"],[0.3333333333333333,\"#9c179e\"],[0.4444444444444444,\"#bd3786\"],[0.5555555555555556,\"#d8576b\"],[0.6666666666666666,\"#ed7953\"],[0.7777777777777778,\"#fb9f3a\"],[0.8888888888888888,\"#fdca26\"],[1.0,\"#f0f921\"]],\"type\":\"heatmapgl\"}],\"histogram\":[{\"marker\":{\"pattern\":{\"fillmode\":\"overlay\",\"size\":10,\"solidity\":0.2}},\"type\":\"histogram\"}],\"histogram2d\":[{\"colorbar\":{\"outlinewidth\":0,\"ticks\":\"\"},\"colorscale\":[[0.0,\"#0d0887\"],[0.1111111111111111,\"#46039f\"],[0.2222222222222222,\"#7201a8\"],[0.3333333333333333,\"#9c179e\"],[0.4444444444444444,\"#bd3786\"],[0.5555555555555556,\"#d8576b\"],[0.6666666666666666,\"#ed7953\"],[0.7777777777777778,\"#fb9f3a\"],[0.8888888888888888,\"#fdca26\"],[1.0,\"#f0f921\"]],\"type\":\"histogram2d\"}],\"histogram2dcontour\":[{\"colorbar\":{\"outlinewidth\":0,\"ticks\":\"\"},\"colorscale\":[[0.0,\"#0d0887\"],[0.1111111111111111,\"#46039f\"],[0.2222222222222222,\"#7201a8\"],[0.3333333333333333,\"#9c179e\"],[0.4444444444444444,\"#bd3786\"],[0.5555555555555556,\"#d8576b\"],[0.6666666666666666,\"#ed7953\"],[0.7777777777777778,\"#fb9f3a\"],[0.8888888888888888,\"#fdca26\"],[1.0,\"#f0f921\"]],\"type\":\"histogram2dcontour\"}],\"mesh3d\":[{\"colorbar\":{\"outlinewidth\":0,\"ticks\":\"\"},\"type\":\"mesh3d\"}],\"parcoords\":[{\"line\":{\"colorbar\":{\"outlinewidth\":0,\"ticks\":\"\"}},\"type\":\"parcoords\"}],\"pie\":[{\"automargin\":true,\"type\":\"pie\"}],\"scatter\":[{\"marker\":{\"colorbar\":{\"outlinewidth\":0,\"ticks\":\"\"}},\"type\":\"scatter\"}],\"scatter3d\":[{\"line\":{\"colorbar\":{\"outlinewidth\":0,\"ticks\":\"\"}},\"marker\":{\"colorbar\":{\"outlinewidth\":0,\"ticks\":\"\"}},\"type\":\"scatter3d\"}],\"scattercarpet\":[{\"marker\":{\"colorbar\":{\"outlinewidth\":0,\"ticks\":\"\"}},\"type\":\"scattercarpet\"}],\"scattergeo\":[{\"marker\":{\"colorbar\":{\"outlinewidth\":0,\"ticks\":\"\"}},\"type\":\"scattergeo\"}],\"scattergl\":[{\"marker\":{\"colorbar\":{\"outlinewidth\":0,\"ticks\":\"\"}},\"type\":\"scattergl\"}],\"scattermapbox\":[{\"marker\":{\"colorbar\":{\"outlinewidth\":0,\"ticks\":\"\"}},\"type\":\"scattermapbox\"}],\"scatterpolar\":[{\"marker\":{\"colorbar\":{\"outlinewidth\":0,\"ticks\":\"\"}},\"type\":\"scatterpolar\"}],\"scatterpolargl\":[{\"marker\":{\"colorbar\":{\"outlinewidth\":0,\"ticks\":\"\"}},\"type\":\"scatterpolargl\"}],\"scatterternary\":[{\"marker\":{\"colorbar\":{\"outlinewidth\":0,\"ticks\":\"\"}},\"type\":\"scatterternary\"}],\"surface\":[{\"colorbar\":{\"outlinewidth\":0,\"ticks\":\"\"},\"colorscale\":[[0.0,\"#0d0887\"],[0.1111111111111111,\"#46039f\"],[0.2222222222222222,\"#7201a8\"],[0.3333333333333333,\"#9c179e\"],[0.4444444444444444,\"#bd3786\"],[0.5555555555555556,\"#d8576b\"],[0.6666666666666666,\"#ed7953\"],[0.7777777777777778,\"#fb9f3a\"],[0.8888888888888888,\"#fdca26\"],[1.0,\"#f0f921\"]],\"type\":\"surface\"}],\"table\":[{\"cells\":{\"fill\":{\"color\":\"#EBF0F8\"},\"line\":{\"color\":\"white\"}},\"header\":{\"fill\":{\"color\":\"#C8D4E3\"},\"line\":{\"color\":\"white\"}},\"type\":\"table\"}]},\"layout\":{\"annotationdefaults\":{\"arrowcolor\":\"#2a3f5f\",\"arrowhead\":0,\"arrowwidth\":1},\"autotypenumbers\":\"strict\",\"coloraxis\":{\"colorbar\":{\"outlinewidth\":0,\"ticks\":\"\"}},\"colorscale\":{\"diverging\":[[0,\"#8e0152\"],[0.1,\"#c51b7d\"],[0.2,\"#de77ae\"],[0.3,\"#f1b6da\"],[0.4,\"#fde0ef\"],[0.5,\"#f7f7f7\"],[0.6,\"#e6f5d0\"],[0.7,\"#b8e186\"],[0.8,\"#7fbc41\"],[0.9,\"#4d9221\"],[1,\"#276419\"]],\"sequential\":[[0.0,\"#0d0887\"],[0.1111111111111111,\"#46039f\"],[0.2222222222222222,\"#7201a8\"],[0.3333333333333333,\"#9c179e\"],[0.4444444444444444,\"#bd3786\"],[0.5555555555555556,\"#d8576b\"],[0.6666666666666666,\"#ed7953\"],[0.7777777777777778,\"#fb9f3a\"],[0.8888888888888888,\"#fdca26\"],[1.0,\"#f0f921\"]],\"sequentialminus\":[[0.0,\"#0d0887\"],[0.1111111111111111,\"#46039f\"],[0.2222222222222222,\"#7201a8\"],[0.3333333333333333,\"#9c179e\"],[0.4444444444444444,\"#bd3786\"],[0.5555555555555556,\"#d8576b\"],[0.6666666666666666,\"#ed7953\"],[0.7777777777777778,\"#fb9f3a\"],[0.8888888888888888,\"#fdca26\"],[1.0,\"#f0f921\"]]},\"colorway\":[\"#636efa\",\"#EF553B\",\"#00cc96\",\"#ab63fa\",\"#FFA15A\",\"#19d3f3\",\"#FF6692\",\"#B6E880\",\"#FF97FF\",\"#FECB52\"],\"font\":{\"color\":\"#2a3f5f\"},\"geo\":{\"bgcolor\":\"white\",\"lakecolor\":\"white\",\"landcolor\":\"#E5ECF6\",\"showlakes\":true,\"showland\":true,\"subunitcolor\":\"white\"},\"hoverlabel\":{\"align\":\"left\"},\"hovermode\":\"closest\",\"mapbox\":{\"style\":\"light\"},\"paper_bgcolor\":\"white\",\"plot_bgcolor\":\"#E5ECF6\",\"polar\":{\"angularaxis\":{\"gridcolor\":\"white\",\"linecolor\":\"white\",\"ticks\":\"\"},\"bgcolor\":\"#E5ECF6\",\"radialaxis\":{\"gridcolor\":\"white\",\"linecolor\":\"white\",\"ticks\":\"\"}},\"scene\":{\"xaxis\":{\"backgroundcolor\":\"#E5ECF6\",\"gridcolor\":\"white\",\"gridwidth\":2,\"linecolor\":\"white\",\"showbackground\":true,\"ticks\":\"\",\"zerolinecolor\":\"white\"},\"yaxis\":{\"backgroundcolor\":\"#E5ECF6\",\"gridcolor\":\"white\",\"gridwidth\":2,\"linecolor\":\"white\",\"showbackground\":true,\"ticks\":\"\",\"zerolinecolor\":\"white\"},\"zaxis\":{\"backgroundcolor\":\"#E5ECF6\",\"gridcolor\":\"white\",\"gridwidth\":2,\"linecolor\":\"white\",\"showbackground\":true,\"ticks\":\"\",\"zerolinecolor\":\"white\"}},\"shapedefaults\":{\"line\":{\"color\":\"#2a3f5f\"}},\"ternary\":{\"aaxis\":{\"gridcolor\":\"white\",\"linecolor\":\"white\",\"ticks\":\"\"},\"baxis\":{\"gridcolor\":\"white\",\"linecolor\":\"white\",\"ticks\":\"\"},\"bgcolor\":\"#E5ECF6\",\"caxis\":{\"gridcolor\":\"white\",\"linecolor\":\"white\",\"ticks\":\"\"}},\"title\":{\"x\":0.05},\"xaxis\":{\"automargin\":true,\"gridcolor\":\"white\",\"linecolor\":\"white\",\"ticks\":\"\",\"title\":{\"standoff\":15},\"zerolinecolor\":\"white\",\"zerolinewidth\":2},\"yaxis\":{\"automargin\":true,\"gridcolor\":\"white\",\"linecolor\":\"white\",\"ticks\":\"\",\"title\":{\"standoff\":15},\"zerolinecolor\":\"white\",\"zerolinewidth\":2}}}},                        {\"responsive\": true}                    ).then(function(){\n",
       "                            \n",
       "var gd = document.getElementById('f9347884-baee-4e65-a49f-524246538ded');\n",
       "var x = new MutationObserver(function (mutations, observer) {{\n",
       "        var display = window.getComputedStyle(gd).display;\n",
       "        if (!display || display === 'none') {{\n",
       "            console.log([gd, 'removed!']);\n",
       "            Plotly.purge(gd);\n",
       "            observer.disconnect();\n",
       "        }}\n",
       "}});\n",
       "\n",
       "// Listen for the removal of the full notebook cells\n",
       "var notebookContainer = gd.closest('#notebook-container');\n",
       "if (notebookContainer) {{\n",
       "    x.observe(notebookContainer, {childList: true});\n",
       "}}\n",
       "\n",
       "// Listen for the clearing of the current output cell\n",
       "var outputEl = gd.closest('.output');\n",
       "if (outputEl) {{\n",
       "    x.observe(outputEl, {childList: true});\n",
       "}}\n",
       "\n",
       "                        })                };                });            </script>        </div>"
      ]
     },
     "metadata": {},
     "output_type": "display_data"
    },
    {
     "data": {
      "application/vnd.plotly.v1+json": {
       "config": {
        "linkText": "Export to plot.ly",
        "plotlyServerURL": "https://plot.ly",
        "showLink": false
       },
       "data": [
        {
         "name": "Standard dev - Payment delay",
         "type": "bar",
         "x": [
          "account_length",
          "number_vmail_messages",
          "total_day_minutes",
          "total_day_calls",
          "total_day_charge",
          "total_eve_minutes",
          "total_eve_calls",
          "total_eve_charge",
          "total_night_minutes",
          "total_night_calls",
          "total_night_charge",
          "total_intl_minutes",
          "total_intl_calls",
          "total_intl_charge",
          "number_customer_service_calls"
         ],
         "y": [
          38.76961507673556,
          11.37736159850079,
          67.94334802602768,
          20.021500761039956,
          11.550456599674748,
          49.82826457129414,
          19.755711170173054,
          4.2351851378855025,
          51.12899181864693,
          19.604124088586747,
          2.300929217229446,
          2.8596885888288894,
          2.720064656162274,
          0.7719558511056994,
          1.849162883854269
         ]
        },
        {
         "name": "Standard dev - Payment on time",
         "type": "bar",
         "x": [
          "account_length",
          "number_vmail_messages",
          "total_day_minutes",
          "total_day_calls",
          "total_day_charge",
          "total_eve_minutes",
          "total_eve_calls",
          "total_eve_charge",
          "total_night_minutes",
          "total_night_calls",
          "total_night_charge",
          "total_intl_minutes",
          "total_intl_calls",
          "total_intl_charge",
          "number_customer_service_calls"
         ],
         "y": [
          39.58151524334038,
          13.996993326962665,
          50.01475259299503,
          19.72615286246539,
          8.502478123389494,
          49.956122382786155,
          19.76493481883449,
          4.246244557254166,
          50.780369340432436,
          19.683300494404488,
          2.285141209325364,
          2.724590537415613,
          2.4490638204787536,
          0.7355395725791678,
          1.1733385213369096
         ]
        }
       ],
       "layout": {
        "barmode": "group",
        "template": {
         "data": {
          "bar": [
           {
            "error_x": {
             "color": "#2a3f5f"
            },
            "error_y": {
             "color": "#2a3f5f"
            },
            "marker": {
             "line": {
              "color": "#E5ECF6",
              "width": 0.5
             },
             "pattern": {
              "fillmode": "overlay",
              "size": 10,
              "solidity": 0.2
             }
            },
            "type": "bar"
           }
          ],
          "barpolar": [
           {
            "marker": {
             "line": {
              "color": "#E5ECF6",
              "width": 0.5
             },
             "pattern": {
              "fillmode": "overlay",
              "size": 10,
              "solidity": 0.2
             }
            },
            "type": "barpolar"
           }
          ],
          "carpet": [
           {
            "aaxis": {
             "endlinecolor": "#2a3f5f",
             "gridcolor": "white",
             "linecolor": "white",
             "minorgridcolor": "white",
             "startlinecolor": "#2a3f5f"
            },
            "baxis": {
             "endlinecolor": "#2a3f5f",
             "gridcolor": "white",
             "linecolor": "white",
             "minorgridcolor": "white",
             "startlinecolor": "#2a3f5f"
            },
            "type": "carpet"
           }
          ],
          "choropleth": [
           {
            "colorbar": {
             "outlinewidth": 0,
             "ticks": ""
            },
            "type": "choropleth"
           }
          ],
          "contour": [
           {
            "colorbar": {
             "outlinewidth": 0,
             "ticks": ""
            },
            "colorscale": [
             [
              0,
              "#0d0887"
             ],
             [
              0.1111111111111111,
              "#46039f"
             ],
             [
              0.2222222222222222,
              "#7201a8"
             ],
             [
              0.3333333333333333,
              "#9c179e"
             ],
             [
              0.4444444444444444,
              "#bd3786"
             ],
             [
              0.5555555555555556,
              "#d8576b"
             ],
             [
              0.6666666666666666,
              "#ed7953"
             ],
             [
              0.7777777777777778,
              "#fb9f3a"
             ],
             [
              0.8888888888888888,
              "#fdca26"
             ],
             [
              1,
              "#f0f921"
             ]
            ],
            "type": "contour"
           }
          ],
          "contourcarpet": [
           {
            "colorbar": {
             "outlinewidth": 0,
             "ticks": ""
            },
            "type": "contourcarpet"
           }
          ],
          "heatmap": [
           {
            "colorbar": {
             "outlinewidth": 0,
             "ticks": ""
            },
            "colorscale": [
             [
              0,
              "#0d0887"
             ],
             [
              0.1111111111111111,
              "#46039f"
             ],
             [
              0.2222222222222222,
              "#7201a8"
             ],
             [
              0.3333333333333333,
              "#9c179e"
             ],
             [
              0.4444444444444444,
              "#bd3786"
             ],
             [
              0.5555555555555556,
              "#d8576b"
             ],
             [
              0.6666666666666666,
              "#ed7953"
             ],
             [
              0.7777777777777778,
              "#fb9f3a"
             ],
             [
              0.8888888888888888,
              "#fdca26"
             ],
             [
              1,
              "#f0f921"
             ]
            ],
            "type": "heatmap"
           }
          ],
          "heatmapgl": [
           {
            "colorbar": {
             "outlinewidth": 0,
             "ticks": ""
            },
            "colorscale": [
             [
              0,
              "#0d0887"
             ],
             [
              0.1111111111111111,
              "#46039f"
             ],
             [
              0.2222222222222222,
              "#7201a8"
             ],
             [
              0.3333333333333333,
              "#9c179e"
             ],
             [
              0.4444444444444444,
              "#bd3786"
             ],
             [
              0.5555555555555556,
              "#d8576b"
             ],
             [
              0.6666666666666666,
              "#ed7953"
             ],
             [
              0.7777777777777778,
              "#fb9f3a"
             ],
             [
              0.8888888888888888,
              "#fdca26"
             ],
             [
              1,
              "#f0f921"
             ]
            ],
            "type": "heatmapgl"
           }
          ],
          "histogram": [
           {
            "marker": {
             "pattern": {
              "fillmode": "overlay",
              "size": 10,
              "solidity": 0.2
             }
            },
            "type": "histogram"
           }
          ],
          "histogram2d": [
           {
            "colorbar": {
             "outlinewidth": 0,
             "ticks": ""
            },
            "colorscale": [
             [
              0,
              "#0d0887"
             ],
             [
              0.1111111111111111,
              "#46039f"
             ],
             [
              0.2222222222222222,
              "#7201a8"
             ],
             [
              0.3333333333333333,
              "#9c179e"
             ],
             [
              0.4444444444444444,
              "#bd3786"
             ],
             [
              0.5555555555555556,
              "#d8576b"
             ],
             [
              0.6666666666666666,
              "#ed7953"
             ],
             [
              0.7777777777777778,
              "#fb9f3a"
             ],
             [
              0.8888888888888888,
              "#fdca26"
             ],
             [
              1,
              "#f0f921"
             ]
            ],
            "type": "histogram2d"
           }
          ],
          "histogram2dcontour": [
           {
            "colorbar": {
             "outlinewidth": 0,
             "ticks": ""
            },
            "colorscale": [
             [
              0,
              "#0d0887"
             ],
             [
              0.1111111111111111,
              "#46039f"
             ],
             [
              0.2222222222222222,
              "#7201a8"
             ],
             [
              0.3333333333333333,
              "#9c179e"
             ],
             [
              0.4444444444444444,
              "#bd3786"
             ],
             [
              0.5555555555555556,
              "#d8576b"
             ],
             [
              0.6666666666666666,
              "#ed7953"
             ],
             [
              0.7777777777777778,
              "#fb9f3a"
             ],
             [
              0.8888888888888888,
              "#fdca26"
             ],
             [
              1,
              "#f0f921"
             ]
            ],
            "type": "histogram2dcontour"
           }
          ],
          "mesh3d": [
           {
            "colorbar": {
             "outlinewidth": 0,
             "ticks": ""
            },
            "type": "mesh3d"
           }
          ],
          "parcoords": [
           {
            "line": {
             "colorbar": {
              "outlinewidth": 0,
              "ticks": ""
             }
            },
            "type": "parcoords"
           }
          ],
          "pie": [
           {
            "automargin": true,
            "type": "pie"
           }
          ],
          "scatter": [
           {
            "marker": {
             "colorbar": {
              "outlinewidth": 0,
              "ticks": ""
             }
            },
            "type": "scatter"
           }
          ],
          "scatter3d": [
           {
            "line": {
             "colorbar": {
              "outlinewidth": 0,
              "ticks": ""
             }
            },
            "marker": {
             "colorbar": {
              "outlinewidth": 0,
              "ticks": ""
             }
            },
            "type": "scatter3d"
           }
          ],
          "scattercarpet": [
           {
            "marker": {
             "colorbar": {
              "outlinewidth": 0,
              "ticks": ""
             }
            },
            "type": "scattercarpet"
           }
          ],
          "scattergeo": [
           {
            "marker": {
             "colorbar": {
              "outlinewidth": 0,
              "ticks": ""
             }
            },
            "type": "scattergeo"
           }
          ],
          "scattergl": [
           {
            "marker": {
             "colorbar": {
              "outlinewidth": 0,
              "ticks": ""
             }
            },
            "type": "scattergl"
           }
          ],
          "scattermapbox": [
           {
            "marker": {
             "colorbar": {
              "outlinewidth": 0,
              "ticks": ""
             }
            },
            "type": "scattermapbox"
           }
          ],
          "scatterpolar": [
           {
            "marker": {
             "colorbar": {
              "outlinewidth": 0,
              "ticks": ""
             }
            },
            "type": "scatterpolar"
           }
          ],
          "scatterpolargl": [
           {
            "marker": {
             "colorbar": {
              "outlinewidth": 0,
              "ticks": ""
             }
            },
            "type": "scatterpolargl"
           }
          ],
          "scatterternary": [
           {
            "marker": {
             "colorbar": {
              "outlinewidth": 0,
              "ticks": ""
             }
            },
            "type": "scatterternary"
           }
          ],
          "surface": [
           {
            "colorbar": {
             "outlinewidth": 0,
             "ticks": ""
            },
            "colorscale": [
             [
              0,
              "#0d0887"
             ],
             [
              0.1111111111111111,
              "#46039f"
             ],
             [
              0.2222222222222222,
              "#7201a8"
             ],
             [
              0.3333333333333333,
              "#9c179e"
             ],
             [
              0.4444444444444444,
              "#bd3786"
             ],
             [
              0.5555555555555556,
              "#d8576b"
             ],
             [
              0.6666666666666666,
              "#ed7953"
             ],
             [
              0.7777777777777778,
              "#fb9f3a"
             ],
             [
              0.8888888888888888,
              "#fdca26"
             ],
             [
              1,
              "#f0f921"
             ]
            ],
            "type": "surface"
           }
          ],
          "table": [
           {
            "cells": {
             "fill": {
              "color": "#EBF0F8"
             },
             "line": {
              "color": "white"
             }
            },
            "header": {
             "fill": {
              "color": "#C8D4E3"
             },
             "line": {
              "color": "white"
             }
            },
            "type": "table"
           }
          ]
         },
         "layout": {
          "annotationdefaults": {
           "arrowcolor": "#2a3f5f",
           "arrowhead": 0,
           "arrowwidth": 1
          },
          "autotypenumbers": "strict",
          "coloraxis": {
           "colorbar": {
            "outlinewidth": 0,
            "ticks": ""
           }
          },
          "colorscale": {
           "diverging": [
            [
             0,
             "#8e0152"
            ],
            [
             0.1,
             "#c51b7d"
            ],
            [
             0.2,
             "#de77ae"
            ],
            [
             0.3,
             "#f1b6da"
            ],
            [
             0.4,
             "#fde0ef"
            ],
            [
             0.5,
             "#f7f7f7"
            ],
            [
             0.6,
             "#e6f5d0"
            ],
            [
             0.7,
             "#b8e186"
            ],
            [
             0.8,
             "#7fbc41"
            ],
            [
             0.9,
             "#4d9221"
            ],
            [
             1,
             "#276419"
            ]
           ],
           "sequential": [
            [
             0,
             "#0d0887"
            ],
            [
             0.1111111111111111,
             "#46039f"
            ],
            [
             0.2222222222222222,
             "#7201a8"
            ],
            [
             0.3333333333333333,
             "#9c179e"
            ],
            [
             0.4444444444444444,
             "#bd3786"
            ],
            [
             0.5555555555555556,
             "#d8576b"
            ],
            [
             0.6666666666666666,
             "#ed7953"
            ],
            [
             0.7777777777777778,
             "#fb9f3a"
            ],
            [
             0.8888888888888888,
             "#fdca26"
            ],
            [
             1,
             "#f0f921"
            ]
           ],
           "sequentialminus": [
            [
             0,
             "#0d0887"
            ],
            [
             0.1111111111111111,
             "#46039f"
            ],
            [
             0.2222222222222222,
             "#7201a8"
            ],
            [
             0.3333333333333333,
             "#9c179e"
            ],
            [
             0.4444444444444444,
             "#bd3786"
            ],
            [
             0.5555555555555556,
             "#d8576b"
            ],
            [
             0.6666666666666666,
             "#ed7953"
            ],
            [
             0.7777777777777778,
             "#fb9f3a"
            ],
            [
             0.8888888888888888,
             "#fdca26"
            ],
            [
             1,
             "#f0f921"
            ]
           ]
          },
          "colorway": [
           "#636efa",
           "#EF553B",
           "#00cc96",
           "#ab63fa",
           "#FFA15A",
           "#19d3f3",
           "#FF6692",
           "#B6E880",
           "#FF97FF",
           "#FECB52"
          ],
          "font": {
           "color": "#2a3f5f"
          },
          "geo": {
           "bgcolor": "white",
           "lakecolor": "white",
           "landcolor": "#E5ECF6",
           "showlakes": true,
           "showland": true,
           "subunitcolor": "white"
          },
          "hoverlabel": {
           "align": "left"
          },
          "hovermode": "closest",
          "mapbox": {
           "style": "light"
          },
          "paper_bgcolor": "white",
          "plot_bgcolor": "#E5ECF6",
          "polar": {
           "angularaxis": {
            "gridcolor": "white",
            "linecolor": "white",
            "ticks": ""
           },
           "bgcolor": "#E5ECF6",
           "radialaxis": {
            "gridcolor": "white",
            "linecolor": "white",
            "ticks": ""
           }
          },
          "scene": {
           "xaxis": {
            "backgroundcolor": "#E5ECF6",
            "gridcolor": "white",
            "gridwidth": 2,
            "linecolor": "white",
            "showbackground": true,
            "ticks": "",
            "zerolinecolor": "white"
           },
           "yaxis": {
            "backgroundcolor": "#E5ECF6",
            "gridcolor": "white",
            "gridwidth": 2,
            "linecolor": "white",
            "showbackground": true,
            "ticks": "",
            "zerolinecolor": "white"
           },
           "zaxis": {
            "backgroundcolor": "#E5ECF6",
            "gridcolor": "white",
            "gridwidth": 2,
            "linecolor": "white",
            "showbackground": true,
            "ticks": "",
            "zerolinecolor": "white"
           }
          },
          "shapedefaults": {
           "line": {
            "color": "#2a3f5f"
           }
          },
          "ternary": {
           "aaxis": {
            "gridcolor": "white",
            "linecolor": "white",
            "ticks": ""
           },
           "baxis": {
            "gridcolor": "white",
            "linecolor": "white",
            "ticks": ""
           },
           "bgcolor": "#E5ECF6",
           "caxis": {
            "gridcolor": "white",
            "linecolor": "white",
            "ticks": ""
           }
          },
          "title": {
           "x": 0.05
          },
          "xaxis": {
           "automargin": true,
           "gridcolor": "white",
           "linecolor": "white",
           "ticks": "",
           "title": {
            "standoff": 15
           },
           "zerolinecolor": "white",
           "zerolinewidth": 2
          },
          "yaxis": {
           "automargin": true,
           "gridcolor": "white",
           "linecolor": "white",
           "ticks": "",
           "title": {
            "standoff": 15
           },
           "zerolinecolor": "white",
           "zerolinewidth": 2
          }
         }
        }
       }
      },
      "text/html": [
       "<div>                            <div id=\"77845615-4bab-4f71-a1d0-13de1f449647\" class=\"plotly-graph-div\" style=\"height:525px; width:100%;\"></div>            <script type=\"text/javascript\">                require([\"plotly\"], function(Plotly) {                    window.PLOTLYENV=window.PLOTLYENV || {};                                    if (document.getElementById(\"77845615-4bab-4f71-a1d0-13de1f449647\")) {                    Plotly.newPlot(                        \"77845615-4bab-4f71-a1d0-13de1f449647\",                        [{\"name\":\"Standard dev - Payment delay\",\"type\":\"bar\",\"x\":[\"account_length\",\"number_vmail_messages\",\"total_day_minutes\",\"total_day_calls\",\"total_day_charge\",\"total_eve_minutes\",\"total_eve_calls\",\"total_eve_charge\",\"total_night_minutes\",\"total_night_calls\",\"total_night_charge\",\"total_intl_minutes\",\"total_intl_calls\",\"total_intl_charge\",\"number_customer_service_calls\"],\"y\":[38.76961507673556,11.37736159850079,67.94334802602768,20.021500761039956,11.550456599674748,49.82826457129414,19.755711170173054,4.2351851378855025,51.12899181864693,19.604124088586747,2.300929217229446,2.8596885888288894,2.720064656162274,0.7719558511056994,1.849162883854269]},{\"name\":\"Standard dev - Payment on time\",\"type\":\"bar\",\"x\":[\"account_length\",\"number_vmail_messages\",\"total_day_minutes\",\"total_day_calls\",\"total_day_charge\",\"total_eve_minutes\",\"total_eve_calls\",\"total_eve_charge\",\"total_night_minutes\",\"total_night_calls\",\"total_night_charge\",\"total_intl_minutes\",\"total_intl_calls\",\"total_intl_charge\",\"number_customer_service_calls\"],\"y\":[39.58151524334038,13.996993326962665,50.01475259299503,19.72615286246539,8.502478123389494,49.956122382786155,19.76493481883449,4.246244557254166,50.780369340432436,19.683300494404488,2.285141209325364,2.724590537415613,2.4490638204787536,0.7355395725791678,1.1733385213369096]}],                        {\"barmode\":\"group\",\"template\":{\"data\":{\"bar\":[{\"error_x\":{\"color\":\"#2a3f5f\"},\"error_y\":{\"color\":\"#2a3f5f\"},\"marker\":{\"line\":{\"color\":\"#E5ECF6\",\"width\":0.5},\"pattern\":{\"fillmode\":\"overlay\",\"size\":10,\"solidity\":0.2}},\"type\":\"bar\"}],\"barpolar\":[{\"marker\":{\"line\":{\"color\":\"#E5ECF6\",\"width\":0.5},\"pattern\":{\"fillmode\":\"overlay\",\"size\":10,\"solidity\":0.2}},\"type\":\"barpolar\"}],\"carpet\":[{\"aaxis\":{\"endlinecolor\":\"#2a3f5f\",\"gridcolor\":\"white\",\"linecolor\":\"white\",\"minorgridcolor\":\"white\",\"startlinecolor\":\"#2a3f5f\"},\"baxis\":{\"endlinecolor\":\"#2a3f5f\",\"gridcolor\":\"white\",\"linecolor\":\"white\",\"minorgridcolor\":\"white\",\"startlinecolor\":\"#2a3f5f\"},\"type\":\"carpet\"}],\"choropleth\":[{\"colorbar\":{\"outlinewidth\":0,\"ticks\":\"\"},\"type\":\"choropleth\"}],\"contour\":[{\"colorbar\":{\"outlinewidth\":0,\"ticks\":\"\"},\"colorscale\":[[0.0,\"#0d0887\"],[0.1111111111111111,\"#46039f\"],[0.2222222222222222,\"#7201a8\"],[0.3333333333333333,\"#9c179e\"],[0.4444444444444444,\"#bd3786\"],[0.5555555555555556,\"#d8576b\"],[0.6666666666666666,\"#ed7953\"],[0.7777777777777778,\"#fb9f3a\"],[0.8888888888888888,\"#fdca26\"],[1.0,\"#f0f921\"]],\"type\":\"contour\"}],\"contourcarpet\":[{\"colorbar\":{\"outlinewidth\":0,\"ticks\":\"\"},\"type\":\"contourcarpet\"}],\"heatmap\":[{\"colorbar\":{\"outlinewidth\":0,\"ticks\":\"\"},\"colorscale\":[[0.0,\"#0d0887\"],[0.1111111111111111,\"#46039f\"],[0.2222222222222222,\"#7201a8\"],[0.3333333333333333,\"#9c179e\"],[0.4444444444444444,\"#bd3786\"],[0.5555555555555556,\"#d8576b\"],[0.6666666666666666,\"#ed7953\"],[0.7777777777777778,\"#fb9f3a\"],[0.8888888888888888,\"#fdca26\"],[1.0,\"#f0f921\"]],\"type\":\"heatmap\"}],\"heatmapgl\":[{\"colorbar\":{\"outlinewidth\":0,\"ticks\":\"\"},\"colorscale\":[[0.0,\"#0d0887\"],[0.1111111111111111,\"#46039f\"],[0.2222222222222222,\"#7201a8\"],[0.3333333333333333,\"#9c179e\"],[0.4444444444444444,\"#bd3786\"],[0.5555555555555556,\"#d8576b\"],[0.6666666666666666,\"#ed7953\"],[0.7777777777777778,\"#fb9f3a\"],[0.8888888888888888,\"#fdca26\"],[1.0,\"#f0f921\"]],\"type\":\"heatmapgl\"}],\"histogram\":[{\"marker\":{\"pattern\":{\"fillmode\":\"overlay\",\"size\":10,\"solidity\":0.2}},\"type\":\"histogram\"}],\"histogram2d\":[{\"colorbar\":{\"outlinewidth\":0,\"ticks\":\"\"},\"colorscale\":[[0.0,\"#0d0887\"],[0.1111111111111111,\"#46039f\"],[0.2222222222222222,\"#7201a8\"],[0.3333333333333333,\"#9c179e\"],[0.4444444444444444,\"#bd3786\"],[0.5555555555555556,\"#d8576b\"],[0.6666666666666666,\"#ed7953\"],[0.7777777777777778,\"#fb9f3a\"],[0.8888888888888888,\"#fdca26\"],[1.0,\"#f0f921\"]],\"type\":\"histogram2d\"}],\"histogram2dcontour\":[{\"colorbar\":{\"outlinewidth\":0,\"ticks\":\"\"},\"colorscale\":[[0.0,\"#0d0887\"],[0.1111111111111111,\"#46039f\"],[0.2222222222222222,\"#7201a8\"],[0.3333333333333333,\"#9c179e\"],[0.4444444444444444,\"#bd3786\"],[0.5555555555555556,\"#d8576b\"],[0.6666666666666666,\"#ed7953\"],[0.7777777777777778,\"#fb9f3a\"],[0.8888888888888888,\"#fdca26\"],[1.0,\"#f0f921\"]],\"type\":\"histogram2dcontour\"}],\"mesh3d\":[{\"colorbar\":{\"outlinewidth\":0,\"ticks\":\"\"},\"type\":\"mesh3d\"}],\"parcoords\":[{\"line\":{\"colorbar\":{\"outlinewidth\":0,\"ticks\":\"\"}},\"type\":\"parcoords\"}],\"pie\":[{\"automargin\":true,\"type\":\"pie\"}],\"scatter\":[{\"marker\":{\"colorbar\":{\"outlinewidth\":0,\"ticks\":\"\"}},\"type\":\"scatter\"}],\"scatter3d\":[{\"line\":{\"colorbar\":{\"outlinewidth\":0,\"ticks\":\"\"}},\"marker\":{\"colorbar\":{\"outlinewidth\":0,\"ticks\":\"\"}},\"type\":\"scatter3d\"}],\"scattercarpet\":[{\"marker\":{\"colorbar\":{\"outlinewidth\":0,\"ticks\":\"\"}},\"type\":\"scattercarpet\"}],\"scattergeo\":[{\"marker\":{\"colorbar\":{\"outlinewidth\":0,\"ticks\":\"\"}},\"type\":\"scattergeo\"}],\"scattergl\":[{\"marker\":{\"colorbar\":{\"outlinewidth\":0,\"ticks\":\"\"}},\"type\":\"scattergl\"}],\"scattermapbox\":[{\"marker\":{\"colorbar\":{\"outlinewidth\":0,\"ticks\":\"\"}},\"type\":\"scattermapbox\"}],\"scatterpolar\":[{\"marker\":{\"colorbar\":{\"outlinewidth\":0,\"ticks\":\"\"}},\"type\":\"scatterpolar\"}],\"scatterpolargl\":[{\"marker\":{\"colorbar\":{\"outlinewidth\":0,\"ticks\":\"\"}},\"type\":\"scatterpolargl\"}],\"scatterternary\":[{\"marker\":{\"colorbar\":{\"outlinewidth\":0,\"ticks\":\"\"}},\"type\":\"scatterternary\"}],\"surface\":[{\"colorbar\":{\"outlinewidth\":0,\"ticks\":\"\"},\"colorscale\":[[0.0,\"#0d0887\"],[0.1111111111111111,\"#46039f\"],[0.2222222222222222,\"#7201a8\"],[0.3333333333333333,\"#9c179e\"],[0.4444444444444444,\"#bd3786\"],[0.5555555555555556,\"#d8576b\"],[0.6666666666666666,\"#ed7953\"],[0.7777777777777778,\"#fb9f3a\"],[0.8888888888888888,\"#fdca26\"],[1.0,\"#f0f921\"]],\"type\":\"surface\"}],\"table\":[{\"cells\":{\"fill\":{\"color\":\"#EBF0F8\"},\"line\":{\"color\":\"white\"}},\"header\":{\"fill\":{\"color\":\"#C8D4E3\"},\"line\":{\"color\":\"white\"}},\"type\":\"table\"}]},\"layout\":{\"annotationdefaults\":{\"arrowcolor\":\"#2a3f5f\",\"arrowhead\":0,\"arrowwidth\":1},\"autotypenumbers\":\"strict\",\"coloraxis\":{\"colorbar\":{\"outlinewidth\":0,\"ticks\":\"\"}},\"colorscale\":{\"diverging\":[[0,\"#8e0152\"],[0.1,\"#c51b7d\"],[0.2,\"#de77ae\"],[0.3,\"#f1b6da\"],[0.4,\"#fde0ef\"],[0.5,\"#f7f7f7\"],[0.6,\"#e6f5d0\"],[0.7,\"#b8e186\"],[0.8,\"#7fbc41\"],[0.9,\"#4d9221\"],[1,\"#276419\"]],\"sequential\":[[0.0,\"#0d0887\"],[0.1111111111111111,\"#46039f\"],[0.2222222222222222,\"#7201a8\"],[0.3333333333333333,\"#9c179e\"],[0.4444444444444444,\"#bd3786\"],[0.5555555555555556,\"#d8576b\"],[0.6666666666666666,\"#ed7953\"],[0.7777777777777778,\"#fb9f3a\"],[0.8888888888888888,\"#fdca26\"],[1.0,\"#f0f921\"]],\"sequentialminus\":[[0.0,\"#0d0887\"],[0.1111111111111111,\"#46039f\"],[0.2222222222222222,\"#7201a8\"],[0.3333333333333333,\"#9c179e\"],[0.4444444444444444,\"#bd3786\"],[0.5555555555555556,\"#d8576b\"],[0.6666666666666666,\"#ed7953\"],[0.7777777777777778,\"#fb9f3a\"],[0.8888888888888888,\"#fdca26\"],[1.0,\"#f0f921\"]]},\"colorway\":[\"#636efa\",\"#EF553B\",\"#00cc96\",\"#ab63fa\",\"#FFA15A\",\"#19d3f3\",\"#FF6692\",\"#B6E880\",\"#FF97FF\",\"#FECB52\"],\"font\":{\"color\":\"#2a3f5f\"},\"geo\":{\"bgcolor\":\"white\",\"lakecolor\":\"white\",\"landcolor\":\"#E5ECF6\",\"showlakes\":true,\"showland\":true,\"subunitcolor\":\"white\"},\"hoverlabel\":{\"align\":\"left\"},\"hovermode\":\"closest\",\"mapbox\":{\"style\":\"light\"},\"paper_bgcolor\":\"white\",\"plot_bgcolor\":\"#E5ECF6\",\"polar\":{\"angularaxis\":{\"gridcolor\":\"white\",\"linecolor\":\"white\",\"ticks\":\"\"},\"bgcolor\":\"#E5ECF6\",\"radialaxis\":{\"gridcolor\":\"white\",\"linecolor\":\"white\",\"ticks\":\"\"}},\"scene\":{\"xaxis\":{\"backgroundcolor\":\"#E5ECF6\",\"gridcolor\":\"white\",\"gridwidth\":2,\"linecolor\":\"white\",\"showbackground\":true,\"ticks\":\"\",\"zerolinecolor\":\"white\"},\"yaxis\":{\"backgroundcolor\":\"#E5ECF6\",\"gridcolor\":\"white\",\"gridwidth\":2,\"linecolor\":\"white\",\"showbackground\":true,\"ticks\":\"\",\"zerolinecolor\":\"white\"},\"zaxis\":{\"backgroundcolor\":\"#E5ECF6\",\"gridcolor\":\"white\",\"gridwidth\":2,\"linecolor\":\"white\",\"showbackground\":true,\"ticks\":\"\",\"zerolinecolor\":\"white\"}},\"shapedefaults\":{\"line\":{\"color\":\"#2a3f5f\"}},\"ternary\":{\"aaxis\":{\"gridcolor\":\"white\",\"linecolor\":\"white\",\"ticks\":\"\"},\"baxis\":{\"gridcolor\":\"white\",\"linecolor\":\"white\",\"ticks\":\"\"},\"bgcolor\":\"#E5ECF6\",\"caxis\":{\"gridcolor\":\"white\",\"linecolor\":\"white\",\"ticks\":\"\"}},\"title\":{\"x\":0.05},\"xaxis\":{\"automargin\":true,\"gridcolor\":\"white\",\"linecolor\":\"white\",\"ticks\":\"\",\"title\":{\"standoff\":15},\"zerolinecolor\":\"white\",\"zerolinewidth\":2},\"yaxis\":{\"automargin\":true,\"gridcolor\":\"white\",\"linecolor\":\"white\",\"ticks\":\"\",\"title\":{\"standoff\":15},\"zerolinecolor\":\"white\",\"zerolinewidth\":2}}}},                        {\"responsive\": true}                    ).then(function(){\n",
       "                            \n",
       "var gd = document.getElementById('77845615-4bab-4f71-a1d0-13de1f449647');\n",
       "var x = new MutationObserver(function (mutations, observer) {{\n",
       "        var display = window.getComputedStyle(gd).display;\n",
       "        if (!display || display === 'none') {{\n",
       "            console.log([gd, 'removed!']);\n",
       "            Plotly.purge(gd);\n",
       "            observer.disconnect();\n",
       "        }}\n",
       "}});\n",
       "\n",
       "// Listen for the removal of the full notebook cells\n",
       "var notebookContainer = gd.closest('#notebook-container');\n",
       "if (notebookContainer) {{\n",
       "    x.observe(notebookContainer, {childList: true});\n",
       "}}\n",
       "\n",
       "// Listen for the clearing of the current output cell\n",
       "var outputEl = gd.closest('.output');\n",
       "if (outputEl) {{\n",
       "    x.observe(outputEl, {childList: true});\n",
       "}}\n",
       "\n",
       "                        })                };                });            </script>        </div>"
      ]
     },
     "metadata": {},
     "output_type": "display_data"
    }
   ],
   "source": [
    "data = [go.Bar(x=df_yes.columns, y=df_yes.loc['mean'], name='Mean - Payment delay'),\n",
    "        go.Bar(x=df_yes.columns, y=df_no.loc['mean'], name='Mean - Payment on time')]\n",
    "\n",
    "layout = go.Layout(barmode='group')\n",
    "\n",
    "fig = dict(data = data, layout = layout)\n",
    "iplot(fig, show_link=False)\n",
    "\n",
    "data = [go.Bar(x=df_yes.columns, y=df_yes.loc['std'], name='Standard dev - Payment delay'),\n",
    "    go.Bar(x=df_yes.columns, y=df_no.loc['std'], name='Standard dev - Payment on time')]\n",
    "\n",
    "layout = go.Layout(barmode='group')\n",
    "\n",
    "fig = dict(data = data, layout = layout)\n",
    "iplot(fig, show_link=False)"
   ]
  },
  {
   "cell_type": "markdown",
   "id": "d0f77270",
   "metadata": {},
   "source": [
    "It looks like most of the customers that registered payment delay spend more time on the phone than the other ones, especially during daytime. Regarding these customers, in most cases, the mean and standard deviation of the common columns is higher, which results in higher values."
   ]
  },
  {
   "cell_type": "markdown",
   "id": "4ac621c9",
   "metadata": {},
   "source": [
    "We'll further analyze the \"binary\" columns, the one that only contain yes/no values. "
   ]
  },
  {
   "cell_type": "code",
   "execution_count": 11,
   "id": "1d416368",
   "metadata": {},
   "outputs": [
    {
     "data": {
      "application/vnd.plotly.v1+json": {
       "config": {
        "plotlyServerURL": "https://plot.ly"
       },
       "data": [
        {
         "domain": {
          "x": [
           0,
           1
          ],
          "y": [
           0,
           1
          ]
         },
         "hovertemplate": "international_plan=%{label}<extra></extra>",
         "labels": [
          "yes",
          "no",
          "yes",
          "yes",
          "no",
          "no",
          "no",
          "no",
          "no",
          "no",
          "yes",
          "no",
          "no",
          "no",
          "no",
          "no",
          "no",
          "no",
          "yes",
          "no",
          "no",
          "no",
          "no",
          "yes",
          "yes",
          "no",
          "yes",
          "yes",
          "no",
          "no",
          "no",
          "yes",
          "no",
          "yes",
          "no",
          "yes",
          "no",
          "no",
          "no",
          "no",
          "yes",
          "no",
          "no",
          "no",
          "no",
          "yes",
          "no",
          "yes",
          "no",
          "yes",
          "no",
          "yes",
          "no",
          "no",
          "no",
          "yes",
          "yes",
          "no",
          "no",
          "no",
          "no",
          "yes",
          "no",
          "no",
          "no",
          "no",
          "no",
          "yes",
          "no",
          "no",
          "no",
          "no",
          "yes",
          "no",
          "no",
          "yes",
          "yes",
          "no",
          "no",
          "no",
          "no",
          "no",
          "no",
          "no",
          "yes",
          "no",
          "no",
          "yes",
          "no",
          "no",
          "no",
          "no",
          "no",
          "no",
          "yes",
          "yes",
          "no",
          "no",
          "no",
          "no",
          "no",
          "yes",
          "no",
          "no",
          "yes",
          "no",
          "no",
          "no",
          "no",
          "no",
          "yes",
          "no",
          "no",
          "yes",
          "no",
          "no",
          "no",
          "no",
          "no",
          "no",
          "no",
          "yes",
          "no",
          "no",
          "no",
          "no",
          "no",
          "no",
          "no",
          "yes",
          "no",
          "no",
          "no",
          "no",
          "no",
          "no",
          "no",
          "no",
          "no",
          "no",
          "yes",
          "no",
          "yes",
          "no",
          "yes",
          "no",
          "yes",
          "no",
          "no",
          "yes",
          "no",
          "no",
          "yes",
          "yes",
          "no",
          "no",
          "yes",
          "yes",
          "no",
          "no",
          "no",
          "yes",
          "no",
          "no",
          "yes",
          "no",
          "yes",
          "no",
          "no",
          "no",
          "no",
          "no",
          "no",
          "no",
          "no",
          "no",
          "no",
          "no",
          "no",
          "no",
          "yes",
          "no",
          "no",
          "yes",
          "yes",
          "yes",
          "no",
          "yes",
          "no",
          "yes",
          "no",
          "yes",
          "no",
          "no",
          "no",
          "no",
          "no",
          "yes",
          "no",
          "no",
          "no",
          "yes",
          "yes",
          "no",
          "yes",
          "yes",
          "no",
          "no",
          "yes",
          "no",
          "no",
          "yes",
          "yes",
          "yes",
          "no",
          "yes",
          "yes",
          "no",
          "no",
          "yes",
          "yes",
          "no",
          "no",
          "no",
          "no",
          "yes",
          "no",
          "no",
          "no",
          "no",
          "no",
          "no",
          "no",
          "no",
          "no",
          "yes",
          "no",
          "no",
          "no",
          "yes",
          "no",
          "yes",
          "yes",
          "yes",
          "no",
          "no",
          "no",
          "no",
          "no",
          "yes",
          "no",
          "yes",
          "no",
          "no",
          "yes",
          "no",
          "yes",
          "no",
          "no",
          "no",
          "yes",
          "no",
          "yes",
          "yes",
          "no",
          "no",
          "no",
          "no",
          "no",
          "yes",
          "yes",
          "no",
          "no",
          "no",
          "no",
          "no",
          "no",
          "no",
          "no",
          "no",
          "no",
          "no",
          "no",
          "no",
          "no",
          "no",
          "no",
          "no",
          "yes",
          "yes",
          "no",
          "no",
          "no",
          "no",
          "no",
          "no",
          "yes",
          "yes",
          "no",
          "yes",
          "no",
          "no",
          "no",
          "no",
          "no",
          "no",
          "no",
          "no",
          "no",
          "yes",
          "yes",
          "yes",
          "no",
          "no",
          "no",
          "no",
          "no",
          "no",
          "yes",
          "no",
          "no",
          "yes",
          "no",
          "no",
          "no",
          "no",
          "yes",
          "no",
          "yes",
          "no",
          "yes",
          "no",
          "no",
          "no",
          "no",
          "no",
          "no",
          "no",
          "no",
          "no",
          "yes",
          "yes",
          "no",
          "no",
          "no",
          "no",
          "yes",
          "no",
          "yes",
          "yes",
          "no",
          "no",
          "no",
          "no",
          "no",
          "no",
          "no",
          "no",
          "no",
          "no",
          "yes",
          "yes",
          "no",
          "no",
          "yes",
          "no",
          "yes",
          "no",
          "no",
          "no",
          "no",
          "no",
          "no",
          "no",
          "no",
          "yes",
          "no",
          "no",
          "yes",
          "no",
          "yes",
          "no",
          "no",
          "no",
          "yes",
          "no",
          "yes",
          "no",
          "no",
          "no",
          "no",
          "no",
          "no",
          "no",
          "no",
          "no",
          "no",
          "yes",
          "no",
          "yes",
          "no",
          "no",
          "yes",
          "yes",
          "yes",
          "yes",
          "no",
          "yes",
          "no",
          "no",
          "no",
          "yes",
          "no"
         ],
         "legendgroup": "",
         "name": "",
         "showlegend": true,
         "type": "pie"
        }
       ],
       "layout": {
        "legend": {
         "tracegroupgap": 0
        },
        "template": {
         "data": {
          "bar": [
           {
            "error_x": {
             "color": "#2a3f5f"
            },
            "error_y": {
             "color": "#2a3f5f"
            },
            "marker": {
             "line": {
              "color": "#E5ECF6",
              "width": 0.5
             },
             "pattern": {
              "fillmode": "overlay",
              "size": 10,
              "solidity": 0.2
             }
            },
            "type": "bar"
           }
          ],
          "barpolar": [
           {
            "marker": {
             "line": {
              "color": "#E5ECF6",
              "width": 0.5
             },
             "pattern": {
              "fillmode": "overlay",
              "size": 10,
              "solidity": 0.2
             }
            },
            "type": "barpolar"
           }
          ],
          "carpet": [
           {
            "aaxis": {
             "endlinecolor": "#2a3f5f",
             "gridcolor": "white",
             "linecolor": "white",
             "minorgridcolor": "white",
             "startlinecolor": "#2a3f5f"
            },
            "baxis": {
             "endlinecolor": "#2a3f5f",
             "gridcolor": "white",
             "linecolor": "white",
             "minorgridcolor": "white",
             "startlinecolor": "#2a3f5f"
            },
            "type": "carpet"
           }
          ],
          "choropleth": [
           {
            "colorbar": {
             "outlinewidth": 0,
             "ticks": ""
            },
            "type": "choropleth"
           }
          ],
          "contour": [
           {
            "colorbar": {
             "outlinewidth": 0,
             "ticks": ""
            },
            "colorscale": [
             [
              0,
              "#0d0887"
             ],
             [
              0.1111111111111111,
              "#46039f"
             ],
             [
              0.2222222222222222,
              "#7201a8"
             ],
             [
              0.3333333333333333,
              "#9c179e"
             ],
             [
              0.4444444444444444,
              "#bd3786"
             ],
             [
              0.5555555555555556,
              "#d8576b"
             ],
             [
              0.6666666666666666,
              "#ed7953"
             ],
             [
              0.7777777777777778,
              "#fb9f3a"
             ],
             [
              0.8888888888888888,
              "#fdca26"
             ],
             [
              1,
              "#f0f921"
             ]
            ],
            "type": "contour"
           }
          ],
          "contourcarpet": [
           {
            "colorbar": {
             "outlinewidth": 0,
             "ticks": ""
            },
            "type": "contourcarpet"
           }
          ],
          "heatmap": [
           {
            "colorbar": {
             "outlinewidth": 0,
             "ticks": ""
            },
            "colorscale": [
             [
              0,
              "#0d0887"
             ],
             [
              0.1111111111111111,
              "#46039f"
             ],
             [
              0.2222222222222222,
              "#7201a8"
             ],
             [
              0.3333333333333333,
              "#9c179e"
             ],
             [
              0.4444444444444444,
              "#bd3786"
             ],
             [
              0.5555555555555556,
              "#d8576b"
             ],
             [
              0.6666666666666666,
              "#ed7953"
             ],
             [
              0.7777777777777778,
              "#fb9f3a"
             ],
             [
              0.8888888888888888,
              "#fdca26"
             ],
             [
              1,
              "#f0f921"
             ]
            ],
            "type": "heatmap"
           }
          ],
          "heatmapgl": [
           {
            "colorbar": {
             "outlinewidth": 0,
             "ticks": ""
            },
            "colorscale": [
             [
              0,
              "#0d0887"
             ],
             [
              0.1111111111111111,
              "#46039f"
             ],
             [
              0.2222222222222222,
              "#7201a8"
             ],
             [
              0.3333333333333333,
              "#9c179e"
             ],
             [
              0.4444444444444444,
              "#bd3786"
             ],
             [
              0.5555555555555556,
              "#d8576b"
             ],
             [
              0.6666666666666666,
              "#ed7953"
             ],
             [
              0.7777777777777778,
              "#fb9f3a"
             ],
             [
              0.8888888888888888,
              "#fdca26"
             ],
             [
              1,
              "#f0f921"
             ]
            ],
            "type": "heatmapgl"
           }
          ],
          "histogram": [
           {
            "marker": {
             "pattern": {
              "fillmode": "overlay",
              "size": 10,
              "solidity": 0.2
             }
            },
            "type": "histogram"
           }
          ],
          "histogram2d": [
           {
            "colorbar": {
             "outlinewidth": 0,
             "ticks": ""
            },
            "colorscale": [
             [
              0,
              "#0d0887"
             ],
             [
              0.1111111111111111,
              "#46039f"
             ],
             [
              0.2222222222222222,
              "#7201a8"
             ],
             [
              0.3333333333333333,
              "#9c179e"
             ],
             [
              0.4444444444444444,
              "#bd3786"
             ],
             [
              0.5555555555555556,
              "#d8576b"
             ],
             [
              0.6666666666666666,
              "#ed7953"
             ],
             [
              0.7777777777777778,
              "#fb9f3a"
             ],
             [
              0.8888888888888888,
              "#fdca26"
             ],
             [
              1,
              "#f0f921"
             ]
            ],
            "type": "histogram2d"
           }
          ],
          "histogram2dcontour": [
           {
            "colorbar": {
             "outlinewidth": 0,
             "ticks": ""
            },
            "colorscale": [
             [
              0,
              "#0d0887"
             ],
             [
              0.1111111111111111,
              "#46039f"
             ],
             [
              0.2222222222222222,
              "#7201a8"
             ],
             [
              0.3333333333333333,
              "#9c179e"
             ],
             [
              0.4444444444444444,
              "#bd3786"
             ],
             [
              0.5555555555555556,
              "#d8576b"
             ],
             [
              0.6666666666666666,
              "#ed7953"
             ],
             [
              0.7777777777777778,
              "#fb9f3a"
             ],
             [
              0.8888888888888888,
              "#fdca26"
             ],
             [
              1,
              "#f0f921"
             ]
            ],
            "type": "histogram2dcontour"
           }
          ],
          "mesh3d": [
           {
            "colorbar": {
             "outlinewidth": 0,
             "ticks": ""
            },
            "type": "mesh3d"
           }
          ],
          "parcoords": [
           {
            "line": {
             "colorbar": {
              "outlinewidth": 0,
              "ticks": ""
             }
            },
            "type": "parcoords"
           }
          ],
          "pie": [
           {
            "automargin": true,
            "type": "pie"
           }
          ],
          "scatter": [
           {
            "marker": {
             "colorbar": {
              "outlinewidth": 0,
              "ticks": ""
             }
            },
            "type": "scatter"
           }
          ],
          "scatter3d": [
           {
            "line": {
             "colorbar": {
              "outlinewidth": 0,
              "ticks": ""
             }
            },
            "marker": {
             "colorbar": {
              "outlinewidth": 0,
              "ticks": ""
             }
            },
            "type": "scatter3d"
           }
          ],
          "scattercarpet": [
           {
            "marker": {
             "colorbar": {
              "outlinewidth": 0,
              "ticks": ""
             }
            },
            "type": "scattercarpet"
           }
          ],
          "scattergeo": [
           {
            "marker": {
             "colorbar": {
              "outlinewidth": 0,
              "ticks": ""
             }
            },
            "type": "scattergeo"
           }
          ],
          "scattergl": [
           {
            "marker": {
             "colorbar": {
              "outlinewidth": 0,
              "ticks": ""
             }
            },
            "type": "scattergl"
           }
          ],
          "scattermapbox": [
           {
            "marker": {
             "colorbar": {
              "outlinewidth": 0,
              "ticks": ""
             }
            },
            "type": "scattermapbox"
           }
          ],
          "scatterpolar": [
           {
            "marker": {
             "colorbar": {
              "outlinewidth": 0,
              "ticks": ""
             }
            },
            "type": "scatterpolar"
           }
          ],
          "scatterpolargl": [
           {
            "marker": {
             "colorbar": {
              "outlinewidth": 0,
              "ticks": ""
             }
            },
            "type": "scatterpolargl"
           }
          ],
          "scatterternary": [
           {
            "marker": {
             "colorbar": {
              "outlinewidth": 0,
              "ticks": ""
             }
            },
            "type": "scatterternary"
           }
          ],
          "surface": [
           {
            "colorbar": {
             "outlinewidth": 0,
             "ticks": ""
            },
            "colorscale": [
             [
              0,
              "#0d0887"
             ],
             [
              0.1111111111111111,
              "#46039f"
             ],
             [
              0.2222222222222222,
              "#7201a8"
             ],
             [
              0.3333333333333333,
              "#9c179e"
             ],
             [
              0.4444444444444444,
              "#bd3786"
             ],
             [
              0.5555555555555556,
              "#d8576b"
             ],
             [
              0.6666666666666666,
              "#ed7953"
             ],
             [
              0.7777777777777778,
              "#fb9f3a"
             ],
             [
              0.8888888888888888,
              "#fdca26"
             ],
             [
              1,
              "#f0f921"
             ]
            ],
            "type": "surface"
           }
          ],
          "table": [
           {
            "cells": {
             "fill": {
              "color": "#EBF0F8"
             },
             "line": {
              "color": "white"
             }
            },
            "header": {
             "fill": {
              "color": "#C8D4E3"
             },
             "line": {
              "color": "white"
             }
            },
            "type": "table"
           }
          ]
         },
         "layout": {
          "annotationdefaults": {
           "arrowcolor": "#2a3f5f",
           "arrowhead": 0,
           "arrowwidth": 1
          },
          "autotypenumbers": "strict",
          "coloraxis": {
           "colorbar": {
            "outlinewidth": 0,
            "ticks": ""
           }
          },
          "colorscale": {
           "diverging": [
            [
             0,
             "#8e0152"
            ],
            [
             0.1,
             "#c51b7d"
            ],
            [
             0.2,
             "#de77ae"
            ],
            [
             0.3,
             "#f1b6da"
            ],
            [
             0.4,
             "#fde0ef"
            ],
            [
             0.5,
             "#f7f7f7"
            ],
            [
             0.6,
             "#e6f5d0"
            ],
            [
             0.7,
             "#b8e186"
            ],
            [
             0.8,
             "#7fbc41"
            ],
            [
             0.9,
             "#4d9221"
            ],
            [
             1,
             "#276419"
            ]
           ],
           "sequential": [
            [
             0,
             "#0d0887"
            ],
            [
             0.1111111111111111,
             "#46039f"
            ],
            [
             0.2222222222222222,
             "#7201a8"
            ],
            [
             0.3333333333333333,
             "#9c179e"
            ],
            [
             0.4444444444444444,
             "#bd3786"
            ],
            [
             0.5555555555555556,
             "#d8576b"
            ],
            [
             0.6666666666666666,
             "#ed7953"
            ],
            [
             0.7777777777777778,
             "#fb9f3a"
            ],
            [
             0.8888888888888888,
             "#fdca26"
            ],
            [
             1,
             "#f0f921"
            ]
           ],
           "sequentialminus": [
            [
             0,
             "#0d0887"
            ],
            [
             0.1111111111111111,
             "#46039f"
            ],
            [
             0.2222222222222222,
             "#7201a8"
            ],
            [
             0.3333333333333333,
             "#9c179e"
            ],
            [
             0.4444444444444444,
             "#bd3786"
            ],
            [
             0.5555555555555556,
             "#d8576b"
            ],
            [
             0.6666666666666666,
             "#ed7953"
            ],
            [
             0.7777777777777778,
             "#fb9f3a"
            ],
            [
             0.8888888888888888,
             "#fdca26"
            ],
            [
             1,
             "#f0f921"
            ]
           ]
          },
          "colorway": [
           "#636efa",
           "#EF553B",
           "#00cc96",
           "#ab63fa",
           "#FFA15A",
           "#19d3f3",
           "#FF6692",
           "#B6E880",
           "#FF97FF",
           "#FECB52"
          ],
          "font": {
           "color": "#2a3f5f"
          },
          "geo": {
           "bgcolor": "white",
           "lakecolor": "white",
           "landcolor": "#E5ECF6",
           "showlakes": true,
           "showland": true,
           "subunitcolor": "white"
          },
          "hoverlabel": {
           "align": "left"
          },
          "hovermode": "closest",
          "mapbox": {
           "style": "light"
          },
          "paper_bgcolor": "white",
          "plot_bgcolor": "#E5ECF6",
          "polar": {
           "angularaxis": {
            "gridcolor": "white",
            "linecolor": "white",
            "ticks": ""
           },
           "bgcolor": "#E5ECF6",
           "radialaxis": {
            "gridcolor": "white",
            "linecolor": "white",
            "ticks": ""
           }
          },
          "scene": {
           "xaxis": {
            "backgroundcolor": "#E5ECF6",
            "gridcolor": "white",
            "gridwidth": 2,
            "linecolor": "white",
            "showbackground": true,
            "ticks": "",
            "zerolinecolor": "white"
           },
           "yaxis": {
            "backgroundcolor": "#E5ECF6",
            "gridcolor": "white",
            "gridwidth": 2,
            "linecolor": "white",
            "showbackground": true,
            "ticks": "",
            "zerolinecolor": "white"
           },
           "zaxis": {
            "backgroundcolor": "#E5ECF6",
            "gridcolor": "white",
            "gridwidth": 2,
            "linecolor": "white",
            "showbackground": true,
            "ticks": "",
            "zerolinecolor": "white"
           }
          },
          "shapedefaults": {
           "line": {
            "color": "#2a3f5f"
           }
          },
          "ternary": {
           "aaxis": {
            "gridcolor": "white",
            "linecolor": "white",
            "ticks": ""
           },
           "baxis": {
            "gridcolor": "white",
            "linecolor": "white",
            "ticks": ""
           },
           "bgcolor": "#E5ECF6",
           "caxis": {
            "gridcolor": "white",
            "linecolor": "white",
            "ticks": ""
           }
          },
          "title": {
           "x": 0.05
          },
          "xaxis": {
           "automargin": true,
           "gridcolor": "white",
           "linecolor": "white",
           "ticks": "",
           "title": {
            "standoff": 15
           },
           "zerolinecolor": "white",
           "zerolinewidth": 2
          },
          "yaxis": {
           "automargin": true,
           "gridcolor": "white",
           "linecolor": "white",
           "ticks": "",
           "title": {
            "standoff": 15
           },
           "zerolinecolor": "white",
           "zerolinewidth": 2
          }
         }
        },
        "title": {
         "text": "Payment Delay - International Plan"
        }
       }
      },
      "text/html": [
       "<div>                            <div id=\"47117187-dbae-460e-af78-c08375882f89\" class=\"plotly-graph-div\" style=\"height:525px; width:100%;\"></div>            <script type=\"text/javascript\">                require([\"plotly\"], function(Plotly) {                    window.PLOTLYENV=window.PLOTLYENV || {};                                    if (document.getElementById(\"47117187-dbae-460e-af78-c08375882f89\")) {                    Plotly.newPlot(                        \"47117187-dbae-460e-af78-c08375882f89\",                        [{\"domain\":{\"x\":[0.0,1.0],\"y\":[0.0,1.0]},\"hovertemplate\":\"international_plan=%{label}<extra></extra>\",\"labels\":[\"yes\",\"no\",\"yes\",\"yes\",\"no\",\"no\",\"no\",\"no\",\"no\",\"no\",\"yes\",\"no\",\"no\",\"no\",\"no\",\"no\",\"no\",\"no\",\"yes\",\"no\",\"no\",\"no\",\"no\",\"yes\",\"yes\",\"no\",\"yes\",\"yes\",\"no\",\"no\",\"no\",\"yes\",\"no\",\"yes\",\"no\",\"yes\",\"no\",\"no\",\"no\",\"no\",\"yes\",\"no\",\"no\",\"no\",\"no\",\"yes\",\"no\",\"yes\",\"no\",\"yes\",\"no\",\"yes\",\"no\",\"no\",\"no\",\"yes\",\"yes\",\"no\",\"no\",\"no\",\"no\",\"yes\",\"no\",\"no\",\"no\",\"no\",\"no\",\"yes\",\"no\",\"no\",\"no\",\"no\",\"yes\",\"no\",\"no\",\"yes\",\"yes\",\"no\",\"no\",\"no\",\"no\",\"no\",\"no\",\"no\",\"yes\",\"no\",\"no\",\"yes\",\"no\",\"no\",\"no\",\"no\",\"no\",\"no\",\"yes\",\"yes\",\"no\",\"no\",\"no\",\"no\",\"no\",\"yes\",\"no\",\"no\",\"yes\",\"no\",\"no\",\"no\",\"no\",\"no\",\"yes\",\"no\",\"no\",\"yes\",\"no\",\"no\",\"no\",\"no\",\"no\",\"no\",\"no\",\"yes\",\"no\",\"no\",\"no\",\"no\",\"no\",\"no\",\"no\",\"yes\",\"no\",\"no\",\"no\",\"no\",\"no\",\"no\",\"no\",\"no\",\"no\",\"no\",\"yes\",\"no\",\"yes\",\"no\",\"yes\",\"no\",\"yes\",\"no\",\"no\",\"yes\",\"no\",\"no\",\"yes\",\"yes\",\"no\",\"no\",\"yes\",\"yes\",\"no\",\"no\",\"no\",\"yes\",\"no\",\"no\",\"yes\",\"no\",\"yes\",\"no\",\"no\",\"no\",\"no\",\"no\",\"no\",\"no\",\"no\",\"no\",\"no\",\"no\",\"no\",\"no\",\"yes\",\"no\",\"no\",\"yes\",\"yes\",\"yes\",\"no\",\"yes\",\"no\",\"yes\",\"no\",\"yes\",\"no\",\"no\",\"no\",\"no\",\"no\",\"yes\",\"no\",\"no\",\"no\",\"yes\",\"yes\",\"no\",\"yes\",\"yes\",\"no\",\"no\",\"yes\",\"no\",\"no\",\"yes\",\"yes\",\"yes\",\"no\",\"yes\",\"yes\",\"no\",\"no\",\"yes\",\"yes\",\"no\",\"no\",\"no\",\"no\",\"yes\",\"no\",\"no\",\"no\",\"no\",\"no\",\"no\",\"no\",\"no\",\"no\",\"yes\",\"no\",\"no\",\"no\",\"yes\",\"no\",\"yes\",\"yes\",\"yes\",\"no\",\"no\",\"no\",\"no\",\"no\",\"yes\",\"no\",\"yes\",\"no\",\"no\",\"yes\",\"no\",\"yes\",\"no\",\"no\",\"no\",\"yes\",\"no\",\"yes\",\"yes\",\"no\",\"no\",\"no\",\"no\",\"no\",\"yes\",\"yes\",\"no\",\"no\",\"no\",\"no\",\"no\",\"no\",\"no\",\"no\",\"no\",\"no\",\"no\",\"no\",\"no\",\"no\",\"no\",\"no\",\"no\",\"yes\",\"yes\",\"no\",\"no\",\"no\",\"no\",\"no\",\"no\",\"yes\",\"yes\",\"no\",\"yes\",\"no\",\"no\",\"no\",\"no\",\"no\",\"no\",\"no\",\"no\",\"no\",\"yes\",\"yes\",\"yes\",\"no\",\"no\",\"no\",\"no\",\"no\",\"no\",\"yes\",\"no\",\"no\",\"yes\",\"no\",\"no\",\"no\",\"no\",\"yes\",\"no\",\"yes\",\"no\",\"yes\",\"no\",\"no\",\"no\",\"no\",\"no\",\"no\",\"no\",\"no\",\"no\",\"yes\",\"yes\",\"no\",\"no\",\"no\",\"no\",\"yes\",\"no\",\"yes\",\"yes\",\"no\",\"no\",\"no\",\"no\",\"no\",\"no\",\"no\",\"no\",\"no\",\"no\",\"yes\",\"yes\",\"no\",\"no\",\"yes\",\"no\",\"yes\",\"no\",\"no\",\"no\",\"no\",\"no\",\"no\",\"no\",\"no\",\"yes\",\"no\",\"no\",\"yes\",\"no\",\"yes\",\"no\",\"no\",\"no\",\"yes\",\"no\",\"yes\",\"no\",\"no\",\"no\",\"no\",\"no\",\"no\",\"no\",\"no\",\"no\",\"no\",\"yes\",\"no\",\"yes\",\"no\",\"no\",\"yes\",\"yes\",\"yes\",\"yes\",\"no\",\"yes\",\"no\",\"no\",\"no\",\"yes\",\"no\"],\"legendgroup\":\"\",\"name\":\"\",\"showlegend\":true,\"type\":\"pie\"}],                        {\"legend\":{\"tracegroupgap\":0},\"template\":{\"data\":{\"bar\":[{\"error_x\":{\"color\":\"#2a3f5f\"},\"error_y\":{\"color\":\"#2a3f5f\"},\"marker\":{\"line\":{\"color\":\"#E5ECF6\",\"width\":0.5},\"pattern\":{\"fillmode\":\"overlay\",\"size\":10,\"solidity\":0.2}},\"type\":\"bar\"}],\"barpolar\":[{\"marker\":{\"line\":{\"color\":\"#E5ECF6\",\"width\":0.5},\"pattern\":{\"fillmode\":\"overlay\",\"size\":10,\"solidity\":0.2}},\"type\":\"barpolar\"}],\"carpet\":[{\"aaxis\":{\"endlinecolor\":\"#2a3f5f\",\"gridcolor\":\"white\",\"linecolor\":\"white\",\"minorgridcolor\":\"white\",\"startlinecolor\":\"#2a3f5f\"},\"baxis\":{\"endlinecolor\":\"#2a3f5f\",\"gridcolor\":\"white\",\"linecolor\":\"white\",\"minorgridcolor\":\"white\",\"startlinecolor\":\"#2a3f5f\"},\"type\":\"carpet\"}],\"choropleth\":[{\"colorbar\":{\"outlinewidth\":0,\"ticks\":\"\"},\"type\":\"choropleth\"}],\"contour\":[{\"colorbar\":{\"outlinewidth\":0,\"ticks\":\"\"},\"colorscale\":[[0.0,\"#0d0887\"],[0.1111111111111111,\"#46039f\"],[0.2222222222222222,\"#7201a8\"],[0.3333333333333333,\"#9c179e\"],[0.4444444444444444,\"#bd3786\"],[0.5555555555555556,\"#d8576b\"],[0.6666666666666666,\"#ed7953\"],[0.7777777777777778,\"#fb9f3a\"],[0.8888888888888888,\"#fdca26\"],[1.0,\"#f0f921\"]],\"type\":\"contour\"}],\"contourcarpet\":[{\"colorbar\":{\"outlinewidth\":0,\"ticks\":\"\"},\"type\":\"contourcarpet\"}],\"heatmap\":[{\"colorbar\":{\"outlinewidth\":0,\"ticks\":\"\"},\"colorscale\":[[0.0,\"#0d0887\"],[0.1111111111111111,\"#46039f\"],[0.2222222222222222,\"#7201a8\"],[0.3333333333333333,\"#9c179e\"],[0.4444444444444444,\"#bd3786\"],[0.5555555555555556,\"#d8576b\"],[0.6666666666666666,\"#ed7953\"],[0.7777777777777778,\"#fb9f3a\"],[0.8888888888888888,\"#fdca26\"],[1.0,\"#f0f921\"]],\"type\":\"heatmap\"}],\"heatmapgl\":[{\"colorbar\":{\"outlinewidth\":0,\"ticks\":\"\"},\"colorscale\":[[0.0,\"#0d0887\"],[0.1111111111111111,\"#46039f\"],[0.2222222222222222,\"#7201a8\"],[0.3333333333333333,\"#9c179e\"],[0.4444444444444444,\"#bd3786\"],[0.5555555555555556,\"#d8576b\"],[0.6666666666666666,\"#ed7953\"],[0.7777777777777778,\"#fb9f3a\"],[0.8888888888888888,\"#fdca26\"],[1.0,\"#f0f921\"]],\"type\":\"heatmapgl\"}],\"histogram\":[{\"marker\":{\"pattern\":{\"fillmode\":\"overlay\",\"size\":10,\"solidity\":0.2}},\"type\":\"histogram\"}],\"histogram2d\":[{\"colorbar\":{\"outlinewidth\":0,\"ticks\":\"\"},\"colorscale\":[[0.0,\"#0d0887\"],[0.1111111111111111,\"#46039f\"],[0.2222222222222222,\"#7201a8\"],[0.3333333333333333,\"#9c179e\"],[0.4444444444444444,\"#bd3786\"],[0.5555555555555556,\"#d8576b\"],[0.6666666666666666,\"#ed7953\"],[0.7777777777777778,\"#fb9f3a\"],[0.8888888888888888,\"#fdca26\"],[1.0,\"#f0f921\"]],\"type\":\"histogram2d\"}],\"histogram2dcontour\":[{\"colorbar\":{\"outlinewidth\":0,\"ticks\":\"\"},\"colorscale\":[[0.0,\"#0d0887\"],[0.1111111111111111,\"#46039f\"],[0.2222222222222222,\"#7201a8\"],[0.3333333333333333,\"#9c179e\"],[0.4444444444444444,\"#bd3786\"],[0.5555555555555556,\"#d8576b\"],[0.6666666666666666,\"#ed7953\"],[0.7777777777777778,\"#fb9f3a\"],[0.8888888888888888,\"#fdca26\"],[1.0,\"#f0f921\"]],\"type\":\"histogram2dcontour\"}],\"mesh3d\":[{\"colorbar\":{\"outlinewidth\":0,\"ticks\":\"\"},\"type\":\"mesh3d\"}],\"parcoords\":[{\"line\":{\"colorbar\":{\"outlinewidth\":0,\"ticks\":\"\"}},\"type\":\"parcoords\"}],\"pie\":[{\"automargin\":true,\"type\":\"pie\"}],\"scatter\":[{\"marker\":{\"colorbar\":{\"outlinewidth\":0,\"ticks\":\"\"}},\"type\":\"scatter\"}],\"scatter3d\":[{\"line\":{\"colorbar\":{\"outlinewidth\":0,\"ticks\":\"\"}},\"marker\":{\"colorbar\":{\"outlinewidth\":0,\"ticks\":\"\"}},\"type\":\"scatter3d\"}],\"scattercarpet\":[{\"marker\":{\"colorbar\":{\"outlinewidth\":0,\"ticks\":\"\"}},\"type\":\"scattercarpet\"}],\"scattergeo\":[{\"marker\":{\"colorbar\":{\"outlinewidth\":0,\"ticks\":\"\"}},\"type\":\"scattergeo\"}],\"scattergl\":[{\"marker\":{\"colorbar\":{\"outlinewidth\":0,\"ticks\":\"\"}},\"type\":\"scattergl\"}],\"scattermapbox\":[{\"marker\":{\"colorbar\":{\"outlinewidth\":0,\"ticks\":\"\"}},\"type\":\"scattermapbox\"}],\"scatterpolar\":[{\"marker\":{\"colorbar\":{\"outlinewidth\":0,\"ticks\":\"\"}},\"type\":\"scatterpolar\"}],\"scatterpolargl\":[{\"marker\":{\"colorbar\":{\"outlinewidth\":0,\"ticks\":\"\"}},\"type\":\"scatterpolargl\"}],\"scatterternary\":[{\"marker\":{\"colorbar\":{\"outlinewidth\":0,\"ticks\":\"\"}},\"type\":\"scatterternary\"}],\"surface\":[{\"colorbar\":{\"outlinewidth\":0,\"ticks\":\"\"},\"colorscale\":[[0.0,\"#0d0887\"],[0.1111111111111111,\"#46039f\"],[0.2222222222222222,\"#7201a8\"],[0.3333333333333333,\"#9c179e\"],[0.4444444444444444,\"#bd3786\"],[0.5555555555555556,\"#d8576b\"],[0.6666666666666666,\"#ed7953\"],[0.7777777777777778,\"#fb9f3a\"],[0.8888888888888888,\"#fdca26\"],[1.0,\"#f0f921\"]],\"type\":\"surface\"}],\"table\":[{\"cells\":{\"fill\":{\"color\":\"#EBF0F8\"},\"line\":{\"color\":\"white\"}},\"header\":{\"fill\":{\"color\":\"#C8D4E3\"},\"line\":{\"color\":\"white\"}},\"type\":\"table\"}]},\"layout\":{\"annotationdefaults\":{\"arrowcolor\":\"#2a3f5f\",\"arrowhead\":0,\"arrowwidth\":1},\"autotypenumbers\":\"strict\",\"coloraxis\":{\"colorbar\":{\"outlinewidth\":0,\"ticks\":\"\"}},\"colorscale\":{\"diverging\":[[0,\"#8e0152\"],[0.1,\"#c51b7d\"],[0.2,\"#de77ae\"],[0.3,\"#f1b6da\"],[0.4,\"#fde0ef\"],[0.5,\"#f7f7f7\"],[0.6,\"#e6f5d0\"],[0.7,\"#b8e186\"],[0.8,\"#7fbc41\"],[0.9,\"#4d9221\"],[1,\"#276419\"]],\"sequential\":[[0.0,\"#0d0887\"],[0.1111111111111111,\"#46039f\"],[0.2222222222222222,\"#7201a8\"],[0.3333333333333333,\"#9c179e\"],[0.4444444444444444,\"#bd3786\"],[0.5555555555555556,\"#d8576b\"],[0.6666666666666666,\"#ed7953\"],[0.7777777777777778,\"#fb9f3a\"],[0.8888888888888888,\"#fdca26\"],[1.0,\"#f0f921\"]],\"sequentialminus\":[[0.0,\"#0d0887\"],[0.1111111111111111,\"#46039f\"],[0.2222222222222222,\"#7201a8\"],[0.3333333333333333,\"#9c179e\"],[0.4444444444444444,\"#bd3786\"],[0.5555555555555556,\"#d8576b\"],[0.6666666666666666,\"#ed7953\"],[0.7777777777777778,\"#fb9f3a\"],[0.8888888888888888,\"#fdca26\"],[1.0,\"#f0f921\"]]},\"colorway\":[\"#636efa\",\"#EF553B\",\"#00cc96\",\"#ab63fa\",\"#FFA15A\",\"#19d3f3\",\"#FF6692\",\"#B6E880\",\"#FF97FF\",\"#FECB52\"],\"font\":{\"color\":\"#2a3f5f\"},\"geo\":{\"bgcolor\":\"white\",\"lakecolor\":\"white\",\"landcolor\":\"#E5ECF6\",\"showlakes\":true,\"showland\":true,\"subunitcolor\":\"white\"},\"hoverlabel\":{\"align\":\"left\"},\"hovermode\":\"closest\",\"mapbox\":{\"style\":\"light\"},\"paper_bgcolor\":\"white\",\"plot_bgcolor\":\"#E5ECF6\",\"polar\":{\"angularaxis\":{\"gridcolor\":\"white\",\"linecolor\":\"white\",\"ticks\":\"\"},\"bgcolor\":\"#E5ECF6\",\"radialaxis\":{\"gridcolor\":\"white\",\"linecolor\":\"white\",\"ticks\":\"\"}},\"scene\":{\"xaxis\":{\"backgroundcolor\":\"#E5ECF6\",\"gridcolor\":\"white\",\"gridwidth\":2,\"linecolor\":\"white\",\"showbackground\":true,\"ticks\":\"\",\"zerolinecolor\":\"white\"},\"yaxis\":{\"backgroundcolor\":\"#E5ECF6\",\"gridcolor\":\"white\",\"gridwidth\":2,\"linecolor\":\"white\",\"showbackground\":true,\"ticks\":\"\",\"zerolinecolor\":\"white\"},\"zaxis\":{\"backgroundcolor\":\"#E5ECF6\",\"gridcolor\":\"white\",\"gridwidth\":2,\"linecolor\":\"white\",\"showbackground\":true,\"ticks\":\"\",\"zerolinecolor\":\"white\"}},\"shapedefaults\":{\"line\":{\"color\":\"#2a3f5f\"}},\"ternary\":{\"aaxis\":{\"gridcolor\":\"white\",\"linecolor\":\"white\",\"ticks\":\"\"},\"baxis\":{\"gridcolor\":\"white\",\"linecolor\":\"white\",\"ticks\":\"\"},\"bgcolor\":\"#E5ECF6\",\"caxis\":{\"gridcolor\":\"white\",\"linecolor\":\"white\",\"ticks\":\"\"}},\"title\":{\"x\":0.05},\"xaxis\":{\"automargin\":true,\"gridcolor\":\"white\",\"linecolor\":\"white\",\"ticks\":\"\",\"title\":{\"standoff\":15},\"zerolinecolor\":\"white\",\"zerolinewidth\":2},\"yaxis\":{\"automargin\":true,\"gridcolor\":\"white\",\"linecolor\":\"white\",\"ticks\":\"\",\"title\":{\"standoff\":15},\"zerolinecolor\":\"white\",\"zerolinewidth\":2}}},\"title\":{\"text\":\"Payment Delay - International Plan\"}},                        {\"responsive\": true}                    ).then(function(){\n",
       "                            \n",
       "var gd = document.getElementById('47117187-dbae-460e-af78-c08375882f89');\n",
       "var x = new MutationObserver(function (mutations, observer) {{\n",
       "        var display = window.getComputedStyle(gd).display;\n",
       "        if (!display || display === 'none') {{\n",
       "            console.log([gd, 'removed!']);\n",
       "            Plotly.purge(gd);\n",
       "            observer.disconnect();\n",
       "        }}\n",
       "}});\n",
       "\n",
       "// Listen for the removal of the full notebook cells\n",
       "var notebookContainer = gd.closest('#notebook-container');\n",
       "if (notebookContainer) {{\n",
       "    x.observe(notebookContainer, {childList: true});\n",
       "}}\n",
       "\n",
       "// Listen for the clearing of the current output cell\n",
       "var outputEl = gd.closest('.output');\n",
       "if (outputEl) {{\n",
       "    x.observe(outputEl, {childList: true});\n",
       "}}\n",
       "\n",
       "                        })                };                });            </script>        </div>"
      ]
     },
     "metadata": {},
     "output_type": "display_data"
    },
    {
     "data": {
      "application/vnd.plotly.v1+json": {
       "config": {
        "plotlyServerURL": "https://plot.ly"
       },
       "data": [
        {
         "domain": {
          "x": [
           0,
           1
          ],
          "y": [
           0,
           1
          ]
         },
         "hovertemplate": "international_plan=%{label}<extra></extra>",
         "labels": [
          "no",
          "no",
          "no",
          "no",
          "no",
          "no",
          "no",
          "no",
          "no",
          "no",
          "no",
          "no",
          "no",
          "no",
          "no",
          "yes",
          "no",
          "no",
          "no",
          "no",
          "no",
          "no",
          "no",
          "no",
          "no",
          "no",
          "no",
          "yes",
          "no",
          "no",
          "no",
          "no",
          "no",
          "no",
          "no",
          "no",
          "no",
          "no",
          "no",
          "no",
          "no",
          "no",
          "no",
          "no",
          "no",
          "no",
          "no",
          "no",
          "no",
          "no",
          "no",
          "no",
          "no",
          "no",
          "no",
          "no",
          "no",
          "no",
          "no",
          "no",
          "no",
          "no",
          "no",
          "no",
          "no",
          "no",
          "no",
          "no",
          "no",
          "no",
          "yes",
          "no",
          "no",
          "no",
          "no",
          "no",
          "no",
          "no",
          "no",
          "yes",
          "no",
          "yes",
          "no",
          "no",
          "no",
          "no",
          "no",
          "no",
          "no",
          "yes",
          "no",
          "yes",
          "no",
          "no",
          "no",
          "no",
          "no",
          "no",
          "no",
          "no",
          "no",
          "no",
          "no",
          "no",
          "no",
          "no",
          "no",
          "no",
          "no",
          "no",
          "no",
          "no",
          "no",
          "no",
          "no",
          "no",
          "no",
          "no",
          "no",
          "no",
          "no",
          "no",
          "no",
          "no",
          "no",
          "no",
          "no",
          "no",
          "no",
          "no",
          "no",
          "no",
          "no",
          "no",
          "no",
          "no",
          "no",
          "no",
          "no",
          "no",
          "no",
          "no",
          "no",
          "yes",
          "no",
          "no",
          "no",
          "no",
          "no",
          "no",
          "no",
          "no",
          "no",
          "no",
          "no",
          "no",
          "yes",
          "no",
          "yes",
          "no",
          "no",
          "no",
          "yes",
          "no",
          "no",
          "no",
          "no",
          "no",
          "no",
          "no",
          "no",
          "no",
          "no",
          "no",
          "no",
          "no",
          "no",
          "no",
          "no",
          "no",
          "yes",
          "no",
          "no",
          "no",
          "no",
          "no",
          "no",
          "no",
          "no",
          "no",
          "no",
          "no",
          "no",
          "no",
          "no",
          "no",
          "no",
          "no",
          "no",
          "no",
          "no",
          "no",
          "no",
          "no",
          "no",
          "no",
          "no",
          "no",
          "no",
          "no",
          "no",
          "yes",
          "no",
          "no",
          "no",
          "no",
          "no",
          "yes",
          "no",
          "no",
          "no",
          "no",
          "no",
          "no",
          "no",
          "no",
          "no",
          "no",
          "yes",
          "no",
          "no",
          "no",
          "no",
          "no",
          "no",
          "no",
          "no",
          "no",
          "no",
          "no",
          "no",
          "no",
          "no",
          "no",
          "yes",
          "no",
          "no",
          "yes",
          "no",
          "no",
          "no",
          "no",
          "no",
          "no",
          "no",
          "no",
          "no",
          "no",
          "no",
          "no",
          "no",
          "no",
          "yes",
          "no",
          "no",
          "no",
          "no",
          "no",
          "no",
          "no",
          "no",
          "no",
          "no",
          "no",
          "no",
          "no",
          "no",
          "no",
          "no",
          "no",
          "no",
          "no",
          "no",
          "no",
          "no",
          "no",
          "yes",
          "yes",
          "no",
          "no",
          "no",
          "no",
          "no",
          "no",
          "no",
          "no",
          "yes",
          "no",
          "no",
          "no",
          "no",
          "no",
          "no",
          "no",
          "no",
          "no",
          "no",
          "no",
          "no",
          "no",
          "no",
          "no",
          "no",
          "no",
          "no",
          "no",
          "no",
          "no",
          "no",
          "no",
          "no",
          "no",
          "no",
          "no",
          "no",
          "no",
          "no",
          "no",
          "no",
          "no",
          "no",
          "no",
          "no",
          "no",
          "no",
          "no",
          "no",
          "no",
          "no",
          "no",
          "no",
          "yes",
          "no",
          "no",
          "no",
          "no",
          "no",
          "no",
          "no",
          "no",
          "no",
          "no",
          "no",
          "no",
          "no",
          "yes",
          "no",
          "no",
          "no",
          "no",
          "no",
          "no",
          "no",
          "no",
          "no",
          "no",
          "no",
          "no",
          "no",
          "no",
          "no",
          "no",
          "no",
          "no",
          "no",
          "no",
          "no",
          "no",
          "no",
          "no",
          "no",
          "no",
          "no",
          "yes",
          "yes",
          "no",
          "yes",
          "no",
          "no",
          "no",
          "no",
          "no",
          "no",
          "no",
          "no",
          "no",
          "no",
          "no",
          "no",
          "no",
          "no",
          "no",
          "no",
          "no",
          "no",
          "no",
          "yes",
          "no",
          "no",
          "no",
          "no",
          "no",
          "no",
          "no",
          "no",
          "no",
          "no",
          "no",
          "no",
          "no",
          "no",
          "no",
          "no",
          "no",
          "no",
          "no",
          "yes",
          "no",
          "no",
          "no",
          "no",
          "no",
          "no",
          "no",
          "no",
          "no",
          "no",
          "yes",
          "no",
          "no",
          "yes",
          "no",
          "no",
          "no",
          "no",
          "no",
          "no",
          "no",
          "no",
          "no",
          "no",
          "no",
          "no",
          "no",
          "no",
          "no",
          "no",
          "no",
          "yes",
          "no",
          "no",
          "no",
          "no",
          "no",
          "no",
          "no",
          "no",
          "no",
          "no",
          "no",
          "no",
          "no",
          "yes",
          "no",
          "no",
          "no",
          "no",
          "no",
          "no",
          "no",
          "no",
          "no",
          "no",
          "no",
          "no",
          "no",
          "no",
          "no",
          "no",
          "no",
          "no",
          "no",
          "no",
          "no",
          "no",
          "no",
          "no",
          "no",
          "no",
          "no",
          "no",
          "no",
          "no",
          "yes",
          "no",
          "no",
          "no",
          "no",
          "no",
          "no",
          "no",
          "no",
          "no",
          "no",
          "no",
          "no",
          "no",
          "no",
          "no",
          "no",
          "no",
          "no",
          "no",
          "no",
          "no",
          "no",
          "no",
          "no",
          "no",
          "no",
          "no",
          "no",
          "no",
          "yes",
          "no",
          "no",
          "no",
          "no",
          "no",
          "no",
          "yes",
          "no",
          "no",
          "no",
          "no",
          "no",
          "no",
          "no",
          "no",
          "no",
          "yes",
          "no",
          "no",
          "no",
          "no",
          "no",
          "no",
          "no",
          "no",
          "no",
          "no",
          "no",
          "no",
          "yes",
          "no",
          "no",
          "no",
          "no",
          "no",
          "no",
          "no",
          "no",
          "no",
          "no",
          "no",
          "no",
          "no",
          "no",
          "no",
          "no",
          "yes",
          "yes",
          "no",
          "no",
          "no",
          "no",
          "no",
          "no",
          "no",
          "no",
          "no",
          "no",
          "no",
          "no",
          "no",
          "no",
          "no",
          "no",
          "no",
          "no",
          "no",
          "no",
          "no",
          "no",
          "no",
          "no",
          "no",
          "no",
          "no",
          "no",
          "no",
          "no",
          "no",
          "no",
          "no",
          "no",
          "no",
          "no",
          "no",
          "no",
          "no",
          "no",
          "no",
          "no",
          "no",
          "no",
          "no",
          "no",
          "no",
          "no",
          "no",
          "no",
          "no",
          "no",
          "no",
          "no",
          "no",
          "no",
          "yes",
          "no",
          "no",
          "no",
          "no",
          "no",
          "no",
          "no",
          "no",
          "no",
          "no",
          "no",
          "no",
          "no",
          "no",
          "no",
          "no",
          "no",
          "no",
          "no",
          "no",
          "no",
          "no",
          "no",
          "no",
          "no",
          "no",
          "no",
          "no",
          "yes",
          "no",
          "no",
          "no",
          "no",
          "no",
          "no",
          "no",
          "no",
          "no",
          "no",
          "no",
          "no",
          "no",
          "no",
          "yes",
          "no",
          "yes",
          "no",
          "no",
          "no",
          "no",
          "no",
          "no",
          "no",
          "no",
          "no",
          "no",
          "no",
          "no",
          "no",
          "no",
          "no",
          "no",
          "no",
          "no",
          "no",
          "no",
          "no",
          "no",
          "no",
          "no",
          "no",
          "no",
          "no",
          "no",
          "no",
          "no",
          "no",
          "no",
          "no",
          "no",
          "no",
          "no",
          "no",
          "no",
          "no",
          "no",
          "no",
          "yes",
          "yes",
          "no",
          "no",
          "no",
          "no",
          "no",
          "no",
          "no",
          "no",
          "no",
          "no",
          "no",
          "no",
          "yes",
          "no",
          "no",
          "no",
          "no",
          "no",
          "no",
          "no",
          "no",
          "no",
          "no",
          "no",
          "no",
          "no",
          "no",
          "no",
          "no",
          "no",
          "yes",
          "no",
          "no",
          "no",
          "no",
          "no",
          "no",
          "no",
          "no",
          "no",
          "no",
          "no",
          "no",
          "no",
          "no",
          "no",
          "yes",
          "no",
          "no",
          "no",
          "yes",
          "no",
          "no",
          "no",
          "no",
          "no",
          "no",
          "no",
          "no",
          "no",
          "no",
          "no",
          "no",
          "no",
          "no",
          "no",
          "no",
          "no",
          "no",
          "no",
          "no",
          "no",
          "no",
          "no",
          "no",
          "no",
          "no",
          "no",
          "no",
          "no",
          "no",
          "no",
          "no",
          "no",
          "no",
          "no",
          "no",
          "no",
          "no",
          "no",
          "no",
          "no",
          "no",
          "no",
          "no",
          "no",
          "no",
          "no",
          "no",
          "no",
          "no",
          "no",
          "no",
          "no",
          "no",
          "no",
          "no",
          "no",
          "no",
          "no",
          "no",
          "no",
          "no",
          "no",
          "no",
          "no",
          "no",
          "no",
          "no",
          "no",
          "no",
          "no",
          "no",
          "no",
          "no",
          "no",
          "no",
          "no",
          "no",
          "no",
          "no",
          "no",
          "no",
          "no",
          "yes",
          "no",
          "no",
          "no",
          "no",
          "yes",
          "no",
          "no",
          "no",
          "no",
          "no",
          "no",
          "yes",
          "no",
          "no",
          "no",
          "no",
          "no",
          "no",
          "no",
          "no",
          "no",
          "no",
          "no",
          "no",
          "no",
          "no",
          "no",
          "no",
          "no",
          "no",
          "yes",
          "no",
          "no",
          "no",
          "no",
          "no",
          "yes",
          "no",
          "no",
          "no",
          "no",
          "no",
          "no",
          "no",
          "no",
          "no",
          "no",
          "yes",
          "no",
          "no",
          "yes",
          "no",
          "no",
          "no",
          "yes",
          "yes",
          "no",
          "no",
          "no",
          "no",
          "no",
          "no",
          "no",
          "no",
          "yes",
          "no",
          "yes",
          "no",
          "no",
          "no",
          "no",
          "no",
          "no",
          "no",
          "no",
          "no",
          "no",
          "no",
          "no",
          "no",
          "no",
          "no",
          "no",
          "no",
          "no",
          "no",
          "no",
          "no",
          "no",
          "yes",
          "no",
          "yes",
          "no",
          "no",
          "no",
          "no",
          "no",
          "no",
          "no",
          "no",
          "yes",
          "no",
          "no",
          "no",
          "no",
          "yes",
          "no",
          "no",
          "no",
          "no",
          "no",
          "no",
          "no",
          "no",
          "no",
          "no",
          "no",
          "no",
          "no",
          "no",
          "no",
          "no",
          "no",
          "no",
          "no",
          "no",
          "no",
          "no",
          "no",
          "no",
          "no",
          "no",
          "no",
          "no",
          "no",
          "no",
          "no",
          "no",
          "no",
          "no",
          "no",
          "no",
          "no",
          "no",
          "no",
          "yes",
          "no",
          "no",
          "no",
          "no",
          "no",
          "no",
          "yes",
          "no",
          "no",
          "no",
          "no",
          "no",
          "no",
          "no",
          "no",
          "no",
          "no",
          "no",
          "no",
          "no",
          "no",
          "no",
          "no",
          "no",
          "no",
          "no",
          "no",
          "no",
          "yes",
          "no",
          "no",
          "no",
          "no",
          "no",
          "no",
          "no",
          "no",
          "no",
          "no",
          "no",
          "no",
          "no",
          "no",
          "no",
          "no",
          "no",
          "no",
          "no",
          "yes",
          "no",
          "no",
          "no",
          "no",
          "no",
          "no",
          "no",
          "no",
          "no",
          "no",
          "yes",
          "no",
          "no",
          "no",
          "no",
          "no",
          "no",
          "no",
          "no",
          "no",
          "no",
          "no",
          "yes",
          "no",
          "no",
          "no",
          "no",
          "no",
          "no",
          "no",
          "no",
          "no",
          "no",
          "no",
          "no",
          "no",
          "no",
          "no",
          "yes",
          "no",
          "no",
          "no",
          "no",
          "no",
          "no",
          "no",
          "no",
          "no",
          "no",
          "no",
          "no",
          "no",
          "no",
          "no",
          "yes",
          "no",
          "no",
          "no",
          "no",
          "no",
          "no",
          "no",
          "no",
          "no",
          "no",
          "no",
          "no",
          "no",
          "no",
          "no",
          "no",
          "yes",
          "no",
          "no",
          "no",
          "yes",
          "no",
          "yes",
          "no",
          "no",
          "no",
          "yes",
          "no",
          "no",
          "no",
          "no",
          "no",
          "no",
          "no",
          "no",
          "no",
          "no",
          "no",
          "no",
          "no",
          "no",
          "no",
          "yes",
          "no",
          "no",
          "no",
          "no",
          "no",
          "no",
          "no",
          "no",
          "no",
          "no",
          "yes",
          "no",
          "no",
          "no",
          "yes",
          "no",
          "no",
          "no",
          "no",
          "no",
          "no",
          "no",
          "no",
          "no",
          "no",
          "no",
          "no",
          "no",
          "no",
          "no",
          "no",
          "no",
          "no",
          "no",
          "no",
          "no",
          "no",
          "no",
          "no",
          "no",
          "yes",
          "no",
          "no",
          "no",
          "no",
          "no",
          "no",
          "no",
          "no",
          "no",
          "no",
          "no",
          "no",
          "no",
          "no",
          "no",
          "no",
          "no",
          "no",
          "no",
          "no",
          "no",
          "no",
          "no",
          "no",
          "no",
          "no",
          "no",
          "no",
          "no",
          "no",
          "no",
          "no",
          "yes",
          "no",
          "no",
          "no",
          "no",
          "no",
          "no",
          "no",
          "no",
          "no",
          "no",
          "no",
          "no",
          "no",
          "no",
          "no",
          "no",
          "no",
          "no",
          "no",
          "yes",
          "no",
          "no",
          "no",
          "no",
          "no",
          "no",
          "no",
          "no",
          "no",
          "no",
          "no",
          "no",
          "no",
          "no",
          "no",
          "yes",
          "no",
          "no",
          "no",
          "no",
          "no",
          "yes",
          "no",
          "no",
          "no",
          "no",
          "no",
          "no",
          "no",
          "no",
          "no",
          "no",
          "no",
          "no",
          "no",
          "no",
          "no",
          "no",
          "no",
          "no",
          "no",
          "no",
          "no",
          "no",
          "no",
          "no",
          "no",
          "no",
          "no",
          "no",
          "no",
          "no",
          "no",
          "no",
          "no",
          "no",
          "no",
          "no",
          "no",
          "no",
          "no",
          "no",
          "no",
          "no",
          "no",
          "no",
          "no",
          "no",
          "no",
          "no",
          "no",
          "no",
          "no",
          "no",
          "no",
          "no",
          "no",
          "no",
          "no",
          "no",
          "no",
          "no",
          "no",
          "no",
          "no",
          "no",
          "no",
          "no",
          "no",
          "no",
          "yes",
          "no",
          "no",
          "no",
          "no",
          "no",
          "no",
          "no",
          "no",
          "no",
          "no",
          "no",
          "no",
          "no",
          "no",
          "no",
          "no",
          "no",
          "no",
          "no",
          "no",
          "no",
          "no",
          "no",
          "no",
          "no",
          "no",
          "no",
          "no",
          "no",
          "no",
          "no",
          "no",
          "no",
          "no",
          "no",
          "no",
          "yes",
          "no",
          "no",
          "no",
          "no",
          "no",
          "no",
          "no",
          "no",
          "no",
          "yes",
          "no",
          "no",
          "no",
          "no",
          "no",
          "no",
          "no",
          "no",
          "no",
          "no",
          "no",
          "no",
          "no",
          "no",
          "no",
          "no",
          "no",
          "yes",
          "no",
          "no",
          "yes",
          "no",
          "no",
          "no",
          "no",
          "no",
          "no",
          "no",
          "no",
          "no",
          "no",
          "no",
          "no",
          "no",
          "no",
          "no",
          "no",
          "no",
          "no",
          "no",
          "no",
          "no",
          "no",
          "no",
          "no",
          "no",
          "no",
          "no",
          "no",
          "no",
          "no",
          "no",
          "no",
          "no",
          "no",
          "no",
          "no",
          "no",
          "no",
          "no",
          "no",
          "no",
          "no",
          "no",
          "no",
          "no",
          "no",
          "yes",
          "no",
          "yes",
          "no",
          "no",
          "no",
          "no",
          "no",
          "no",
          "no",
          "no",
          "no",
          "no",
          "no",
          "no",
          "no",
          "no",
          "no",
          "no",
          "no",
          "no",
          "no",
          "yes",
          "no",
          "no",
          "no",
          "no",
          "no",
          "no",
          "no",
          "no",
          "no",
          "no",
          "no",
          "no",
          "no",
          "no",
          "no",
          "no",
          "no",
          "yes",
          "no",
          "no",
          "no",
          "yes",
          "no",
          "no",
          "no",
          "no",
          "no",
          "no",
          "no",
          "no",
          "no",
          "no",
          "no",
          "no",
          "no",
          "no",
          "no",
          "no",
          "no",
          "no",
          "no",
          "no",
          "yes",
          "no",
          "no",
          "no",
          "no",
          "no",
          "no",
          "no",
          "no",
          "no",
          "no",
          "no",
          "no",
          "no",
          "no",
          "no",
          "no",
          "no",
          "no",
          "no",
          "no",
          "yes",
          "no",
          "no",
          "no",
          "yes",
          "yes",
          "no",
          "no",
          "no",
          "no",
          "no",
          "no",
          "no",
          "no",
          "no",
          "no",
          "no",
          "no",
          "no",
          "no",
          "no",
          "no",
          "no",
          "no",
          "no",
          "no",
          "yes",
          "no",
          "no",
          "no",
          "no",
          "no",
          "yes",
          "no",
          "no",
          "no",
          "no",
          "no",
          "no",
          "no",
          "no",
          "no",
          "no",
          "no",
          "no",
          "no",
          "no",
          "no",
          "no",
          "no",
          "no",
          "no",
          "no",
          "no",
          "no",
          "no",
          "no",
          "yes",
          "no",
          "no",
          "no",
          "yes",
          "no",
          "no",
          "yes",
          "no",
          "yes",
          "no",
          "no",
          "no",
          "no",
          "no",
          "yes",
          "no",
          "no",
          "no",
          "no",
          "no",
          "no",
          "no",
          "no",
          "no",
          "no",
          "no",
          "no",
          "no",
          "no",
          "no",
          "no",
          "no",
          "no",
          "yes",
          "no",
          "no",
          "no",
          "no",
          "no",
          "no",
          "no",
          "no",
          "no",
          "no",
          "no",
          "no",
          "no",
          "no",
          "no",
          "no",
          "no",
          "no",
          "no",
          "no",
          "no",
          "no",
          "no",
          "no",
          "no",
          "no",
          "no",
          "no",
          "no",
          "no",
          "no",
          "no",
          "no",
          "no",
          "no",
          "no",
          "no",
          "no",
          "no",
          "no",
          "no",
          "no",
          "no",
          "no",
          "yes",
          "no",
          "no",
          "no",
          "no",
          "no",
          "yes",
          "no",
          "no",
          "no",
          "no",
          "no",
          "no",
          "no",
          "no",
          "yes",
          "no",
          "yes",
          "no",
          "no",
          "no",
          "no",
          "no",
          "no",
          "no",
          "no",
          "no",
          "no",
          "no",
          "no",
          "no",
          "no",
          "no",
          "no",
          "no",
          "no",
          "no",
          "no",
          "no",
          "no",
          "no",
          "no",
          "no",
          "no",
          "no",
          "no",
          "no",
          "no",
          "no",
          "no",
          "no",
          "no",
          "no",
          "no",
          "no",
          "no",
          "no",
          "no",
          "no",
          "yes",
          "no",
          "no",
          "no",
          "no",
          "no",
          "no",
          "no",
          "no",
          "no",
          "no",
          "no",
          "no",
          "no",
          "no",
          "no",
          "yes",
          "no",
          "no",
          "no",
          "no",
          "no",
          "no",
          "no",
          "no",
          "no",
          "no",
          "no",
          "no",
          "no",
          "no",
          "no",
          "no",
          "no",
          "no",
          "no",
          "no",
          "no",
          "no",
          "no",
          "no",
          "no",
          "no",
          "no",
          "no",
          "no",
          "no",
          "no",
          "no",
          "no",
          "no",
          "no",
          "yes",
          "no",
          "no",
          "no",
          "no",
          "no",
          "no",
          "no",
          "no",
          "yes",
          "no",
          "no",
          "no",
          "no",
          "no",
          "yes",
          "no",
          "no",
          "no",
          "no",
          "no",
          "no",
          "no",
          "no",
          "no",
          "no",
          "no",
          "no",
          "no",
          "no",
          "no",
          "yes",
          "no",
          "no",
          "no",
          "no",
          "no",
          "no",
          "no",
          "no",
          "no",
          "no",
          "no",
          "no",
          "no",
          "no",
          "no",
          "no",
          "no",
          "no",
          "yes",
          "no",
          "no",
          "no",
          "no",
          "no",
          "yes",
          "no",
          "no",
          "no",
          "no",
          "no",
          "no",
          "no",
          "no",
          "no",
          "no",
          "no",
          "no",
          "no",
          "no",
          "no",
          "no",
          "no",
          "no",
          "no",
          "no",
          "no",
          "no",
          "no",
          "no",
          "no",
          "no",
          "no",
          "no",
          "no",
          "no",
          "no",
          "no",
          "no",
          "no",
          "no",
          "no",
          "no",
          "no",
          "no",
          "no",
          "no",
          "no",
          "no",
          "no",
          "yes",
          "no",
          "no",
          "no",
          "no",
          "no",
          "no",
          "yes",
          "no",
          "no",
          "no",
          "no",
          "no",
          "yes",
          "no",
          "yes",
          "no",
          "no",
          "no",
          "no",
          "no",
          "no",
          "no",
          "no",
          "no",
          "yes",
          "no",
          "no",
          "no",
          "no",
          "no",
          "no",
          "no",
          "no",
          "no",
          "no",
          "no",
          "no",
          "no",
          "no",
          "no",
          "no",
          "no",
          "no",
          "no",
          "no",
          "no",
          "no",
          "no",
          "no",
          "no",
          "no",
          "no",
          "no",
          "no",
          "no",
          "no",
          "no",
          "no",
          "no",
          "no",
          "no",
          "no",
          "no",
          "yes",
          "no",
          "no",
          "no",
          "no",
          "no",
          "no",
          "no",
          "no",
          "no",
          "no",
          "no",
          "no",
          "no",
          "no",
          "no",
          "no",
          "yes",
          "no",
          "yes",
          "no",
          "yes",
          "no",
          "no",
          "no",
          "no",
          "no",
          "no",
          "no",
          "no",
          "no",
          "no",
          "no",
          "no",
          "no",
          "no",
          "no",
          "no",
          "no",
          "no",
          "no",
          "no",
          "no",
          "yes",
          "no",
          "no",
          "no",
          "no",
          "no",
          "no",
          "no",
          "no",
          "no",
          "no",
          "no",
          "yes",
          "no",
          "no",
          "no",
          "no",
          "no",
          "no",
          "no",
          "no",
          "no",
          "no",
          "no",
          "no",
          "no",
          "no",
          "yes",
          "no",
          "no",
          "yes",
          "no",
          "no",
          "no",
          "no",
          "no",
          "no",
          "no",
          "no",
          "no",
          "no",
          "no",
          "no",
          "no",
          "no",
          "no",
          "no",
          "no",
          "no",
          "no",
          "no",
          "no",
          "no",
          "no",
          "no",
          "no",
          "no",
          "no",
          "no",
          "no",
          "no",
          "no",
          "no",
          "no",
          "no",
          "no",
          "no",
          "no",
          "no",
          "no",
          "no",
          "no",
          "yes",
          "no",
          "no",
          "no",
          "yes",
          "no",
          "no",
          "no",
          "no",
          "yes",
          "no",
          "no",
          "no",
          "no",
          "no",
          "no",
          "no",
          "no",
          "no",
          "no",
          "no",
          "no",
          "no",
          "no",
          "no",
          "no",
          "no",
          "no",
          "no",
          "no",
          "no",
          "no",
          "no",
          "no",
          "no",
          "no",
          "no",
          "no",
          "no",
          "no",
          "no",
          "no",
          "no",
          "no",
          "yes",
          "no",
          "no",
          "no",
          "no",
          "no",
          "no",
          "no",
          "no",
          "no",
          "no",
          "no",
          "no",
          "no",
          "no",
          "no",
          "no",
          "no",
          "yes",
          "no",
          "no",
          "no",
          "no",
          "no",
          "no",
          "no",
          "no",
          "no",
          "no",
          "no",
          "no",
          "no",
          "no",
          "no",
          "no",
          "no",
          "no",
          "no",
          "no",
          "no",
          "no",
          "no",
          "no",
          "no",
          "no",
          "no",
          "no",
          "no",
          "no",
          "no",
          "no",
          "no",
          "no",
          "no",
          "no",
          "no",
          "no",
          "no",
          "no",
          "no",
          "yes",
          "no",
          "no",
          "no",
          "no",
          "no",
          "no",
          "no",
          "yes",
          "no",
          "no",
          "yes",
          "yes",
          "no",
          "no",
          "no",
          "no",
          "no",
          "no",
          "no",
          "yes",
          "no",
          "no",
          "no",
          "no",
          "no",
          "no",
          "no",
          "no",
          "no",
          "no",
          "no",
          "no",
          "no",
          "no",
          "no",
          "no",
          "no",
          "no",
          "no",
          "yes",
          "no",
          "no",
          "no",
          "no",
          "no",
          "no",
          "no",
          "no",
          "no",
          "no",
          "no",
          "no",
          "no",
          "no",
          "no",
          "no",
          "no",
          "no",
          "no",
          "no",
          "no",
          "no",
          "no",
          "no",
          "no",
          "no",
          "no",
          "no",
          "no",
          "no",
          "no",
          "no",
          "no",
          "no",
          "no",
          "no",
          "no",
          "no",
          "no",
          "no",
          "yes",
          "no",
          "no",
          "no",
          "no",
          "yes",
          "no",
          "no",
          "no",
          "no",
          "no",
          "no",
          "no",
          "no",
          "no",
          "no",
          "no",
          "no",
          "no",
          "yes",
          "no",
          "no",
          "no",
          "no",
          "no",
          "no",
          "no",
          "no",
          "no",
          "no",
          "no",
          "no",
          "no",
          "no",
          "no",
          "no",
          "no",
          "no",
          "no",
          "no",
          "no",
          "no",
          "no",
          "no",
          "no",
          "no",
          "no",
          "no",
          "no",
          "no",
          "no",
          "no",
          "no",
          "no",
          "no",
          "no",
          "no",
          "no",
          "no",
          "no",
          "no",
          "no",
          "no",
          "no",
          "no",
          "no",
          "no",
          "no",
          "no",
          "no",
          "no",
          "yes",
          "no",
          "no",
          "no",
          "no",
          "no",
          "no",
          "no",
          "no",
          "no",
          "no",
          "no",
          "no",
          "yes",
          "no",
          "no",
          "no",
          "no",
          "no",
          "no",
          "no",
          "no",
          "no",
          "no",
          "yes",
          "no",
          "no",
          "no",
          "no",
          "no",
          "no",
          "yes",
          "no",
          "no",
          "no",
          "yes",
          "no",
          "no",
          "no",
          "no",
          "no",
          "no",
          "no",
          "no",
          "no",
          "no",
          "no",
          "no",
          "no",
          "no",
          "no",
          "no",
          "no",
          "no",
          "no",
          "no",
          "no",
          "no",
          "yes",
          "no",
          "no",
          "no",
          "no",
          "no",
          "no",
          "no",
          "no",
          "no",
          "no",
          "no",
          "no",
          "no",
          "no",
          "yes",
          "no",
          "no",
          "no",
          "no",
          "no",
          "yes",
          "no",
          "no",
          "no",
          "yes",
          "no",
          "no",
          "no",
          "no",
          "no",
          "no",
          "no",
          "no",
          "no",
          "no",
          "no",
          "no",
          "no",
          "no",
          "no",
          "no",
          "no",
          "no",
          "yes",
          "yes",
          "no",
          "no",
          "no",
          "yes",
          "no",
          "no",
          "no",
          "no",
          "no",
          "no",
          "no",
          "no",
          "no",
          "no",
          "no",
          "no",
          "no",
          "no",
          "no",
          "no",
          "no",
          "no",
          "no",
          "no",
          "no",
          "no",
          "no",
          "yes",
          "no",
          "no",
          "no",
          "no",
          "no",
          "no",
          "no",
          "no",
          "no",
          "no",
          "no",
          "no",
          "no",
          "no",
          "no",
          "no",
          "no",
          "no",
          "no",
          "no",
          "no",
          "no",
          "no",
          "no",
          "no",
          "no",
          "no",
          "no",
          "no",
          "no",
          "yes",
          "no",
          "no",
          "no",
          "no",
          "no",
          "no",
          "no",
          "no",
          "no",
          "no",
          "no",
          "no",
          "no",
          "no",
          "no",
          "no",
          "no",
          "no",
          "no",
          "no",
          "no",
          "no",
          "no",
          "no",
          "no",
          "no",
          "no",
          "no",
          "no",
          "no",
          "no",
          "no",
          "no",
          "no",
          "no",
          "no",
          "no",
          "no",
          "no",
          "no",
          "no",
          "yes",
          "no",
          "no",
          "no",
          "no",
          "yes",
          "no",
          "no",
          "no",
          "no",
          "yes",
          "no",
          "no",
          "no",
          "no",
          "no",
          "no",
          "no",
          "no",
          "no",
          "no",
          "no",
          "no",
          "no",
          "no",
          "no",
          "no",
          "no",
          "no",
          "no",
          "no",
          "no",
          "no",
          "no",
          "no",
          "no",
          "no",
          "no",
          "no",
          "no",
          "no",
          "no",
          "no",
          "no",
          "no",
          "yes",
          "yes",
          "no",
          "no",
          "no",
          "no",
          "no",
          "no",
          "no",
          "no",
          "no",
          "no",
          "no",
          "yes"
         ],
         "legendgroup": "",
         "name": "",
         "showlegend": true,
         "type": "pie"
        }
       ],
       "layout": {
        "legend": {
         "tracegroupgap": 0
        },
        "template": {
         "data": {
          "bar": [
           {
            "error_x": {
             "color": "#2a3f5f"
            },
            "error_y": {
             "color": "#2a3f5f"
            },
            "marker": {
             "line": {
              "color": "#E5ECF6",
              "width": 0.5
             },
             "pattern": {
              "fillmode": "overlay",
              "size": 10,
              "solidity": 0.2
             }
            },
            "type": "bar"
           }
          ],
          "barpolar": [
           {
            "marker": {
             "line": {
              "color": "#E5ECF6",
              "width": 0.5
             },
             "pattern": {
              "fillmode": "overlay",
              "size": 10,
              "solidity": 0.2
             }
            },
            "type": "barpolar"
           }
          ],
          "carpet": [
           {
            "aaxis": {
             "endlinecolor": "#2a3f5f",
             "gridcolor": "white",
             "linecolor": "white",
             "minorgridcolor": "white",
             "startlinecolor": "#2a3f5f"
            },
            "baxis": {
             "endlinecolor": "#2a3f5f",
             "gridcolor": "white",
             "linecolor": "white",
             "minorgridcolor": "white",
             "startlinecolor": "#2a3f5f"
            },
            "type": "carpet"
           }
          ],
          "choropleth": [
           {
            "colorbar": {
             "outlinewidth": 0,
             "ticks": ""
            },
            "type": "choropleth"
           }
          ],
          "contour": [
           {
            "colorbar": {
             "outlinewidth": 0,
             "ticks": ""
            },
            "colorscale": [
             [
              0,
              "#0d0887"
             ],
             [
              0.1111111111111111,
              "#46039f"
             ],
             [
              0.2222222222222222,
              "#7201a8"
             ],
             [
              0.3333333333333333,
              "#9c179e"
             ],
             [
              0.4444444444444444,
              "#bd3786"
             ],
             [
              0.5555555555555556,
              "#d8576b"
             ],
             [
              0.6666666666666666,
              "#ed7953"
             ],
             [
              0.7777777777777778,
              "#fb9f3a"
             ],
             [
              0.8888888888888888,
              "#fdca26"
             ],
             [
              1,
              "#f0f921"
             ]
            ],
            "type": "contour"
           }
          ],
          "contourcarpet": [
           {
            "colorbar": {
             "outlinewidth": 0,
             "ticks": ""
            },
            "type": "contourcarpet"
           }
          ],
          "heatmap": [
           {
            "colorbar": {
             "outlinewidth": 0,
             "ticks": ""
            },
            "colorscale": [
             [
              0,
              "#0d0887"
             ],
             [
              0.1111111111111111,
              "#46039f"
             ],
             [
              0.2222222222222222,
              "#7201a8"
             ],
             [
              0.3333333333333333,
              "#9c179e"
             ],
             [
              0.4444444444444444,
              "#bd3786"
             ],
             [
              0.5555555555555556,
              "#d8576b"
             ],
             [
              0.6666666666666666,
              "#ed7953"
             ],
             [
              0.7777777777777778,
              "#fb9f3a"
             ],
             [
              0.8888888888888888,
              "#fdca26"
             ],
             [
              1,
              "#f0f921"
             ]
            ],
            "type": "heatmap"
           }
          ],
          "heatmapgl": [
           {
            "colorbar": {
             "outlinewidth": 0,
             "ticks": ""
            },
            "colorscale": [
             [
              0,
              "#0d0887"
             ],
             [
              0.1111111111111111,
              "#46039f"
             ],
             [
              0.2222222222222222,
              "#7201a8"
             ],
             [
              0.3333333333333333,
              "#9c179e"
             ],
             [
              0.4444444444444444,
              "#bd3786"
             ],
             [
              0.5555555555555556,
              "#d8576b"
             ],
             [
              0.6666666666666666,
              "#ed7953"
             ],
             [
              0.7777777777777778,
              "#fb9f3a"
             ],
             [
              0.8888888888888888,
              "#fdca26"
             ],
             [
              1,
              "#f0f921"
             ]
            ],
            "type": "heatmapgl"
           }
          ],
          "histogram": [
           {
            "marker": {
             "pattern": {
              "fillmode": "overlay",
              "size": 10,
              "solidity": 0.2
             }
            },
            "type": "histogram"
           }
          ],
          "histogram2d": [
           {
            "colorbar": {
             "outlinewidth": 0,
             "ticks": ""
            },
            "colorscale": [
             [
              0,
              "#0d0887"
             ],
             [
              0.1111111111111111,
              "#46039f"
             ],
             [
              0.2222222222222222,
              "#7201a8"
             ],
             [
              0.3333333333333333,
              "#9c179e"
             ],
             [
              0.4444444444444444,
              "#bd3786"
             ],
             [
              0.5555555555555556,
              "#d8576b"
             ],
             [
              0.6666666666666666,
              "#ed7953"
             ],
             [
              0.7777777777777778,
              "#fb9f3a"
             ],
             [
              0.8888888888888888,
              "#fdca26"
             ],
             [
              1,
              "#f0f921"
             ]
            ],
            "type": "histogram2d"
           }
          ],
          "histogram2dcontour": [
           {
            "colorbar": {
             "outlinewidth": 0,
             "ticks": ""
            },
            "colorscale": [
             [
              0,
              "#0d0887"
             ],
             [
              0.1111111111111111,
              "#46039f"
             ],
             [
              0.2222222222222222,
              "#7201a8"
             ],
             [
              0.3333333333333333,
              "#9c179e"
             ],
             [
              0.4444444444444444,
              "#bd3786"
             ],
             [
              0.5555555555555556,
              "#d8576b"
             ],
             [
              0.6666666666666666,
              "#ed7953"
             ],
             [
              0.7777777777777778,
              "#fb9f3a"
             ],
             [
              0.8888888888888888,
              "#fdca26"
             ],
             [
              1,
              "#f0f921"
             ]
            ],
            "type": "histogram2dcontour"
           }
          ],
          "mesh3d": [
           {
            "colorbar": {
             "outlinewidth": 0,
             "ticks": ""
            },
            "type": "mesh3d"
           }
          ],
          "parcoords": [
           {
            "line": {
             "colorbar": {
              "outlinewidth": 0,
              "ticks": ""
             }
            },
            "type": "parcoords"
           }
          ],
          "pie": [
           {
            "automargin": true,
            "type": "pie"
           }
          ],
          "scatter": [
           {
            "marker": {
             "colorbar": {
              "outlinewidth": 0,
              "ticks": ""
             }
            },
            "type": "scatter"
           }
          ],
          "scatter3d": [
           {
            "line": {
             "colorbar": {
              "outlinewidth": 0,
              "ticks": ""
             }
            },
            "marker": {
             "colorbar": {
              "outlinewidth": 0,
              "ticks": ""
             }
            },
            "type": "scatter3d"
           }
          ],
          "scattercarpet": [
           {
            "marker": {
             "colorbar": {
              "outlinewidth": 0,
              "ticks": ""
             }
            },
            "type": "scattercarpet"
           }
          ],
          "scattergeo": [
           {
            "marker": {
             "colorbar": {
              "outlinewidth": 0,
              "ticks": ""
             }
            },
            "type": "scattergeo"
           }
          ],
          "scattergl": [
           {
            "marker": {
             "colorbar": {
              "outlinewidth": 0,
              "ticks": ""
             }
            },
            "type": "scattergl"
           }
          ],
          "scattermapbox": [
           {
            "marker": {
             "colorbar": {
              "outlinewidth": 0,
              "ticks": ""
             }
            },
            "type": "scattermapbox"
           }
          ],
          "scatterpolar": [
           {
            "marker": {
             "colorbar": {
              "outlinewidth": 0,
              "ticks": ""
             }
            },
            "type": "scatterpolar"
           }
          ],
          "scatterpolargl": [
           {
            "marker": {
             "colorbar": {
              "outlinewidth": 0,
              "ticks": ""
             }
            },
            "type": "scatterpolargl"
           }
          ],
          "scatterternary": [
           {
            "marker": {
             "colorbar": {
              "outlinewidth": 0,
              "ticks": ""
             }
            },
            "type": "scatterternary"
           }
          ],
          "surface": [
           {
            "colorbar": {
             "outlinewidth": 0,
             "ticks": ""
            },
            "colorscale": [
             [
              0,
              "#0d0887"
             ],
             [
              0.1111111111111111,
              "#46039f"
             ],
             [
              0.2222222222222222,
              "#7201a8"
             ],
             [
              0.3333333333333333,
              "#9c179e"
             ],
             [
              0.4444444444444444,
              "#bd3786"
             ],
             [
              0.5555555555555556,
              "#d8576b"
             ],
             [
              0.6666666666666666,
              "#ed7953"
             ],
             [
              0.7777777777777778,
              "#fb9f3a"
             ],
             [
              0.8888888888888888,
              "#fdca26"
             ],
             [
              1,
              "#f0f921"
             ]
            ],
            "type": "surface"
           }
          ],
          "table": [
           {
            "cells": {
             "fill": {
              "color": "#EBF0F8"
             },
             "line": {
              "color": "white"
             }
            },
            "header": {
             "fill": {
              "color": "#C8D4E3"
             },
             "line": {
              "color": "white"
             }
            },
            "type": "table"
           }
          ]
         },
         "layout": {
          "annotationdefaults": {
           "arrowcolor": "#2a3f5f",
           "arrowhead": 0,
           "arrowwidth": 1
          },
          "autotypenumbers": "strict",
          "coloraxis": {
           "colorbar": {
            "outlinewidth": 0,
            "ticks": ""
           }
          },
          "colorscale": {
           "diverging": [
            [
             0,
             "#8e0152"
            ],
            [
             0.1,
             "#c51b7d"
            ],
            [
             0.2,
             "#de77ae"
            ],
            [
             0.3,
             "#f1b6da"
            ],
            [
             0.4,
             "#fde0ef"
            ],
            [
             0.5,
             "#f7f7f7"
            ],
            [
             0.6,
             "#e6f5d0"
            ],
            [
             0.7,
             "#b8e186"
            ],
            [
             0.8,
             "#7fbc41"
            ],
            [
             0.9,
             "#4d9221"
            ],
            [
             1,
             "#276419"
            ]
           ],
           "sequential": [
            [
             0,
             "#0d0887"
            ],
            [
             0.1111111111111111,
             "#46039f"
            ],
            [
             0.2222222222222222,
             "#7201a8"
            ],
            [
             0.3333333333333333,
             "#9c179e"
            ],
            [
             0.4444444444444444,
             "#bd3786"
            ],
            [
             0.5555555555555556,
             "#d8576b"
            ],
            [
             0.6666666666666666,
             "#ed7953"
            ],
            [
             0.7777777777777778,
             "#fb9f3a"
            ],
            [
             0.8888888888888888,
             "#fdca26"
            ],
            [
             1,
             "#f0f921"
            ]
           ],
           "sequentialminus": [
            [
             0,
             "#0d0887"
            ],
            [
             0.1111111111111111,
             "#46039f"
            ],
            [
             0.2222222222222222,
             "#7201a8"
            ],
            [
             0.3333333333333333,
             "#9c179e"
            ],
            [
             0.4444444444444444,
             "#bd3786"
            ],
            [
             0.5555555555555556,
             "#d8576b"
            ],
            [
             0.6666666666666666,
             "#ed7953"
            ],
            [
             0.7777777777777778,
             "#fb9f3a"
            ],
            [
             0.8888888888888888,
             "#fdca26"
            ],
            [
             1,
             "#f0f921"
            ]
           ]
          },
          "colorway": [
           "#636efa",
           "#EF553B",
           "#00cc96",
           "#ab63fa",
           "#FFA15A",
           "#19d3f3",
           "#FF6692",
           "#B6E880",
           "#FF97FF",
           "#FECB52"
          ],
          "font": {
           "color": "#2a3f5f"
          },
          "geo": {
           "bgcolor": "white",
           "lakecolor": "white",
           "landcolor": "#E5ECF6",
           "showlakes": true,
           "showland": true,
           "subunitcolor": "white"
          },
          "hoverlabel": {
           "align": "left"
          },
          "hovermode": "closest",
          "mapbox": {
           "style": "light"
          },
          "paper_bgcolor": "white",
          "plot_bgcolor": "#E5ECF6",
          "polar": {
           "angularaxis": {
            "gridcolor": "white",
            "linecolor": "white",
            "ticks": ""
           },
           "bgcolor": "#E5ECF6",
           "radialaxis": {
            "gridcolor": "white",
            "linecolor": "white",
            "ticks": ""
           }
          },
          "scene": {
           "xaxis": {
            "backgroundcolor": "#E5ECF6",
            "gridcolor": "white",
            "gridwidth": 2,
            "linecolor": "white",
            "showbackground": true,
            "ticks": "",
            "zerolinecolor": "white"
           },
           "yaxis": {
            "backgroundcolor": "#E5ECF6",
            "gridcolor": "white",
            "gridwidth": 2,
            "linecolor": "white",
            "showbackground": true,
            "ticks": "",
            "zerolinecolor": "white"
           },
           "zaxis": {
            "backgroundcolor": "#E5ECF6",
            "gridcolor": "white",
            "gridwidth": 2,
            "linecolor": "white",
            "showbackground": true,
            "ticks": "",
            "zerolinecolor": "white"
           }
          },
          "shapedefaults": {
           "line": {
            "color": "#2a3f5f"
           }
          },
          "ternary": {
           "aaxis": {
            "gridcolor": "white",
            "linecolor": "white",
            "ticks": ""
           },
           "baxis": {
            "gridcolor": "white",
            "linecolor": "white",
            "ticks": ""
           },
           "bgcolor": "#E5ECF6",
           "caxis": {
            "gridcolor": "white",
            "linecolor": "white",
            "ticks": ""
           }
          },
          "title": {
           "x": 0.05
          },
          "xaxis": {
           "automargin": true,
           "gridcolor": "white",
           "linecolor": "white",
           "ticks": "",
           "title": {
            "standoff": 15
           },
           "zerolinecolor": "white",
           "zerolinewidth": 2
          },
          "yaxis": {
           "automargin": true,
           "gridcolor": "white",
           "linecolor": "white",
           "ticks": "",
           "title": {
            "standoff": 15
           },
           "zerolinecolor": "white",
           "zerolinewidth": 2
          }
         }
        },
        "title": {
         "text": "Payment on time - International Plan"
        }
       }
      },
      "text/html": [
       "<div>                            <div id=\"d6402101-e201-4614-b40d-3fb50913ec4b\" class=\"plotly-graph-div\" style=\"height:525px; width:100%;\"></div>            <script type=\"text/javascript\">                require([\"plotly\"], function(Plotly) {                    window.PLOTLYENV=window.PLOTLYENV || {};                                    if (document.getElementById(\"d6402101-e201-4614-b40d-3fb50913ec4b\")) {                    Plotly.newPlot(                        \"d6402101-e201-4614-b40d-3fb50913ec4b\",                        [{\"domain\":{\"x\":[0.0,1.0],\"y\":[0.0,1.0]},\"hovertemplate\":\"international_plan=%{label}<extra></extra>\",\"labels\":[\"no\",\"no\",\"no\",\"no\",\"no\",\"no\",\"no\",\"no\",\"no\",\"no\",\"no\",\"no\",\"no\",\"no\",\"no\",\"yes\",\"no\",\"no\",\"no\",\"no\",\"no\",\"no\",\"no\",\"no\",\"no\",\"no\",\"no\",\"yes\",\"no\",\"no\",\"no\",\"no\",\"no\",\"no\",\"no\",\"no\",\"no\",\"no\",\"no\",\"no\",\"no\",\"no\",\"no\",\"no\",\"no\",\"no\",\"no\",\"no\",\"no\",\"no\",\"no\",\"no\",\"no\",\"no\",\"no\",\"no\",\"no\",\"no\",\"no\",\"no\",\"no\",\"no\",\"no\",\"no\",\"no\",\"no\",\"no\",\"no\",\"no\",\"no\",\"yes\",\"no\",\"no\",\"no\",\"no\",\"no\",\"no\",\"no\",\"no\",\"yes\",\"no\",\"yes\",\"no\",\"no\",\"no\",\"no\",\"no\",\"no\",\"no\",\"yes\",\"no\",\"yes\",\"no\",\"no\",\"no\",\"no\",\"no\",\"no\",\"no\",\"no\",\"no\",\"no\",\"no\",\"no\",\"no\",\"no\",\"no\",\"no\",\"no\",\"no\",\"no\",\"no\",\"no\",\"no\",\"no\",\"no\",\"no\",\"no\",\"no\",\"no\",\"no\",\"no\",\"no\",\"no\",\"no\",\"no\",\"no\",\"no\",\"no\",\"no\",\"no\",\"no\",\"no\",\"no\",\"no\",\"no\",\"no\",\"no\",\"no\",\"no\",\"no\",\"no\",\"no\",\"yes\",\"no\",\"no\",\"no\",\"no\",\"no\",\"no\",\"no\",\"no\",\"no\",\"no\",\"no\",\"no\",\"yes\",\"no\",\"yes\",\"no\",\"no\",\"no\",\"yes\",\"no\",\"no\",\"no\",\"no\",\"no\",\"no\",\"no\",\"no\",\"no\",\"no\",\"no\",\"no\",\"no\",\"no\",\"no\",\"no\",\"no\",\"yes\",\"no\",\"no\",\"no\",\"no\",\"no\",\"no\",\"no\",\"no\",\"no\",\"no\",\"no\",\"no\",\"no\",\"no\",\"no\",\"no\",\"no\",\"no\",\"no\",\"no\",\"no\",\"no\",\"no\",\"no\",\"no\",\"no\",\"no\",\"no\",\"no\",\"no\",\"yes\",\"no\",\"no\",\"no\",\"no\",\"no\",\"yes\",\"no\",\"no\",\"no\",\"no\",\"no\",\"no\",\"no\",\"no\",\"no\",\"no\",\"yes\",\"no\",\"no\",\"no\",\"no\",\"no\",\"no\",\"no\",\"no\",\"no\",\"no\",\"no\",\"no\",\"no\",\"no\",\"no\",\"yes\",\"no\",\"no\",\"yes\",\"no\",\"no\",\"no\",\"no\",\"no\",\"no\",\"no\",\"no\",\"no\",\"no\",\"no\",\"no\",\"no\",\"no\",\"yes\",\"no\",\"no\",\"no\",\"no\",\"no\",\"no\",\"no\",\"no\",\"no\",\"no\",\"no\",\"no\",\"no\",\"no\",\"no\",\"no\",\"no\",\"no\",\"no\",\"no\",\"no\",\"no\",\"no\",\"yes\",\"yes\",\"no\",\"no\",\"no\",\"no\",\"no\",\"no\",\"no\",\"no\",\"yes\",\"no\",\"no\",\"no\",\"no\",\"no\",\"no\",\"no\",\"no\",\"no\",\"no\",\"no\",\"no\",\"no\",\"no\",\"no\",\"no\",\"no\",\"no\",\"no\",\"no\",\"no\",\"no\",\"no\",\"no\",\"no\",\"no\",\"no\",\"no\",\"no\",\"no\",\"no\",\"no\",\"no\",\"no\",\"no\",\"no\",\"no\",\"no\",\"no\",\"no\",\"no\",\"no\",\"no\",\"no\",\"yes\",\"no\",\"no\",\"no\",\"no\",\"no\",\"no\",\"no\",\"no\",\"no\",\"no\",\"no\",\"no\",\"no\",\"yes\",\"no\",\"no\",\"no\",\"no\",\"no\",\"no\",\"no\",\"no\",\"no\",\"no\",\"no\",\"no\",\"no\",\"no\",\"no\",\"no\",\"no\",\"no\",\"no\",\"no\",\"no\",\"no\",\"no\",\"no\",\"no\",\"no\",\"no\",\"yes\",\"yes\",\"no\",\"yes\",\"no\",\"no\",\"no\",\"no\",\"no\",\"no\",\"no\",\"no\",\"no\",\"no\",\"no\",\"no\",\"no\",\"no\",\"no\",\"no\",\"no\",\"no\",\"no\",\"yes\",\"no\",\"no\",\"no\",\"no\",\"no\",\"no\",\"no\",\"no\",\"no\",\"no\",\"no\",\"no\",\"no\",\"no\",\"no\",\"no\",\"no\",\"no\",\"no\",\"yes\",\"no\",\"no\",\"no\",\"no\",\"no\",\"no\",\"no\",\"no\",\"no\",\"no\",\"yes\",\"no\",\"no\",\"yes\",\"no\",\"no\",\"no\",\"no\",\"no\",\"no\",\"no\",\"no\",\"no\",\"no\",\"no\",\"no\",\"no\",\"no\",\"no\",\"no\",\"no\",\"yes\",\"no\",\"no\",\"no\",\"no\",\"no\",\"no\",\"no\",\"no\",\"no\",\"no\",\"no\",\"no\",\"no\",\"yes\",\"no\",\"no\",\"no\",\"no\",\"no\",\"no\",\"no\",\"no\",\"no\",\"no\",\"no\",\"no\",\"no\",\"no\",\"no\",\"no\",\"no\",\"no\",\"no\",\"no\",\"no\",\"no\",\"no\",\"no\",\"no\",\"no\",\"no\",\"no\",\"no\",\"no\",\"yes\",\"no\",\"no\",\"no\",\"no\",\"no\",\"no\",\"no\",\"no\",\"no\",\"no\",\"no\",\"no\",\"no\",\"no\",\"no\",\"no\",\"no\",\"no\",\"no\",\"no\",\"no\",\"no\",\"no\",\"no\",\"no\",\"no\",\"no\",\"no\",\"no\",\"yes\",\"no\",\"no\",\"no\",\"no\",\"no\",\"no\",\"yes\",\"no\",\"no\",\"no\",\"no\",\"no\",\"no\",\"no\",\"no\",\"no\",\"yes\",\"no\",\"no\",\"no\",\"no\",\"no\",\"no\",\"no\",\"no\",\"no\",\"no\",\"no\",\"no\",\"yes\",\"no\",\"no\",\"no\",\"no\",\"no\",\"no\",\"no\",\"no\",\"no\",\"no\",\"no\",\"no\",\"no\",\"no\",\"no\",\"no\",\"yes\",\"yes\",\"no\",\"no\",\"no\",\"no\",\"no\",\"no\",\"no\",\"no\",\"no\",\"no\",\"no\",\"no\",\"no\",\"no\",\"no\",\"no\",\"no\",\"no\",\"no\",\"no\",\"no\",\"no\",\"no\",\"no\",\"no\",\"no\",\"no\",\"no\",\"no\",\"no\",\"no\",\"no\",\"no\",\"no\",\"no\",\"no\",\"no\",\"no\",\"no\",\"no\",\"no\",\"no\",\"no\",\"no\",\"no\",\"no\",\"no\",\"no\",\"no\",\"no\",\"no\",\"no\",\"no\",\"no\",\"no\",\"no\",\"yes\",\"no\",\"no\",\"no\",\"no\",\"no\",\"no\",\"no\",\"no\",\"no\",\"no\",\"no\",\"no\",\"no\",\"no\",\"no\",\"no\",\"no\",\"no\",\"no\",\"no\",\"no\",\"no\",\"no\",\"no\",\"no\",\"no\",\"no\",\"no\",\"yes\",\"no\",\"no\",\"no\",\"no\",\"no\",\"no\",\"no\",\"no\",\"no\",\"no\",\"no\",\"no\",\"no\",\"no\",\"yes\",\"no\",\"yes\",\"no\",\"no\",\"no\",\"no\",\"no\",\"no\",\"no\",\"no\",\"no\",\"no\",\"no\",\"no\",\"no\",\"no\",\"no\",\"no\",\"no\",\"no\",\"no\",\"no\",\"no\",\"no\",\"no\",\"no\",\"no\",\"no\",\"no\",\"no\",\"no\",\"no\",\"no\",\"no\",\"no\",\"no\",\"no\",\"no\",\"no\",\"no\",\"no\",\"no\",\"no\",\"yes\",\"yes\",\"no\",\"no\",\"no\",\"no\",\"no\",\"no\",\"no\",\"no\",\"no\",\"no\",\"no\",\"no\",\"yes\",\"no\",\"no\",\"no\",\"no\",\"no\",\"no\",\"no\",\"no\",\"no\",\"no\",\"no\",\"no\",\"no\",\"no\",\"no\",\"no\",\"no\",\"yes\",\"no\",\"no\",\"no\",\"no\",\"no\",\"no\",\"no\",\"no\",\"no\",\"no\",\"no\",\"no\",\"no\",\"no\",\"no\",\"yes\",\"no\",\"no\",\"no\",\"yes\",\"no\",\"no\",\"no\",\"no\",\"no\",\"no\",\"no\",\"no\",\"no\",\"no\",\"no\",\"no\",\"no\",\"no\",\"no\",\"no\",\"no\",\"no\",\"no\",\"no\",\"no\",\"no\",\"no\",\"no\",\"no\",\"no\",\"no\",\"no\",\"no\",\"no\",\"no\",\"no\",\"no\",\"no\",\"no\",\"no\",\"no\",\"no\",\"no\",\"no\",\"no\",\"no\",\"no\",\"no\",\"no\",\"no\",\"no\",\"no\",\"no\",\"no\",\"no\",\"no\",\"no\",\"no\",\"no\",\"no\",\"no\",\"no\",\"no\",\"no\",\"no\",\"no\",\"no\",\"no\",\"no\",\"no\",\"no\",\"no\",\"no\",\"no\",\"no\",\"no\",\"no\",\"no\",\"no\",\"no\",\"no\",\"no\",\"no\",\"no\",\"no\",\"no\",\"no\",\"yes\",\"no\",\"no\",\"no\",\"no\",\"yes\",\"no\",\"no\",\"no\",\"no\",\"no\",\"no\",\"yes\",\"no\",\"no\",\"no\",\"no\",\"no\",\"no\",\"no\",\"no\",\"no\",\"no\",\"no\",\"no\",\"no\",\"no\",\"no\",\"no\",\"no\",\"no\",\"yes\",\"no\",\"no\",\"no\",\"no\",\"no\",\"yes\",\"no\",\"no\",\"no\",\"no\",\"no\",\"no\",\"no\",\"no\",\"no\",\"no\",\"yes\",\"no\",\"no\",\"yes\",\"no\",\"no\",\"no\",\"yes\",\"yes\",\"no\",\"no\",\"no\",\"no\",\"no\",\"no\",\"no\",\"no\",\"yes\",\"no\",\"yes\",\"no\",\"no\",\"no\",\"no\",\"no\",\"no\",\"no\",\"no\",\"no\",\"no\",\"no\",\"no\",\"no\",\"no\",\"no\",\"no\",\"no\",\"no\",\"no\",\"no\",\"no\",\"no\",\"yes\",\"no\",\"yes\",\"no\",\"no\",\"no\",\"no\",\"no\",\"no\",\"no\",\"no\",\"yes\",\"no\",\"no\",\"no\",\"no\",\"yes\",\"no\",\"no\",\"no\",\"no\",\"no\",\"no\",\"no\",\"no\",\"no\",\"no\",\"no\",\"no\",\"no\",\"no\",\"no\",\"no\",\"no\",\"no\",\"no\",\"no\",\"no\",\"no\",\"no\",\"no\",\"no\",\"no\",\"no\",\"no\",\"no\",\"no\",\"no\",\"no\",\"no\",\"no\",\"no\",\"no\",\"no\",\"no\",\"no\",\"yes\",\"no\",\"no\",\"no\",\"no\",\"no\",\"no\",\"yes\",\"no\",\"no\",\"no\",\"no\",\"no\",\"no\",\"no\",\"no\",\"no\",\"no\",\"no\",\"no\",\"no\",\"no\",\"no\",\"no\",\"no\",\"no\",\"no\",\"no\",\"no\",\"yes\",\"no\",\"no\",\"no\",\"no\",\"no\",\"no\",\"no\",\"no\",\"no\",\"no\",\"no\",\"no\",\"no\",\"no\",\"no\",\"no\",\"no\",\"no\",\"no\",\"yes\",\"no\",\"no\",\"no\",\"no\",\"no\",\"no\",\"no\",\"no\",\"no\",\"no\",\"yes\",\"no\",\"no\",\"no\",\"no\",\"no\",\"no\",\"no\",\"no\",\"no\",\"no\",\"no\",\"yes\",\"no\",\"no\",\"no\",\"no\",\"no\",\"no\",\"no\",\"no\",\"no\",\"no\",\"no\",\"no\",\"no\",\"no\",\"no\",\"yes\",\"no\",\"no\",\"no\",\"no\",\"no\",\"no\",\"no\",\"no\",\"no\",\"no\",\"no\",\"no\",\"no\",\"no\",\"no\",\"yes\",\"no\",\"no\",\"no\",\"no\",\"no\",\"no\",\"no\",\"no\",\"no\",\"no\",\"no\",\"no\",\"no\",\"no\",\"no\",\"no\",\"yes\",\"no\",\"no\",\"no\",\"yes\",\"no\",\"yes\",\"no\",\"no\",\"no\",\"yes\",\"no\",\"no\",\"no\",\"no\",\"no\",\"no\",\"no\",\"no\",\"no\",\"no\",\"no\",\"no\",\"no\",\"no\",\"no\",\"yes\",\"no\",\"no\",\"no\",\"no\",\"no\",\"no\",\"no\",\"no\",\"no\",\"no\",\"yes\",\"no\",\"no\",\"no\",\"yes\",\"no\",\"no\",\"no\",\"no\",\"no\",\"no\",\"no\",\"no\",\"no\",\"no\",\"no\",\"no\",\"no\",\"no\",\"no\",\"no\",\"no\",\"no\",\"no\",\"no\",\"no\",\"no\",\"no\",\"no\",\"no\",\"yes\",\"no\",\"no\",\"no\",\"no\",\"no\",\"no\",\"no\",\"no\",\"no\",\"no\",\"no\",\"no\",\"no\",\"no\",\"no\",\"no\",\"no\",\"no\",\"no\",\"no\",\"no\",\"no\",\"no\",\"no\",\"no\",\"no\",\"no\",\"no\",\"no\",\"no\",\"no\",\"no\",\"yes\",\"no\",\"no\",\"no\",\"no\",\"no\",\"no\",\"no\",\"no\",\"no\",\"no\",\"no\",\"no\",\"no\",\"no\",\"no\",\"no\",\"no\",\"no\",\"no\",\"yes\",\"no\",\"no\",\"no\",\"no\",\"no\",\"no\",\"no\",\"no\",\"no\",\"no\",\"no\",\"no\",\"no\",\"no\",\"no\",\"yes\",\"no\",\"no\",\"no\",\"no\",\"no\",\"yes\",\"no\",\"no\",\"no\",\"no\",\"no\",\"no\",\"no\",\"no\",\"no\",\"no\",\"no\",\"no\",\"no\",\"no\",\"no\",\"no\",\"no\",\"no\",\"no\",\"no\",\"no\",\"no\",\"no\",\"no\",\"no\",\"no\",\"no\",\"no\",\"no\",\"no\",\"no\",\"no\",\"no\",\"no\",\"no\",\"no\",\"no\",\"no\",\"no\",\"no\",\"no\",\"no\",\"no\",\"no\",\"no\",\"no\",\"no\",\"no\",\"no\",\"no\",\"no\",\"no\",\"no\",\"no\",\"no\",\"no\",\"no\",\"no\",\"no\",\"no\",\"no\",\"no\",\"no\",\"no\",\"no\",\"no\",\"no\",\"no\",\"yes\",\"no\",\"no\",\"no\",\"no\",\"no\",\"no\",\"no\",\"no\",\"no\",\"no\",\"no\",\"no\",\"no\",\"no\",\"no\",\"no\",\"no\",\"no\",\"no\",\"no\",\"no\",\"no\",\"no\",\"no\",\"no\",\"no\",\"no\",\"no\",\"no\",\"no\",\"no\",\"no\",\"no\",\"no\",\"no\",\"no\",\"yes\",\"no\",\"no\",\"no\",\"no\",\"no\",\"no\",\"no\",\"no\",\"no\",\"yes\",\"no\",\"no\",\"no\",\"no\",\"no\",\"no\",\"no\",\"no\",\"no\",\"no\",\"no\",\"no\",\"no\",\"no\",\"no\",\"no\",\"no\",\"yes\",\"no\",\"no\",\"yes\",\"no\",\"no\",\"no\",\"no\",\"no\",\"no\",\"no\",\"no\",\"no\",\"no\",\"no\",\"no\",\"no\",\"no\",\"no\",\"no\",\"no\",\"no\",\"no\",\"no\",\"no\",\"no\",\"no\",\"no\",\"no\",\"no\",\"no\",\"no\",\"no\",\"no\",\"no\",\"no\",\"no\",\"no\",\"no\",\"no\",\"no\",\"no\",\"no\",\"no\",\"no\",\"no\",\"no\",\"no\",\"no\",\"no\",\"yes\",\"no\",\"yes\",\"no\",\"no\",\"no\",\"no\",\"no\",\"no\",\"no\",\"no\",\"no\",\"no\",\"no\",\"no\",\"no\",\"no\",\"no\",\"no\",\"no\",\"no\",\"no\",\"yes\",\"no\",\"no\",\"no\",\"no\",\"no\",\"no\",\"no\",\"no\",\"no\",\"no\",\"no\",\"no\",\"no\",\"no\",\"no\",\"no\",\"no\",\"yes\",\"no\",\"no\",\"no\",\"yes\",\"no\",\"no\",\"no\",\"no\",\"no\",\"no\",\"no\",\"no\",\"no\",\"no\",\"no\",\"no\",\"no\",\"no\",\"no\",\"no\",\"no\",\"no\",\"no\",\"no\",\"yes\",\"no\",\"no\",\"no\",\"no\",\"no\",\"no\",\"no\",\"no\",\"no\",\"no\",\"no\",\"no\",\"no\",\"no\",\"no\",\"no\",\"no\",\"no\",\"no\",\"no\",\"yes\",\"no\",\"no\",\"no\",\"yes\",\"yes\",\"no\",\"no\",\"no\",\"no\",\"no\",\"no\",\"no\",\"no\",\"no\",\"no\",\"no\",\"no\",\"no\",\"no\",\"no\",\"no\",\"no\",\"no\",\"no\",\"no\",\"yes\",\"no\",\"no\",\"no\",\"no\",\"no\",\"yes\",\"no\",\"no\",\"no\",\"no\",\"no\",\"no\",\"no\",\"no\",\"no\",\"no\",\"no\",\"no\",\"no\",\"no\",\"no\",\"no\",\"no\",\"no\",\"no\",\"no\",\"no\",\"no\",\"no\",\"no\",\"yes\",\"no\",\"no\",\"no\",\"yes\",\"no\",\"no\",\"yes\",\"no\",\"yes\",\"no\",\"no\",\"no\",\"no\",\"no\",\"yes\",\"no\",\"no\",\"no\",\"no\",\"no\",\"no\",\"no\",\"no\",\"no\",\"no\",\"no\",\"no\",\"no\",\"no\",\"no\",\"no\",\"no\",\"no\",\"yes\",\"no\",\"no\",\"no\",\"no\",\"no\",\"no\",\"no\",\"no\",\"no\",\"no\",\"no\",\"no\",\"no\",\"no\",\"no\",\"no\",\"no\",\"no\",\"no\",\"no\",\"no\",\"no\",\"no\",\"no\",\"no\",\"no\",\"no\",\"no\",\"no\",\"no\",\"no\",\"no\",\"no\",\"no\",\"no\",\"no\",\"no\",\"no\",\"no\",\"no\",\"no\",\"no\",\"no\",\"no\",\"yes\",\"no\",\"no\",\"no\",\"no\",\"no\",\"yes\",\"no\",\"no\",\"no\",\"no\",\"no\",\"no\",\"no\",\"no\",\"yes\",\"no\",\"yes\",\"no\",\"no\",\"no\",\"no\",\"no\",\"no\",\"no\",\"no\",\"no\",\"no\",\"no\",\"no\",\"no\",\"no\",\"no\",\"no\",\"no\",\"no\",\"no\",\"no\",\"no\",\"no\",\"no\",\"no\",\"no\",\"no\",\"no\",\"no\",\"no\",\"no\",\"no\",\"no\",\"no\",\"no\",\"no\",\"no\",\"no\",\"no\",\"no\",\"no\",\"no\",\"yes\",\"no\",\"no\",\"no\",\"no\",\"no\",\"no\",\"no\",\"no\",\"no\",\"no\",\"no\",\"no\",\"no\",\"no\",\"no\",\"yes\",\"no\",\"no\",\"no\",\"no\",\"no\",\"no\",\"no\",\"no\",\"no\",\"no\",\"no\",\"no\",\"no\",\"no\",\"no\",\"no\",\"no\",\"no\",\"no\",\"no\",\"no\",\"no\",\"no\",\"no\",\"no\",\"no\",\"no\",\"no\",\"no\",\"no\",\"no\",\"no\",\"no\",\"no\",\"no\",\"yes\",\"no\",\"no\",\"no\",\"no\",\"no\",\"no\",\"no\",\"no\",\"yes\",\"no\",\"no\",\"no\",\"no\",\"no\",\"yes\",\"no\",\"no\",\"no\",\"no\",\"no\",\"no\",\"no\",\"no\",\"no\",\"no\",\"no\",\"no\",\"no\",\"no\",\"no\",\"yes\",\"no\",\"no\",\"no\",\"no\",\"no\",\"no\",\"no\",\"no\",\"no\",\"no\",\"no\",\"no\",\"no\",\"no\",\"no\",\"no\",\"no\",\"no\",\"yes\",\"no\",\"no\",\"no\",\"no\",\"no\",\"yes\",\"no\",\"no\",\"no\",\"no\",\"no\",\"no\",\"no\",\"no\",\"no\",\"no\",\"no\",\"no\",\"no\",\"no\",\"no\",\"no\",\"no\",\"no\",\"no\",\"no\",\"no\",\"no\",\"no\",\"no\",\"no\",\"no\",\"no\",\"no\",\"no\",\"no\",\"no\",\"no\",\"no\",\"no\",\"no\",\"no\",\"no\",\"no\",\"no\",\"no\",\"no\",\"no\",\"no\",\"no\",\"yes\",\"no\",\"no\",\"no\",\"no\",\"no\",\"no\",\"yes\",\"no\",\"no\",\"no\",\"no\",\"no\",\"yes\",\"no\",\"yes\",\"no\",\"no\",\"no\",\"no\",\"no\",\"no\",\"no\",\"no\",\"no\",\"yes\",\"no\",\"no\",\"no\",\"no\",\"no\",\"no\",\"no\",\"no\",\"no\",\"no\",\"no\",\"no\",\"no\",\"no\",\"no\",\"no\",\"no\",\"no\",\"no\",\"no\",\"no\",\"no\",\"no\",\"no\",\"no\",\"no\",\"no\",\"no\",\"no\",\"no\",\"no\",\"no\",\"no\",\"no\",\"no\",\"no\",\"no\",\"no\",\"yes\",\"no\",\"no\",\"no\",\"no\",\"no\",\"no\",\"no\",\"no\",\"no\",\"no\",\"no\",\"no\",\"no\",\"no\",\"no\",\"no\",\"yes\",\"no\",\"yes\",\"no\",\"yes\",\"no\",\"no\",\"no\",\"no\",\"no\",\"no\",\"no\",\"no\",\"no\",\"no\",\"no\",\"no\",\"no\",\"no\",\"no\",\"no\",\"no\",\"no\",\"no\",\"no\",\"no\",\"yes\",\"no\",\"no\",\"no\",\"no\",\"no\",\"no\",\"no\",\"no\",\"no\",\"no\",\"no\",\"yes\",\"no\",\"no\",\"no\",\"no\",\"no\",\"no\",\"no\",\"no\",\"no\",\"no\",\"no\",\"no\",\"no\",\"no\",\"yes\",\"no\",\"no\",\"yes\",\"no\",\"no\",\"no\",\"no\",\"no\",\"no\",\"no\",\"no\",\"no\",\"no\",\"no\",\"no\",\"no\",\"no\",\"no\",\"no\",\"no\",\"no\",\"no\",\"no\",\"no\",\"no\",\"no\",\"no\",\"no\",\"no\",\"no\",\"no\",\"no\",\"no\",\"no\",\"no\",\"no\",\"no\",\"no\",\"no\",\"no\",\"no\",\"no\",\"no\",\"no\",\"yes\",\"no\",\"no\",\"no\",\"yes\",\"no\",\"no\",\"no\",\"no\",\"yes\",\"no\",\"no\",\"no\",\"no\",\"no\",\"no\",\"no\",\"no\",\"no\",\"no\",\"no\",\"no\",\"no\",\"no\",\"no\",\"no\",\"no\",\"no\",\"no\",\"no\",\"no\",\"no\",\"no\",\"no\",\"no\",\"no\",\"no\",\"no\",\"no\",\"no\",\"no\",\"no\",\"no\",\"no\",\"yes\",\"no\",\"no\",\"no\",\"no\",\"no\",\"no\",\"no\",\"no\",\"no\",\"no\",\"no\",\"no\",\"no\",\"no\",\"no\",\"no\",\"no\",\"yes\",\"no\",\"no\",\"no\",\"no\",\"no\",\"no\",\"no\",\"no\",\"no\",\"no\",\"no\",\"no\",\"no\",\"no\",\"no\",\"no\",\"no\",\"no\",\"no\",\"no\",\"no\",\"no\",\"no\",\"no\",\"no\",\"no\",\"no\",\"no\",\"no\",\"no\",\"no\",\"no\",\"no\",\"no\",\"no\",\"no\",\"no\",\"no\",\"no\",\"no\",\"no\",\"yes\",\"no\",\"no\",\"no\",\"no\",\"no\",\"no\",\"no\",\"yes\",\"no\",\"no\",\"yes\",\"yes\",\"no\",\"no\",\"no\",\"no\",\"no\",\"no\",\"no\",\"yes\",\"no\",\"no\",\"no\",\"no\",\"no\",\"no\",\"no\",\"no\",\"no\",\"no\",\"no\",\"no\",\"no\",\"no\",\"no\",\"no\",\"no\",\"no\",\"no\",\"yes\",\"no\",\"no\",\"no\",\"no\",\"no\",\"no\",\"no\",\"no\",\"no\",\"no\",\"no\",\"no\",\"no\",\"no\",\"no\",\"no\",\"no\",\"no\",\"no\",\"no\",\"no\",\"no\",\"no\",\"no\",\"no\",\"no\",\"no\",\"no\",\"no\",\"no\",\"no\",\"no\",\"no\",\"no\",\"no\",\"no\",\"no\",\"no\",\"no\",\"no\",\"yes\",\"no\",\"no\",\"no\",\"no\",\"yes\",\"no\",\"no\",\"no\",\"no\",\"no\",\"no\",\"no\",\"no\",\"no\",\"no\",\"no\",\"no\",\"no\",\"yes\",\"no\",\"no\",\"no\",\"no\",\"no\",\"no\",\"no\",\"no\",\"no\",\"no\",\"no\",\"no\",\"no\",\"no\",\"no\",\"no\",\"no\",\"no\",\"no\",\"no\",\"no\",\"no\",\"no\",\"no\",\"no\",\"no\",\"no\",\"no\",\"no\",\"no\",\"no\",\"no\",\"no\",\"no\",\"no\",\"no\",\"no\",\"no\",\"no\",\"no\",\"no\",\"no\",\"no\",\"no\",\"no\",\"no\",\"no\",\"no\",\"no\",\"no\",\"no\",\"yes\",\"no\",\"no\",\"no\",\"no\",\"no\",\"no\",\"no\",\"no\",\"no\",\"no\",\"no\",\"no\",\"yes\",\"no\",\"no\",\"no\",\"no\",\"no\",\"no\",\"no\",\"no\",\"no\",\"no\",\"yes\",\"no\",\"no\",\"no\",\"no\",\"no\",\"no\",\"yes\",\"no\",\"no\",\"no\",\"yes\",\"no\",\"no\",\"no\",\"no\",\"no\",\"no\",\"no\",\"no\",\"no\",\"no\",\"no\",\"no\",\"no\",\"no\",\"no\",\"no\",\"no\",\"no\",\"no\",\"no\",\"no\",\"no\",\"yes\",\"no\",\"no\",\"no\",\"no\",\"no\",\"no\",\"no\",\"no\",\"no\",\"no\",\"no\",\"no\",\"no\",\"no\",\"yes\",\"no\",\"no\",\"no\",\"no\",\"no\",\"yes\",\"no\",\"no\",\"no\",\"yes\",\"no\",\"no\",\"no\",\"no\",\"no\",\"no\",\"no\",\"no\",\"no\",\"no\",\"no\",\"no\",\"no\",\"no\",\"no\",\"no\",\"no\",\"no\",\"yes\",\"yes\",\"no\",\"no\",\"no\",\"yes\",\"no\",\"no\",\"no\",\"no\",\"no\",\"no\",\"no\",\"no\",\"no\",\"no\",\"no\",\"no\",\"no\",\"no\",\"no\",\"no\",\"no\",\"no\",\"no\",\"no\",\"no\",\"no\",\"no\",\"yes\",\"no\",\"no\",\"no\",\"no\",\"no\",\"no\",\"no\",\"no\",\"no\",\"no\",\"no\",\"no\",\"no\",\"no\",\"no\",\"no\",\"no\",\"no\",\"no\",\"no\",\"no\",\"no\",\"no\",\"no\",\"no\",\"no\",\"no\",\"no\",\"no\",\"no\",\"yes\",\"no\",\"no\",\"no\",\"no\",\"no\",\"no\",\"no\",\"no\",\"no\",\"no\",\"no\",\"no\",\"no\",\"no\",\"no\",\"no\",\"no\",\"no\",\"no\",\"no\",\"no\",\"no\",\"no\",\"no\",\"no\",\"no\",\"no\",\"no\",\"no\",\"no\",\"no\",\"no\",\"no\",\"no\",\"no\",\"no\",\"no\",\"no\",\"no\",\"no\",\"no\",\"yes\",\"no\",\"no\",\"no\",\"no\",\"yes\",\"no\",\"no\",\"no\",\"no\",\"yes\",\"no\",\"no\",\"no\",\"no\",\"no\",\"no\",\"no\",\"no\",\"no\",\"no\",\"no\",\"no\",\"no\",\"no\",\"no\",\"no\",\"no\",\"no\",\"no\",\"no\",\"no\",\"no\",\"no\",\"no\",\"no\",\"no\",\"no\",\"no\",\"no\",\"no\",\"no\",\"no\",\"no\",\"no\",\"yes\",\"yes\",\"no\",\"no\",\"no\",\"no\",\"no\",\"no\",\"no\",\"no\",\"no\",\"no\",\"no\",\"yes\"],\"legendgroup\":\"\",\"name\":\"\",\"showlegend\":true,\"type\":\"pie\"}],                        {\"legend\":{\"tracegroupgap\":0},\"template\":{\"data\":{\"bar\":[{\"error_x\":{\"color\":\"#2a3f5f\"},\"error_y\":{\"color\":\"#2a3f5f\"},\"marker\":{\"line\":{\"color\":\"#E5ECF6\",\"width\":0.5},\"pattern\":{\"fillmode\":\"overlay\",\"size\":10,\"solidity\":0.2}},\"type\":\"bar\"}],\"barpolar\":[{\"marker\":{\"line\":{\"color\":\"#E5ECF6\",\"width\":0.5},\"pattern\":{\"fillmode\":\"overlay\",\"size\":10,\"solidity\":0.2}},\"type\":\"barpolar\"}],\"carpet\":[{\"aaxis\":{\"endlinecolor\":\"#2a3f5f\",\"gridcolor\":\"white\",\"linecolor\":\"white\",\"minorgridcolor\":\"white\",\"startlinecolor\":\"#2a3f5f\"},\"baxis\":{\"endlinecolor\":\"#2a3f5f\",\"gridcolor\":\"white\",\"linecolor\":\"white\",\"minorgridcolor\":\"white\",\"startlinecolor\":\"#2a3f5f\"},\"type\":\"carpet\"}],\"choropleth\":[{\"colorbar\":{\"outlinewidth\":0,\"ticks\":\"\"},\"type\":\"choropleth\"}],\"contour\":[{\"colorbar\":{\"outlinewidth\":0,\"ticks\":\"\"},\"colorscale\":[[0.0,\"#0d0887\"],[0.1111111111111111,\"#46039f\"],[0.2222222222222222,\"#7201a8\"],[0.3333333333333333,\"#9c179e\"],[0.4444444444444444,\"#bd3786\"],[0.5555555555555556,\"#d8576b\"],[0.6666666666666666,\"#ed7953\"],[0.7777777777777778,\"#fb9f3a\"],[0.8888888888888888,\"#fdca26\"],[1.0,\"#f0f921\"]],\"type\":\"contour\"}],\"contourcarpet\":[{\"colorbar\":{\"outlinewidth\":0,\"ticks\":\"\"},\"type\":\"contourcarpet\"}],\"heatmap\":[{\"colorbar\":{\"outlinewidth\":0,\"ticks\":\"\"},\"colorscale\":[[0.0,\"#0d0887\"],[0.1111111111111111,\"#46039f\"],[0.2222222222222222,\"#7201a8\"],[0.3333333333333333,\"#9c179e\"],[0.4444444444444444,\"#bd3786\"],[0.5555555555555556,\"#d8576b\"],[0.6666666666666666,\"#ed7953\"],[0.7777777777777778,\"#fb9f3a\"],[0.8888888888888888,\"#fdca26\"],[1.0,\"#f0f921\"]],\"type\":\"heatmap\"}],\"heatmapgl\":[{\"colorbar\":{\"outlinewidth\":0,\"ticks\":\"\"},\"colorscale\":[[0.0,\"#0d0887\"],[0.1111111111111111,\"#46039f\"],[0.2222222222222222,\"#7201a8\"],[0.3333333333333333,\"#9c179e\"],[0.4444444444444444,\"#bd3786\"],[0.5555555555555556,\"#d8576b\"],[0.6666666666666666,\"#ed7953\"],[0.7777777777777778,\"#fb9f3a\"],[0.8888888888888888,\"#fdca26\"],[1.0,\"#f0f921\"]],\"type\":\"heatmapgl\"}],\"histogram\":[{\"marker\":{\"pattern\":{\"fillmode\":\"overlay\",\"size\":10,\"solidity\":0.2}},\"type\":\"histogram\"}],\"histogram2d\":[{\"colorbar\":{\"outlinewidth\":0,\"ticks\":\"\"},\"colorscale\":[[0.0,\"#0d0887\"],[0.1111111111111111,\"#46039f\"],[0.2222222222222222,\"#7201a8\"],[0.3333333333333333,\"#9c179e\"],[0.4444444444444444,\"#bd3786\"],[0.5555555555555556,\"#d8576b\"],[0.6666666666666666,\"#ed7953\"],[0.7777777777777778,\"#fb9f3a\"],[0.8888888888888888,\"#fdca26\"],[1.0,\"#f0f921\"]],\"type\":\"histogram2d\"}],\"histogram2dcontour\":[{\"colorbar\":{\"outlinewidth\":0,\"ticks\":\"\"},\"colorscale\":[[0.0,\"#0d0887\"],[0.1111111111111111,\"#46039f\"],[0.2222222222222222,\"#7201a8\"],[0.3333333333333333,\"#9c179e\"],[0.4444444444444444,\"#bd3786\"],[0.5555555555555556,\"#d8576b\"],[0.6666666666666666,\"#ed7953\"],[0.7777777777777778,\"#fb9f3a\"],[0.8888888888888888,\"#fdca26\"],[1.0,\"#f0f921\"]],\"type\":\"histogram2dcontour\"}],\"mesh3d\":[{\"colorbar\":{\"outlinewidth\":0,\"ticks\":\"\"},\"type\":\"mesh3d\"}],\"parcoords\":[{\"line\":{\"colorbar\":{\"outlinewidth\":0,\"ticks\":\"\"}},\"type\":\"parcoords\"}],\"pie\":[{\"automargin\":true,\"type\":\"pie\"}],\"scatter\":[{\"marker\":{\"colorbar\":{\"outlinewidth\":0,\"ticks\":\"\"}},\"type\":\"scatter\"}],\"scatter3d\":[{\"line\":{\"colorbar\":{\"outlinewidth\":0,\"ticks\":\"\"}},\"marker\":{\"colorbar\":{\"outlinewidth\":0,\"ticks\":\"\"}},\"type\":\"scatter3d\"}],\"scattercarpet\":[{\"marker\":{\"colorbar\":{\"outlinewidth\":0,\"ticks\":\"\"}},\"type\":\"scattercarpet\"}],\"scattergeo\":[{\"marker\":{\"colorbar\":{\"outlinewidth\":0,\"ticks\":\"\"}},\"type\":\"scattergeo\"}],\"scattergl\":[{\"marker\":{\"colorbar\":{\"outlinewidth\":0,\"ticks\":\"\"}},\"type\":\"scattergl\"}],\"scattermapbox\":[{\"marker\":{\"colorbar\":{\"outlinewidth\":0,\"ticks\":\"\"}},\"type\":\"scattermapbox\"}],\"scatterpolar\":[{\"marker\":{\"colorbar\":{\"outlinewidth\":0,\"ticks\":\"\"}},\"type\":\"scatterpolar\"}],\"scatterpolargl\":[{\"marker\":{\"colorbar\":{\"outlinewidth\":0,\"ticks\":\"\"}},\"type\":\"scatterpolargl\"}],\"scatterternary\":[{\"marker\":{\"colorbar\":{\"outlinewidth\":0,\"ticks\":\"\"}},\"type\":\"scatterternary\"}],\"surface\":[{\"colorbar\":{\"outlinewidth\":0,\"ticks\":\"\"},\"colorscale\":[[0.0,\"#0d0887\"],[0.1111111111111111,\"#46039f\"],[0.2222222222222222,\"#7201a8\"],[0.3333333333333333,\"#9c179e\"],[0.4444444444444444,\"#bd3786\"],[0.5555555555555556,\"#d8576b\"],[0.6666666666666666,\"#ed7953\"],[0.7777777777777778,\"#fb9f3a\"],[0.8888888888888888,\"#fdca26\"],[1.0,\"#f0f921\"]],\"type\":\"surface\"}],\"table\":[{\"cells\":{\"fill\":{\"color\":\"#EBF0F8\"},\"line\":{\"color\":\"white\"}},\"header\":{\"fill\":{\"color\":\"#C8D4E3\"},\"line\":{\"color\":\"white\"}},\"type\":\"table\"}]},\"layout\":{\"annotationdefaults\":{\"arrowcolor\":\"#2a3f5f\",\"arrowhead\":0,\"arrowwidth\":1},\"autotypenumbers\":\"strict\",\"coloraxis\":{\"colorbar\":{\"outlinewidth\":0,\"ticks\":\"\"}},\"colorscale\":{\"diverging\":[[0,\"#8e0152\"],[0.1,\"#c51b7d\"],[0.2,\"#de77ae\"],[0.3,\"#f1b6da\"],[0.4,\"#fde0ef\"],[0.5,\"#f7f7f7\"],[0.6,\"#e6f5d0\"],[0.7,\"#b8e186\"],[0.8,\"#7fbc41\"],[0.9,\"#4d9221\"],[1,\"#276419\"]],\"sequential\":[[0.0,\"#0d0887\"],[0.1111111111111111,\"#46039f\"],[0.2222222222222222,\"#7201a8\"],[0.3333333333333333,\"#9c179e\"],[0.4444444444444444,\"#bd3786\"],[0.5555555555555556,\"#d8576b\"],[0.6666666666666666,\"#ed7953\"],[0.7777777777777778,\"#fb9f3a\"],[0.8888888888888888,\"#fdca26\"],[1.0,\"#f0f921\"]],\"sequentialminus\":[[0.0,\"#0d0887\"],[0.1111111111111111,\"#46039f\"],[0.2222222222222222,\"#7201a8\"],[0.3333333333333333,\"#9c179e\"],[0.4444444444444444,\"#bd3786\"],[0.5555555555555556,\"#d8576b\"],[0.6666666666666666,\"#ed7953\"],[0.7777777777777778,\"#fb9f3a\"],[0.8888888888888888,\"#fdca26\"],[1.0,\"#f0f921\"]]},\"colorway\":[\"#636efa\",\"#EF553B\",\"#00cc96\",\"#ab63fa\",\"#FFA15A\",\"#19d3f3\",\"#FF6692\",\"#B6E880\",\"#FF97FF\",\"#FECB52\"],\"font\":{\"color\":\"#2a3f5f\"},\"geo\":{\"bgcolor\":\"white\",\"lakecolor\":\"white\",\"landcolor\":\"#E5ECF6\",\"showlakes\":true,\"showland\":true,\"subunitcolor\":\"white\"},\"hoverlabel\":{\"align\":\"left\"},\"hovermode\":\"closest\",\"mapbox\":{\"style\":\"light\"},\"paper_bgcolor\":\"white\",\"plot_bgcolor\":\"#E5ECF6\",\"polar\":{\"angularaxis\":{\"gridcolor\":\"white\",\"linecolor\":\"white\",\"ticks\":\"\"},\"bgcolor\":\"#E5ECF6\",\"radialaxis\":{\"gridcolor\":\"white\",\"linecolor\":\"white\",\"ticks\":\"\"}},\"scene\":{\"xaxis\":{\"backgroundcolor\":\"#E5ECF6\",\"gridcolor\":\"white\",\"gridwidth\":2,\"linecolor\":\"white\",\"showbackground\":true,\"ticks\":\"\",\"zerolinecolor\":\"white\"},\"yaxis\":{\"backgroundcolor\":\"#E5ECF6\",\"gridcolor\":\"white\",\"gridwidth\":2,\"linecolor\":\"white\",\"showbackground\":true,\"ticks\":\"\",\"zerolinecolor\":\"white\"},\"zaxis\":{\"backgroundcolor\":\"#E5ECF6\",\"gridcolor\":\"white\",\"gridwidth\":2,\"linecolor\":\"white\",\"showbackground\":true,\"ticks\":\"\",\"zerolinecolor\":\"white\"}},\"shapedefaults\":{\"line\":{\"color\":\"#2a3f5f\"}},\"ternary\":{\"aaxis\":{\"gridcolor\":\"white\",\"linecolor\":\"white\",\"ticks\":\"\"},\"baxis\":{\"gridcolor\":\"white\",\"linecolor\":\"white\",\"ticks\":\"\"},\"bgcolor\":\"#E5ECF6\",\"caxis\":{\"gridcolor\":\"white\",\"linecolor\":\"white\",\"ticks\":\"\"}},\"title\":{\"x\":0.05},\"xaxis\":{\"automargin\":true,\"gridcolor\":\"white\",\"linecolor\":\"white\",\"ticks\":\"\",\"title\":{\"standoff\":15},\"zerolinecolor\":\"white\",\"zerolinewidth\":2},\"yaxis\":{\"automargin\":true,\"gridcolor\":\"white\",\"linecolor\":\"white\",\"ticks\":\"\",\"title\":{\"standoff\":15},\"zerolinecolor\":\"white\",\"zerolinewidth\":2}}},\"title\":{\"text\":\"Payment on time - International Plan\"}},                        {\"responsive\": true}                    ).then(function(){\n",
       "                            \n",
       "var gd = document.getElementById('d6402101-e201-4614-b40d-3fb50913ec4b');\n",
       "var x = new MutationObserver(function (mutations, observer) {{\n",
       "        var display = window.getComputedStyle(gd).display;\n",
       "        if (!display || display === 'none') {{\n",
       "            console.log([gd, 'removed!']);\n",
       "            Plotly.purge(gd);\n",
       "            observer.disconnect();\n",
       "        }}\n",
       "}});\n",
       "\n",
       "// Listen for the removal of the full notebook cells\n",
       "var notebookContainer = gd.closest('#notebook-container');\n",
       "if (notebookContainer) {{\n",
       "    x.observe(notebookContainer, {childList: true});\n",
       "}}\n",
       "\n",
       "// Listen for the clearing of the current output cell\n",
       "var outputEl = gd.closest('.output');\n",
       "if (outputEl) {{\n",
       "    x.observe(outputEl, {childList: true});\n",
       "}}\n",
       "\n",
       "                        })                };                });            </script>        </div>"
      ]
     },
     "metadata": {},
     "output_type": "display_data"
    }
   ],
   "source": [
    "# y.head(20)\n",
    "fig = px.pie(df[df['payment_delay'] == 'yes'], names='international_plan', title='Payment Delay - International Plan')\n",
    "fig.show()\n",
    "\n",
    "fig = px.pie(df[df['payment_delay'] == 'no'], names='international_plan', title='Payment on time - International Plan')\n",
    "fig.show()\n"
   ]
  },
  {
   "cell_type": "markdown",
   "id": "bdec3f0e",
   "metadata": {},
   "source": [
    "It seems like most of the customers that did not register payment delays didn't have a international plan subscription. However, the majority of those who did not pay on time didn't subscribe to this plan as well, so we can say that this feature is impure. "
   ]
  },
  {
   "cell_type": "code",
   "execution_count": 12,
   "id": "ab471b38",
   "metadata": {},
   "outputs": [
    {
     "data": {
      "application/vnd.plotly.v1+json": {
       "config": {
        "plotlyServerURL": "https://plot.ly"
       },
       "data": [
        {
         "domain": {
          "x": [
           0,
           1
          ],
          "y": [
           0,
           1
          ]
         },
         "hovertemplate": "voice_mail_plan=%{label}<extra></extra>",
         "labels": [
          "no",
          "no",
          "yes",
          "no",
          "no",
          "no",
          "no",
          "yes",
          "no",
          "no",
          "no",
          "no",
          "no",
          "yes",
          "no",
          "no",
          "yes",
          "no",
          "no",
          "no",
          "yes",
          "no",
          "no",
          "no",
          "no",
          "no",
          "yes",
          "no",
          "yes",
          "no",
          "no",
          "yes",
          "no",
          "yes",
          "no",
          "no",
          "no",
          "no",
          "no",
          "no",
          "no",
          "no",
          "no",
          "no",
          "no",
          "no",
          "no",
          "no",
          "no",
          "no",
          "no",
          "no",
          "no",
          "no",
          "no",
          "yes",
          "yes",
          "no",
          "no",
          "no",
          "no",
          "no",
          "no",
          "no",
          "no",
          "no",
          "no",
          "no",
          "no",
          "no",
          "no",
          "no",
          "no",
          "no",
          "no",
          "no",
          "yes",
          "no",
          "no",
          "yes",
          "no",
          "no",
          "no",
          "no",
          "no",
          "no",
          "no",
          "no",
          "no",
          "no",
          "no",
          "no",
          "no",
          "no",
          "no",
          "no",
          "no",
          "no",
          "no",
          "no",
          "no",
          "yes",
          "no",
          "no",
          "no",
          "no",
          "no",
          "yes",
          "no",
          "no",
          "no",
          "no",
          "yes",
          "no",
          "no",
          "no",
          "no",
          "no",
          "yes",
          "no",
          "no",
          "yes",
          "yes",
          "no",
          "yes",
          "no",
          "no",
          "no",
          "no",
          "no",
          "no",
          "yes",
          "no",
          "no",
          "no",
          "no",
          "no",
          "no",
          "no",
          "no",
          "no",
          "yes",
          "no",
          "no",
          "no",
          "no",
          "yes",
          "no",
          "no",
          "no",
          "no",
          "no",
          "yes",
          "yes",
          "yes",
          "no",
          "yes",
          "no",
          "no",
          "no",
          "no",
          "no",
          "no",
          "no",
          "no",
          "no",
          "yes",
          "no",
          "no",
          "yes",
          "no",
          "no",
          "no",
          "no",
          "no",
          "no",
          "no",
          "no",
          "no",
          "no",
          "no",
          "no",
          "no",
          "no",
          "no",
          "no",
          "no",
          "yes",
          "no",
          "no",
          "no",
          "no",
          "no",
          "no",
          "yes",
          "no",
          "no",
          "no",
          "yes",
          "no",
          "no",
          "no",
          "no",
          "no",
          "no",
          "no",
          "no",
          "no",
          "no",
          "no",
          "no",
          "yes",
          "no",
          "no",
          "no",
          "no",
          "yes",
          "no",
          "no",
          "yes",
          "no",
          "no",
          "no",
          "yes",
          "no",
          "no",
          "no",
          "no",
          "no",
          "no",
          "no",
          "no",
          "no",
          "no",
          "no",
          "yes",
          "no",
          "no",
          "no",
          "no",
          "no",
          "no",
          "yes",
          "yes",
          "no",
          "no",
          "no",
          "no",
          "no",
          "no",
          "no",
          "no",
          "no",
          "yes",
          "no",
          "no",
          "no",
          "no",
          "no",
          "no",
          "no",
          "no",
          "no",
          "no",
          "no",
          "no",
          "yes",
          "no",
          "no",
          "no",
          "yes",
          "no",
          "no",
          "no",
          "yes",
          "no",
          "no",
          "no",
          "no",
          "no",
          "no",
          "no",
          "no",
          "no",
          "no",
          "no",
          "no",
          "no",
          "no",
          "no",
          "no",
          "no",
          "no",
          "no",
          "no",
          "no",
          "no",
          "no",
          "yes",
          "yes",
          "no",
          "no",
          "no",
          "no",
          "no",
          "no",
          "no",
          "no",
          "yes",
          "no",
          "no",
          "yes",
          "yes",
          "no",
          "no",
          "no",
          "yes",
          "no",
          "no",
          "no",
          "no",
          "no",
          "no",
          "no",
          "no",
          "no",
          "no",
          "no",
          "no",
          "yes",
          "no",
          "yes",
          "no",
          "no",
          "no",
          "no",
          "no",
          "no",
          "no",
          "no",
          "no",
          "no",
          "no",
          "no",
          "no",
          "no",
          "no",
          "yes",
          "no",
          "no",
          "no",
          "no",
          "no",
          "no",
          "no",
          "no",
          "no",
          "no",
          "no",
          "yes",
          "yes",
          "no",
          "no",
          "no",
          "no",
          "no",
          "no",
          "yes",
          "no",
          "no",
          "no",
          "no",
          "no",
          "no",
          "no",
          "no",
          "no",
          "no",
          "no",
          "no",
          "no",
          "no",
          "no",
          "no",
          "no",
          "no",
          "no",
          "no",
          "no",
          "no",
          "no",
          "no",
          "no",
          "no",
          "no",
          "no",
          "no",
          "no",
          "yes",
          "yes",
          "no",
          "no",
          "yes",
          "no",
          "yes",
          "no",
          "yes",
          "no",
          "yes",
          "no",
          "no",
          "yes",
          "no"
         ],
         "legendgroup": "",
         "name": "",
         "showlegend": true,
         "type": "pie"
        }
       ],
       "layout": {
        "legend": {
         "tracegroupgap": 0
        },
        "template": {
         "data": {
          "bar": [
           {
            "error_x": {
             "color": "#2a3f5f"
            },
            "error_y": {
             "color": "#2a3f5f"
            },
            "marker": {
             "line": {
              "color": "#E5ECF6",
              "width": 0.5
             },
             "pattern": {
              "fillmode": "overlay",
              "size": 10,
              "solidity": 0.2
             }
            },
            "type": "bar"
           }
          ],
          "barpolar": [
           {
            "marker": {
             "line": {
              "color": "#E5ECF6",
              "width": 0.5
             },
             "pattern": {
              "fillmode": "overlay",
              "size": 10,
              "solidity": 0.2
             }
            },
            "type": "barpolar"
           }
          ],
          "carpet": [
           {
            "aaxis": {
             "endlinecolor": "#2a3f5f",
             "gridcolor": "white",
             "linecolor": "white",
             "minorgridcolor": "white",
             "startlinecolor": "#2a3f5f"
            },
            "baxis": {
             "endlinecolor": "#2a3f5f",
             "gridcolor": "white",
             "linecolor": "white",
             "minorgridcolor": "white",
             "startlinecolor": "#2a3f5f"
            },
            "type": "carpet"
           }
          ],
          "choropleth": [
           {
            "colorbar": {
             "outlinewidth": 0,
             "ticks": ""
            },
            "type": "choropleth"
           }
          ],
          "contour": [
           {
            "colorbar": {
             "outlinewidth": 0,
             "ticks": ""
            },
            "colorscale": [
             [
              0,
              "#0d0887"
             ],
             [
              0.1111111111111111,
              "#46039f"
             ],
             [
              0.2222222222222222,
              "#7201a8"
             ],
             [
              0.3333333333333333,
              "#9c179e"
             ],
             [
              0.4444444444444444,
              "#bd3786"
             ],
             [
              0.5555555555555556,
              "#d8576b"
             ],
             [
              0.6666666666666666,
              "#ed7953"
             ],
             [
              0.7777777777777778,
              "#fb9f3a"
             ],
             [
              0.8888888888888888,
              "#fdca26"
             ],
             [
              1,
              "#f0f921"
             ]
            ],
            "type": "contour"
           }
          ],
          "contourcarpet": [
           {
            "colorbar": {
             "outlinewidth": 0,
             "ticks": ""
            },
            "type": "contourcarpet"
           }
          ],
          "heatmap": [
           {
            "colorbar": {
             "outlinewidth": 0,
             "ticks": ""
            },
            "colorscale": [
             [
              0,
              "#0d0887"
             ],
             [
              0.1111111111111111,
              "#46039f"
             ],
             [
              0.2222222222222222,
              "#7201a8"
             ],
             [
              0.3333333333333333,
              "#9c179e"
             ],
             [
              0.4444444444444444,
              "#bd3786"
             ],
             [
              0.5555555555555556,
              "#d8576b"
             ],
             [
              0.6666666666666666,
              "#ed7953"
             ],
             [
              0.7777777777777778,
              "#fb9f3a"
             ],
             [
              0.8888888888888888,
              "#fdca26"
             ],
             [
              1,
              "#f0f921"
             ]
            ],
            "type": "heatmap"
           }
          ],
          "heatmapgl": [
           {
            "colorbar": {
             "outlinewidth": 0,
             "ticks": ""
            },
            "colorscale": [
             [
              0,
              "#0d0887"
             ],
             [
              0.1111111111111111,
              "#46039f"
             ],
             [
              0.2222222222222222,
              "#7201a8"
             ],
             [
              0.3333333333333333,
              "#9c179e"
             ],
             [
              0.4444444444444444,
              "#bd3786"
             ],
             [
              0.5555555555555556,
              "#d8576b"
             ],
             [
              0.6666666666666666,
              "#ed7953"
             ],
             [
              0.7777777777777778,
              "#fb9f3a"
             ],
             [
              0.8888888888888888,
              "#fdca26"
             ],
             [
              1,
              "#f0f921"
             ]
            ],
            "type": "heatmapgl"
           }
          ],
          "histogram": [
           {
            "marker": {
             "pattern": {
              "fillmode": "overlay",
              "size": 10,
              "solidity": 0.2
             }
            },
            "type": "histogram"
           }
          ],
          "histogram2d": [
           {
            "colorbar": {
             "outlinewidth": 0,
             "ticks": ""
            },
            "colorscale": [
             [
              0,
              "#0d0887"
             ],
             [
              0.1111111111111111,
              "#46039f"
             ],
             [
              0.2222222222222222,
              "#7201a8"
             ],
             [
              0.3333333333333333,
              "#9c179e"
             ],
             [
              0.4444444444444444,
              "#bd3786"
             ],
             [
              0.5555555555555556,
              "#d8576b"
             ],
             [
              0.6666666666666666,
              "#ed7953"
             ],
             [
              0.7777777777777778,
              "#fb9f3a"
             ],
             [
              0.8888888888888888,
              "#fdca26"
             ],
             [
              1,
              "#f0f921"
             ]
            ],
            "type": "histogram2d"
           }
          ],
          "histogram2dcontour": [
           {
            "colorbar": {
             "outlinewidth": 0,
             "ticks": ""
            },
            "colorscale": [
             [
              0,
              "#0d0887"
             ],
             [
              0.1111111111111111,
              "#46039f"
             ],
             [
              0.2222222222222222,
              "#7201a8"
             ],
             [
              0.3333333333333333,
              "#9c179e"
             ],
             [
              0.4444444444444444,
              "#bd3786"
             ],
             [
              0.5555555555555556,
              "#d8576b"
             ],
             [
              0.6666666666666666,
              "#ed7953"
             ],
             [
              0.7777777777777778,
              "#fb9f3a"
             ],
             [
              0.8888888888888888,
              "#fdca26"
             ],
             [
              1,
              "#f0f921"
             ]
            ],
            "type": "histogram2dcontour"
           }
          ],
          "mesh3d": [
           {
            "colorbar": {
             "outlinewidth": 0,
             "ticks": ""
            },
            "type": "mesh3d"
           }
          ],
          "parcoords": [
           {
            "line": {
             "colorbar": {
              "outlinewidth": 0,
              "ticks": ""
             }
            },
            "type": "parcoords"
           }
          ],
          "pie": [
           {
            "automargin": true,
            "type": "pie"
           }
          ],
          "scatter": [
           {
            "marker": {
             "colorbar": {
              "outlinewidth": 0,
              "ticks": ""
             }
            },
            "type": "scatter"
           }
          ],
          "scatter3d": [
           {
            "line": {
             "colorbar": {
              "outlinewidth": 0,
              "ticks": ""
             }
            },
            "marker": {
             "colorbar": {
              "outlinewidth": 0,
              "ticks": ""
             }
            },
            "type": "scatter3d"
           }
          ],
          "scattercarpet": [
           {
            "marker": {
             "colorbar": {
              "outlinewidth": 0,
              "ticks": ""
             }
            },
            "type": "scattercarpet"
           }
          ],
          "scattergeo": [
           {
            "marker": {
             "colorbar": {
              "outlinewidth": 0,
              "ticks": ""
             }
            },
            "type": "scattergeo"
           }
          ],
          "scattergl": [
           {
            "marker": {
             "colorbar": {
              "outlinewidth": 0,
              "ticks": ""
             }
            },
            "type": "scattergl"
           }
          ],
          "scattermapbox": [
           {
            "marker": {
             "colorbar": {
              "outlinewidth": 0,
              "ticks": ""
             }
            },
            "type": "scattermapbox"
           }
          ],
          "scatterpolar": [
           {
            "marker": {
             "colorbar": {
              "outlinewidth": 0,
              "ticks": ""
             }
            },
            "type": "scatterpolar"
           }
          ],
          "scatterpolargl": [
           {
            "marker": {
             "colorbar": {
              "outlinewidth": 0,
              "ticks": ""
             }
            },
            "type": "scatterpolargl"
           }
          ],
          "scatterternary": [
           {
            "marker": {
             "colorbar": {
              "outlinewidth": 0,
              "ticks": ""
             }
            },
            "type": "scatterternary"
           }
          ],
          "surface": [
           {
            "colorbar": {
             "outlinewidth": 0,
             "ticks": ""
            },
            "colorscale": [
             [
              0,
              "#0d0887"
             ],
             [
              0.1111111111111111,
              "#46039f"
             ],
             [
              0.2222222222222222,
              "#7201a8"
             ],
             [
              0.3333333333333333,
              "#9c179e"
             ],
             [
              0.4444444444444444,
              "#bd3786"
             ],
             [
              0.5555555555555556,
              "#d8576b"
             ],
             [
              0.6666666666666666,
              "#ed7953"
             ],
             [
              0.7777777777777778,
              "#fb9f3a"
             ],
             [
              0.8888888888888888,
              "#fdca26"
             ],
             [
              1,
              "#f0f921"
             ]
            ],
            "type": "surface"
           }
          ],
          "table": [
           {
            "cells": {
             "fill": {
              "color": "#EBF0F8"
             },
             "line": {
              "color": "white"
             }
            },
            "header": {
             "fill": {
              "color": "#C8D4E3"
             },
             "line": {
              "color": "white"
             }
            },
            "type": "table"
           }
          ]
         },
         "layout": {
          "annotationdefaults": {
           "arrowcolor": "#2a3f5f",
           "arrowhead": 0,
           "arrowwidth": 1
          },
          "autotypenumbers": "strict",
          "coloraxis": {
           "colorbar": {
            "outlinewidth": 0,
            "ticks": ""
           }
          },
          "colorscale": {
           "diverging": [
            [
             0,
             "#8e0152"
            ],
            [
             0.1,
             "#c51b7d"
            ],
            [
             0.2,
             "#de77ae"
            ],
            [
             0.3,
             "#f1b6da"
            ],
            [
             0.4,
             "#fde0ef"
            ],
            [
             0.5,
             "#f7f7f7"
            ],
            [
             0.6,
             "#e6f5d0"
            ],
            [
             0.7,
             "#b8e186"
            ],
            [
             0.8,
             "#7fbc41"
            ],
            [
             0.9,
             "#4d9221"
            ],
            [
             1,
             "#276419"
            ]
           ],
           "sequential": [
            [
             0,
             "#0d0887"
            ],
            [
             0.1111111111111111,
             "#46039f"
            ],
            [
             0.2222222222222222,
             "#7201a8"
            ],
            [
             0.3333333333333333,
             "#9c179e"
            ],
            [
             0.4444444444444444,
             "#bd3786"
            ],
            [
             0.5555555555555556,
             "#d8576b"
            ],
            [
             0.6666666666666666,
             "#ed7953"
            ],
            [
             0.7777777777777778,
             "#fb9f3a"
            ],
            [
             0.8888888888888888,
             "#fdca26"
            ],
            [
             1,
             "#f0f921"
            ]
           ],
           "sequentialminus": [
            [
             0,
             "#0d0887"
            ],
            [
             0.1111111111111111,
             "#46039f"
            ],
            [
             0.2222222222222222,
             "#7201a8"
            ],
            [
             0.3333333333333333,
             "#9c179e"
            ],
            [
             0.4444444444444444,
             "#bd3786"
            ],
            [
             0.5555555555555556,
             "#d8576b"
            ],
            [
             0.6666666666666666,
             "#ed7953"
            ],
            [
             0.7777777777777778,
             "#fb9f3a"
            ],
            [
             0.8888888888888888,
             "#fdca26"
            ],
            [
             1,
             "#f0f921"
            ]
           ]
          },
          "colorway": [
           "#636efa",
           "#EF553B",
           "#00cc96",
           "#ab63fa",
           "#FFA15A",
           "#19d3f3",
           "#FF6692",
           "#B6E880",
           "#FF97FF",
           "#FECB52"
          ],
          "font": {
           "color": "#2a3f5f"
          },
          "geo": {
           "bgcolor": "white",
           "lakecolor": "white",
           "landcolor": "#E5ECF6",
           "showlakes": true,
           "showland": true,
           "subunitcolor": "white"
          },
          "hoverlabel": {
           "align": "left"
          },
          "hovermode": "closest",
          "mapbox": {
           "style": "light"
          },
          "paper_bgcolor": "white",
          "plot_bgcolor": "#E5ECF6",
          "polar": {
           "angularaxis": {
            "gridcolor": "white",
            "linecolor": "white",
            "ticks": ""
           },
           "bgcolor": "#E5ECF6",
           "radialaxis": {
            "gridcolor": "white",
            "linecolor": "white",
            "ticks": ""
           }
          },
          "scene": {
           "xaxis": {
            "backgroundcolor": "#E5ECF6",
            "gridcolor": "white",
            "gridwidth": 2,
            "linecolor": "white",
            "showbackground": true,
            "ticks": "",
            "zerolinecolor": "white"
           },
           "yaxis": {
            "backgroundcolor": "#E5ECF6",
            "gridcolor": "white",
            "gridwidth": 2,
            "linecolor": "white",
            "showbackground": true,
            "ticks": "",
            "zerolinecolor": "white"
           },
           "zaxis": {
            "backgroundcolor": "#E5ECF6",
            "gridcolor": "white",
            "gridwidth": 2,
            "linecolor": "white",
            "showbackground": true,
            "ticks": "",
            "zerolinecolor": "white"
           }
          },
          "shapedefaults": {
           "line": {
            "color": "#2a3f5f"
           }
          },
          "ternary": {
           "aaxis": {
            "gridcolor": "white",
            "linecolor": "white",
            "ticks": ""
           },
           "baxis": {
            "gridcolor": "white",
            "linecolor": "white",
            "ticks": ""
           },
           "bgcolor": "#E5ECF6",
           "caxis": {
            "gridcolor": "white",
            "linecolor": "white",
            "ticks": ""
           }
          },
          "title": {
           "x": 0.05
          },
          "xaxis": {
           "automargin": true,
           "gridcolor": "white",
           "linecolor": "white",
           "ticks": "",
           "title": {
            "standoff": 15
           },
           "zerolinecolor": "white",
           "zerolinewidth": 2
          },
          "yaxis": {
           "automargin": true,
           "gridcolor": "white",
           "linecolor": "white",
           "ticks": "",
           "title": {
            "standoff": 15
           },
           "zerolinecolor": "white",
           "zerolinewidth": 2
          }
         }
        },
        "title": {
         "text": "Payment Delay - Voice Mail Plan"
        }
       }
      },
      "text/html": [
       "<div>                            <div id=\"6e7448a6-680b-4c5d-ad51-676bade05fe2\" class=\"plotly-graph-div\" style=\"height:525px; width:100%;\"></div>            <script type=\"text/javascript\">                require([\"plotly\"], function(Plotly) {                    window.PLOTLYENV=window.PLOTLYENV || {};                                    if (document.getElementById(\"6e7448a6-680b-4c5d-ad51-676bade05fe2\")) {                    Plotly.newPlot(                        \"6e7448a6-680b-4c5d-ad51-676bade05fe2\",                        [{\"domain\":{\"x\":[0.0,1.0],\"y\":[0.0,1.0]},\"hovertemplate\":\"voice_mail_plan=%{label}<extra></extra>\",\"labels\":[\"no\",\"no\",\"yes\",\"no\",\"no\",\"no\",\"no\",\"yes\",\"no\",\"no\",\"no\",\"no\",\"no\",\"yes\",\"no\",\"no\",\"yes\",\"no\",\"no\",\"no\",\"yes\",\"no\",\"no\",\"no\",\"no\",\"no\",\"yes\",\"no\",\"yes\",\"no\",\"no\",\"yes\",\"no\",\"yes\",\"no\",\"no\",\"no\",\"no\",\"no\",\"no\",\"no\",\"no\",\"no\",\"no\",\"no\",\"no\",\"no\",\"no\",\"no\",\"no\",\"no\",\"no\",\"no\",\"no\",\"no\",\"yes\",\"yes\",\"no\",\"no\",\"no\",\"no\",\"no\",\"no\",\"no\",\"no\",\"no\",\"no\",\"no\",\"no\",\"no\",\"no\",\"no\",\"no\",\"no\",\"no\",\"no\",\"yes\",\"no\",\"no\",\"yes\",\"no\",\"no\",\"no\",\"no\",\"no\",\"no\",\"no\",\"no\",\"no\",\"no\",\"no\",\"no\",\"no\",\"no\",\"no\",\"no\",\"no\",\"no\",\"no\",\"no\",\"no\",\"yes\",\"no\",\"no\",\"no\",\"no\",\"no\",\"yes\",\"no\",\"no\",\"no\",\"no\",\"yes\",\"no\",\"no\",\"no\",\"no\",\"no\",\"yes\",\"no\",\"no\",\"yes\",\"yes\",\"no\",\"yes\",\"no\",\"no\",\"no\",\"no\",\"no\",\"no\",\"yes\",\"no\",\"no\",\"no\",\"no\",\"no\",\"no\",\"no\",\"no\",\"no\",\"yes\",\"no\",\"no\",\"no\",\"no\",\"yes\",\"no\",\"no\",\"no\",\"no\",\"no\",\"yes\",\"yes\",\"yes\",\"no\",\"yes\",\"no\",\"no\",\"no\",\"no\",\"no\",\"no\",\"no\",\"no\",\"no\",\"yes\",\"no\",\"no\",\"yes\",\"no\",\"no\",\"no\",\"no\",\"no\",\"no\",\"no\",\"no\",\"no\",\"no\",\"no\",\"no\",\"no\",\"no\",\"no\",\"no\",\"no\",\"yes\",\"no\",\"no\",\"no\",\"no\",\"no\",\"no\",\"yes\",\"no\",\"no\",\"no\",\"yes\",\"no\",\"no\",\"no\",\"no\",\"no\",\"no\",\"no\",\"no\",\"no\",\"no\",\"no\",\"no\",\"yes\",\"no\",\"no\",\"no\",\"no\",\"yes\",\"no\",\"no\",\"yes\",\"no\",\"no\",\"no\",\"yes\",\"no\",\"no\",\"no\",\"no\",\"no\",\"no\",\"no\",\"no\",\"no\",\"no\",\"no\",\"yes\",\"no\",\"no\",\"no\",\"no\",\"no\",\"no\",\"yes\",\"yes\",\"no\",\"no\",\"no\",\"no\",\"no\",\"no\",\"no\",\"no\",\"no\",\"yes\",\"no\",\"no\",\"no\",\"no\",\"no\",\"no\",\"no\",\"no\",\"no\",\"no\",\"no\",\"no\",\"yes\",\"no\",\"no\",\"no\",\"yes\",\"no\",\"no\",\"no\",\"yes\",\"no\",\"no\",\"no\",\"no\",\"no\",\"no\",\"no\",\"no\",\"no\",\"no\",\"no\",\"no\",\"no\",\"no\",\"no\",\"no\",\"no\",\"no\",\"no\",\"no\",\"no\",\"no\",\"no\",\"yes\",\"yes\",\"no\",\"no\",\"no\",\"no\",\"no\",\"no\",\"no\",\"no\",\"yes\",\"no\",\"no\",\"yes\",\"yes\",\"no\",\"no\",\"no\",\"yes\",\"no\",\"no\",\"no\",\"no\",\"no\",\"no\",\"no\",\"no\",\"no\",\"no\",\"no\",\"no\",\"yes\",\"no\",\"yes\",\"no\",\"no\",\"no\",\"no\",\"no\",\"no\",\"no\",\"no\",\"no\",\"no\",\"no\",\"no\",\"no\",\"no\",\"no\",\"yes\",\"no\",\"no\",\"no\",\"no\",\"no\",\"no\",\"no\",\"no\",\"no\",\"no\",\"no\",\"yes\",\"yes\",\"no\",\"no\",\"no\",\"no\",\"no\",\"no\",\"yes\",\"no\",\"no\",\"no\",\"no\",\"no\",\"no\",\"no\",\"no\",\"no\",\"no\",\"no\",\"no\",\"no\",\"no\",\"no\",\"no\",\"no\",\"no\",\"no\",\"no\",\"no\",\"no\",\"no\",\"no\",\"no\",\"no\",\"no\",\"no\",\"no\",\"no\",\"yes\",\"yes\",\"no\",\"no\",\"yes\",\"no\",\"yes\",\"no\",\"yes\",\"no\",\"yes\",\"no\",\"no\",\"yes\",\"no\"],\"legendgroup\":\"\",\"name\":\"\",\"showlegend\":true,\"type\":\"pie\"}],                        {\"legend\":{\"tracegroupgap\":0},\"template\":{\"data\":{\"bar\":[{\"error_x\":{\"color\":\"#2a3f5f\"},\"error_y\":{\"color\":\"#2a3f5f\"},\"marker\":{\"line\":{\"color\":\"#E5ECF6\",\"width\":0.5},\"pattern\":{\"fillmode\":\"overlay\",\"size\":10,\"solidity\":0.2}},\"type\":\"bar\"}],\"barpolar\":[{\"marker\":{\"line\":{\"color\":\"#E5ECF6\",\"width\":0.5},\"pattern\":{\"fillmode\":\"overlay\",\"size\":10,\"solidity\":0.2}},\"type\":\"barpolar\"}],\"carpet\":[{\"aaxis\":{\"endlinecolor\":\"#2a3f5f\",\"gridcolor\":\"white\",\"linecolor\":\"white\",\"minorgridcolor\":\"white\",\"startlinecolor\":\"#2a3f5f\"},\"baxis\":{\"endlinecolor\":\"#2a3f5f\",\"gridcolor\":\"white\",\"linecolor\":\"white\",\"minorgridcolor\":\"white\",\"startlinecolor\":\"#2a3f5f\"},\"type\":\"carpet\"}],\"choropleth\":[{\"colorbar\":{\"outlinewidth\":0,\"ticks\":\"\"},\"type\":\"choropleth\"}],\"contour\":[{\"colorbar\":{\"outlinewidth\":0,\"ticks\":\"\"},\"colorscale\":[[0.0,\"#0d0887\"],[0.1111111111111111,\"#46039f\"],[0.2222222222222222,\"#7201a8\"],[0.3333333333333333,\"#9c179e\"],[0.4444444444444444,\"#bd3786\"],[0.5555555555555556,\"#d8576b\"],[0.6666666666666666,\"#ed7953\"],[0.7777777777777778,\"#fb9f3a\"],[0.8888888888888888,\"#fdca26\"],[1.0,\"#f0f921\"]],\"type\":\"contour\"}],\"contourcarpet\":[{\"colorbar\":{\"outlinewidth\":0,\"ticks\":\"\"},\"type\":\"contourcarpet\"}],\"heatmap\":[{\"colorbar\":{\"outlinewidth\":0,\"ticks\":\"\"},\"colorscale\":[[0.0,\"#0d0887\"],[0.1111111111111111,\"#46039f\"],[0.2222222222222222,\"#7201a8\"],[0.3333333333333333,\"#9c179e\"],[0.4444444444444444,\"#bd3786\"],[0.5555555555555556,\"#d8576b\"],[0.6666666666666666,\"#ed7953\"],[0.7777777777777778,\"#fb9f3a\"],[0.8888888888888888,\"#fdca26\"],[1.0,\"#f0f921\"]],\"type\":\"heatmap\"}],\"heatmapgl\":[{\"colorbar\":{\"outlinewidth\":0,\"ticks\":\"\"},\"colorscale\":[[0.0,\"#0d0887\"],[0.1111111111111111,\"#46039f\"],[0.2222222222222222,\"#7201a8\"],[0.3333333333333333,\"#9c179e\"],[0.4444444444444444,\"#bd3786\"],[0.5555555555555556,\"#d8576b\"],[0.6666666666666666,\"#ed7953\"],[0.7777777777777778,\"#fb9f3a\"],[0.8888888888888888,\"#fdca26\"],[1.0,\"#f0f921\"]],\"type\":\"heatmapgl\"}],\"histogram\":[{\"marker\":{\"pattern\":{\"fillmode\":\"overlay\",\"size\":10,\"solidity\":0.2}},\"type\":\"histogram\"}],\"histogram2d\":[{\"colorbar\":{\"outlinewidth\":0,\"ticks\":\"\"},\"colorscale\":[[0.0,\"#0d0887\"],[0.1111111111111111,\"#46039f\"],[0.2222222222222222,\"#7201a8\"],[0.3333333333333333,\"#9c179e\"],[0.4444444444444444,\"#bd3786\"],[0.5555555555555556,\"#d8576b\"],[0.6666666666666666,\"#ed7953\"],[0.7777777777777778,\"#fb9f3a\"],[0.8888888888888888,\"#fdca26\"],[1.0,\"#f0f921\"]],\"type\":\"histogram2d\"}],\"histogram2dcontour\":[{\"colorbar\":{\"outlinewidth\":0,\"ticks\":\"\"},\"colorscale\":[[0.0,\"#0d0887\"],[0.1111111111111111,\"#46039f\"],[0.2222222222222222,\"#7201a8\"],[0.3333333333333333,\"#9c179e\"],[0.4444444444444444,\"#bd3786\"],[0.5555555555555556,\"#d8576b\"],[0.6666666666666666,\"#ed7953\"],[0.7777777777777778,\"#fb9f3a\"],[0.8888888888888888,\"#fdca26\"],[1.0,\"#f0f921\"]],\"type\":\"histogram2dcontour\"}],\"mesh3d\":[{\"colorbar\":{\"outlinewidth\":0,\"ticks\":\"\"},\"type\":\"mesh3d\"}],\"parcoords\":[{\"line\":{\"colorbar\":{\"outlinewidth\":0,\"ticks\":\"\"}},\"type\":\"parcoords\"}],\"pie\":[{\"automargin\":true,\"type\":\"pie\"}],\"scatter\":[{\"marker\":{\"colorbar\":{\"outlinewidth\":0,\"ticks\":\"\"}},\"type\":\"scatter\"}],\"scatter3d\":[{\"line\":{\"colorbar\":{\"outlinewidth\":0,\"ticks\":\"\"}},\"marker\":{\"colorbar\":{\"outlinewidth\":0,\"ticks\":\"\"}},\"type\":\"scatter3d\"}],\"scattercarpet\":[{\"marker\":{\"colorbar\":{\"outlinewidth\":0,\"ticks\":\"\"}},\"type\":\"scattercarpet\"}],\"scattergeo\":[{\"marker\":{\"colorbar\":{\"outlinewidth\":0,\"ticks\":\"\"}},\"type\":\"scattergeo\"}],\"scattergl\":[{\"marker\":{\"colorbar\":{\"outlinewidth\":0,\"ticks\":\"\"}},\"type\":\"scattergl\"}],\"scattermapbox\":[{\"marker\":{\"colorbar\":{\"outlinewidth\":0,\"ticks\":\"\"}},\"type\":\"scattermapbox\"}],\"scatterpolar\":[{\"marker\":{\"colorbar\":{\"outlinewidth\":0,\"ticks\":\"\"}},\"type\":\"scatterpolar\"}],\"scatterpolargl\":[{\"marker\":{\"colorbar\":{\"outlinewidth\":0,\"ticks\":\"\"}},\"type\":\"scatterpolargl\"}],\"scatterternary\":[{\"marker\":{\"colorbar\":{\"outlinewidth\":0,\"ticks\":\"\"}},\"type\":\"scatterternary\"}],\"surface\":[{\"colorbar\":{\"outlinewidth\":0,\"ticks\":\"\"},\"colorscale\":[[0.0,\"#0d0887\"],[0.1111111111111111,\"#46039f\"],[0.2222222222222222,\"#7201a8\"],[0.3333333333333333,\"#9c179e\"],[0.4444444444444444,\"#bd3786\"],[0.5555555555555556,\"#d8576b\"],[0.6666666666666666,\"#ed7953\"],[0.7777777777777778,\"#fb9f3a\"],[0.8888888888888888,\"#fdca26\"],[1.0,\"#f0f921\"]],\"type\":\"surface\"}],\"table\":[{\"cells\":{\"fill\":{\"color\":\"#EBF0F8\"},\"line\":{\"color\":\"white\"}},\"header\":{\"fill\":{\"color\":\"#C8D4E3\"},\"line\":{\"color\":\"white\"}},\"type\":\"table\"}]},\"layout\":{\"annotationdefaults\":{\"arrowcolor\":\"#2a3f5f\",\"arrowhead\":0,\"arrowwidth\":1},\"autotypenumbers\":\"strict\",\"coloraxis\":{\"colorbar\":{\"outlinewidth\":0,\"ticks\":\"\"}},\"colorscale\":{\"diverging\":[[0,\"#8e0152\"],[0.1,\"#c51b7d\"],[0.2,\"#de77ae\"],[0.3,\"#f1b6da\"],[0.4,\"#fde0ef\"],[0.5,\"#f7f7f7\"],[0.6,\"#e6f5d0\"],[0.7,\"#b8e186\"],[0.8,\"#7fbc41\"],[0.9,\"#4d9221\"],[1,\"#276419\"]],\"sequential\":[[0.0,\"#0d0887\"],[0.1111111111111111,\"#46039f\"],[0.2222222222222222,\"#7201a8\"],[0.3333333333333333,\"#9c179e\"],[0.4444444444444444,\"#bd3786\"],[0.5555555555555556,\"#d8576b\"],[0.6666666666666666,\"#ed7953\"],[0.7777777777777778,\"#fb9f3a\"],[0.8888888888888888,\"#fdca26\"],[1.0,\"#f0f921\"]],\"sequentialminus\":[[0.0,\"#0d0887\"],[0.1111111111111111,\"#46039f\"],[0.2222222222222222,\"#7201a8\"],[0.3333333333333333,\"#9c179e\"],[0.4444444444444444,\"#bd3786\"],[0.5555555555555556,\"#d8576b\"],[0.6666666666666666,\"#ed7953\"],[0.7777777777777778,\"#fb9f3a\"],[0.8888888888888888,\"#fdca26\"],[1.0,\"#f0f921\"]]},\"colorway\":[\"#636efa\",\"#EF553B\",\"#00cc96\",\"#ab63fa\",\"#FFA15A\",\"#19d3f3\",\"#FF6692\",\"#B6E880\",\"#FF97FF\",\"#FECB52\"],\"font\":{\"color\":\"#2a3f5f\"},\"geo\":{\"bgcolor\":\"white\",\"lakecolor\":\"white\",\"landcolor\":\"#E5ECF6\",\"showlakes\":true,\"showland\":true,\"subunitcolor\":\"white\"},\"hoverlabel\":{\"align\":\"left\"},\"hovermode\":\"closest\",\"mapbox\":{\"style\":\"light\"},\"paper_bgcolor\":\"white\",\"plot_bgcolor\":\"#E5ECF6\",\"polar\":{\"angularaxis\":{\"gridcolor\":\"white\",\"linecolor\":\"white\",\"ticks\":\"\"},\"bgcolor\":\"#E5ECF6\",\"radialaxis\":{\"gridcolor\":\"white\",\"linecolor\":\"white\",\"ticks\":\"\"}},\"scene\":{\"xaxis\":{\"backgroundcolor\":\"#E5ECF6\",\"gridcolor\":\"white\",\"gridwidth\":2,\"linecolor\":\"white\",\"showbackground\":true,\"ticks\":\"\",\"zerolinecolor\":\"white\"},\"yaxis\":{\"backgroundcolor\":\"#E5ECF6\",\"gridcolor\":\"white\",\"gridwidth\":2,\"linecolor\":\"white\",\"showbackground\":true,\"ticks\":\"\",\"zerolinecolor\":\"white\"},\"zaxis\":{\"backgroundcolor\":\"#E5ECF6\",\"gridcolor\":\"white\",\"gridwidth\":2,\"linecolor\":\"white\",\"showbackground\":true,\"ticks\":\"\",\"zerolinecolor\":\"white\"}},\"shapedefaults\":{\"line\":{\"color\":\"#2a3f5f\"}},\"ternary\":{\"aaxis\":{\"gridcolor\":\"white\",\"linecolor\":\"white\",\"ticks\":\"\"},\"baxis\":{\"gridcolor\":\"white\",\"linecolor\":\"white\",\"ticks\":\"\"},\"bgcolor\":\"#E5ECF6\",\"caxis\":{\"gridcolor\":\"white\",\"linecolor\":\"white\",\"ticks\":\"\"}},\"title\":{\"x\":0.05},\"xaxis\":{\"automargin\":true,\"gridcolor\":\"white\",\"linecolor\":\"white\",\"ticks\":\"\",\"title\":{\"standoff\":15},\"zerolinecolor\":\"white\",\"zerolinewidth\":2},\"yaxis\":{\"automargin\":true,\"gridcolor\":\"white\",\"linecolor\":\"white\",\"ticks\":\"\",\"title\":{\"standoff\":15},\"zerolinecolor\":\"white\",\"zerolinewidth\":2}}},\"title\":{\"text\":\"Payment Delay - Voice Mail Plan\"}},                        {\"responsive\": true}                    ).then(function(){\n",
       "                            \n",
       "var gd = document.getElementById('6e7448a6-680b-4c5d-ad51-676bade05fe2');\n",
       "var x = new MutationObserver(function (mutations, observer) {{\n",
       "        var display = window.getComputedStyle(gd).display;\n",
       "        if (!display || display === 'none') {{\n",
       "            console.log([gd, 'removed!']);\n",
       "            Plotly.purge(gd);\n",
       "            observer.disconnect();\n",
       "        }}\n",
       "}});\n",
       "\n",
       "// Listen for the removal of the full notebook cells\n",
       "var notebookContainer = gd.closest('#notebook-container');\n",
       "if (notebookContainer) {{\n",
       "    x.observe(notebookContainer, {childList: true});\n",
       "}}\n",
       "\n",
       "// Listen for the clearing of the current output cell\n",
       "var outputEl = gd.closest('.output');\n",
       "if (outputEl) {{\n",
       "    x.observe(outputEl, {childList: true});\n",
       "}}\n",
       "\n",
       "                        })                };                });            </script>        </div>"
      ]
     },
     "metadata": {},
     "output_type": "display_data"
    },
    {
     "data": {
      "application/vnd.plotly.v1+json": {
       "config": {
        "plotlyServerURL": "https://plot.ly"
       },
       "data": [
        {
         "domain": {
          "x": [
           0,
           1
          ],
          "y": [
           0,
           1
          ]
         },
         "hovertemplate": "voice_mail_plan=%{label}<extra></extra>",
         "labels": [
          "no",
          "no",
          "no",
          "no",
          "yes",
          "no",
          "yes",
          "yes",
          "no",
          "yes",
          "no",
          "no",
          "no",
          "no",
          "no",
          "yes",
          "no",
          "yes",
          "no",
          "yes",
          "yes",
          "no",
          "yes",
          "no",
          "yes",
          "yes",
          "no",
          "no",
          "no",
          "no",
          "no",
          "yes",
          "no",
          "yes",
          "no",
          "yes",
          "no",
          "yes",
          "no",
          "no",
          "no",
          "yes",
          "yes",
          "no",
          "no",
          "no",
          "no",
          "yes",
          "no",
          "no",
          "no",
          "no",
          "no",
          "no",
          "yes",
          "no",
          "yes",
          "no",
          "no",
          "no",
          "no",
          "yes",
          "no",
          "yes",
          "no",
          "no",
          "yes",
          "no",
          "no",
          "yes",
          "no",
          "yes",
          "no",
          "no",
          "yes",
          "no",
          "no",
          "yes",
          "no",
          "no",
          "yes",
          "no",
          "yes",
          "yes",
          "no",
          "no",
          "no",
          "no",
          "no",
          "no",
          "yes",
          "no",
          "no",
          "no",
          "no",
          "no",
          "no",
          "no",
          "no",
          "yes",
          "no",
          "yes",
          "no",
          "no",
          "no",
          "yes",
          "yes",
          "no",
          "yes",
          "yes",
          "no",
          "no",
          "no",
          "no",
          "no",
          "no",
          "no",
          "no",
          "no",
          "yes",
          "no",
          "no",
          "no",
          "no",
          "yes",
          "yes",
          "no",
          "no",
          "no",
          "no",
          "no",
          "yes",
          "yes",
          "yes",
          "no",
          "yes",
          "yes",
          "no",
          "no",
          "yes",
          "no",
          "no",
          "no",
          "no",
          "yes",
          "yes",
          "no",
          "yes",
          "no",
          "no",
          "no",
          "no",
          "yes",
          "no",
          "no",
          "no",
          "no",
          "no",
          "no",
          "yes",
          "no",
          "no",
          "yes",
          "no",
          "no",
          "no",
          "no",
          "no",
          "no",
          "no",
          "no",
          "no",
          "yes",
          "yes",
          "no",
          "no",
          "no",
          "yes",
          "yes",
          "yes",
          "no",
          "no",
          "no",
          "no",
          "no",
          "no",
          "no",
          "no",
          "yes",
          "no",
          "yes",
          "yes",
          "no",
          "yes",
          "no",
          "no",
          "no",
          "yes",
          "no",
          "yes",
          "no",
          "no",
          "yes",
          "no",
          "no",
          "no",
          "no",
          "no",
          "yes",
          "no",
          "yes",
          "yes",
          "no",
          "no",
          "yes",
          "yes",
          "yes",
          "no",
          "no",
          "no",
          "no",
          "no",
          "no",
          "yes",
          "no",
          "no",
          "no",
          "no",
          "yes",
          "no",
          "no",
          "no",
          "no",
          "no",
          "yes",
          "no",
          "no",
          "yes",
          "no",
          "no",
          "no",
          "no",
          "no",
          "no",
          "no",
          "no",
          "no",
          "no",
          "no",
          "no",
          "no",
          "no",
          "no",
          "no",
          "yes",
          "no",
          "no",
          "no",
          "yes",
          "no",
          "no",
          "no",
          "yes",
          "no",
          "yes",
          "no",
          "yes",
          "yes",
          "no",
          "yes",
          "no",
          "no",
          "yes",
          "no",
          "no",
          "no",
          "yes",
          "no",
          "no",
          "yes",
          "no",
          "no",
          "no",
          "no",
          "yes",
          "no",
          "no",
          "no",
          "yes",
          "no",
          "no",
          "no",
          "no",
          "yes",
          "yes",
          "no",
          "no",
          "no",
          "yes",
          "no",
          "yes",
          "no",
          "no",
          "no",
          "no",
          "no",
          "no",
          "yes",
          "no",
          "no",
          "no",
          "no",
          "yes",
          "no",
          "no",
          "no",
          "no",
          "yes",
          "no",
          "no",
          "no",
          "no",
          "yes",
          "yes",
          "yes",
          "no",
          "yes",
          "yes",
          "no",
          "no",
          "no",
          "yes",
          "yes",
          "yes",
          "yes",
          "no",
          "no",
          "yes",
          "yes",
          "no",
          "yes",
          "no",
          "no",
          "no",
          "yes",
          "no",
          "no",
          "no",
          "no",
          "no",
          "yes",
          "yes",
          "no",
          "no",
          "yes",
          "no",
          "yes",
          "no",
          "no",
          "no",
          "no",
          "no",
          "no",
          "no",
          "no",
          "no",
          "no",
          "no",
          "no",
          "yes",
          "no",
          "yes",
          "no",
          "no",
          "no",
          "no",
          "no",
          "no",
          "no",
          "no",
          "yes",
          "no",
          "no",
          "yes",
          "yes",
          "yes",
          "no",
          "no",
          "yes",
          "yes",
          "yes",
          "no",
          "yes",
          "no",
          "no",
          "no",
          "no",
          "yes",
          "yes",
          "no",
          "no",
          "no",
          "no",
          "yes",
          "no",
          "yes",
          "no",
          "no",
          "no",
          "no",
          "yes",
          "no",
          "no",
          "yes",
          "no",
          "no",
          "no",
          "no",
          "no",
          "no",
          "no",
          "no",
          "yes",
          "no",
          "yes",
          "no",
          "no",
          "no",
          "no",
          "yes",
          "no",
          "yes",
          "no",
          "no",
          "yes",
          "no",
          "no",
          "no",
          "no",
          "no",
          "no",
          "yes",
          "yes",
          "no",
          "yes",
          "no",
          "no",
          "no",
          "yes",
          "no",
          "no",
          "no",
          "yes",
          "no",
          "no",
          "no",
          "no",
          "no",
          "no",
          "no",
          "no",
          "no",
          "no",
          "no",
          "no",
          "no",
          "yes",
          "no",
          "no",
          "no",
          "no",
          "no",
          "yes",
          "no",
          "yes",
          "yes",
          "yes",
          "no",
          "no",
          "no",
          "yes",
          "yes",
          "yes",
          "no",
          "no",
          "no",
          "yes",
          "no",
          "yes",
          "no",
          "no",
          "no",
          "no",
          "no",
          "no",
          "yes",
          "no",
          "no",
          "yes",
          "no",
          "no",
          "yes",
          "yes",
          "no",
          "yes",
          "yes",
          "yes",
          "yes",
          "no",
          "no",
          "no",
          "no",
          "yes",
          "no",
          "no",
          "yes",
          "no",
          "no",
          "yes",
          "no",
          "no",
          "yes",
          "yes",
          "yes",
          "no",
          "yes",
          "no",
          "no",
          "no",
          "no",
          "yes",
          "yes",
          "yes",
          "yes",
          "yes",
          "no",
          "no",
          "no",
          "no",
          "no",
          "yes",
          "no",
          "yes",
          "no",
          "no",
          "yes",
          "no",
          "no",
          "no",
          "no",
          "no",
          "no",
          "no",
          "no",
          "no",
          "no",
          "no",
          "no",
          "no",
          "yes",
          "no",
          "no",
          "no",
          "yes",
          "no",
          "yes",
          "no",
          "yes",
          "no",
          "no",
          "no",
          "no",
          "no",
          "no",
          "yes",
          "yes",
          "no",
          "no",
          "no",
          "yes",
          "no",
          "no",
          "no",
          "no",
          "no",
          "no",
          "no",
          "yes",
          "no",
          "no",
          "no",
          "no",
          "no",
          "no",
          "no",
          "yes",
          "yes",
          "yes",
          "no",
          "no",
          "yes",
          "yes",
          "yes",
          "yes",
          "no",
          "yes",
          "yes",
          "yes",
          "yes",
          "no",
          "no",
          "no",
          "no",
          "yes",
          "yes",
          "yes",
          "no",
          "no",
          "no",
          "no",
          "no",
          "no",
          "yes",
          "yes",
          "yes",
          "yes",
          "no",
          "yes",
          "no",
          "no",
          "no",
          "no",
          "no",
          "no",
          "yes",
          "no",
          "no",
          "no",
          "no",
          "yes",
          "no",
          "no",
          "no",
          "yes",
          "yes",
          "no",
          "no",
          "no",
          "no",
          "no",
          "yes",
          "yes",
          "no",
          "no",
          "no",
          "no",
          "no",
          "no",
          "yes",
          "no",
          "no",
          "no",
          "no",
          "no",
          "no",
          "yes",
          "no",
          "no",
          "no",
          "yes",
          "no",
          "yes",
          "no",
          "no",
          "yes",
          "no",
          "no",
          "no",
          "no",
          "no",
          "yes",
          "no",
          "yes",
          "no",
          "no",
          "yes",
          "yes",
          "no",
          "no",
          "no",
          "yes",
          "yes",
          "no",
          "yes",
          "no",
          "no",
          "no",
          "no",
          "no",
          "no",
          "yes",
          "no",
          "yes",
          "no",
          "yes",
          "no",
          "no",
          "no",
          "no",
          "yes",
          "no",
          "no",
          "yes",
          "no",
          "yes",
          "no",
          "yes",
          "no",
          "no",
          "no",
          "no",
          "no",
          "no",
          "no",
          "yes",
          "yes",
          "no",
          "no",
          "no",
          "yes",
          "no",
          "no",
          "no",
          "yes",
          "no",
          "no",
          "no",
          "no",
          "no",
          "no",
          "no",
          "yes",
          "no",
          "no",
          "no",
          "no",
          "yes",
          "no",
          "no",
          "no",
          "yes",
          "yes",
          "no",
          "no",
          "no",
          "no",
          "no",
          "no",
          "yes",
          "no",
          "no",
          "no",
          "no",
          "yes",
          "no",
          "yes",
          "yes",
          "no",
          "yes",
          "no",
          "no",
          "yes",
          "no",
          "no",
          "no",
          "no",
          "no",
          "no",
          "no",
          "no",
          "yes",
          "no",
          "no",
          "no",
          "yes",
          "no",
          "yes",
          "no",
          "no",
          "no",
          "yes",
          "no",
          "yes",
          "no",
          "yes",
          "no",
          "yes",
          "yes",
          "no",
          "no",
          "yes",
          "no",
          "yes",
          "no",
          "no",
          "yes",
          "yes",
          "no",
          "no",
          "no",
          "no",
          "yes",
          "no",
          "yes",
          "yes",
          "yes",
          "no",
          "no",
          "no",
          "no",
          "no",
          "no",
          "no",
          "no",
          "no",
          "no",
          "yes",
          "yes",
          "yes",
          "no",
          "no",
          "yes",
          "yes",
          "no",
          "no",
          "no",
          "yes",
          "yes",
          "no",
          "no",
          "no",
          "yes",
          "no",
          "yes",
          "yes",
          "no",
          "no",
          "no",
          "no",
          "no",
          "no",
          "yes",
          "no",
          "no",
          "yes",
          "yes",
          "yes",
          "no",
          "no",
          "no",
          "no",
          "no",
          "no",
          "no",
          "no",
          "no",
          "no",
          "no",
          "yes",
          "no",
          "no",
          "no",
          "no",
          "no",
          "no",
          "no",
          "no",
          "no",
          "yes",
          "no",
          "no",
          "no",
          "yes",
          "yes",
          "no",
          "yes",
          "yes",
          "yes",
          "no",
          "no",
          "no",
          "no",
          "no",
          "no",
          "no",
          "no",
          "yes",
          "no",
          "no",
          "yes",
          "no",
          "no",
          "no",
          "no",
          "yes",
          "yes",
          "no",
          "yes",
          "no",
          "no",
          "no",
          "no",
          "yes",
          "no",
          "no",
          "yes",
          "no",
          "no",
          "no",
          "yes",
          "no",
          "yes",
          "no",
          "no",
          "yes",
          "no",
          "no",
          "no",
          "no",
          "yes",
          "no",
          "no",
          "no",
          "no",
          "yes",
          "yes",
          "yes",
          "no",
          "no",
          "yes",
          "no",
          "yes",
          "yes",
          "no",
          "no",
          "yes",
          "no",
          "no",
          "no",
          "no",
          "yes",
          "yes",
          "yes",
          "no",
          "yes",
          "no",
          "no",
          "no",
          "no",
          "no",
          "no",
          "no",
          "no",
          "yes",
          "no",
          "no",
          "no",
          "no",
          "yes",
          "no",
          "no",
          "no",
          "yes",
          "no",
          "no",
          "no",
          "no",
          "yes",
          "no",
          "no",
          "no",
          "yes",
          "yes",
          "no",
          "no",
          "no",
          "yes",
          "no",
          "no",
          "no",
          "no",
          "no",
          "yes",
          "no",
          "no",
          "no",
          "yes",
          "no",
          "yes",
          "no",
          "yes",
          "no",
          "no",
          "no",
          "no",
          "no",
          "no",
          "yes",
          "yes",
          "no",
          "yes",
          "no",
          "no",
          "yes",
          "no",
          "no",
          "no",
          "yes",
          "no",
          "yes",
          "yes",
          "no",
          "no",
          "no",
          "yes",
          "no",
          "no",
          "no",
          "yes",
          "no",
          "no",
          "yes",
          "no",
          "no",
          "no",
          "no",
          "yes",
          "no",
          "no",
          "no",
          "yes",
          "yes",
          "yes",
          "no",
          "no",
          "yes",
          "yes",
          "yes",
          "no",
          "no",
          "no",
          "no",
          "no",
          "yes",
          "no",
          "no",
          "yes",
          "yes",
          "yes",
          "no",
          "yes",
          "no",
          "no",
          "no",
          "yes",
          "no",
          "no",
          "no",
          "no",
          "no",
          "no",
          "yes",
          "no",
          "yes",
          "no",
          "no",
          "no",
          "no",
          "yes",
          "no",
          "no",
          "no",
          "no",
          "no",
          "no",
          "no",
          "no",
          "no",
          "no",
          "no",
          "yes",
          "no",
          "no",
          "yes",
          "no",
          "yes",
          "yes",
          "no",
          "yes",
          "no",
          "no",
          "no",
          "no",
          "no",
          "no",
          "no",
          "no",
          "yes",
          "no",
          "no",
          "no",
          "no",
          "no",
          "no",
          "no",
          "yes",
          "no",
          "yes",
          "no",
          "yes",
          "no",
          "yes",
          "no",
          "no",
          "yes",
          "no",
          "no",
          "no",
          "no",
          "no",
          "no",
          "yes",
          "no",
          "no",
          "no",
          "no",
          "no",
          "no",
          "yes",
          "no",
          "no",
          "no",
          "no",
          "no",
          "yes",
          "yes",
          "no",
          "yes",
          "no",
          "no",
          "no",
          "no",
          "no",
          "no",
          "yes",
          "no",
          "no",
          "yes",
          "no",
          "no",
          "yes",
          "no",
          "no",
          "no",
          "no",
          "no",
          "yes",
          "no",
          "yes",
          "no",
          "no",
          "yes",
          "no",
          "yes",
          "no",
          "no",
          "no",
          "no",
          "yes",
          "no",
          "yes",
          "no",
          "no",
          "no",
          "no",
          "no",
          "yes",
          "yes",
          "no",
          "no",
          "yes",
          "no",
          "no",
          "no",
          "no",
          "yes",
          "yes",
          "no",
          "no",
          "yes",
          "yes",
          "no",
          "no",
          "no",
          "no",
          "yes",
          "no",
          "yes",
          "no",
          "no",
          "yes",
          "yes",
          "yes",
          "no",
          "yes",
          "no",
          "no",
          "yes",
          "no",
          "no",
          "yes",
          "yes",
          "yes",
          "yes",
          "no",
          "no",
          "no",
          "no",
          "no",
          "no",
          "no",
          "no",
          "no",
          "no",
          "no",
          "yes",
          "no",
          "no",
          "yes",
          "no",
          "no",
          "no",
          "yes",
          "no",
          "no",
          "no",
          "no",
          "no",
          "yes",
          "no",
          "no",
          "yes",
          "yes",
          "yes",
          "no",
          "no",
          "no",
          "no",
          "no",
          "no",
          "no",
          "no",
          "no",
          "yes",
          "yes",
          "no",
          "no",
          "no",
          "no",
          "yes",
          "no",
          "yes",
          "no",
          "no",
          "no",
          "no",
          "no",
          "no",
          "no",
          "no",
          "no",
          "no",
          "no",
          "no",
          "no",
          "no",
          "no",
          "yes",
          "no",
          "yes",
          "yes",
          "yes",
          "yes",
          "no",
          "no",
          "no",
          "no",
          "no",
          "no",
          "no",
          "yes",
          "no",
          "no",
          "yes",
          "no",
          "no",
          "no",
          "yes",
          "no",
          "no",
          "no",
          "no",
          "yes",
          "no",
          "yes",
          "no",
          "yes",
          "no",
          "yes",
          "no",
          "yes",
          "no",
          "no",
          "no",
          "no",
          "no",
          "yes",
          "yes",
          "no",
          "no",
          "no",
          "yes",
          "no",
          "yes",
          "no",
          "no",
          "yes",
          "no",
          "yes",
          "yes",
          "no",
          "no",
          "yes",
          "no",
          "no",
          "yes",
          "no",
          "no",
          "no",
          "no",
          "no",
          "no",
          "no",
          "no",
          "no",
          "no",
          "yes",
          "no",
          "yes",
          "no",
          "no",
          "yes",
          "no",
          "no",
          "no",
          "no",
          "no",
          "no",
          "no",
          "no",
          "no",
          "yes",
          "no",
          "no",
          "no",
          "no",
          "no",
          "yes",
          "no",
          "no",
          "no",
          "no",
          "no",
          "no",
          "yes",
          "no",
          "yes",
          "yes",
          "no",
          "yes",
          "no",
          "no",
          "yes",
          "no",
          "no",
          "no",
          "no",
          "no",
          "no",
          "no",
          "yes",
          "no",
          "yes",
          "no",
          "no",
          "no",
          "yes",
          "yes",
          "yes",
          "no",
          "no",
          "no",
          "no",
          "no",
          "no",
          "yes",
          "yes",
          "no",
          "no",
          "no",
          "yes",
          "no",
          "no",
          "yes",
          "no",
          "yes",
          "yes",
          "no",
          "no",
          "yes",
          "no",
          "no",
          "no",
          "no",
          "no",
          "yes",
          "yes",
          "no",
          "no",
          "no",
          "no",
          "no",
          "no",
          "no",
          "no",
          "no",
          "no",
          "no",
          "no",
          "yes",
          "no",
          "no",
          "no",
          "no",
          "no",
          "no",
          "no",
          "no",
          "no",
          "no",
          "no",
          "yes",
          "yes",
          "no",
          "no",
          "no",
          "yes",
          "yes",
          "no",
          "no",
          "no",
          "yes",
          "no",
          "yes",
          "yes",
          "yes",
          "no",
          "yes",
          "no",
          "no",
          "no",
          "no",
          "yes",
          "no",
          "no",
          "no",
          "no",
          "no",
          "no",
          "no",
          "no",
          "yes",
          "yes",
          "no",
          "yes",
          "no",
          "yes",
          "no",
          "no",
          "yes",
          "no",
          "no",
          "no",
          "yes",
          "yes",
          "no",
          "yes",
          "no",
          "no",
          "yes",
          "no",
          "yes",
          "no",
          "yes",
          "yes",
          "yes",
          "yes",
          "no",
          "no",
          "no",
          "yes",
          "no",
          "no",
          "yes",
          "yes",
          "no",
          "yes",
          "yes",
          "no",
          "no",
          "no",
          "no",
          "no",
          "yes",
          "no",
          "no",
          "no",
          "no",
          "no",
          "yes",
          "no",
          "no",
          "no",
          "yes",
          "yes",
          "no",
          "yes",
          "no",
          "no",
          "no",
          "yes",
          "yes",
          "no",
          "yes",
          "no",
          "yes",
          "no",
          "no",
          "yes",
          "yes",
          "no",
          "no",
          "no",
          "no",
          "no",
          "yes",
          "no",
          "no",
          "no",
          "no",
          "no",
          "yes",
          "no",
          "no",
          "no",
          "yes",
          "no",
          "no",
          "no",
          "no",
          "no",
          "yes",
          "no",
          "no",
          "yes",
          "no",
          "no",
          "yes",
          "no",
          "no",
          "no",
          "no",
          "no",
          "no",
          "no",
          "yes",
          "no",
          "no",
          "yes",
          "no",
          "no",
          "yes",
          "no",
          "no",
          "no",
          "no",
          "no",
          "yes",
          "yes",
          "yes",
          "no",
          "no",
          "no",
          "no",
          "no",
          "no",
          "no",
          "no",
          "yes",
          "no",
          "yes",
          "no",
          "no",
          "no",
          "no",
          "no",
          "no",
          "no",
          "no",
          "no",
          "no",
          "yes",
          "no",
          "no",
          "yes",
          "no",
          "no",
          "yes",
          "no",
          "no",
          "no",
          "no",
          "no",
          "yes",
          "no",
          "no",
          "yes",
          "no",
          "no",
          "no",
          "no",
          "yes",
          "yes",
          "no",
          "no",
          "no",
          "no",
          "yes",
          "yes",
          "no",
          "no",
          "no",
          "yes",
          "no",
          "yes",
          "yes",
          "no",
          "no",
          "yes",
          "no",
          "yes",
          "no",
          "yes",
          "no",
          "no",
          "yes",
          "yes",
          "no",
          "no",
          "no",
          "no",
          "no",
          "no",
          "no",
          "no",
          "no",
          "no",
          "no",
          "no",
          "no",
          "no",
          "no",
          "yes",
          "no",
          "no",
          "no",
          "no",
          "no",
          "yes",
          "no",
          "no",
          "no",
          "no",
          "no",
          "yes",
          "yes",
          "yes",
          "no",
          "no",
          "yes",
          "no",
          "no",
          "no",
          "no",
          "yes",
          "no",
          "no",
          "yes",
          "no",
          "no",
          "no",
          "no",
          "no",
          "yes",
          "no",
          "no",
          "no",
          "no",
          "no",
          "no",
          "yes",
          "no",
          "no",
          "no",
          "yes",
          "yes",
          "yes",
          "no",
          "no",
          "no",
          "no",
          "yes",
          "yes",
          "no",
          "no",
          "yes",
          "no",
          "no",
          "no",
          "no",
          "no",
          "no",
          "yes",
          "no",
          "yes",
          "no",
          "no",
          "no",
          "no",
          "no",
          "no",
          "yes",
          "yes",
          "no",
          "yes",
          "yes",
          "no",
          "yes",
          "no",
          "no",
          "no",
          "yes",
          "no",
          "yes",
          "no",
          "no",
          "yes",
          "no",
          "no",
          "no",
          "no",
          "no",
          "no",
          "no",
          "no",
          "no",
          "no",
          "no",
          "yes",
          "no",
          "no",
          "yes",
          "yes",
          "no",
          "no",
          "no",
          "no",
          "no",
          "yes",
          "no",
          "yes",
          "yes",
          "no",
          "no",
          "no",
          "no",
          "no",
          "yes",
          "no",
          "yes",
          "no",
          "no",
          "yes",
          "no",
          "yes",
          "no",
          "no",
          "no",
          "no",
          "yes",
          "no",
          "no",
          "yes",
          "no",
          "no",
          "no",
          "no",
          "yes",
          "no",
          "no",
          "yes",
          "no",
          "yes",
          "no",
          "yes",
          "no",
          "no",
          "no",
          "no",
          "no",
          "no",
          "no",
          "no",
          "no",
          "no",
          "no",
          "yes",
          "no",
          "yes",
          "no",
          "no",
          "no",
          "yes",
          "no",
          "no",
          "no",
          "no",
          "yes",
          "no",
          "no",
          "no",
          "no",
          "no",
          "no",
          "yes",
          "no",
          "no",
          "yes",
          "no",
          "yes",
          "no",
          "no",
          "no",
          "no",
          "no",
          "no",
          "no",
          "yes",
          "yes",
          "no",
          "yes",
          "no",
          "no",
          "no",
          "no",
          "yes",
          "no",
          "no",
          "no",
          "no",
          "yes",
          "no",
          "no",
          "no",
          "no",
          "no",
          "no",
          "no",
          "no",
          "yes",
          "no",
          "yes",
          "yes",
          "no",
          "no",
          "no",
          "yes",
          "no",
          "no",
          "no",
          "yes",
          "no",
          "yes",
          "no",
          "no",
          "yes",
          "no",
          "no",
          "yes",
          "no",
          "no",
          "no",
          "yes",
          "no",
          "no",
          "no",
          "no",
          "yes",
          "no",
          "yes",
          "no",
          "no",
          "no",
          "yes",
          "no",
          "no",
          "no",
          "no",
          "no",
          "no",
          "no",
          "yes",
          "no",
          "no",
          "yes",
          "no",
          "no",
          "no",
          "no",
          "no",
          "no",
          "no",
          "yes",
          "yes",
          "no",
          "no",
          "no",
          "no",
          "no",
          "no",
          "no",
          "no",
          "no",
          "no",
          "no",
          "no",
          "no",
          "no",
          "no",
          "no",
          "no",
          "no",
          "yes",
          "no",
          "no",
          "no",
          "no",
          "no",
          "no",
          "no",
          "yes",
          "yes",
          "no",
          "no",
          "yes",
          "no",
          "no",
          "no",
          "no",
          "no",
          "yes",
          "yes",
          "no",
          "no",
          "no",
          "no",
          "no",
          "no",
          "no",
          "no",
          "yes",
          "no",
          "no",
          "no",
          "no",
          "no",
          "no",
          "yes",
          "no",
          "no",
          "no",
          "no",
          "no",
          "no",
          "no",
          "no",
          "no",
          "yes",
          "no",
          "no",
          "no",
          "no",
          "no",
          "yes",
          "no",
          "yes",
          "no",
          "no",
          "no",
          "yes",
          "no",
          "yes",
          "no",
          "yes",
          "no",
          "no",
          "no",
          "yes",
          "yes",
          "no",
          "yes",
          "no",
          "no",
          "no",
          "yes",
          "yes",
          "no",
          "yes",
          "no",
          "no",
          "no",
          "no",
          "no",
          "no",
          "yes",
          "no",
          "no",
          "yes",
          "yes",
          "yes",
          "no",
          "no",
          "yes",
          "yes",
          "no",
          "no",
          "yes",
          "no",
          "no",
          "yes",
          "no",
          "no",
          "yes",
          "no",
          "no",
          "no",
          "yes",
          "no",
          "no",
          "no",
          "yes",
          "no",
          "no",
          "no",
          "no",
          "no",
          "no",
          "no",
          "no",
          "yes",
          "no",
          "no",
          "no",
          "no",
          "no",
          "no",
          "no",
          "no",
          "yes",
          "no",
          "no",
          "no",
          "no",
          "no",
          "no",
          "no",
          "no",
          "no",
          "no",
          "yes",
          "no",
          "no",
          "no",
          "no",
          "no",
          "no",
          "no",
          "no",
          "no",
          "yes",
          "no",
          "no",
          "yes",
          "yes",
          "no",
          "no",
          "no",
          "no",
          "no",
          "no",
          "yes",
          "no",
          "no",
          "no",
          "no",
          "yes",
          "yes",
          "no",
          "no",
          "no",
          "no",
          "no",
          "yes",
          "yes",
          "no",
          "yes",
          "no",
          "no",
          "no",
          "no",
          "no",
          "yes",
          "no",
          "yes",
          "no",
          "no",
          "no",
          "yes",
          "yes",
          "no",
          "yes",
          "no",
          "yes",
          "no",
          "no",
          "no",
          "no",
          "no",
          "no",
          "no",
          "no",
          "yes",
          "no",
          "no",
          "yes",
          "no",
          "no",
          "no",
          "yes",
          "no",
          "yes",
          "no",
          "no",
          "no",
          "no",
          "yes",
          "no",
          "no",
          "no",
          "no",
          "no",
          "no",
          "no",
          "yes",
          "no",
          "yes",
          "no",
          "no",
          "yes",
          "yes",
          "no",
          "no",
          "no",
          "no",
          "no",
          "no",
          "no",
          "no",
          "no",
          "no",
          "no",
          "no",
          "yes",
          "no",
          "no",
          "yes",
          "yes",
          "no",
          "no",
          "yes",
          "no",
          "no",
          "no",
          "no",
          "no",
          "no",
          "yes",
          "no",
          "yes",
          "no",
          "yes",
          "no",
          "no",
          "yes",
          "yes",
          "no",
          "no",
          "no",
          "no",
          "no",
          "no",
          "no",
          "no",
          "no",
          "no",
          "no",
          "no",
          "no",
          "yes",
          "yes",
          "yes",
          "no",
          "no",
          "no",
          "no",
          "no",
          "yes",
          "no",
          "no",
          "no",
          "no",
          "yes",
          "no",
          "no",
          "no",
          "no",
          "no",
          "no",
          "no",
          "yes",
          "no",
          "no",
          "yes",
          "yes",
          "no",
          "no",
          "no",
          "yes",
          "no",
          "yes",
          "no",
          "no",
          "yes",
          "no",
          "yes",
          "no",
          "no",
          "no",
          "no",
          "no",
          "no",
          "no",
          "yes",
          "no",
          "no",
          "yes",
          "no",
          "yes",
          "no",
          "no",
          "yes",
          "no",
          "no",
          "no",
          "yes",
          "no",
          "no",
          "no",
          "no",
          "no",
          "yes",
          "yes",
          "no",
          "yes",
          "yes",
          "no",
          "no",
          "no",
          "no",
          "no",
          "no",
          "no",
          "yes",
          "no",
          "no",
          "no",
          "yes",
          "no",
          "yes",
          "no",
          "no",
          "no",
          "no",
          "no",
          "no",
          "yes",
          "yes",
          "no",
          "no",
          "yes",
          "no",
          "no",
          "no",
          "no",
          "no",
          "no",
          "no",
          "no",
          "no",
          "no",
          "no",
          "no",
          "no",
          "no",
          "no",
          "no",
          "yes",
          "yes",
          "yes",
          "no",
          "no",
          "no",
          "no",
          "yes",
          "no",
          "no",
          "no",
          "yes",
          "no",
          "yes",
          "no",
          "no",
          "no",
          "no",
          "no",
          "no",
          "yes",
          "yes",
          "no",
          "no",
          "no",
          "no",
          "yes",
          "no",
          "yes",
          "yes",
          "no",
          "no",
          "no",
          "yes",
          "yes",
          "no",
          "no",
          "yes",
          "yes",
          "no",
          "no",
          "no",
          "no",
          "no",
          "no",
          "no",
          "no",
          "yes",
          "yes",
          "no",
          "yes",
          "no",
          "yes",
          "yes",
          "no",
          "yes",
          "no",
          "no",
          "yes",
          "yes",
          "no",
          "no",
          "no",
          "yes",
          "no",
          "yes",
          "no",
          "no",
          "no",
          "no",
          "no",
          "no",
          "no",
          "yes",
          "no",
          "no",
          "no",
          "no",
          "no",
          "yes",
          "yes",
          "yes",
          "yes",
          "no",
          "no",
          "no",
          "no",
          "yes",
          "no",
          "no",
          "no",
          "no",
          "no",
          "no",
          "no",
          "no",
          "yes",
          "no",
          "no",
          "yes",
          "no",
          "no",
          "yes",
          "no",
          "no",
          "no",
          "yes",
          "no",
          "no",
          "no",
          "no",
          "no",
          "yes",
          "no",
          "yes",
          "yes",
          "no",
          "yes",
          "no",
          "yes",
          "no",
          "no",
          "no",
          "no",
          "no",
          "no",
          "no",
          "yes",
          "yes",
          "yes",
          "no",
          "yes",
          "no",
          "no",
          "yes",
          "no",
          "yes",
          "no",
          "no",
          "no",
          "yes",
          "yes",
          "yes",
          "yes",
          "no",
          "yes",
          "no",
          "yes",
          "no",
          "no",
          "yes",
          "no",
          "no",
          "yes",
          "yes",
          "no",
          "yes",
          "no",
          "no",
          "no",
          "yes",
          "no",
          "no",
          "yes",
          "no",
          "yes",
          "no",
          "yes",
          "yes",
          "no",
          "no",
          "no",
          "yes",
          "no",
          "yes",
          "yes",
          "no",
          "no",
          "yes",
          "no",
          "yes",
          "no",
          "yes",
          "no",
          "yes",
          "no",
          "yes",
          "no",
          "no",
          "yes",
          "yes",
          "no",
          "no",
          "yes",
          "no",
          "no",
          "no",
          "yes",
          "no",
          "no",
          "yes",
          "no",
          "yes",
          "no",
          "yes",
          "yes",
          "yes",
          "yes",
          "no",
          "yes",
          "yes",
          "no",
          "yes",
          "no",
          "no",
          "no",
          "no",
          "no",
          "no",
          "no",
          "no",
          "no",
          "no",
          "no",
          "no",
          "no",
          "no",
          "no",
          "no",
          "no",
          "no"
         ],
         "legendgroup": "",
         "name": "",
         "showlegend": true,
         "type": "pie"
        }
       ],
       "layout": {
        "legend": {
         "tracegroupgap": 0
        },
        "template": {
         "data": {
          "bar": [
           {
            "error_x": {
             "color": "#2a3f5f"
            },
            "error_y": {
             "color": "#2a3f5f"
            },
            "marker": {
             "line": {
              "color": "#E5ECF6",
              "width": 0.5
             },
             "pattern": {
              "fillmode": "overlay",
              "size": 10,
              "solidity": 0.2
             }
            },
            "type": "bar"
           }
          ],
          "barpolar": [
           {
            "marker": {
             "line": {
              "color": "#E5ECF6",
              "width": 0.5
             },
             "pattern": {
              "fillmode": "overlay",
              "size": 10,
              "solidity": 0.2
             }
            },
            "type": "barpolar"
           }
          ],
          "carpet": [
           {
            "aaxis": {
             "endlinecolor": "#2a3f5f",
             "gridcolor": "white",
             "linecolor": "white",
             "minorgridcolor": "white",
             "startlinecolor": "#2a3f5f"
            },
            "baxis": {
             "endlinecolor": "#2a3f5f",
             "gridcolor": "white",
             "linecolor": "white",
             "minorgridcolor": "white",
             "startlinecolor": "#2a3f5f"
            },
            "type": "carpet"
           }
          ],
          "choropleth": [
           {
            "colorbar": {
             "outlinewidth": 0,
             "ticks": ""
            },
            "type": "choropleth"
           }
          ],
          "contour": [
           {
            "colorbar": {
             "outlinewidth": 0,
             "ticks": ""
            },
            "colorscale": [
             [
              0,
              "#0d0887"
             ],
             [
              0.1111111111111111,
              "#46039f"
             ],
             [
              0.2222222222222222,
              "#7201a8"
             ],
             [
              0.3333333333333333,
              "#9c179e"
             ],
             [
              0.4444444444444444,
              "#bd3786"
             ],
             [
              0.5555555555555556,
              "#d8576b"
             ],
             [
              0.6666666666666666,
              "#ed7953"
             ],
             [
              0.7777777777777778,
              "#fb9f3a"
             ],
             [
              0.8888888888888888,
              "#fdca26"
             ],
             [
              1,
              "#f0f921"
             ]
            ],
            "type": "contour"
           }
          ],
          "contourcarpet": [
           {
            "colorbar": {
             "outlinewidth": 0,
             "ticks": ""
            },
            "type": "contourcarpet"
           }
          ],
          "heatmap": [
           {
            "colorbar": {
             "outlinewidth": 0,
             "ticks": ""
            },
            "colorscale": [
             [
              0,
              "#0d0887"
             ],
             [
              0.1111111111111111,
              "#46039f"
             ],
             [
              0.2222222222222222,
              "#7201a8"
             ],
             [
              0.3333333333333333,
              "#9c179e"
             ],
             [
              0.4444444444444444,
              "#bd3786"
             ],
             [
              0.5555555555555556,
              "#d8576b"
             ],
             [
              0.6666666666666666,
              "#ed7953"
             ],
             [
              0.7777777777777778,
              "#fb9f3a"
             ],
             [
              0.8888888888888888,
              "#fdca26"
             ],
             [
              1,
              "#f0f921"
             ]
            ],
            "type": "heatmap"
           }
          ],
          "heatmapgl": [
           {
            "colorbar": {
             "outlinewidth": 0,
             "ticks": ""
            },
            "colorscale": [
             [
              0,
              "#0d0887"
             ],
             [
              0.1111111111111111,
              "#46039f"
             ],
             [
              0.2222222222222222,
              "#7201a8"
             ],
             [
              0.3333333333333333,
              "#9c179e"
             ],
             [
              0.4444444444444444,
              "#bd3786"
             ],
             [
              0.5555555555555556,
              "#d8576b"
             ],
             [
              0.6666666666666666,
              "#ed7953"
             ],
             [
              0.7777777777777778,
              "#fb9f3a"
             ],
             [
              0.8888888888888888,
              "#fdca26"
             ],
             [
              1,
              "#f0f921"
             ]
            ],
            "type": "heatmapgl"
           }
          ],
          "histogram": [
           {
            "marker": {
             "pattern": {
              "fillmode": "overlay",
              "size": 10,
              "solidity": 0.2
             }
            },
            "type": "histogram"
           }
          ],
          "histogram2d": [
           {
            "colorbar": {
             "outlinewidth": 0,
             "ticks": ""
            },
            "colorscale": [
             [
              0,
              "#0d0887"
             ],
             [
              0.1111111111111111,
              "#46039f"
             ],
             [
              0.2222222222222222,
              "#7201a8"
             ],
             [
              0.3333333333333333,
              "#9c179e"
             ],
             [
              0.4444444444444444,
              "#bd3786"
             ],
             [
              0.5555555555555556,
              "#d8576b"
             ],
             [
              0.6666666666666666,
              "#ed7953"
             ],
             [
              0.7777777777777778,
              "#fb9f3a"
             ],
             [
              0.8888888888888888,
              "#fdca26"
             ],
             [
              1,
              "#f0f921"
             ]
            ],
            "type": "histogram2d"
           }
          ],
          "histogram2dcontour": [
           {
            "colorbar": {
             "outlinewidth": 0,
             "ticks": ""
            },
            "colorscale": [
             [
              0,
              "#0d0887"
             ],
             [
              0.1111111111111111,
              "#46039f"
             ],
             [
              0.2222222222222222,
              "#7201a8"
             ],
             [
              0.3333333333333333,
              "#9c179e"
             ],
             [
              0.4444444444444444,
              "#bd3786"
             ],
             [
              0.5555555555555556,
              "#d8576b"
             ],
             [
              0.6666666666666666,
              "#ed7953"
             ],
             [
              0.7777777777777778,
              "#fb9f3a"
             ],
             [
              0.8888888888888888,
              "#fdca26"
             ],
             [
              1,
              "#f0f921"
             ]
            ],
            "type": "histogram2dcontour"
           }
          ],
          "mesh3d": [
           {
            "colorbar": {
             "outlinewidth": 0,
             "ticks": ""
            },
            "type": "mesh3d"
           }
          ],
          "parcoords": [
           {
            "line": {
             "colorbar": {
              "outlinewidth": 0,
              "ticks": ""
             }
            },
            "type": "parcoords"
           }
          ],
          "pie": [
           {
            "automargin": true,
            "type": "pie"
           }
          ],
          "scatter": [
           {
            "marker": {
             "colorbar": {
              "outlinewidth": 0,
              "ticks": ""
             }
            },
            "type": "scatter"
           }
          ],
          "scatter3d": [
           {
            "line": {
             "colorbar": {
              "outlinewidth": 0,
              "ticks": ""
             }
            },
            "marker": {
             "colorbar": {
              "outlinewidth": 0,
              "ticks": ""
             }
            },
            "type": "scatter3d"
           }
          ],
          "scattercarpet": [
           {
            "marker": {
             "colorbar": {
              "outlinewidth": 0,
              "ticks": ""
             }
            },
            "type": "scattercarpet"
           }
          ],
          "scattergeo": [
           {
            "marker": {
             "colorbar": {
              "outlinewidth": 0,
              "ticks": ""
             }
            },
            "type": "scattergeo"
           }
          ],
          "scattergl": [
           {
            "marker": {
             "colorbar": {
              "outlinewidth": 0,
              "ticks": ""
             }
            },
            "type": "scattergl"
           }
          ],
          "scattermapbox": [
           {
            "marker": {
             "colorbar": {
              "outlinewidth": 0,
              "ticks": ""
             }
            },
            "type": "scattermapbox"
           }
          ],
          "scatterpolar": [
           {
            "marker": {
             "colorbar": {
              "outlinewidth": 0,
              "ticks": ""
             }
            },
            "type": "scatterpolar"
           }
          ],
          "scatterpolargl": [
           {
            "marker": {
             "colorbar": {
              "outlinewidth": 0,
              "ticks": ""
             }
            },
            "type": "scatterpolargl"
           }
          ],
          "scatterternary": [
           {
            "marker": {
             "colorbar": {
              "outlinewidth": 0,
              "ticks": ""
             }
            },
            "type": "scatterternary"
           }
          ],
          "surface": [
           {
            "colorbar": {
             "outlinewidth": 0,
             "ticks": ""
            },
            "colorscale": [
             [
              0,
              "#0d0887"
             ],
             [
              0.1111111111111111,
              "#46039f"
             ],
             [
              0.2222222222222222,
              "#7201a8"
             ],
             [
              0.3333333333333333,
              "#9c179e"
             ],
             [
              0.4444444444444444,
              "#bd3786"
             ],
             [
              0.5555555555555556,
              "#d8576b"
             ],
             [
              0.6666666666666666,
              "#ed7953"
             ],
             [
              0.7777777777777778,
              "#fb9f3a"
             ],
             [
              0.8888888888888888,
              "#fdca26"
             ],
             [
              1,
              "#f0f921"
             ]
            ],
            "type": "surface"
           }
          ],
          "table": [
           {
            "cells": {
             "fill": {
              "color": "#EBF0F8"
             },
             "line": {
              "color": "white"
             }
            },
            "header": {
             "fill": {
              "color": "#C8D4E3"
             },
             "line": {
              "color": "white"
             }
            },
            "type": "table"
           }
          ]
         },
         "layout": {
          "annotationdefaults": {
           "arrowcolor": "#2a3f5f",
           "arrowhead": 0,
           "arrowwidth": 1
          },
          "autotypenumbers": "strict",
          "coloraxis": {
           "colorbar": {
            "outlinewidth": 0,
            "ticks": ""
           }
          },
          "colorscale": {
           "diverging": [
            [
             0,
             "#8e0152"
            ],
            [
             0.1,
             "#c51b7d"
            ],
            [
             0.2,
             "#de77ae"
            ],
            [
             0.3,
             "#f1b6da"
            ],
            [
             0.4,
             "#fde0ef"
            ],
            [
             0.5,
             "#f7f7f7"
            ],
            [
             0.6,
             "#e6f5d0"
            ],
            [
             0.7,
             "#b8e186"
            ],
            [
             0.8,
             "#7fbc41"
            ],
            [
             0.9,
             "#4d9221"
            ],
            [
             1,
             "#276419"
            ]
           ],
           "sequential": [
            [
             0,
             "#0d0887"
            ],
            [
             0.1111111111111111,
             "#46039f"
            ],
            [
             0.2222222222222222,
             "#7201a8"
            ],
            [
             0.3333333333333333,
             "#9c179e"
            ],
            [
             0.4444444444444444,
             "#bd3786"
            ],
            [
             0.5555555555555556,
             "#d8576b"
            ],
            [
             0.6666666666666666,
             "#ed7953"
            ],
            [
             0.7777777777777778,
             "#fb9f3a"
            ],
            [
             0.8888888888888888,
             "#fdca26"
            ],
            [
             1,
             "#f0f921"
            ]
           ],
           "sequentialminus": [
            [
             0,
             "#0d0887"
            ],
            [
             0.1111111111111111,
             "#46039f"
            ],
            [
             0.2222222222222222,
             "#7201a8"
            ],
            [
             0.3333333333333333,
             "#9c179e"
            ],
            [
             0.4444444444444444,
             "#bd3786"
            ],
            [
             0.5555555555555556,
             "#d8576b"
            ],
            [
             0.6666666666666666,
             "#ed7953"
            ],
            [
             0.7777777777777778,
             "#fb9f3a"
            ],
            [
             0.8888888888888888,
             "#fdca26"
            ],
            [
             1,
             "#f0f921"
            ]
           ]
          },
          "colorway": [
           "#636efa",
           "#EF553B",
           "#00cc96",
           "#ab63fa",
           "#FFA15A",
           "#19d3f3",
           "#FF6692",
           "#B6E880",
           "#FF97FF",
           "#FECB52"
          ],
          "font": {
           "color": "#2a3f5f"
          },
          "geo": {
           "bgcolor": "white",
           "lakecolor": "white",
           "landcolor": "#E5ECF6",
           "showlakes": true,
           "showland": true,
           "subunitcolor": "white"
          },
          "hoverlabel": {
           "align": "left"
          },
          "hovermode": "closest",
          "mapbox": {
           "style": "light"
          },
          "paper_bgcolor": "white",
          "plot_bgcolor": "#E5ECF6",
          "polar": {
           "angularaxis": {
            "gridcolor": "white",
            "linecolor": "white",
            "ticks": ""
           },
           "bgcolor": "#E5ECF6",
           "radialaxis": {
            "gridcolor": "white",
            "linecolor": "white",
            "ticks": ""
           }
          },
          "scene": {
           "xaxis": {
            "backgroundcolor": "#E5ECF6",
            "gridcolor": "white",
            "gridwidth": 2,
            "linecolor": "white",
            "showbackground": true,
            "ticks": "",
            "zerolinecolor": "white"
           },
           "yaxis": {
            "backgroundcolor": "#E5ECF6",
            "gridcolor": "white",
            "gridwidth": 2,
            "linecolor": "white",
            "showbackground": true,
            "ticks": "",
            "zerolinecolor": "white"
           },
           "zaxis": {
            "backgroundcolor": "#E5ECF6",
            "gridcolor": "white",
            "gridwidth": 2,
            "linecolor": "white",
            "showbackground": true,
            "ticks": "",
            "zerolinecolor": "white"
           }
          },
          "shapedefaults": {
           "line": {
            "color": "#2a3f5f"
           }
          },
          "ternary": {
           "aaxis": {
            "gridcolor": "white",
            "linecolor": "white",
            "ticks": ""
           },
           "baxis": {
            "gridcolor": "white",
            "linecolor": "white",
            "ticks": ""
           },
           "bgcolor": "#E5ECF6",
           "caxis": {
            "gridcolor": "white",
            "linecolor": "white",
            "ticks": ""
           }
          },
          "title": {
           "x": 0.05
          },
          "xaxis": {
           "automargin": true,
           "gridcolor": "white",
           "linecolor": "white",
           "ticks": "",
           "title": {
            "standoff": 15
           },
           "zerolinecolor": "white",
           "zerolinewidth": 2
          },
          "yaxis": {
           "automargin": true,
           "gridcolor": "white",
           "linecolor": "white",
           "ticks": "",
           "title": {
            "standoff": 15
           },
           "zerolinecolor": "white",
           "zerolinewidth": 2
          }
         }
        },
        "title": {
         "text": "Payment on time - Voice Mail Plan"
        }
       }
      },
      "text/html": [
       "<div>                            <div id=\"32bc8248-c0d6-458a-b0fc-198e6508b023\" class=\"plotly-graph-div\" style=\"height:525px; width:100%;\"></div>            <script type=\"text/javascript\">                require([\"plotly\"], function(Plotly) {                    window.PLOTLYENV=window.PLOTLYENV || {};                                    if (document.getElementById(\"32bc8248-c0d6-458a-b0fc-198e6508b023\")) {                    Plotly.newPlot(                        \"32bc8248-c0d6-458a-b0fc-198e6508b023\",                        [{\"domain\":{\"x\":[0.0,1.0],\"y\":[0.0,1.0]},\"hovertemplate\":\"voice_mail_plan=%{label}<extra></extra>\",\"labels\":[\"no\",\"no\",\"no\",\"no\",\"yes\",\"no\",\"yes\",\"yes\",\"no\",\"yes\",\"no\",\"no\",\"no\",\"no\",\"no\",\"yes\",\"no\",\"yes\",\"no\",\"yes\",\"yes\",\"no\",\"yes\",\"no\",\"yes\",\"yes\",\"no\",\"no\",\"no\",\"no\",\"no\",\"yes\",\"no\",\"yes\",\"no\",\"yes\",\"no\",\"yes\",\"no\",\"no\",\"no\",\"yes\",\"yes\",\"no\",\"no\",\"no\",\"no\",\"yes\",\"no\",\"no\",\"no\",\"no\",\"no\",\"no\",\"yes\",\"no\",\"yes\",\"no\",\"no\",\"no\",\"no\",\"yes\",\"no\",\"yes\",\"no\",\"no\",\"yes\",\"no\",\"no\",\"yes\",\"no\",\"yes\",\"no\",\"no\",\"yes\",\"no\",\"no\",\"yes\",\"no\",\"no\",\"yes\",\"no\",\"yes\",\"yes\",\"no\",\"no\",\"no\",\"no\",\"no\",\"no\",\"yes\",\"no\",\"no\",\"no\",\"no\",\"no\",\"no\",\"no\",\"no\",\"yes\",\"no\",\"yes\",\"no\",\"no\",\"no\",\"yes\",\"yes\",\"no\",\"yes\",\"yes\",\"no\",\"no\",\"no\",\"no\",\"no\",\"no\",\"no\",\"no\",\"no\",\"yes\",\"no\",\"no\",\"no\",\"no\",\"yes\",\"yes\",\"no\",\"no\",\"no\",\"no\",\"no\",\"yes\",\"yes\",\"yes\",\"no\",\"yes\",\"yes\",\"no\",\"no\",\"yes\",\"no\",\"no\",\"no\",\"no\",\"yes\",\"yes\",\"no\",\"yes\",\"no\",\"no\",\"no\",\"no\",\"yes\",\"no\",\"no\",\"no\",\"no\",\"no\",\"no\",\"yes\",\"no\",\"no\",\"yes\",\"no\",\"no\",\"no\",\"no\",\"no\",\"no\",\"no\",\"no\",\"no\",\"yes\",\"yes\",\"no\",\"no\",\"no\",\"yes\",\"yes\",\"yes\",\"no\",\"no\",\"no\",\"no\",\"no\",\"no\",\"no\",\"no\",\"yes\",\"no\",\"yes\",\"yes\",\"no\",\"yes\",\"no\",\"no\",\"no\",\"yes\",\"no\",\"yes\",\"no\",\"no\",\"yes\",\"no\",\"no\",\"no\",\"no\",\"no\",\"yes\",\"no\",\"yes\",\"yes\",\"no\",\"no\",\"yes\",\"yes\",\"yes\",\"no\",\"no\",\"no\",\"no\",\"no\",\"no\",\"yes\",\"no\",\"no\",\"no\",\"no\",\"yes\",\"no\",\"no\",\"no\",\"no\",\"no\",\"yes\",\"no\",\"no\",\"yes\",\"no\",\"no\",\"no\",\"no\",\"no\",\"no\",\"no\",\"no\",\"no\",\"no\",\"no\",\"no\",\"no\",\"no\",\"no\",\"no\",\"yes\",\"no\",\"no\",\"no\",\"yes\",\"no\",\"no\",\"no\",\"yes\",\"no\",\"yes\",\"no\",\"yes\",\"yes\",\"no\",\"yes\",\"no\",\"no\",\"yes\",\"no\",\"no\",\"no\",\"yes\",\"no\",\"no\",\"yes\",\"no\",\"no\",\"no\",\"no\",\"yes\",\"no\",\"no\",\"no\",\"yes\",\"no\",\"no\",\"no\",\"no\",\"yes\",\"yes\",\"no\",\"no\",\"no\",\"yes\",\"no\",\"yes\",\"no\",\"no\",\"no\",\"no\",\"no\",\"no\",\"yes\",\"no\",\"no\",\"no\",\"no\",\"yes\",\"no\",\"no\",\"no\",\"no\",\"yes\",\"no\",\"no\",\"no\",\"no\",\"yes\",\"yes\",\"yes\",\"no\",\"yes\",\"yes\",\"no\",\"no\",\"no\",\"yes\",\"yes\",\"yes\",\"yes\",\"no\",\"no\",\"yes\",\"yes\",\"no\",\"yes\",\"no\",\"no\",\"no\",\"yes\",\"no\",\"no\",\"no\",\"no\",\"no\",\"yes\",\"yes\",\"no\",\"no\",\"yes\",\"no\",\"yes\",\"no\",\"no\",\"no\",\"no\",\"no\",\"no\",\"no\",\"no\",\"no\",\"no\",\"no\",\"no\",\"yes\",\"no\",\"yes\",\"no\",\"no\",\"no\",\"no\",\"no\",\"no\",\"no\",\"no\",\"yes\",\"no\",\"no\",\"yes\",\"yes\",\"yes\",\"no\",\"no\",\"yes\",\"yes\",\"yes\",\"no\",\"yes\",\"no\",\"no\",\"no\",\"no\",\"yes\",\"yes\",\"no\",\"no\",\"no\",\"no\",\"yes\",\"no\",\"yes\",\"no\",\"no\",\"no\",\"no\",\"yes\",\"no\",\"no\",\"yes\",\"no\",\"no\",\"no\",\"no\",\"no\",\"no\",\"no\",\"no\",\"yes\",\"no\",\"yes\",\"no\",\"no\",\"no\",\"no\",\"yes\",\"no\",\"yes\",\"no\",\"no\",\"yes\",\"no\",\"no\",\"no\",\"no\",\"no\",\"no\",\"yes\",\"yes\",\"no\",\"yes\",\"no\",\"no\",\"no\",\"yes\",\"no\",\"no\",\"no\",\"yes\",\"no\",\"no\",\"no\",\"no\",\"no\",\"no\",\"no\",\"no\",\"no\",\"no\",\"no\",\"no\",\"no\",\"yes\",\"no\",\"no\",\"no\",\"no\",\"no\",\"yes\",\"no\",\"yes\",\"yes\",\"yes\",\"no\",\"no\",\"no\",\"yes\",\"yes\",\"yes\",\"no\",\"no\",\"no\",\"yes\",\"no\",\"yes\",\"no\",\"no\",\"no\",\"no\",\"no\",\"no\",\"yes\",\"no\",\"no\",\"yes\",\"no\",\"no\",\"yes\",\"yes\",\"no\",\"yes\",\"yes\",\"yes\",\"yes\",\"no\",\"no\",\"no\",\"no\",\"yes\",\"no\",\"no\",\"yes\",\"no\",\"no\",\"yes\",\"no\",\"no\",\"yes\",\"yes\",\"yes\",\"no\",\"yes\",\"no\",\"no\",\"no\",\"no\",\"yes\",\"yes\",\"yes\",\"yes\",\"yes\",\"no\",\"no\",\"no\",\"no\",\"no\",\"yes\",\"no\",\"yes\",\"no\",\"no\",\"yes\",\"no\",\"no\",\"no\",\"no\",\"no\",\"no\",\"no\",\"no\",\"no\",\"no\",\"no\",\"no\",\"no\",\"yes\",\"no\",\"no\",\"no\",\"yes\",\"no\",\"yes\",\"no\",\"yes\",\"no\",\"no\",\"no\",\"no\",\"no\",\"no\",\"yes\",\"yes\",\"no\",\"no\",\"no\",\"yes\",\"no\",\"no\",\"no\",\"no\",\"no\",\"no\",\"no\",\"yes\",\"no\",\"no\",\"no\",\"no\",\"no\",\"no\",\"no\",\"yes\",\"yes\",\"yes\",\"no\",\"no\",\"yes\",\"yes\",\"yes\",\"yes\",\"no\",\"yes\",\"yes\",\"yes\",\"yes\",\"no\",\"no\",\"no\",\"no\",\"yes\",\"yes\",\"yes\",\"no\",\"no\",\"no\",\"no\",\"no\",\"no\",\"yes\",\"yes\",\"yes\",\"yes\",\"no\",\"yes\",\"no\",\"no\",\"no\",\"no\",\"no\",\"no\",\"yes\",\"no\",\"no\",\"no\",\"no\",\"yes\",\"no\",\"no\",\"no\",\"yes\",\"yes\",\"no\",\"no\",\"no\",\"no\",\"no\",\"yes\",\"yes\",\"no\",\"no\",\"no\",\"no\",\"no\",\"no\",\"yes\",\"no\",\"no\",\"no\",\"no\",\"no\",\"no\",\"yes\",\"no\",\"no\",\"no\",\"yes\",\"no\",\"yes\",\"no\",\"no\",\"yes\",\"no\",\"no\",\"no\",\"no\",\"no\",\"yes\",\"no\",\"yes\",\"no\",\"no\",\"yes\",\"yes\",\"no\",\"no\",\"no\",\"yes\",\"yes\",\"no\",\"yes\",\"no\",\"no\",\"no\",\"no\",\"no\",\"no\",\"yes\",\"no\",\"yes\",\"no\",\"yes\",\"no\",\"no\",\"no\",\"no\",\"yes\",\"no\",\"no\",\"yes\",\"no\",\"yes\",\"no\",\"yes\",\"no\",\"no\",\"no\",\"no\",\"no\",\"no\",\"no\",\"yes\",\"yes\",\"no\",\"no\",\"no\",\"yes\",\"no\",\"no\",\"no\",\"yes\",\"no\",\"no\",\"no\",\"no\",\"no\",\"no\",\"no\",\"yes\",\"no\",\"no\",\"no\",\"no\",\"yes\",\"no\",\"no\",\"no\",\"yes\",\"yes\",\"no\",\"no\",\"no\",\"no\",\"no\",\"no\",\"yes\",\"no\",\"no\",\"no\",\"no\",\"yes\",\"no\",\"yes\",\"yes\",\"no\",\"yes\",\"no\",\"no\",\"yes\",\"no\",\"no\",\"no\",\"no\",\"no\",\"no\",\"no\",\"no\",\"yes\",\"no\",\"no\",\"no\",\"yes\",\"no\",\"yes\",\"no\",\"no\",\"no\",\"yes\",\"no\",\"yes\",\"no\",\"yes\",\"no\",\"yes\",\"yes\",\"no\",\"no\",\"yes\",\"no\",\"yes\",\"no\",\"no\",\"yes\",\"yes\",\"no\",\"no\",\"no\",\"no\",\"yes\",\"no\",\"yes\",\"yes\",\"yes\",\"no\",\"no\",\"no\",\"no\",\"no\",\"no\",\"no\",\"no\",\"no\",\"no\",\"yes\",\"yes\",\"yes\",\"no\",\"no\",\"yes\",\"yes\",\"no\",\"no\",\"no\",\"yes\",\"yes\",\"no\",\"no\",\"no\",\"yes\",\"no\",\"yes\",\"yes\",\"no\",\"no\",\"no\",\"no\",\"no\",\"no\",\"yes\",\"no\",\"no\",\"yes\",\"yes\",\"yes\",\"no\",\"no\",\"no\",\"no\",\"no\",\"no\",\"no\",\"no\",\"no\",\"no\",\"no\",\"yes\",\"no\",\"no\",\"no\",\"no\",\"no\",\"no\",\"no\",\"no\",\"no\",\"yes\",\"no\",\"no\",\"no\",\"yes\",\"yes\",\"no\",\"yes\",\"yes\",\"yes\",\"no\",\"no\",\"no\",\"no\",\"no\",\"no\",\"no\",\"no\",\"yes\",\"no\",\"no\",\"yes\",\"no\",\"no\",\"no\",\"no\",\"yes\",\"yes\",\"no\",\"yes\",\"no\",\"no\",\"no\",\"no\",\"yes\",\"no\",\"no\",\"yes\",\"no\",\"no\",\"no\",\"yes\",\"no\",\"yes\",\"no\",\"no\",\"yes\",\"no\",\"no\",\"no\",\"no\",\"yes\",\"no\",\"no\",\"no\",\"no\",\"yes\",\"yes\",\"yes\",\"no\",\"no\",\"yes\",\"no\",\"yes\",\"yes\",\"no\",\"no\",\"yes\",\"no\",\"no\",\"no\",\"no\",\"yes\",\"yes\",\"yes\",\"no\",\"yes\",\"no\",\"no\",\"no\",\"no\",\"no\",\"no\",\"no\",\"no\",\"yes\",\"no\",\"no\",\"no\",\"no\",\"yes\",\"no\",\"no\",\"no\",\"yes\",\"no\",\"no\",\"no\",\"no\",\"yes\",\"no\",\"no\",\"no\",\"yes\",\"yes\",\"no\",\"no\",\"no\",\"yes\",\"no\",\"no\",\"no\",\"no\",\"no\",\"yes\",\"no\",\"no\",\"no\",\"yes\",\"no\",\"yes\",\"no\",\"yes\",\"no\",\"no\",\"no\",\"no\",\"no\",\"no\",\"yes\",\"yes\",\"no\",\"yes\",\"no\",\"no\",\"yes\",\"no\",\"no\",\"no\",\"yes\",\"no\",\"yes\",\"yes\",\"no\",\"no\",\"no\",\"yes\",\"no\",\"no\",\"no\",\"yes\",\"no\",\"no\",\"yes\",\"no\",\"no\",\"no\",\"no\",\"yes\",\"no\",\"no\",\"no\",\"yes\",\"yes\",\"yes\",\"no\",\"no\",\"yes\",\"yes\",\"yes\",\"no\",\"no\",\"no\",\"no\",\"no\",\"yes\",\"no\",\"no\",\"yes\",\"yes\",\"yes\",\"no\",\"yes\",\"no\",\"no\",\"no\",\"yes\",\"no\",\"no\",\"no\",\"no\",\"no\",\"no\",\"yes\",\"no\",\"yes\",\"no\",\"no\",\"no\",\"no\",\"yes\",\"no\",\"no\",\"no\",\"no\",\"no\",\"no\",\"no\",\"no\",\"no\",\"no\",\"no\",\"yes\",\"no\",\"no\",\"yes\",\"no\",\"yes\",\"yes\",\"no\",\"yes\",\"no\",\"no\",\"no\",\"no\",\"no\",\"no\",\"no\",\"no\",\"yes\",\"no\",\"no\",\"no\",\"no\",\"no\",\"no\",\"no\",\"yes\",\"no\",\"yes\",\"no\",\"yes\",\"no\",\"yes\",\"no\",\"no\",\"yes\",\"no\",\"no\",\"no\",\"no\",\"no\",\"no\",\"yes\",\"no\",\"no\",\"no\",\"no\",\"no\",\"no\",\"yes\",\"no\",\"no\",\"no\",\"no\",\"no\",\"yes\",\"yes\",\"no\",\"yes\",\"no\",\"no\",\"no\",\"no\",\"no\",\"no\",\"yes\",\"no\",\"no\",\"yes\",\"no\",\"no\",\"yes\",\"no\",\"no\",\"no\",\"no\",\"no\",\"yes\",\"no\",\"yes\",\"no\",\"no\",\"yes\",\"no\",\"yes\",\"no\",\"no\",\"no\",\"no\",\"yes\",\"no\",\"yes\",\"no\",\"no\",\"no\",\"no\",\"no\",\"yes\",\"yes\",\"no\",\"no\",\"yes\",\"no\",\"no\",\"no\",\"no\",\"yes\",\"yes\",\"no\",\"no\",\"yes\",\"yes\",\"no\",\"no\",\"no\",\"no\",\"yes\",\"no\",\"yes\",\"no\",\"no\",\"yes\",\"yes\",\"yes\",\"no\",\"yes\",\"no\",\"no\",\"yes\",\"no\",\"no\",\"yes\",\"yes\",\"yes\",\"yes\",\"no\",\"no\",\"no\",\"no\",\"no\",\"no\",\"no\",\"no\",\"no\",\"no\",\"no\",\"yes\",\"no\",\"no\",\"yes\",\"no\",\"no\",\"no\",\"yes\",\"no\",\"no\",\"no\",\"no\",\"no\",\"yes\",\"no\",\"no\",\"yes\",\"yes\",\"yes\",\"no\",\"no\",\"no\",\"no\",\"no\",\"no\",\"no\",\"no\",\"no\",\"yes\",\"yes\",\"no\",\"no\",\"no\",\"no\",\"yes\",\"no\",\"yes\",\"no\",\"no\",\"no\",\"no\",\"no\",\"no\",\"no\",\"no\",\"no\",\"no\",\"no\",\"no\",\"no\",\"no\",\"no\",\"yes\",\"no\",\"yes\",\"yes\",\"yes\",\"yes\",\"no\",\"no\",\"no\",\"no\",\"no\",\"no\",\"no\",\"yes\",\"no\",\"no\",\"yes\",\"no\",\"no\",\"no\",\"yes\",\"no\",\"no\",\"no\",\"no\",\"yes\",\"no\",\"yes\",\"no\",\"yes\",\"no\",\"yes\",\"no\",\"yes\",\"no\",\"no\",\"no\",\"no\",\"no\",\"yes\",\"yes\",\"no\",\"no\",\"no\",\"yes\",\"no\",\"yes\",\"no\",\"no\",\"yes\",\"no\",\"yes\",\"yes\",\"no\",\"no\",\"yes\",\"no\",\"no\",\"yes\",\"no\",\"no\",\"no\",\"no\",\"no\",\"no\",\"no\",\"no\",\"no\",\"no\",\"yes\",\"no\",\"yes\",\"no\",\"no\",\"yes\",\"no\",\"no\",\"no\",\"no\",\"no\",\"no\",\"no\",\"no\",\"no\",\"yes\",\"no\",\"no\",\"no\",\"no\",\"no\",\"yes\",\"no\",\"no\",\"no\",\"no\",\"no\",\"no\",\"yes\",\"no\",\"yes\",\"yes\",\"no\",\"yes\",\"no\",\"no\",\"yes\",\"no\",\"no\",\"no\",\"no\",\"no\",\"no\",\"no\",\"yes\",\"no\",\"yes\",\"no\",\"no\",\"no\",\"yes\",\"yes\",\"yes\",\"no\",\"no\",\"no\",\"no\",\"no\",\"no\",\"yes\",\"yes\",\"no\",\"no\",\"no\",\"yes\",\"no\",\"no\",\"yes\",\"no\",\"yes\",\"yes\",\"no\",\"no\",\"yes\",\"no\",\"no\",\"no\",\"no\",\"no\",\"yes\",\"yes\",\"no\",\"no\",\"no\",\"no\",\"no\",\"no\",\"no\",\"no\",\"no\",\"no\",\"no\",\"no\",\"yes\",\"no\",\"no\",\"no\",\"no\",\"no\",\"no\",\"no\",\"no\",\"no\",\"no\",\"no\",\"yes\",\"yes\",\"no\",\"no\",\"no\",\"yes\",\"yes\",\"no\",\"no\",\"no\",\"yes\",\"no\",\"yes\",\"yes\",\"yes\",\"no\",\"yes\",\"no\",\"no\",\"no\",\"no\",\"yes\",\"no\",\"no\",\"no\",\"no\",\"no\",\"no\",\"no\",\"no\",\"yes\",\"yes\",\"no\",\"yes\",\"no\",\"yes\",\"no\",\"no\",\"yes\",\"no\",\"no\",\"no\",\"yes\",\"yes\",\"no\",\"yes\",\"no\",\"no\",\"yes\",\"no\",\"yes\",\"no\",\"yes\",\"yes\",\"yes\",\"yes\",\"no\",\"no\",\"no\",\"yes\",\"no\",\"no\",\"yes\",\"yes\",\"no\",\"yes\",\"yes\",\"no\",\"no\",\"no\",\"no\",\"no\",\"yes\",\"no\",\"no\",\"no\",\"no\",\"no\",\"yes\",\"no\",\"no\",\"no\",\"yes\",\"yes\",\"no\",\"yes\",\"no\",\"no\",\"no\",\"yes\",\"yes\",\"no\",\"yes\",\"no\",\"yes\",\"no\",\"no\",\"yes\",\"yes\",\"no\",\"no\",\"no\",\"no\",\"no\",\"yes\",\"no\",\"no\",\"no\",\"no\",\"no\",\"yes\",\"no\",\"no\",\"no\",\"yes\",\"no\",\"no\",\"no\",\"no\",\"no\",\"yes\",\"no\",\"no\",\"yes\",\"no\",\"no\",\"yes\",\"no\",\"no\",\"no\",\"no\",\"no\",\"no\",\"no\",\"yes\",\"no\",\"no\",\"yes\",\"no\",\"no\",\"yes\",\"no\",\"no\",\"no\",\"no\",\"no\",\"yes\",\"yes\",\"yes\",\"no\",\"no\",\"no\",\"no\",\"no\",\"no\",\"no\",\"no\",\"yes\",\"no\",\"yes\",\"no\",\"no\",\"no\",\"no\",\"no\",\"no\",\"no\",\"no\",\"no\",\"no\",\"yes\",\"no\",\"no\",\"yes\",\"no\",\"no\",\"yes\",\"no\",\"no\",\"no\",\"no\",\"no\",\"yes\",\"no\",\"no\",\"yes\",\"no\",\"no\",\"no\",\"no\",\"yes\",\"yes\",\"no\",\"no\",\"no\",\"no\",\"yes\",\"yes\",\"no\",\"no\",\"no\",\"yes\",\"no\",\"yes\",\"yes\",\"no\",\"no\",\"yes\",\"no\",\"yes\",\"no\",\"yes\",\"no\",\"no\",\"yes\",\"yes\",\"no\",\"no\",\"no\",\"no\",\"no\",\"no\",\"no\",\"no\",\"no\",\"no\",\"no\",\"no\",\"no\",\"no\",\"no\",\"yes\",\"no\",\"no\",\"no\",\"no\",\"no\",\"yes\",\"no\",\"no\",\"no\",\"no\",\"no\",\"yes\",\"yes\",\"yes\",\"no\",\"no\",\"yes\",\"no\",\"no\",\"no\",\"no\",\"yes\",\"no\",\"no\",\"yes\",\"no\",\"no\",\"no\",\"no\",\"no\",\"yes\",\"no\",\"no\",\"no\",\"no\",\"no\",\"no\",\"yes\",\"no\",\"no\",\"no\",\"yes\",\"yes\",\"yes\",\"no\",\"no\",\"no\",\"no\",\"yes\",\"yes\",\"no\",\"no\",\"yes\",\"no\",\"no\",\"no\",\"no\",\"no\",\"no\",\"yes\",\"no\",\"yes\",\"no\",\"no\",\"no\",\"no\",\"no\",\"no\",\"yes\",\"yes\",\"no\",\"yes\",\"yes\",\"no\",\"yes\",\"no\",\"no\",\"no\",\"yes\",\"no\",\"yes\",\"no\",\"no\",\"yes\",\"no\",\"no\",\"no\",\"no\",\"no\",\"no\",\"no\",\"no\",\"no\",\"no\",\"no\",\"yes\",\"no\",\"no\",\"yes\",\"yes\",\"no\",\"no\",\"no\",\"no\",\"no\",\"yes\",\"no\",\"yes\",\"yes\",\"no\",\"no\",\"no\",\"no\",\"no\",\"yes\",\"no\",\"yes\",\"no\",\"no\",\"yes\",\"no\",\"yes\",\"no\",\"no\",\"no\",\"no\",\"yes\",\"no\",\"no\",\"yes\",\"no\",\"no\",\"no\",\"no\",\"yes\",\"no\",\"no\",\"yes\",\"no\",\"yes\",\"no\",\"yes\",\"no\",\"no\",\"no\",\"no\",\"no\",\"no\",\"no\",\"no\",\"no\",\"no\",\"no\",\"yes\",\"no\",\"yes\",\"no\",\"no\",\"no\",\"yes\",\"no\",\"no\",\"no\",\"no\",\"yes\",\"no\",\"no\",\"no\",\"no\",\"no\",\"no\",\"yes\",\"no\",\"no\",\"yes\",\"no\",\"yes\",\"no\",\"no\",\"no\",\"no\",\"no\",\"no\",\"no\",\"yes\",\"yes\",\"no\",\"yes\",\"no\",\"no\",\"no\",\"no\",\"yes\",\"no\",\"no\",\"no\",\"no\",\"yes\",\"no\",\"no\",\"no\",\"no\",\"no\",\"no\",\"no\",\"no\",\"yes\",\"no\",\"yes\",\"yes\",\"no\",\"no\",\"no\",\"yes\",\"no\",\"no\",\"no\",\"yes\",\"no\",\"yes\",\"no\",\"no\",\"yes\",\"no\",\"no\",\"yes\",\"no\",\"no\",\"no\",\"yes\",\"no\",\"no\",\"no\",\"no\",\"yes\",\"no\",\"yes\",\"no\",\"no\",\"no\",\"yes\",\"no\",\"no\",\"no\",\"no\",\"no\",\"no\",\"no\",\"yes\",\"no\",\"no\",\"yes\",\"no\",\"no\",\"no\",\"no\",\"no\",\"no\",\"no\",\"yes\",\"yes\",\"no\",\"no\",\"no\",\"no\",\"no\",\"no\",\"no\",\"no\",\"no\",\"no\",\"no\",\"no\",\"no\",\"no\",\"no\",\"no\",\"no\",\"no\",\"yes\",\"no\",\"no\",\"no\",\"no\",\"no\",\"no\",\"no\",\"yes\",\"yes\",\"no\",\"no\",\"yes\",\"no\",\"no\",\"no\",\"no\",\"no\",\"yes\",\"yes\",\"no\",\"no\",\"no\",\"no\",\"no\",\"no\",\"no\",\"no\",\"yes\",\"no\",\"no\",\"no\",\"no\",\"no\",\"no\",\"yes\",\"no\",\"no\",\"no\",\"no\",\"no\",\"no\",\"no\",\"no\",\"no\",\"yes\",\"no\",\"no\",\"no\",\"no\",\"no\",\"yes\",\"no\",\"yes\",\"no\",\"no\",\"no\",\"yes\",\"no\",\"yes\",\"no\",\"yes\",\"no\",\"no\",\"no\",\"yes\",\"yes\",\"no\",\"yes\",\"no\",\"no\",\"no\",\"yes\",\"yes\",\"no\",\"yes\",\"no\",\"no\",\"no\",\"no\",\"no\",\"no\",\"yes\",\"no\",\"no\",\"yes\",\"yes\",\"yes\",\"no\",\"no\",\"yes\",\"yes\",\"no\",\"no\",\"yes\",\"no\",\"no\",\"yes\",\"no\",\"no\",\"yes\",\"no\",\"no\",\"no\",\"yes\",\"no\",\"no\",\"no\",\"yes\",\"no\",\"no\",\"no\",\"no\",\"no\",\"no\",\"no\",\"no\",\"yes\",\"no\",\"no\",\"no\",\"no\",\"no\",\"no\",\"no\",\"no\",\"yes\",\"no\",\"no\",\"no\",\"no\",\"no\",\"no\",\"no\",\"no\",\"no\",\"no\",\"yes\",\"no\",\"no\",\"no\",\"no\",\"no\",\"no\",\"no\",\"no\",\"no\",\"yes\",\"no\",\"no\",\"yes\",\"yes\",\"no\",\"no\",\"no\",\"no\",\"no\",\"no\",\"yes\",\"no\",\"no\",\"no\",\"no\",\"yes\",\"yes\",\"no\",\"no\",\"no\",\"no\",\"no\",\"yes\",\"yes\",\"no\",\"yes\",\"no\",\"no\",\"no\",\"no\",\"no\",\"yes\",\"no\",\"yes\",\"no\",\"no\",\"no\",\"yes\",\"yes\",\"no\",\"yes\",\"no\",\"yes\",\"no\",\"no\",\"no\",\"no\",\"no\",\"no\",\"no\",\"no\",\"yes\",\"no\",\"no\",\"yes\",\"no\",\"no\",\"no\",\"yes\",\"no\",\"yes\",\"no\",\"no\",\"no\",\"no\",\"yes\",\"no\",\"no\",\"no\",\"no\",\"no\",\"no\",\"no\",\"yes\",\"no\",\"yes\",\"no\",\"no\",\"yes\",\"yes\",\"no\",\"no\",\"no\",\"no\",\"no\",\"no\",\"no\",\"no\",\"no\",\"no\",\"no\",\"no\",\"yes\",\"no\",\"no\",\"yes\",\"yes\",\"no\",\"no\",\"yes\",\"no\",\"no\",\"no\",\"no\",\"no\",\"no\",\"yes\",\"no\",\"yes\",\"no\",\"yes\",\"no\",\"no\",\"yes\",\"yes\",\"no\",\"no\",\"no\",\"no\",\"no\",\"no\",\"no\",\"no\",\"no\",\"no\",\"no\",\"no\",\"no\",\"yes\",\"yes\",\"yes\",\"no\",\"no\",\"no\",\"no\",\"no\",\"yes\",\"no\",\"no\",\"no\",\"no\",\"yes\",\"no\",\"no\",\"no\",\"no\",\"no\",\"no\",\"no\",\"yes\",\"no\",\"no\",\"yes\",\"yes\",\"no\",\"no\",\"no\",\"yes\",\"no\",\"yes\",\"no\",\"no\",\"yes\",\"no\",\"yes\",\"no\",\"no\",\"no\",\"no\",\"no\",\"no\",\"no\",\"yes\",\"no\",\"no\",\"yes\",\"no\",\"yes\",\"no\",\"no\",\"yes\",\"no\",\"no\",\"no\",\"yes\",\"no\",\"no\",\"no\",\"no\",\"no\",\"yes\",\"yes\",\"no\",\"yes\",\"yes\",\"no\",\"no\",\"no\",\"no\",\"no\",\"no\",\"no\",\"yes\",\"no\",\"no\",\"no\",\"yes\",\"no\",\"yes\",\"no\",\"no\",\"no\",\"no\",\"no\",\"no\",\"yes\",\"yes\",\"no\",\"no\",\"yes\",\"no\",\"no\",\"no\",\"no\",\"no\",\"no\",\"no\",\"no\",\"no\",\"no\",\"no\",\"no\",\"no\",\"no\",\"no\",\"no\",\"yes\",\"yes\",\"yes\",\"no\",\"no\",\"no\",\"no\",\"yes\",\"no\",\"no\",\"no\",\"yes\",\"no\",\"yes\",\"no\",\"no\",\"no\",\"no\",\"no\",\"no\",\"yes\",\"yes\",\"no\",\"no\",\"no\",\"no\",\"yes\",\"no\",\"yes\",\"yes\",\"no\",\"no\",\"no\",\"yes\",\"yes\",\"no\",\"no\",\"yes\",\"yes\",\"no\",\"no\",\"no\",\"no\",\"no\",\"no\",\"no\",\"no\",\"yes\",\"yes\",\"no\",\"yes\",\"no\",\"yes\",\"yes\",\"no\",\"yes\",\"no\",\"no\",\"yes\",\"yes\",\"no\",\"no\",\"no\",\"yes\",\"no\",\"yes\",\"no\",\"no\",\"no\",\"no\",\"no\",\"no\",\"no\",\"yes\",\"no\",\"no\",\"no\",\"no\",\"no\",\"yes\",\"yes\",\"yes\",\"yes\",\"no\",\"no\",\"no\",\"no\",\"yes\",\"no\",\"no\",\"no\",\"no\",\"no\",\"no\",\"no\",\"no\",\"yes\",\"no\",\"no\",\"yes\",\"no\",\"no\",\"yes\",\"no\",\"no\",\"no\",\"yes\",\"no\",\"no\",\"no\",\"no\",\"no\",\"yes\",\"no\",\"yes\",\"yes\",\"no\",\"yes\",\"no\",\"yes\",\"no\",\"no\",\"no\",\"no\",\"no\",\"no\",\"no\",\"yes\",\"yes\",\"yes\",\"no\",\"yes\",\"no\",\"no\",\"yes\",\"no\",\"yes\",\"no\",\"no\",\"no\",\"yes\",\"yes\",\"yes\",\"yes\",\"no\",\"yes\",\"no\",\"yes\",\"no\",\"no\",\"yes\",\"no\",\"no\",\"yes\",\"yes\",\"no\",\"yes\",\"no\",\"no\",\"no\",\"yes\",\"no\",\"no\",\"yes\",\"no\",\"yes\",\"no\",\"yes\",\"yes\",\"no\",\"no\",\"no\",\"yes\",\"no\",\"yes\",\"yes\",\"no\",\"no\",\"yes\",\"no\",\"yes\",\"no\",\"yes\",\"no\",\"yes\",\"no\",\"yes\",\"no\",\"no\",\"yes\",\"yes\",\"no\",\"no\",\"yes\",\"no\",\"no\",\"no\",\"yes\",\"no\",\"no\",\"yes\",\"no\",\"yes\",\"no\",\"yes\",\"yes\",\"yes\",\"yes\",\"no\",\"yes\",\"yes\",\"no\",\"yes\",\"no\",\"no\",\"no\",\"no\",\"no\",\"no\",\"no\",\"no\",\"no\",\"no\",\"no\",\"no\",\"no\",\"no\",\"no\",\"no\",\"no\",\"no\"],\"legendgroup\":\"\",\"name\":\"\",\"showlegend\":true,\"type\":\"pie\"}],                        {\"legend\":{\"tracegroupgap\":0},\"template\":{\"data\":{\"bar\":[{\"error_x\":{\"color\":\"#2a3f5f\"},\"error_y\":{\"color\":\"#2a3f5f\"},\"marker\":{\"line\":{\"color\":\"#E5ECF6\",\"width\":0.5},\"pattern\":{\"fillmode\":\"overlay\",\"size\":10,\"solidity\":0.2}},\"type\":\"bar\"}],\"barpolar\":[{\"marker\":{\"line\":{\"color\":\"#E5ECF6\",\"width\":0.5},\"pattern\":{\"fillmode\":\"overlay\",\"size\":10,\"solidity\":0.2}},\"type\":\"barpolar\"}],\"carpet\":[{\"aaxis\":{\"endlinecolor\":\"#2a3f5f\",\"gridcolor\":\"white\",\"linecolor\":\"white\",\"minorgridcolor\":\"white\",\"startlinecolor\":\"#2a3f5f\"},\"baxis\":{\"endlinecolor\":\"#2a3f5f\",\"gridcolor\":\"white\",\"linecolor\":\"white\",\"minorgridcolor\":\"white\",\"startlinecolor\":\"#2a3f5f\"},\"type\":\"carpet\"}],\"choropleth\":[{\"colorbar\":{\"outlinewidth\":0,\"ticks\":\"\"},\"type\":\"choropleth\"}],\"contour\":[{\"colorbar\":{\"outlinewidth\":0,\"ticks\":\"\"},\"colorscale\":[[0.0,\"#0d0887\"],[0.1111111111111111,\"#46039f\"],[0.2222222222222222,\"#7201a8\"],[0.3333333333333333,\"#9c179e\"],[0.4444444444444444,\"#bd3786\"],[0.5555555555555556,\"#d8576b\"],[0.6666666666666666,\"#ed7953\"],[0.7777777777777778,\"#fb9f3a\"],[0.8888888888888888,\"#fdca26\"],[1.0,\"#f0f921\"]],\"type\":\"contour\"}],\"contourcarpet\":[{\"colorbar\":{\"outlinewidth\":0,\"ticks\":\"\"},\"type\":\"contourcarpet\"}],\"heatmap\":[{\"colorbar\":{\"outlinewidth\":0,\"ticks\":\"\"},\"colorscale\":[[0.0,\"#0d0887\"],[0.1111111111111111,\"#46039f\"],[0.2222222222222222,\"#7201a8\"],[0.3333333333333333,\"#9c179e\"],[0.4444444444444444,\"#bd3786\"],[0.5555555555555556,\"#d8576b\"],[0.6666666666666666,\"#ed7953\"],[0.7777777777777778,\"#fb9f3a\"],[0.8888888888888888,\"#fdca26\"],[1.0,\"#f0f921\"]],\"type\":\"heatmap\"}],\"heatmapgl\":[{\"colorbar\":{\"outlinewidth\":0,\"ticks\":\"\"},\"colorscale\":[[0.0,\"#0d0887\"],[0.1111111111111111,\"#46039f\"],[0.2222222222222222,\"#7201a8\"],[0.3333333333333333,\"#9c179e\"],[0.4444444444444444,\"#bd3786\"],[0.5555555555555556,\"#d8576b\"],[0.6666666666666666,\"#ed7953\"],[0.7777777777777778,\"#fb9f3a\"],[0.8888888888888888,\"#fdca26\"],[1.0,\"#f0f921\"]],\"type\":\"heatmapgl\"}],\"histogram\":[{\"marker\":{\"pattern\":{\"fillmode\":\"overlay\",\"size\":10,\"solidity\":0.2}},\"type\":\"histogram\"}],\"histogram2d\":[{\"colorbar\":{\"outlinewidth\":0,\"ticks\":\"\"},\"colorscale\":[[0.0,\"#0d0887\"],[0.1111111111111111,\"#46039f\"],[0.2222222222222222,\"#7201a8\"],[0.3333333333333333,\"#9c179e\"],[0.4444444444444444,\"#bd3786\"],[0.5555555555555556,\"#d8576b\"],[0.6666666666666666,\"#ed7953\"],[0.7777777777777778,\"#fb9f3a\"],[0.8888888888888888,\"#fdca26\"],[1.0,\"#f0f921\"]],\"type\":\"histogram2d\"}],\"histogram2dcontour\":[{\"colorbar\":{\"outlinewidth\":0,\"ticks\":\"\"},\"colorscale\":[[0.0,\"#0d0887\"],[0.1111111111111111,\"#46039f\"],[0.2222222222222222,\"#7201a8\"],[0.3333333333333333,\"#9c179e\"],[0.4444444444444444,\"#bd3786\"],[0.5555555555555556,\"#d8576b\"],[0.6666666666666666,\"#ed7953\"],[0.7777777777777778,\"#fb9f3a\"],[0.8888888888888888,\"#fdca26\"],[1.0,\"#f0f921\"]],\"type\":\"histogram2dcontour\"}],\"mesh3d\":[{\"colorbar\":{\"outlinewidth\":0,\"ticks\":\"\"},\"type\":\"mesh3d\"}],\"parcoords\":[{\"line\":{\"colorbar\":{\"outlinewidth\":0,\"ticks\":\"\"}},\"type\":\"parcoords\"}],\"pie\":[{\"automargin\":true,\"type\":\"pie\"}],\"scatter\":[{\"marker\":{\"colorbar\":{\"outlinewidth\":0,\"ticks\":\"\"}},\"type\":\"scatter\"}],\"scatter3d\":[{\"line\":{\"colorbar\":{\"outlinewidth\":0,\"ticks\":\"\"}},\"marker\":{\"colorbar\":{\"outlinewidth\":0,\"ticks\":\"\"}},\"type\":\"scatter3d\"}],\"scattercarpet\":[{\"marker\":{\"colorbar\":{\"outlinewidth\":0,\"ticks\":\"\"}},\"type\":\"scattercarpet\"}],\"scattergeo\":[{\"marker\":{\"colorbar\":{\"outlinewidth\":0,\"ticks\":\"\"}},\"type\":\"scattergeo\"}],\"scattergl\":[{\"marker\":{\"colorbar\":{\"outlinewidth\":0,\"ticks\":\"\"}},\"type\":\"scattergl\"}],\"scattermapbox\":[{\"marker\":{\"colorbar\":{\"outlinewidth\":0,\"ticks\":\"\"}},\"type\":\"scattermapbox\"}],\"scatterpolar\":[{\"marker\":{\"colorbar\":{\"outlinewidth\":0,\"ticks\":\"\"}},\"type\":\"scatterpolar\"}],\"scatterpolargl\":[{\"marker\":{\"colorbar\":{\"outlinewidth\":0,\"ticks\":\"\"}},\"type\":\"scatterpolargl\"}],\"scatterternary\":[{\"marker\":{\"colorbar\":{\"outlinewidth\":0,\"ticks\":\"\"}},\"type\":\"scatterternary\"}],\"surface\":[{\"colorbar\":{\"outlinewidth\":0,\"ticks\":\"\"},\"colorscale\":[[0.0,\"#0d0887\"],[0.1111111111111111,\"#46039f\"],[0.2222222222222222,\"#7201a8\"],[0.3333333333333333,\"#9c179e\"],[0.4444444444444444,\"#bd3786\"],[0.5555555555555556,\"#d8576b\"],[0.6666666666666666,\"#ed7953\"],[0.7777777777777778,\"#fb9f3a\"],[0.8888888888888888,\"#fdca26\"],[1.0,\"#f0f921\"]],\"type\":\"surface\"}],\"table\":[{\"cells\":{\"fill\":{\"color\":\"#EBF0F8\"},\"line\":{\"color\":\"white\"}},\"header\":{\"fill\":{\"color\":\"#C8D4E3\"},\"line\":{\"color\":\"white\"}},\"type\":\"table\"}]},\"layout\":{\"annotationdefaults\":{\"arrowcolor\":\"#2a3f5f\",\"arrowhead\":0,\"arrowwidth\":1},\"autotypenumbers\":\"strict\",\"coloraxis\":{\"colorbar\":{\"outlinewidth\":0,\"ticks\":\"\"}},\"colorscale\":{\"diverging\":[[0,\"#8e0152\"],[0.1,\"#c51b7d\"],[0.2,\"#de77ae\"],[0.3,\"#f1b6da\"],[0.4,\"#fde0ef\"],[0.5,\"#f7f7f7\"],[0.6,\"#e6f5d0\"],[0.7,\"#b8e186\"],[0.8,\"#7fbc41\"],[0.9,\"#4d9221\"],[1,\"#276419\"]],\"sequential\":[[0.0,\"#0d0887\"],[0.1111111111111111,\"#46039f\"],[0.2222222222222222,\"#7201a8\"],[0.3333333333333333,\"#9c179e\"],[0.4444444444444444,\"#bd3786\"],[0.5555555555555556,\"#d8576b\"],[0.6666666666666666,\"#ed7953\"],[0.7777777777777778,\"#fb9f3a\"],[0.8888888888888888,\"#fdca26\"],[1.0,\"#f0f921\"]],\"sequentialminus\":[[0.0,\"#0d0887\"],[0.1111111111111111,\"#46039f\"],[0.2222222222222222,\"#7201a8\"],[0.3333333333333333,\"#9c179e\"],[0.4444444444444444,\"#bd3786\"],[0.5555555555555556,\"#d8576b\"],[0.6666666666666666,\"#ed7953\"],[0.7777777777777778,\"#fb9f3a\"],[0.8888888888888888,\"#fdca26\"],[1.0,\"#f0f921\"]]},\"colorway\":[\"#636efa\",\"#EF553B\",\"#00cc96\",\"#ab63fa\",\"#FFA15A\",\"#19d3f3\",\"#FF6692\",\"#B6E880\",\"#FF97FF\",\"#FECB52\"],\"font\":{\"color\":\"#2a3f5f\"},\"geo\":{\"bgcolor\":\"white\",\"lakecolor\":\"white\",\"landcolor\":\"#E5ECF6\",\"showlakes\":true,\"showland\":true,\"subunitcolor\":\"white\"},\"hoverlabel\":{\"align\":\"left\"},\"hovermode\":\"closest\",\"mapbox\":{\"style\":\"light\"},\"paper_bgcolor\":\"white\",\"plot_bgcolor\":\"#E5ECF6\",\"polar\":{\"angularaxis\":{\"gridcolor\":\"white\",\"linecolor\":\"white\",\"ticks\":\"\"},\"bgcolor\":\"#E5ECF6\",\"radialaxis\":{\"gridcolor\":\"white\",\"linecolor\":\"white\",\"ticks\":\"\"}},\"scene\":{\"xaxis\":{\"backgroundcolor\":\"#E5ECF6\",\"gridcolor\":\"white\",\"gridwidth\":2,\"linecolor\":\"white\",\"showbackground\":true,\"ticks\":\"\",\"zerolinecolor\":\"white\"},\"yaxis\":{\"backgroundcolor\":\"#E5ECF6\",\"gridcolor\":\"white\",\"gridwidth\":2,\"linecolor\":\"white\",\"showbackground\":true,\"ticks\":\"\",\"zerolinecolor\":\"white\"},\"zaxis\":{\"backgroundcolor\":\"#E5ECF6\",\"gridcolor\":\"white\",\"gridwidth\":2,\"linecolor\":\"white\",\"showbackground\":true,\"ticks\":\"\",\"zerolinecolor\":\"white\"}},\"shapedefaults\":{\"line\":{\"color\":\"#2a3f5f\"}},\"ternary\":{\"aaxis\":{\"gridcolor\":\"white\",\"linecolor\":\"white\",\"ticks\":\"\"},\"baxis\":{\"gridcolor\":\"white\",\"linecolor\":\"white\",\"ticks\":\"\"},\"bgcolor\":\"#E5ECF6\",\"caxis\":{\"gridcolor\":\"white\",\"linecolor\":\"white\",\"ticks\":\"\"}},\"title\":{\"x\":0.05},\"xaxis\":{\"automargin\":true,\"gridcolor\":\"white\",\"linecolor\":\"white\",\"ticks\":\"\",\"title\":{\"standoff\":15},\"zerolinecolor\":\"white\",\"zerolinewidth\":2},\"yaxis\":{\"automargin\":true,\"gridcolor\":\"white\",\"linecolor\":\"white\",\"ticks\":\"\",\"title\":{\"standoff\":15},\"zerolinecolor\":\"white\",\"zerolinewidth\":2}}},\"title\":{\"text\":\"Payment on time - Voice Mail Plan\"}},                        {\"responsive\": true}                    ).then(function(){\n",
       "                            \n",
       "var gd = document.getElementById('32bc8248-c0d6-458a-b0fc-198e6508b023');\n",
       "var x = new MutationObserver(function (mutations, observer) {{\n",
       "        var display = window.getComputedStyle(gd).display;\n",
       "        if (!display || display === 'none') {{\n",
       "            console.log([gd, 'removed!']);\n",
       "            Plotly.purge(gd);\n",
       "            observer.disconnect();\n",
       "        }}\n",
       "}});\n",
       "\n",
       "// Listen for the removal of the full notebook cells\n",
       "var notebookContainer = gd.closest('#notebook-container');\n",
       "if (notebookContainer) {{\n",
       "    x.observe(notebookContainer, {childList: true});\n",
       "}}\n",
       "\n",
       "// Listen for the clearing of the current output cell\n",
       "var outputEl = gd.closest('.output');\n",
       "if (outputEl) {{\n",
       "    x.observe(outputEl, {childList: true});\n",
       "}}\n",
       "\n",
       "                        })                };                });            </script>        </div>"
      ]
     },
     "metadata": {},
     "output_type": "display_data"
    }
   ],
   "source": [
    "# y.head(20)\n",
    "fig = px.pie(df[df['payment_delay'] == 'yes'], names='voice_mail_plan', title='Payment Delay - Voice Mail Plan')\n",
    "fig.show()\n",
    "\n",
    "fig = px.pie(df[df['payment_delay'] == 'no'], names='voice_mail_plan', title='Payment on time - Voice Mail Plan')\n",
    "fig.show()\n"
   ]
  },
  {
   "cell_type": "markdown",
   "id": "d3a133f5",
   "metadata": {},
   "source": [
    "Again, we can't decide on the payment delay probability, based on this feature."
   ]
  },
  {
   "cell_type": "code",
   "execution_count": 13,
   "id": "d616e406",
   "metadata": {},
   "outputs": [
    {
     "data": {
      "application/vnd.plotly.v1+json": {
       "config": {
        "plotlyServerURL": "https://plot.ly"
       },
       "data": [
        {
         "domain": {
          "x": [
           0,
           1
          ],
          "y": [
           0,
           1
          ]
         },
         "hovertemplate": "state=%{label}<extra></extra>",
         "labels": [
          "TN",
          "UT",
          "MI",
          "TX",
          "TX",
          "CO",
          "HI",
          "NY",
          "GA",
          "MA",
          "MD",
          "DE",
          "FL",
          "TN",
          "DC",
          "NJ",
          "UT",
          "OK",
          "MT",
          "IN",
          "MT",
          "ME",
          "WV",
          "TX",
          "KS",
          "AL",
          "DE",
          "AL",
          "MA",
          "ME",
          "CT",
          "MN",
          "NV",
          "AR",
          "AZ",
          "WA",
          "AZ",
          "NH",
          "MN",
          "WA",
          "NH",
          "OR",
          "WA",
          "KY",
          "OR",
          "MS",
          "LA",
          "NH",
          "WA",
          "ND",
          "OK",
          "MS",
          "NJ",
          "WV",
          "WV",
          "AL",
          "KY",
          "NC",
          "OK",
          "TX",
          "MS",
          "OH",
          "NM",
          "KY",
          "IN",
          "AL",
          "NM",
          "PA",
          "KS",
          "MD",
          "WY",
          "SC",
          "MD",
          "MD",
          "MS",
          "CT",
          "TN",
          "OH",
          "TX",
          "NV",
          "DE",
          "MA",
          "FL",
          "AZ",
          "VA",
          "RI",
          "TX",
          "AR",
          "OK",
          "MN",
          "MO",
          "WV",
          "MO",
          "TX",
          "MS",
          "AK",
          "HI",
          "TX",
          "TX",
          "UT",
          "UT",
          "ME",
          "CA",
          "NH",
          "RI",
          "TN",
          "IN",
          "MN",
          "WA",
          "MN",
          "NC",
          "SD",
          "UT",
          "MA",
          "TX",
          "ME",
          "OH",
          "FL",
          "TN",
          "KY",
          "CT",
          "GA",
          "SD",
          "ME",
          "AR",
          "OK",
          "CT",
          "ID",
          "MD",
          "AR",
          "WA",
          "LA",
          "MN",
          "AR",
          "ME",
          "MD",
          "VT",
          "WV",
          "NJ",
          "NJ",
          "DC",
          "NH",
          "NH",
          "TX",
          "MN",
          "HI",
          "NH",
          "MI",
          "NH",
          "NJ",
          "WY",
          "WA",
          "TX",
          "IA",
          "NJ",
          "SC",
          "MD",
          "MN",
          "MD",
          "RI",
          "MS",
          "VA",
          "TX",
          "MD",
          "WA",
          "NY",
          "WI",
          "MT",
          "MS",
          "MS",
          "IN",
          "NJ",
          "AL",
          "TN",
          "OK",
          "AR",
          "MI",
          "CT",
          "AR",
          "OK",
          "ME",
          "NY",
          "TX",
          "TN",
          "PA",
          "WI",
          "ID",
          "TX",
          "CT",
          "OR",
          "NH",
          "SD",
          "DE",
          "AR",
          "UT",
          "MI",
          "PA",
          "KS",
          "CO",
          "UT",
          "ND",
          "VT",
          "NY",
          "OK",
          "TN",
          "CA",
          "IN",
          "MS",
          "MI",
          "KS",
          "WI",
          "NM",
          "AZ",
          "AR",
          "WV",
          "KS",
          "NJ",
          "WV",
          "CA",
          "AK",
          "OK",
          "ME",
          "UT",
          "OR",
          "VT",
          "NV",
          "AL",
          "MO",
          "NE",
          "SD",
          "NY",
          "WI",
          "UT",
          "OH",
          "AK",
          "VT",
          "SD",
          "CA",
          "GA",
          "GA",
          "IA",
          "GA",
          "OK",
          "IL",
          "MN",
          "LA",
          "ID",
          "UT",
          "MA",
          "TN",
          "OR",
          "WY",
          "AR",
          "SC",
          "GA",
          "WY",
          "AZ",
          "MD",
          "AL",
          "NC",
          "MD",
          "IN",
          "HI",
          "OK",
          "TX",
          "MN",
          "GA",
          "MT",
          "NC",
          "IL",
          "ID",
          "OR",
          "NY",
          "MD",
          "SD",
          "OK",
          "AL",
          "MO",
          "DE",
          "NY",
          "KS",
          "WA",
          "NV",
          "ME",
          "MI",
          "SC",
          "SC",
          "ID",
          "WI",
          "MI",
          "WA",
          "GA",
          "ID",
          "MO",
          "MO",
          "VA",
          "VT",
          "NC",
          "KY",
          "OR",
          "WY",
          "DE",
          "CA",
          "OR",
          "AZ",
          "MT",
          "SC",
          "LA",
          "OH",
          "CA",
          "RI",
          "NC",
          "MS",
          "NC",
          "AR",
          "MA",
          "MI",
          "NY",
          "NY",
          "MT",
          "ID",
          "NC",
          "MS",
          "RI",
          "IL",
          "TX",
          "DE",
          "UT",
          "NJ",
          "PA",
          "MN",
          "CA",
          "IA",
          "AR",
          "WY",
          "MD",
          "WA",
          "CT",
          "WV",
          "NY",
          "MS",
          "TN",
          "NV",
          "WA",
          "NJ",
          "CO",
          "WV",
          "MT",
          "WV",
          "FL",
          "MN",
          "DC",
          "WY",
          "NE",
          "MT",
          "AL",
          "DE",
          "MN",
          "ND",
          "ID",
          "NJ",
          "OK",
          "OR",
          "NJ",
          "MS",
          "NV",
          "MA",
          "VA",
          "CT",
          "WV",
          "MT",
          "TX",
          "IA",
          "OR",
          "WY",
          "MA",
          "ID",
          "OR",
          "NY",
          "VT",
          "ID",
          "MT",
          "MN",
          "MI",
          "IA",
          "MA",
          "KS",
          "NJ",
          "MT",
          "WV",
          "AZ",
          "IA",
          "IA",
          "SD",
          "DC",
          "MS",
          "WV",
          "CO",
          "KS",
          "NV",
          "MI",
          "CT",
          "WY",
          "MA",
          "NC",
          "MN",
          "NJ",
          "CO",
          "FL",
          "TX",
          "VT",
          "ME",
          "OR"
         ],
         "legendgroup": "",
         "name": "",
         "showlegend": true,
         "type": "pie"
        }
       ],
       "layout": {
        "legend": {
         "tracegroupgap": 0
        },
        "template": {
         "data": {
          "bar": [
           {
            "error_x": {
             "color": "#2a3f5f"
            },
            "error_y": {
             "color": "#2a3f5f"
            },
            "marker": {
             "line": {
              "color": "#E5ECF6",
              "width": 0.5
             },
             "pattern": {
              "fillmode": "overlay",
              "size": 10,
              "solidity": 0.2
             }
            },
            "type": "bar"
           }
          ],
          "barpolar": [
           {
            "marker": {
             "line": {
              "color": "#E5ECF6",
              "width": 0.5
             },
             "pattern": {
              "fillmode": "overlay",
              "size": 10,
              "solidity": 0.2
             }
            },
            "type": "barpolar"
           }
          ],
          "carpet": [
           {
            "aaxis": {
             "endlinecolor": "#2a3f5f",
             "gridcolor": "white",
             "linecolor": "white",
             "minorgridcolor": "white",
             "startlinecolor": "#2a3f5f"
            },
            "baxis": {
             "endlinecolor": "#2a3f5f",
             "gridcolor": "white",
             "linecolor": "white",
             "minorgridcolor": "white",
             "startlinecolor": "#2a3f5f"
            },
            "type": "carpet"
           }
          ],
          "choropleth": [
           {
            "colorbar": {
             "outlinewidth": 0,
             "ticks": ""
            },
            "type": "choropleth"
           }
          ],
          "contour": [
           {
            "colorbar": {
             "outlinewidth": 0,
             "ticks": ""
            },
            "colorscale": [
             [
              0,
              "#0d0887"
             ],
             [
              0.1111111111111111,
              "#46039f"
             ],
             [
              0.2222222222222222,
              "#7201a8"
             ],
             [
              0.3333333333333333,
              "#9c179e"
             ],
             [
              0.4444444444444444,
              "#bd3786"
             ],
             [
              0.5555555555555556,
              "#d8576b"
             ],
             [
              0.6666666666666666,
              "#ed7953"
             ],
             [
              0.7777777777777778,
              "#fb9f3a"
             ],
             [
              0.8888888888888888,
              "#fdca26"
             ],
             [
              1,
              "#f0f921"
             ]
            ],
            "type": "contour"
           }
          ],
          "contourcarpet": [
           {
            "colorbar": {
             "outlinewidth": 0,
             "ticks": ""
            },
            "type": "contourcarpet"
           }
          ],
          "heatmap": [
           {
            "colorbar": {
             "outlinewidth": 0,
             "ticks": ""
            },
            "colorscale": [
             [
              0,
              "#0d0887"
             ],
             [
              0.1111111111111111,
              "#46039f"
             ],
             [
              0.2222222222222222,
              "#7201a8"
             ],
             [
              0.3333333333333333,
              "#9c179e"
             ],
             [
              0.4444444444444444,
              "#bd3786"
             ],
             [
              0.5555555555555556,
              "#d8576b"
             ],
             [
              0.6666666666666666,
              "#ed7953"
             ],
             [
              0.7777777777777778,
              "#fb9f3a"
             ],
             [
              0.8888888888888888,
              "#fdca26"
             ],
             [
              1,
              "#f0f921"
             ]
            ],
            "type": "heatmap"
           }
          ],
          "heatmapgl": [
           {
            "colorbar": {
             "outlinewidth": 0,
             "ticks": ""
            },
            "colorscale": [
             [
              0,
              "#0d0887"
             ],
             [
              0.1111111111111111,
              "#46039f"
             ],
             [
              0.2222222222222222,
              "#7201a8"
             ],
             [
              0.3333333333333333,
              "#9c179e"
             ],
             [
              0.4444444444444444,
              "#bd3786"
             ],
             [
              0.5555555555555556,
              "#d8576b"
             ],
             [
              0.6666666666666666,
              "#ed7953"
             ],
             [
              0.7777777777777778,
              "#fb9f3a"
             ],
             [
              0.8888888888888888,
              "#fdca26"
             ],
             [
              1,
              "#f0f921"
             ]
            ],
            "type": "heatmapgl"
           }
          ],
          "histogram": [
           {
            "marker": {
             "pattern": {
              "fillmode": "overlay",
              "size": 10,
              "solidity": 0.2
             }
            },
            "type": "histogram"
           }
          ],
          "histogram2d": [
           {
            "colorbar": {
             "outlinewidth": 0,
             "ticks": ""
            },
            "colorscale": [
             [
              0,
              "#0d0887"
             ],
             [
              0.1111111111111111,
              "#46039f"
             ],
             [
              0.2222222222222222,
              "#7201a8"
             ],
             [
              0.3333333333333333,
              "#9c179e"
             ],
             [
              0.4444444444444444,
              "#bd3786"
             ],
             [
              0.5555555555555556,
              "#d8576b"
             ],
             [
              0.6666666666666666,
              "#ed7953"
             ],
             [
              0.7777777777777778,
              "#fb9f3a"
             ],
             [
              0.8888888888888888,
              "#fdca26"
             ],
             [
              1,
              "#f0f921"
             ]
            ],
            "type": "histogram2d"
           }
          ],
          "histogram2dcontour": [
           {
            "colorbar": {
             "outlinewidth": 0,
             "ticks": ""
            },
            "colorscale": [
             [
              0,
              "#0d0887"
             ],
             [
              0.1111111111111111,
              "#46039f"
             ],
             [
              0.2222222222222222,
              "#7201a8"
             ],
             [
              0.3333333333333333,
              "#9c179e"
             ],
             [
              0.4444444444444444,
              "#bd3786"
             ],
             [
              0.5555555555555556,
              "#d8576b"
             ],
             [
              0.6666666666666666,
              "#ed7953"
             ],
             [
              0.7777777777777778,
              "#fb9f3a"
             ],
             [
              0.8888888888888888,
              "#fdca26"
             ],
             [
              1,
              "#f0f921"
             ]
            ],
            "type": "histogram2dcontour"
           }
          ],
          "mesh3d": [
           {
            "colorbar": {
             "outlinewidth": 0,
             "ticks": ""
            },
            "type": "mesh3d"
           }
          ],
          "parcoords": [
           {
            "line": {
             "colorbar": {
              "outlinewidth": 0,
              "ticks": ""
             }
            },
            "type": "parcoords"
           }
          ],
          "pie": [
           {
            "automargin": true,
            "type": "pie"
           }
          ],
          "scatter": [
           {
            "marker": {
             "colorbar": {
              "outlinewidth": 0,
              "ticks": ""
             }
            },
            "type": "scatter"
           }
          ],
          "scatter3d": [
           {
            "line": {
             "colorbar": {
              "outlinewidth": 0,
              "ticks": ""
             }
            },
            "marker": {
             "colorbar": {
              "outlinewidth": 0,
              "ticks": ""
             }
            },
            "type": "scatter3d"
           }
          ],
          "scattercarpet": [
           {
            "marker": {
             "colorbar": {
              "outlinewidth": 0,
              "ticks": ""
             }
            },
            "type": "scattercarpet"
           }
          ],
          "scattergeo": [
           {
            "marker": {
             "colorbar": {
              "outlinewidth": 0,
              "ticks": ""
             }
            },
            "type": "scattergeo"
           }
          ],
          "scattergl": [
           {
            "marker": {
             "colorbar": {
              "outlinewidth": 0,
              "ticks": ""
             }
            },
            "type": "scattergl"
           }
          ],
          "scattermapbox": [
           {
            "marker": {
             "colorbar": {
              "outlinewidth": 0,
              "ticks": ""
             }
            },
            "type": "scattermapbox"
           }
          ],
          "scatterpolar": [
           {
            "marker": {
             "colorbar": {
              "outlinewidth": 0,
              "ticks": ""
             }
            },
            "type": "scatterpolar"
           }
          ],
          "scatterpolargl": [
           {
            "marker": {
             "colorbar": {
              "outlinewidth": 0,
              "ticks": ""
             }
            },
            "type": "scatterpolargl"
           }
          ],
          "scatterternary": [
           {
            "marker": {
             "colorbar": {
              "outlinewidth": 0,
              "ticks": ""
             }
            },
            "type": "scatterternary"
           }
          ],
          "surface": [
           {
            "colorbar": {
             "outlinewidth": 0,
             "ticks": ""
            },
            "colorscale": [
             [
              0,
              "#0d0887"
             ],
             [
              0.1111111111111111,
              "#46039f"
             ],
             [
              0.2222222222222222,
              "#7201a8"
             ],
             [
              0.3333333333333333,
              "#9c179e"
             ],
             [
              0.4444444444444444,
              "#bd3786"
             ],
             [
              0.5555555555555556,
              "#d8576b"
             ],
             [
              0.6666666666666666,
              "#ed7953"
             ],
             [
              0.7777777777777778,
              "#fb9f3a"
             ],
             [
              0.8888888888888888,
              "#fdca26"
             ],
             [
              1,
              "#f0f921"
             ]
            ],
            "type": "surface"
           }
          ],
          "table": [
           {
            "cells": {
             "fill": {
              "color": "#EBF0F8"
             },
             "line": {
              "color": "white"
             }
            },
            "header": {
             "fill": {
              "color": "#C8D4E3"
             },
             "line": {
              "color": "white"
             }
            },
            "type": "table"
           }
          ]
         },
         "layout": {
          "annotationdefaults": {
           "arrowcolor": "#2a3f5f",
           "arrowhead": 0,
           "arrowwidth": 1
          },
          "autotypenumbers": "strict",
          "coloraxis": {
           "colorbar": {
            "outlinewidth": 0,
            "ticks": ""
           }
          },
          "colorscale": {
           "diverging": [
            [
             0,
             "#8e0152"
            ],
            [
             0.1,
             "#c51b7d"
            ],
            [
             0.2,
             "#de77ae"
            ],
            [
             0.3,
             "#f1b6da"
            ],
            [
             0.4,
             "#fde0ef"
            ],
            [
             0.5,
             "#f7f7f7"
            ],
            [
             0.6,
             "#e6f5d0"
            ],
            [
             0.7,
             "#b8e186"
            ],
            [
             0.8,
             "#7fbc41"
            ],
            [
             0.9,
             "#4d9221"
            ],
            [
             1,
             "#276419"
            ]
           ],
           "sequential": [
            [
             0,
             "#0d0887"
            ],
            [
             0.1111111111111111,
             "#46039f"
            ],
            [
             0.2222222222222222,
             "#7201a8"
            ],
            [
             0.3333333333333333,
             "#9c179e"
            ],
            [
             0.4444444444444444,
             "#bd3786"
            ],
            [
             0.5555555555555556,
             "#d8576b"
            ],
            [
             0.6666666666666666,
             "#ed7953"
            ],
            [
             0.7777777777777778,
             "#fb9f3a"
            ],
            [
             0.8888888888888888,
             "#fdca26"
            ],
            [
             1,
             "#f0f921"
            ]
           ],
           "sequentialminus": [
            [
             0,
             "#0d0887"
            ],
            [
             0.1111111111111111,
             "#46039f"
            ],
            [
             0.2222222222222222,
             "#7201a8"
            ],
            [
             0.3333333333333333,
             "#9c179e"
            ],
            [
             0.4444444444444444,
             "#bd3786"
            ],
            [
             0.5555555555555556,
             "#d8576b"
            ],
            [
             0.6666666666666666,
             "#ed7953"
            ],
            [
             0.7777777777777778,
             "#fb9f3a"
            ],
            [
             0.8888888888888888,
             "#fdca26"
            ],
            [
             1,
             "#f0f921"
            ]
           ]
          },
          "colorway": [
           "#636efa",
           "#EF553B",
           "#00cc96",
           "#ab63fa",
           "#FFA15A",
           "#19d3f3",
           "#FF6692",
           "#B6E880",
           "#FF97FF",
           "#FECB52"
          ],
          "font": {
           "color": "#2a3f5f"
          },
          "geo": {
           "bgcolor": "white",
           "lakecolor": "white",
           "landcolor": "#E5ECF6",
           "showlakes": true,
           "showland": true,
           "subunitcolor": "white"
          },
          "hoverlabel": {
           "align": "left"
          },
          "hovermode": "closest",
          "mapbox": {
           "style": "light"
          },
          "paper_bgcolor": "white",
          "plot_bgcolor": "#E5ECF6",
          "polar": {
           "angularaxis": {
            "gridcolor": "white",
            "linecolor": "white",
            "ticks": ""
           },
           "bgcolor": "#E5ECF6",
           "radialaxis": {
            "gridcolor": "white",
            "linecolor": "white",
            "ticks": ""
           }
          },
          "scene": {
           "xaxis": {
            "backgroundcolor": "#E5ECF6",
            "gridcolor": "white",
            "gridwidth": 2,
            "linecolor": "white",
            "showbackground": true,
            "ticks": "",
            "zerolinecolor": "white"
           },
           "yaxis": {
            "backgroundcolor": "#E5ECF6",
            "gridcolor": "white",
            "gridwidth": 2,
            "linecolor": "white",
            "showbackground": true,
            "ticks": "",
            "zerolinecolor": "white"
           },
           "zaxis": {
            "backgroundcolor": "#E5ECF6",
            "gridcolor": "white",
            "gridwidth": 2,
            "linecolor": "white",
            "showbackground": true,
            "ticks": "",
            "zerolinecolor": "white"
           }
          },
          "shapedefaults": {
           "line": {
            "color": "#2a3f5f"
           }
          },
          "ternary": {
           "aaxis": {
            "gridcolor": "white",
            "linecolor": "white",
            "ticks": ""
           },
           "baxis": {
            "gridcolor": "white",
            "linecolor": "white",
            "ticks": ""
           },
           "bgcolor": "#E5ECF6",
           "caxis": {
            "gridcolor": "white",
            "linecolor": "white",
            "ticks": ""
           }
          },
          "title": {
           "x": 0.05
          },
          "xaxis": {
           "automargin": true,
           "gridcolor": "white",
           "linecolor": "white",
           "ticks": "",
           "title": {
            "standoff": 15
           },
           "zerolinecolor": "white",
           "zerolinewidth": 2
          },
          "yaxis": {
           "automargin": true,
           "gridcolor": "white",
           "linecolor": "white",
           "ticks": "",
           "title": {
            "standoff": 15
           },
           "zerolinecolor": "white",
           "zerolinewidth": 2
          }
         }
        },
        "title": {
         "text": "Payment Delay - State"
        }
       }
      },
      "text/html": [
       "<div>                            <div id=\"50359126-c969-4657-a0f6-e74ec2f8122a\" class=\"plotly-graph-div\" style=\"height:525px; width:100%;\"></div>            <script type=\"text/javascript\">                require([\"plotly\"], function(Plotly) {                    window.PLOTLYENV=window.PLOTLYENV || {};                                    if (document.getElementById(\"50359126-c969-4657-a0f6-e74ec2f8122a\")) {                    Plotly.newPlot(                        \"50359126-c969-4657-a0f6-e74ec2f8122a\",                        [{\"domain\":{\"x\":[0.0,1.0],\"y\":[0.0,1.0]},\"hovertemplate\":\"state=%{label}<extra></extra>\",\"labels\":[\"TN\",\"UT\",\"MI\",\"TX\",\"TX\",\"CO\",\"HI\",\"NY\",\"GA\",\"MA\",\"MD\",\"DE\",\"FL\",\"TN\",\"DC\",\"NJ\",\"UT\",\"OK\",\"MT\",\"IN\",\"MT\",\"ME\",\"WV\",\"TX\",\"KS\",\"AL\",\"DE\",\"AL\",\"MA\",\"ME\",\"CT\",\"MN\",\"NV\",\"AR\",\"AZ\",\"WA\",\"AZ\",\"NH\",\"MN\",\"WA\",\"NH\",\"OR\",\"WA\",\"KY\",\"OR\",\"MS\",\"LA\",\"NH\",\"WA\",\"ND\",\"OK\",\"MS\",\"NJ\",\"WV\",\"WV\",\"AL\",\"KY\",\"NC\",\"OK\",\"TX\",\"MS\",\"OH\",\"NM\",\"KY\",\"IN\",\"AL\",\"NM\",\"PA\",\"KS\",\"MD\",\"WY\",\"SC\",\"MD\",\"MD\",\"MS\",\"CT\",\"TN\",\"OH\",\"TX\",\"NV\",\"DE\",\"MA\",\"FL\",\"AZ\",\"VA\",\"RI\",\"TX\",\"AR\",\"OK\",\"MN\",\"MO\",\"WV\",\"MO\",\"TX\",\"MS\",\"AK\",\"HI\",\"TX\",\"TX\",\"UT\",\"UT\",\"ME\",\"CA\",\"NH\",\"RI\",\"TN\",\"IN\",\"MN\",\"WA\",\"MN\",\"NC\",\"SD\",\"UT\",\"MA\",\"TX\",\"ME\",\"OH\",\"FL\",\"TN\",\"KY\",\"CT\",\"GA\",\"SD\",\"ME\",\"AR\",\"OK\",\"CT\",\"ID\",\"MD\",\"AR\",\"WA\",\"LA\",\"MN\",\"AR\",\"ME\",\"MD\",\"VT\",\"WV\",\"NJ\",\"NJ\",\"DC\",\"NH\",\"NH\",\"TX\",\"MN\",\"HI\",\"NH\",\"MI\",\"NH\",\"NJ\",\"WY\",\"WA\",\"TX\",\"IA\",\"NJ\",\"SC\",\"MD\",\"MN\",\"MD\",\"RI\",\"MS\",\"VA\",\"TX\",\"MD\",\"WA\",\"NY\",\"WI\",\"MT\",\"MS\",\"MS\",\"IN\",\"NJ\",\"AL\",\"TN\",\"OK\",\"AR\",\"MI\",\"CT\",\"AR\",\"OK\",\"ME\",\"NY\",\"TX\",\"TN\",\"PA\",\"WI\",\"ID\",\"TX\",\"CT\",\"OR\",\"NH\",\"SD\",\"DE\",\"AR\",\"UT\",\"MI\",\"PA\",\"KS\",\"CO\",\"UT\",\"ND\",\"VT\",\"NY\",\"OK\",\"TN\",\"CA\",\"IN\",\"MS\",\"MI\",\"KS\",\"WI\",\"NM\",\"AZ\",\"AR\",\"WV\",\"KS\",\"NJ\",\"WV\",\"CA\",\"AK\",\"OK\",\"ME\",\"UT\",\"OR\",\"VT\",\"NV\",\"AL\",\"MO\",\"NE\",\"SD\",\"NY\",\"WI\",\"UT\",\"OH\",\"AK\",\"VT\",\"SD\",\"CA\",\"GA\",\"GA\",\"IA\",\"GA\",\"OK\",\"IL\",\"MN\",\"LA\",\"ID\",\"UT\",\"MA\",\"TN\",\"OR\",\"WY\",\"AR\",\"SC\",\"GA\",\"WY\",\"AZ\",\"MD\",\"AL\",\"NC\",\"MD\",\"IN\",\"HI\",\"OK\",\"TX\",\"MN\",\"GA\",\"MT\",\"NC\",\"IL\",\"ID\",\"OR\",\"NY\",\"MD\",\"SD\",\"OK\",\"AL\",\"MO\",\"DE\",\"NY\",\"KS\",\"WA\",\"NV\",\"ME\",\"MI\",\"SC\",\"SC\",\"ID\",\"WI\",\"MI\",\"WA\",\"GA\",\"ID\",\"MO\",\"MO\",\"VA\",\"VT\",\"NC\",\"KY\",\"OR\",\"WY\",\"DE\",\"CA\",\"OR\",\"AZ\",\"MT\",\"SC\",\"LA\",\"OH\",\"CA\",\"RI\",\"NC\",\"MS\",\"NC\",\"AR\",\"MA\",\"MI\",\"NY\",\"NY\",\"MT\",\"ID\",\"NC\",\"MS\",\"RI\",\"IL\",\"TX\",\"DE\",\"UT\",\"NJ\",\"PA\",\"MN\",\"CA\",\"IA\",\"AR\",\"WY\",\"MD\",\"WA\",\"CT\",\"WV\",\"NY\",\"MS\",\"TN\",\"NV\",\"WA\",\"NJ\",\"CO\",\"WV\",\"MT\",\"WV\",\"FL\",\"MN\",\"DC\",\"WY\",\"NE\",\"MT\",\"AL\",\"DE\",\"MN\",\"ND\",\"ID\",\"NJ\",\"OK\",\"OR\",\"NJ\",\"MS\",\"NV\",\"MA\",\"VA\",\"CT\",\"WV\",\"MT\",\"TX\",\"IA\",\"OR\",\"WY\",\"MA\",\"ID\",\"OR\",\"NY\",\"VT\",\"ID\",\"MT\",\"MN\",\"MI\",\"IA\",\"MA\",\"KS\",\"NJ\",\"MT\",\"WV\",\"AZ\",\"IA\",\"IA\",\"SD\",\"DC\",\"MS\",\"WV\",\"CO\",\"KS\",\"NV\",\"MI\",\"CT\",\"WY\",\"MA\",\"NC\",\"MN\",\"NJ\",\"CO\",\"FL\",\"TX\",\"VT\",\"ME\",\"OR\"],\"legendgroup\":\"\",\"name\":\"\",\"showlegend\":true,\"type\":\"pie\"}],                        {\"legend\":{\"tracegroupgap\":0},\"template\":{\"data\":{\"bar\":[{\"error_x\":{\"color\":\"#2a3f5f\"},\"error_y\":{\"color\":\"#2a3f5f\"},\"marker\":{\"line\":{\"color\":\"#E5ECF6\",\"width\":0.5},\"pattern\":{\"fillmode\":\"overlay\",\"size\":10,\"solidity\":0.2}},\"type\":\"bar\"}],\"barpolar\":[{\"marker\":{\"line\":{\"color\":\"#E5ECF6\",\"width\":0.5},\"pattern\":{\"fillmode\":\"overlay\",\"size\":10,\"solidity\":0.2}},\"type\":\"barpolar\"}],\"carpet\":[{\"aaxis\":{\"endlinecolor\":\"#2a3f5f\",\"gridcolor\":\"white\",\"linecolor\":\"white\",\"minorgridcolor\":\"white\",\"startlinecolor\":\"#2a3f5f\"},\"baxis\":{\"endlinecolor\":\"#2a3f5f\",\"gridcolor\":\"white\",\"linecolor\":\"white\",\"minorgridcolor\":\"white\",\"startlinecolor\":\"#2a3f5f\"},\"type\":\"carpet\"}],\"choropleth\":[{\"colorbar\":{\"outlinewidth\":0,\"ticks\":\"\"},\"type\":\"choropleth\"}],\"contour\":[{\"colorbar\":{\"outlinewidth\":0,\"ticks\":\"\"},\"colorscale\":[[0.0,\"#0d0887\"],[0.1111111111111111,\"#46039f\"],[0.2222222222222222,\"#7201a8\"],[0.3333333333333333,\"#9c179e\"],[0.4444444444444444,\"#bd3786\"],[0.5555555555555556,\"#d8576b\"],[0.6666666666666666,\"#ed7953\"],[0.7777777777777778,\"#fb9f3a\"],[0.8888888888888888,\"#fdca26\"],[1.0,\"#f0f921\"]],\"type\":\"contour\"}],\"contourcarpet\":[{\"colorbar\":{\"outlinewidth\":0,\"ticks\":\"\"},\"type\":\"contourcarpet\"}],\"heatmap\":[{\"colorbar\":{\"outlinewidth\":0,\"ticks\":\"\"},\"colorscale\":[[0.0,\"#0d0887\"],[0.1111111111111111,\"#46039f\"],[0.2222222222222222,\"#7201a8\"],[0.3333333333333333,\"#9c179e\"],[0.4444444444444444,\"#bd3786\"],[0.5555555555555556,\"#d8576b\"],[0.6666666666666666,\"#ed7953\"],[0.7777777777777778,\"#fb9f3a\"],[0.8888888888888888,\"#fdca26\"],[1.0,\"#f0f921\"]],\"type\":\"heatmap\"}],\"heatmapgl\":[{\"colorbar\":{\"outlinewidth\":0,\"ticks\":\"\"},\"colorscale\":[[0.0,\"#0d0887\"],[0.1111111111111111,\"#46039f\"],[0.2222222222222222,\"#7201a8\"],[0.3333333333333333,\"#9c179e\"],[0.4444444444444444,\"#bd3786\"],[0.5555555555555556,\"#d8576b\"],[0.6666666666666666,\"#ed7953\"],[0.7777777777777778,\"#fb9f3a\"],[0.8888888888888888,\"#fdca26\"],[1.0,\"#f0f921\"]],\"type\":\"heatmapgl\"}],\"histogram\":[{\"marker\":{\"pattern\":{\"fillmode\":\"overlay\",\"size\":10,\"solidity\":0.2}},\"type\":\"histogram\"}],\"histogram2d\":[{\"colorbar\":{\"outlinewidth\":0,\"ticks\":\"\"},\"colorscale\":[[0.0,\"#0d0887\"],[0.1111111111111111,\"#46039f\"],[0.2222222222222222,\"#7201a8\"],[0.3333333333333333,\"#9c179e\"],[0.4444444444444444,\"#bd3786\"],[0.5555555555555556,\"#d8576b\"],[0.6666666666666666,\"#ed7953\"],[0.7777777777777778,\"#fb9f3a\"],[0.8888888888888888,\"#fdca26\"],[1.0,\"#f0f921\"]],\"type\":\"histogram2d\"}],\"histogram2dcontour\":[{\"colorbar\":{\"outlinewidth\":0,\"ticks\":\"\"},\"colorscale\":[[0.0,\"#0d0887\"],[0.1111111111111111,\"#46039f\"],[0.2222222222222222,\"#7201a8\"],[0.3333333333333333,\"#9c179e\"],[0.4444444444444444,\"#bd3786\"],[0.5555555555555556,\"#d8576b\"],[0.6666666666666666,\"#ed7953\"],[0.7777777777777778,\"#fb9f3a\"],[0.8888888888888888,\"#fdca26\"],[1.0,\"#f0f921\"]],\"type\":\"histogram2dcontour\"}],\"mesh3d\":[{\"colorbar\":{\"outlinewidth\":0,\"ticks\":\"\"},\"type\":\"mesh3d\"}],\"parcoords\":[{\"line\":{\"colorbar\":{\"outlinewidth\":0,\"ticks\":\"\"}},\"type\":\"parcoords\"}],\"pie\":[{\"automargin\":true,\"type\":\"pie\"}],\"scatter\":[{\"marker\":{\"colorbar\":{\"outlinewidth\":0,\"ticks\":\"\"}},\"type\":\"scatter\"}],\"scatter3d\":[{\"line\":{\"colorbar\":{\"outlinewidth\":0,\"ticks\":\"\"}},\"marker\":{\"colorbar\":{\"outlinewidth\":0,\"ticks\":\"\"}},\"type\":\"scatter3d\"}],\"scattercarpet\":[{\"marker\":{\"colorbar\":{\"outlinewidth\":0,\"ticks\":\"\"}},\"type\":\"scattercarpet\"}],\"scattergeo\":[{\"marker\":{\"colorbar\":{\"outlinewidth\":0,\"ticks\":\"\"}},\"type\":\"scattergeo\"}],\"scattergl\":[{\"marker\":{\"colorbar\":{\"outlinewidth\":0,\"ticks\":\"\"}},\"type\":\"scattergl\"}],\"scattermapbox\":[{\"marker\":{\"colorbar\":{\"outlinewidth\":0,\"ticks\":\"\"}},\"type\":\"scattermapbox\"}],\"scatterpolar\":[{\"marker\":{\"colorbar\":{\"outlinewidth\":0,\"ticks\":\"\"}},\"type\":\"scatterpolar\"}],\"scatterpolargl\":[{\"marker\":{\"colorbar\":{\"outlinewidth\":0,\"ticks\":\"\"}},\"type\":\"scatterpolargl\"}],\"scatterternary\":[{\"marker\":{\"colorbar\":{\"outlinewidth\":0,\"ticks\":\"\"}},\"type\":\"scatterternary\"}],\"surface\":[{\"colorbar\":{\"outlinewidth\":0,\"ticks\":\"\"},\"colorscale\":[[0.0,\"#0d0887\"],[0.1111111111111111,\"#46039f\"],[0.2222222222222222,\"#7201a8\"],[0.3333333333333333,\"#9c179e\"],[0.4444444444444444,\"#bd3786\"],[0.5555555555555556,\"#d8576b\"],[0.6666666666666666,\"#ed7953\"],[0.7777777777777778,\"#fb9f3a\"],[0.8888888888888888,\"#fdca26\"],[1.0,\"#f0f921\"]],\"type\":\"surface\"}],\"table\":[{\"cells\":{\"fill\":{\"color\":\"#EBF0F8\"},\"line\":{\"color\":\"white\"}},\"header\":{\"fill\":{\"color\":\"#C8D4E3\"},\"line\":{\"color\":\"white\"}},\"type\":\"table\"}]},\"layout\":{\"annotationdefaults\":{\"arrowcolor\":\"#2a3f5f\",\"arrowhead\":0,\"arrowwidth\":1},\"autotypenumbers\":\"strict\",\"coloraxis\":{\"colorbar\":{\"outlinewidth\":0,\"ticks\":\"\"}},\"colorscale\":{\"diverging\":[[0,\"#8e0152\"],[0.1,\"#c51b7d\"],[0.2,\"#de77ae\"],[0.3,\"#f1b6da\"],[0.4,\"#fde0ef\"],[0.5,\"#f7f7f7\"],[0.6,\"#e6f5d0\"],[0.7,\"#b8e186\"],[0.8,\"#7fbc41\"],[0.9,\"#4d9221\"],[1,\"#276419\"]],\"sequential\":[[0.0,\"#0d0887\"],[0.1111111111111111,\"#46039f\"],[0.2222222222222222,\"#7201a8\"],[0.3333333333333333,\"#9c179e\"],[0.4444444444444444,\"#bd3786\"],[0.5555555555555556,\"#d8576b\"],[0.6666666666666666,\"#ed7953\"],[0.7777777777777778,\"#fb9f3a\"],[0.8888888888888888,\"#fdca26\"],[1.0,\"#f0f921\"]],\"sequentialminus\":[[0.0,\"#0d0887\"],[0.1111111111111111,\"#46039f\"],[0.2222222222222222,\"#7201a8\"],[0.3333333333333333,\"#9c179e\"],[0.4444444444444444,\"#bd3786\"],[0.5555555555555556,\"#d8576b\"],[0.6666666666666666,\"#ed7953\"],[0.7777777777777778,\"#fb9f3a\"],[0.8888888888888888,\"#fdca26\"],[1.0,\"#f0f921\"]]},\"colorway\":[\"#636efa\",\"#EF553B\",\"#00cc96\",\"#ab63fa\",\"#FFA15A\",\"#19d3f3\",\"#FF6692\",\"#B6E880\",\"#FF97FF\",\"#FECB52\"],\"font\":{\"color\":\"#2a3f5f\"},\"geo\":{\"bgcolor\":\"white\",\"lakecolor\":\"white\",\"landcolor\":\"#E5ECF6\",\"showlakes\":true,\"showland\":true,\"subunitcolor\":\"white\"},\"hoverlabel\":{\"align\":\"left\"},\"hovermode\":\"closest\",\"mapbox\":{\"style\":\"light\"},\"paper_bgcolor\":\"white\",\"plot_bgcolor\":\"#E5ECF6\",\"polar\":{\"angularaxis\":{\"gridcolor\":\"white\",\"linecolor\":\"white\",\"ticks\":\"\"},\"bgcolor\":\"#E5ECF6\",\"radialaxis\":{\"gridcolor\":\"white\",\"linecolor\":\"white\",\"ticks\":\"\"}},\"scene\":{\"xaxis\":{\"backgroundcolor\":\"#E5ECF6\",\"gridcolor\":\"white\",\"gridwidth\":2,\"linecolor\":\"white\",\"showbackground\":true,\"ticks\":\"\",\"zerolinecolor\":\"white\"},\"yaxis\":{\"backgroundcolor\":\"#E5ECF6\",\"gridcolor\":\"white\",\"gridwidth\":2,\"linecolor\":\"white\",\"showbackground\":true,\"ticks\":\"\",\"zerolinecolor\":\"white\"},\"zaxis\":{\"backgroundcolor\":\"#E5ECF6\",\"gridcolor\":\"white\",\"gridwidth\":2,\"linecolor\":\"white\",\"showbackground\":true,\"ticks\":\"\",\"zerolinecolor\":\"white\"}},\"shapedefaults\":{\"line\":{\"color\":\"#2a3f5f\"}},\"ternary\":{\"aaxis\":{\"gridcolor\":\"white\",\"linecolor\":\"white\",\"ticks\":\"\"},\"baxis\":{\"gridcolor\":\"white\",\"linecolor\":\"white\",\"ticks\":\"\"},\"bgcolor\":\"#E5ECF6\",\"caxis\":{\"gridcolor\":\"white\",\"linecolor\":\"white\",\"ticks\":\"\"}},\"title\":{\"x\":0.05},\"xaxis\":{\"automargin\":true,\"gridcolor\":\"white\",\"linecolor\":\"white\",\"ticks\":\"\",\"title\":{\"standoff\":15},\"zerolinecolor\":\"white\",\"zerolinewidth\":2},\"yaxis\":{\"automargin\":true,\"gridcolor\":\"white\",\"linecolor\":\"white\",\"ticks\":\"\",\"title\":{\"standoff\":15},\"zerolinecolor\":\"white\",\"zerolinewidth\":2}}},\"title\":{\"text\":\"Payment Delay - State\"}},                        {\"responsive\": true}                    ).then(function(){\n",
       "                            \n",
       "var gd = document.getElementById('50359126-c969-4657-a0f6-e74ec2f8122a');\n",
       "var x = new MutationObserver(function (mutations, observer) {{\n",
       "        var display = window.getComputedStyle(gd).display;\n",
       "        if (!display || display === 'none') {{\n",
       "            console.log([gd, 'removed!']);\n",
       "            Plotly.purge(gd);\n",
       "            observer.disconnect();\n",
       "        }}\n",
       "}});\n",
       "\n",
       "// Listen for the removal of the full notebook cells\n",
       "var notebookContainer = gd.closest('#notebook-container');\n",
       "if (notebookContainer) {{\n",
       "    x.observe(notebookContainer, {childList: true});\n",
       "}}\n",
       "\n",
       "// Listen for the clearing of the current output cell\n",
       "var outputEl = gd.closest('.output');\n",
       "if (outputEl) {{\n",
       "    x.observe(outputEl, {childList: true});\n",
       "}}\n",
       "\n",
       "                        })                };                });            </script>        </div>"
      ]
     },
     "metadata": {},
     "output_type": "display_data"
    },
    {
     "data": {
      "application/vnd.plotly.v1+json": {
       "config": {
        "plotlyServerURL": "https://plot.ly"
       },
       "data": [
        {
         "domain": {
          "x": [
           0,
           1
          ],
          "y": [
           0,
           1
          ]
         },
         "hovertemplate": "state=%{label}<extra></extra>",
         "labels": [
          "HI",
          "CT",
          "TN",
          "TX",
          "CT",
          "NY",
          "IL",
          "AL",
          "MO",
          "VA",
          "MS",
          "KS",
          "WV",
          "UT",
          "WV",
          "WY",
          "WI",
          "NJ",
          "CO",
          "NH",
          "NY",
          "WY",
          "ID",
          "NY",
          "MD",
          "DC",
          "HI",
          "MA",
          "TN",
          "MN",
          "RI",
          "MT",
          "OR",
          "OK",
          "MO",
          "WI",
          "RI",
          "NV",
          "KS",
          "ID",
          "CO",
          "MO",
          "OR",
          "TN",
          "HI",
          "VA",
          "OH",
          "NE",
          "RI",
          "WY",
          "MD",
          "NJ",
          "IL",
          "NE",
          "AL",
          "ID",
          "NY",
          "SD",
          "NE",
          "OH",
          "ND",
          "DE",
          "ME",
          "MO",
          "DC",
          "SC",
          "AZ",
          "KS",
          "ND",
          "OK",
          "ID",
          "OH",
          "OK",
          "IN",
          "OR",
          "VT",
          "FL",
          "AR",
          "CO",
          "AL",
          "VT",
          "TN",
          "MN",
          "RI",
          "AL",
          "GA",
          "IL",
          "TX",
          "VA",
          "WY",
          "MN",
          "MS",
          "NE",
          "OH",
          "WV",
          "LA",
          "VA",
          "NJ",
          "MI",
          "SD",
          "ME",
          "AL",
          "CT",
          "NC",
          "WA",
          "CT",
          "WV",
          "KS",
          "MO",
          "AL",
          "OH",
          "GA",
          "CT",
          "MT",
          "KS",
          "LA",
          "KY",
          "TX",
          "OH",
          "SC",
          "SD",
          "MO",
          "MN",
          "TN",
          "CT",
          "RI",
          "WY",
          "IN",
          "TN",
          "IL",
          "AZ",
          "IN",
          "MT",
          "MA",
          "NH",
          "LA",
          "DC",
          "FL",
          "NY",
          "PA",
          "RI",
          "TX",
          "KY",
          "AZ",
          "SD",
          "LA",
          "NM",
          "WY",
          "MA",
          "CO",
          "IL",
          "DE",
          "WY",
          "IL",
          "IN",
          "TN",
          "IL",
          "NM",
          "VA",
          "AZ",
          "ME",
          "MN",
          "WY",
          "LA",
          "NY",
          "SD",
          "CO",
          "WI",
          "FL",
          "VT",
          "TX",
          "NJ",
          "CT",
          "MN",
          "ND",
          "WI",
          "VA",
          "NH",
          "IN",
          "AL",
          "CT",
          "MI",
          "HI",
          "IN",
          "NJ",
          "WY",
          "KY",
          "NE",
          "VA",
          "NH",
          "ID",
          "WI",
          "NH",
          "NM",
          "MS",
          "FL",
          "MD",
          "ID",
          "FL",
          "RI",
          "WI",
          "HI",
          "SC",
          "MA",
          "WV",
          "NM",
          "KY",
          "MO",
          "AL",
          "FL",
          "MA",
          "WY",
          "DC",
          "KY",
          "NC",
          "IN",
          "IA",
          "CO",
          "WV",
          "CO",
          "CT",
          "AK",
          "NY",
          "AZ",
          "WV",
          "WV",
          "LA",
          "AZ",
          "CO",
          "WY",
          "NV",
          "ID",
          "VA",
          "UT",
          "KY",
          "LA",
          "NC",
          "WA",
          "CO",
          "MT",
          "DC",
          "IL",
          "VT",
          "TX",
          "ND",
          "AK",
          "MS",
          "CO",
          "WI",
          "OR",
          "DC",
          "MS",
          "AZ",
          "OK",
          "IA",
          "AK",
          "SC",
          "UT",
          "UT",
          "TX",
          "ND",
          "HI",
          "ID",
          "MA",
          "WV",
          "OK",
          "DE",
          "IL",
          "ME",
          "NJ",
          "MA",
          "WA",
          "UT",
          "WV",
          "DE",
          "NV",
          "NH",
          "CO",
          "DE",
          "MT",
          "MN",
          "AL",
          "KS",
          "NH",
          "OH",
          "UT",
          "MS",
          "NM",
          "MD",
          "CA",
          "WV",
          "WA",
          "ID",
          "WV",
          "CT",
          "IA",
          "IL",
          "MS",
          "VA",
          "LA",
          "CA",
          "WV",
          "WV",
          "UT",
          "AZ",
          "SD",
          "DE",
          "NV",
          "NJ",
          "MT",
          "DE",
          "AZ",
          "NM",
          "AK",
          "OR",
          "MN",
          "GA",
          "IL",
          "AR",
          "CA",
          "NY",
          "MA",
          "OH",
          "ND",
          "DC",
          "HI",
          "OR",
          "CT",
          "LA",
          "MS",
          "OH",
          "OH",
          "WY",
          "MA",
          "FL",
          "VA",
          "VA",
          "WY",
          "MS",
          "ND",
          "MS",
          "OR",
          "HI",
          "NY",
          "ND",
          "WV",
          "OR",
          "RI",
          "NM",
          "CT",
          "RI",
          "SD",
          "NH",
          "MN",
          "ND",
          "DE",
          "NJ",
          "GA",
          "PA",
          "WV",
          "MN",
          "IL",
          "WY",
          "AL",
          "LA",
          "KY",
          "DE",
          "WV",
          "MT",
          "AL",
          "WY",
          "WV",
          "OR",
          "OR",
          "MA",
          "MN",
          "ME",
          "MI",
          "TN",
          "MI",
          "NC",
          "NV",
          "FL",
          "UT",
          "ND",
          "AR",
          "MS",
          "WI",
          "OH",
          "MD",
          "MI",
          "AL",
          "ME",
          "MD",
          "TX",
          "WV",
          "TN",
          "NE",
          "KS",
          "CO",
          "OR",
          "SC",
          "WI",
          "MT",
          "WA",
          "RI",
          "TX",
          "AL",
          "IA",
          "WY",
          "NE",
          "TX",
          "KS",
          "MS",
          "NJ",
          "TN",
          "NM",
          "OH",
          "HI",
          "MD",
          "IA",
          "IN",
          "CT",
          "NJ",
          "UT",
          "IL",
          "FL",
          "WY",
          "MN",
          "DE",
          "HI",
          "IN",
          "OK",
          "NE",
          "FL",
          "NC",
          "MI",
          "HI",
          "DE",
          "OK",
          "MO",
          "MD",
          "CO",
          "PA",
          "WA",
          "DC",
          "MA",
          "SD",
          "WY",
          "AZ",
          "TX",
          "WY",
          "DC",
          "MD",
          "NH",
          "MO",
          "CO",
          "IA",
          "NV",
          "LA",
          "RI",
          "NH",
          "SD",
          "NJ",
          "VT",
          "DE",
          "FL",
          "OK",
          "GA",
          "CO",
          "HI",
          "ID",
          "KS",
          "MN",
          "OK",
          "SC",
          "CA",
          "AK",
          "OR",
          "NE",
          "KS",
          "DC",
          "DC",
          "NM",
          "WI",
          "CT",
          "TN",
          "ID",
          "MA",
          "CO",
          "MO",
          "KS",
          "VA",
          "IN",
          "MT",
          "IN",
          "SD",
          "WI",
          "NY",
          "MN",
          "NM",
          "MN",
          "DC",
          "NY",
          "NV",
          "ID",
          "DE",
          "VA",
          "IA",
          "MN",
          "KY",
          "DC",
          "AL",
          "TX",
          "MD",
          "IL",
          "ND",
          "NJ",
          "MO",
          "HI",
          "VA",
          "AL",
          "DC",
          "WY",
          "UT",
          "CA",
          "VA",
          "VT",
          "SC",
          "GA",
          "CT",
          "LA",
          "ND",
          "PA",
          "AZ",
          "RI",
          "RI",
          "WV",
          "AZ",
          "DE",
          "OH",
          "TN",
          "NY",
          "OH",
          "NM",
          "WV",
          "NV",
          "MN",
          "WY",
          "IA",
          "KY",
          "NE",
          "CT",
          "IN",
          "UT",
          "WV",
          "NE",
          "MD",
          "WV",
          "UT",
          "ND",
          "MD",
          "HI",
          "NJ",
          "NH",
          "NV",
          "HI",
          "AK",
          "MI",
          "NH",
          "NE",
          "MA",
          "MT",
          "DE",
          "HI",
          "MN",
          "TN",
          "WY",
          "IN",
          "MI",
          "MN",
          "OK",
          "WY",
          "TN",
          "LA",
          "MA",
          "NJ",
          "AL",
          "NH",
          "WI",
          "NC",
          "VT",
          "GA",
          "NC",
          "NV",
          "MS",
          "WV",
          "IN",
          "DE",
          "VA",
          "TN",
          "NJ",
          "TX",
          "VA",
          "WY",
          "NJ",
          "NJ",
          "OH",
          "CT",
          "DE",
          "MS",
          "ME",
          "CT",
          "NJ",
          "KS",
          "UT",
          "NM",
          "FL",
          "NC",
          "AR",
          "IN",
          "IN",
          "PA",
          "IA",
          "TX",
          "ME",
          "KS",
          "DE",
          "WI",
          "MI",
          "WY",
          "WY",
          "IN",
          "PA",
          "AZ",
          "VA",
          "MS",
          "AZ",
          "MI",
          "FL",
          "WY",
          "MT",
          "NC",
          "CT",
          "PA",
          "UT",
          "WY",
          "NY",
          "WV",
          "FL",
          "CT",
          "WY",
          "WV",
          "UT",
          "AZ",
          "MN",
          "NE",
          "NY",
          "WI",
          "DC",
          "OK",
          "ME",
          "DE",
          "TX",
          "AR",
          "MT",
          "CO",
          "KY",
          "IA",
          "WY",
          "OK",
          "VT",
          "MI",
          "WV",
          "AR",
          "ID",
          "NJ",
          "AK",
          "OH",
          "AL",
          "NH",
          "TN",
          "OH",
          "IA",
          "FL",
          "ID",
          "LA",
          "OH",
          "AK",
          "NJ",
          "OK",
          "IN",
          "CO",
          "MI",
          "SC",
          "VT",
          "MO",
          "TN",
          "NE",
          "NY",
          "DE",
          "NJ",
          "OH",
          "WA",
          "TX",
          "AK",
          "ND",
          "SD",
          "CT",
          "CO",
          "KY",
          "UT",
          "SD",
          "NE",
          "MT",
          "VT",
          "DC",
          "LA",
          "KS",
          "DC",
          "WI",
          "MT",
          "WA",
          "AL",
          "VT",
          "NM",
          "VT",
          "SD",
          "MN",
          "NM",
          "SD",
          "WI",
          "IA",
          "FL",
          "MD",
          "WY",
          "DE",
          "UT",
          "NH",
          "NV",
          "NY",
          "VA",
          "WA",
          "MA",
          "NV",
          "MS",
          "MS",
          "WV",
          "HI",
          "MT",
          "MA",
          "PA",
          "WV",
          "NM",
          "MT",
          "TX",
          "ND",
          "ID",
          "ND",
          "IL",
          "MS",
          "IN",
          "IN",
          "IN",
          "KS",
          "NY",
          "CT",
          "IL",
          "TN",
          "AL",
          "CT",
          "ME",
          "VT",
          "ID",
          "NV",
          "VT",
          "WY",
          "DE",
          "IN",
          "DE",
          "MO",
          "MD",
          "CO",
          "VT",
          "MA",
          "MA",
          "UT",
          "AK",
          "ME",
          "ME",
          "VT",
          "CO",
          "AK",
          "MN",
          "ND",
          "NM",
          "IN",
          "OH",
          "WV",
          "VT",
          "KS",
          "MA",
          "MT",
          "NJ",
          "ME",
          "OH",
          "SC",
          "MT",
          "MI",
          "RI",
          "LA",
          "FL",
          "ND",
          "MS",
          "UT",
          "WV",
          "NC",
          "LA",
          "NV",
          "FL",
          "LA",
          "AL",
          "SC",
          "VA",
          "ID",
          "MI",
          "GA",
          "WI",
          "AR",
          "NC",
          "NY",
          "WY",
          "DC",
          "WY",
          "WV",
          "MO",
          "MA",
          "MN",
          "WV",
          "NY",
          "OK",
          "MA",
          "MD",
          "GA",
          "NY",
          "WV",
          "NM",
          "AL",
          "WA",
          "LA",
          "OK",
          "FL",
          "AZ",
          "RI",
          "HI",
          "IL",
          "WI",
          "NH",
          "WA",
          "ID",
          "MN",
          "WI",
          "NC",
          "OR",
          "GA",
          "VA",
          "CO",
          "AL",
          "MT",
          "WV",
          "DE",
          "TX",
          "WV",
          "AR",
          "MA",
          "UT",
          "OH",
          "AL",
          "SC",
          "TN",
          "NC",
          "AR",
          "KS",
          "VA",
          "MO",
          "TN",
          "AZ",
          "TN",
          "WY",
          "OK",
          "WI",
          "NH",
          "NM",
          "LA",
          "LA",
          "DE",
          "ID",
          "RI",
          "ID",
          "MI",
          "NY",
          "MI",
          "KY",
          "NM",
          "MI",
          "AL",
          "MS",
          "MI",
          "NJ",
          "WV",
          "UT",
          "PA",
          "ND",
          "MN",
          "GA",
          "UT",
          "MN",
          "RI",
          "RI",
          "VT",
          "MI",
          "MO",
          "WA",
          "WV",
          "VA",
          "TX",
          "CT",
          "ND",
          "IN",
          "FL",
          "VT",
          "CT",
          "WY",
          "NV",
          "HI",
          "MD",
          "NC",
          "AR",
          "MA",
          "SD",
          "MI",
          "SC",
          "MA",
          "NJ",
          "IL",
          "GA",
          "IA",
          "MS",
          "WY",
          "MO",
          "NY",
          "RI",
          "WY",
          "AL",
          "RI",
          "DE",
          "OH",
          "IN",
          "NY",
          "KS",
          "MA",
          "IN",
          "CO",
          "SD",
          "FL",
          "IA",
          "NJ",
          "MI",
          "WY",
          "IL",
          "DC",
          "OR",
          "MO",
          "ID",
          "ID",
          "IL",
          "DE",
          "WI",
          "RI",
          "OK",
          "NH",
          "ID",
          "MI",
          "GA",
          "VT",
          "VA",
          "CO",
          "VA",
          "ME",
          "MO",
          "VA",
          "KS",
          "MA",
          "ME",
          "CT",
          "TN",
          "GA",
          "MI",
          "AZ",
          "FL",
          "WA",
          "NY",
          "VA",
          "VA",
          "OR",
          "MD",
          "NY",
          "DC",
          "VA",
          "WA",
          "HI",
          "KY",
          "NM",
          "AK",
          "ND",
          "CT",
          "MO",
          "NV",
          "MS",
          "GA",
          "GA",
          "WA",
          "MT",
          "WA",
          "NY",
          "IN",
          "NY",
          "IL",
          "HI",
          "WY",
          "MA",
          "TX",
          "MS",
          "GA",
          "OK",
          "WV",
          "DE",
          "MA",
          "NJ",
          "VA",
          "DE",
          "AZ",
          "IA",
          "AL",
          "MT",
          "FL",
          "WI",
          "WV",
          "MA",
          "TX",
          "FL",
          "SC",
          "KY",
          "AR",
          "VA",
          "ID",
          "MS",
          "GA",
          "WV",
          "UT",
          "WY",
          "IL",
          "MO",
          "NC",
          "FL",
          "RI",
          "LA",
          "UT",
          "RI",
          "NC",
          "WI",
          "DC",
          "ND",
          "IA",
          "WV",
          "MS",
          "WA",
          "KY",
          "MA",
          "OR",
          "MO",
          "VA",
          "SC",
          "RI",
          "MI",
          "WI",
          "WA",
          "UT",
          "MN",
          "DC",
          "IN",
          "NC",
          "AL",
          "AR",
          "CT",
          "ME",
          "NC",
          "MN",
          "AR",
          "OR",
          "AL",
          "CT",
          "OK",
          "WI",
          "WV",
          "VA",
          "HI",
          "VA",
          "NC",
          "VA",
          "ND",
          "TN",
          "KY",
          "OH",
          "NM",
          "AL",
          "NM",
          "PA",
          "ME",
          "SC",
          "AZ",
          "IL",
          "OK",
          "CT",
          "MI",
          "MS",
          "MO",
          "KY",
          "SC",
          "FL",
          "AK",
          "CO",
          "ID",
          "VA",
          "MN",
          "OR",
          "MD",
          "KS",
          "OK",
          "WV",
          "AL",
          "NC",
          "NY",
          "VT",
          "ME",
          "UT",
          "NJ",
          "VT",
          "MN",
          "MD",
          "AR",
          "OR",
          "AL",
          "SC",
          "RI",
          "DC",
          "ME",
          "MA",
          "MN",
          "OR",
          "UT",
          "PA",
          "AZ",
          "DC",
          "OK",
          "HI",
          "WI",
          "DC",
          "WA",
          "AZ",
          "OH",
          "KY",
          "VA",
          "DC",
          "RI",
          "AL",
          "OR",
          "CO",
          "NH",
          "AL",
          "MI",
          "MO",
          "FL",
          "DE",
          "AR",
          "MN",
          "AL",
          "MI",
          "NH",
          "MS",
          "VA",
          "MD",
          "AL",
          "MS",
          "DC",
          "MS",
          "IL",
          "CA",
          "ID",
          "AZ",
          "NH",
          "WI",
          "MN",
          "OH",
          "KY",
          "MI",
          "MI",
          "KY",
          "TX",
          "HI",
          "ND",
          "GA",
          "IN",
          "NJ",
          "AK",
          "SD",
          "ID",
          "NE",
          "NV",
          "OR",
          "LA",
          "AK",
          "AR",
          "DC",
          "ND",
          "IL",
          "VA",
          "SC",
          "KY",
          "TN",
          "VA",
          "TX",
          "ID",
          "TN",
          "WV",
          "DC",
          "MA",
          "DE",
          "MD",
          "NM",
          "TX",
          "NC",
          "MA",
          "OK",
          "NE",
          "NM",
          "TX",
          "ID",
          "HI",
          "RI",
          "AR",
          "DC",
          "MT",
          "MS",
          "AZ",
          "NM",
          "VT",
          "GA",
          "WY",
          "WV",
          "WY",
          "WY",
          "NY",
          "MT",
          "ID",
          "WI",
          "AR",
          "AK",
          "IL",
          "VA",
          "HI",
          "RI",
          "ME",
          "AK",
          "ID",
          "RI",
          "RI",
          "ME",
          "OR",
          "RI",
          "SC",
          "WA",
          "MT",
          "NH",
          "NY",
          "LA",
          "AR",
          "IA",
          "ME",
          "AR",
          "GA",
          "FL",
          "MI",
          "WY",
          "WA",
          "NM",
          "MI",
          "MI",
          "LA",
          "KS",
          "NJ",
          "IL",
          "AL",
          "NY",
          "NM",
          "NJ",
          "AZ",
          "MS",
          "WV",
          "IA",
          "WY",
          "ME",
          "NM",
          "KS",
          "HI",
          "AK",
          "AL",
          "VA",
          "SC",
          "VT",
          "OH",
          "NH",
          "OH",
          "AL",
          "ME",
          "MI",
          "NV",
          "OH",
          "NE",
          "MA",
          "MT",
          "AR",
          "WY",
          "RI",
          "MA",
          "TX",
          "VT",
          "WV",
          "LA",
          "CT",
          "TX",
          "DE",
          "ND",
          "MI",
          "PA",
          "KS",
          "TX",
          "OK",
          "GA",
          "KS",
          "MS",
          "NJ",
          "ME",
          "VA",
          "TX",
          "AZ",
          "AK",
          "CT",
          "TX",
          "NY",
          "WI",
          "DC",
          "WI",
          "AR",
          "OK",
          "NV",
          "LA",
          "ID",
          "AR",
          "OH",
          "HI",
          "AL",
          "AR",
          "FL",
          "NY",
          "NY",
          "MA",
          "AK",
          "MN",
          "SC",
          "OR",
          "ND",
          "ND",
          "NY",
          "VA",
          "NV",
          "NE",
          "WI",
          "AL",
          "KY",
          "AK",
          "AK",
          "SC",
          "MN",
          "IN",
          "RI",
          "NH",
          "ID",
          "NE",
          "WV",
          "IA",
          "GA",
          "WA",
          "NY",
          "IL",
          "VA",
          "NM",
          "NV",
          "IL",
          "MD",
          "DC",
          "VA",
          "SC",
          "MO",
          "KY",
          "NH",
          "KY",
          "ME",
          "SD",
          "VA",
          "IN",
          "HI",
          "WV",
          "KS",
          "MA",
          "KS",
          "AK",
          "AK",
          "KS",
          "PA",
          "CT",
          "SD",
          "SC",
          "VA",
          "ME",
          "NC",
          "AK",
          "NE",
          "WY",
          "SC",
          "NE",
          "AZ",
          "WA",
          "SC",
          "RI",
          "MT",
          "OR",
          "MI",
          "OH",
          "AR",
          "CT",
          "MN",
          "OK",
          "ME",
          "FL",
          "WV",
          "CT",
          "GA",
          "IL",
          "MN",
          "IL",
          "CO",
          "MN",
          "NV",
          "DE",
          "VT",
          "CO",
          "VT",
          "MN",
          "CO",
          "ID",
          "UT",
          "MS",
          "IA",
          "MN",
          "SD",
          "PA",
          "CT",
          "VT",
          "NM",
          "AZ",
          "NY",
          "NE",
          "OR",
          "AL",
          "OH",
          "WI",
          "TX",
          "AR",
          "WA",
          "OK",
          "MN",
          "WI",
          "MN",
          "WV",
          "FL",
          "OK",
          "MI",
          "OH",
          "UT",
          "NH",
          "VT",
          "MN",
          "MT",
          "MS",
          "NY",
          "ME",
          "CT",
          "CT",
          "LA",
          "ME",
          "CT",
          "MN",
          "WI",
          "LA",
          "MT",
          "NM",
          "ID",
          "UT",
          "IL",
          "MS",
          "ND",
          "WV",
          "PA",
          "AR",
          "IN",
          "AR",
          "CT",
          "ID",
          "TN",
          "MO",
          "SC",
          "AR",
          "IL",
          "WY",
          "VA",
          "WI",
          "NY",
          "PA",
          "SC",
          "VA",
          "FL",
          "UT",
          "MN",
          "IA",
          "NY",
          "WV",
          "WV",
          "AL",
          "AZ",
          "SD",
          "OH",
          "VT",
          "WI",
          "MN",
          "CO",
          "WA",
          "UT",
          "NC",
          "NE",
          "WV",
          "AR",
          "NM",
          "WA",
          "NE",
          "MO",
          "CA",
          "PA",
          "TX",
          "IL",
          "CT",
          "SD",
          "WV",
          "SD",
          "NY",
          "OH",
          "KY",
          "ME",
          "OR",
          "NH",
          "NH",
          "NE",
          "AZ",
          "MN",
          "MA",
          "AR",
          "MN",
          "OH",
          "MS",
          "LA",
          "AZ",
          "NY",
          "AZ",
          "WI",
          "ND",
          "MN",
          "WA",
          "MA",
          "ID",
          "NM",
          "FL",
          "MO",
          "ND",
          "DC",
          "OH",
          "NE",
          "GA",
          "MO",
          "WV",
          "MT",
          "VA",
          "GA",
          "WI",
          "PA",
          "VT",
          "MI",
          "PA",
          "VT",
          "NH",
          "IN",
          "CO",
          "TX",
          "VT",
          "NM",
          "SC",
          "NV",
          "OK",
          "PA",
          "CT",
          "DE",
          "PA",
          "MS",
          "OK",
          "OH",
          "WV",
          "PA",
          "GA",
          "MT",
          "CO",
          "TN",
          "WV",
          "WV",
          "KS",
          "IL",
          "NE",
          "NJ",
          "NY",
          "FL",
          "MN",
          "NY",
          "VT",
          "CO",
          "NM",
          "ID",
          "AR",
          "NH",
          "ID",
          "NH",
          "ID",
          "RI",
          "CT",
          "AR",
          "NM",
          "ME",
          "LA",
          "ME",
          "MA",
          "OH",
          "NE",
          "NM",
          "SD",
          "RI",
          "AZ",
          "NV",
          "TX",
          "ME",
          "OH",
          "WI",
          "NH",
          "SC",
          "GA",
          "RI",
          "SC",
          "NV",
          "NH",
          "TX",
          "VA",
          "WV",
          "CA",
          "WV",
          "OR",
          "VT",
          "MI",
          "RI",
          "CT",
          "CO",
          "WA",
          "NM",
          "AK",
          "NH",
          "SD",
          "VT",
          "TX",
          "OH",
          "IA",
          "OK",
          "PA",
          "NJ",
          "MO",
          "ME",
          "LA",
          "MA",
          "GA",
          "NE",
          "ID",
          "PA",
          "OK",
          "WY",
          "WA",
          "FL",
          "VT",
          "MN",
          "MS",
          "LA",
          "MI",
          "SD",
          "HI",
          "VA",
          "HI",
          "OK",
          "WY",
          "IL",
          "WV",
          "MD",
          "MD",
          "WV",
          "WY",
          "NM",
          "NC",
          "NJ",
          "ID",
          "MD",
          "TX",
          "SC",
          "DE",
          "KY",
          "AZ",
          "WI",
          "WV",
          "MD",
          "MA",
          "MN",
          "AZ",
          "ID",
          "NE",
          "WA",
          "VA",
          "UT",
          "TN",
          "ME",
          "RI",
          "MN",
          "LA",
          "AL",
          "ID",
          "OK",
          "TX",
          "NC",
          "OH",
          "MN",
          "CT",
          "DE",
          "OK",
          "NE",
          "OR",
          "LA",
          "HI",
          "NE",
          "VT",
          "CT",
          "MT",
          "ND",
          "LA",
          "RI",
          "VA",
          "IL",
          "NE",
          "MT",
          "IN",
          "MD",
          "WA",
          "OR",
          "IL",
          "MT",
          "DC",
          "SC",
          "NE",
          "UT",
          "NJ",
          "AL",
          "NY",
          "IN",
          "CA",
          "NM",
          "MI",
          "ND",
          "TN",
          "AR",
          "UT",
          "AZ",
          "WV",
          "WA",
          "MA",
          "IA",
          "ME",
          "AK",
          "NV",
          "NE",
          "RI",
          "ID",
          "FL",
          "NM",
          "CA",
          "TX",
          "WI",
          "FL",
          "CO",
          "MA",
          "OK",
          "CT",
          "NH",
          "AK",
          "KY",
          "OR",
          "VT",
          "VA",
          "IN",
          "PA",
          "DC",
          "NH",
          "NY",
          "MN",
          "IA",
          "FL",
          "NE",
          "IN",
          "RI",
          "TX",
          "OR",
          "ME",
          "VA",
          "NY",
          "OR",
          "UT",
          "RI",
          "OH",
          "HI",
          "NV",
          "ME",
          "NJ",
          "UT",
          "MA",
          "NM",
          "VT",
          "SD",
          "OH",
          "MT",
          "NV",
          "ID",
          "OK",
          "NH",
          "NE",
          "SC",
          "IN",
          "SD",
          "MD",
          "OH",
          "ME",
          "IL",
          "IN",
          "CT",
          "OH",
          "OR",
          "WY",
          "HI",
          "MO",
          "IA",
          "VT",
          "GA",
          "NM",
          "SD",
          "VT",
          "WY",
          "WV",
          "WA",
          "AR",
          "OH",
          "NC",
          "CO",
          "UT",
          "LA",
          "OR",
          "WV",
          "TN",
          "VT",
          "MT",
          "AL",
          "VA",
          "MI",
          "TN",
          "AR",
          "OR",
          "UT",
          "WY",
          "WI",
          "MT",
          "NV",
          "TN",
          "GA",
          "IA",
          "ME",
          "DE",
          "NE",
          "KY",
          "MA",
          "AL",
          "IA",
          "KS",
          "WY",
          "MS",
          "NY",
          "SC",
          "HI",
          "MS",
          "CO",
          "WI",
          "SD",
          "ID",
          "MD",
          "SD",
          "KS",
          "NH",
          "NM",
          "KY",
          "UT",
          "RI",
          "DC",
          "VA",
          "SC",
          "NV",
          "AR",
          "VA",
          "AZ",
          "ND",
          "NV",
          "IL",
          "GA",
          "VT",
          "CT",
          "GA",
          "AZ",
          "MT",
          "OH",
          "IN",
          "MA",
          "MO",
          "HI",
          "KY",
          "AZ",
          "NJ",
          "DC",
          "NC",
          "VT",
          "CT",
          "NJ",
          "VA",
          "PA",
          "NJ",
          "MO",
          "NY",
          "MI",
          "ND",
          "CO",
          "RI",
          "KY",
          "TN",
          "AL",
          "AL",
          "RI",
          "DC",
          "WV",
          "NC",
          "ND",
          "MO",
          "TN",
          "WY",
          "MS",
          "WI",
          "AK",
          "MS",
          "FL",
          "NY",
          "OR",
          "ME",
          "ND",
          "ND",
          "MS",
          "MI",
          "AL",
          "RI",
          "NJ",
          "NH",
          "SC",
          "NE",
          "CA",
          "VT",
          "VA",
          "IN",
          "OR",
          "ND",
          "NV",
          "PA",
          "TX",
          "ID",
          "NJ",
          "AR",
          "CO",
          "WI",
          "MT",
          "MI",
          "WA",
          "OR",
          "OK",
          "NV",
          "UT",
          "ID",
          "ME",
          "MN",
          "MS",
          "ID",
          "NH",
          "NH",
          "AR",
          "UT",
          "AK",
          "OH",
          "DC",
          "IL",
          "WI",
          "OH",
          "OH",
          "KY",
          "WV",
          "NJ",
          "SC",
          "NC",
          "ND",
          "OH",
          "WY",
          "CO",
          "MA",
          "AL",
          "GA",
          "NC",
          "GA",
          "OR",
          "IL",
          "KS",
          "ND",
          "OH",
          "DC",
          "WV",
          "GA",
          "WV",
          "NH",
          "WY",
          "NM",
          "IL",
          "WA",
          "WV",
          "VT",
          "HI",
          "TX",
          "MN",
          "ND",
          "NE",
          "WV",
          "AL",
          "NH",
          "MT",
          "AL",
          "VA",
          "VA",
          "CO",
          "IL",
          "MN",
          "FL",
          "OH",
          "AK",
          "MS",
          "NM",
          "WV",
          "OK",
          "WI",
          "OR",
          "ND",
          "PA",
          "NM",
          "ID",
          "WY",
          "WA",
          "MD",
          "AK",
          "ID",
          "DC",
          "MT",
          "IN",
          "KY",
          "VT",
          "CO",
          "DE",
          "SC",
          "HI",
          "OK",
          "NM",
          "NE",
          "IL",
          "MO",
          "ME",
          "NC",
          "MD",
          "RI",
          "IN",
          "CT",
          "AR",
          "SD",
          "LA",
          "WI",
          "CA",
          "AK",
          "FL",
          "VT",
          "IN",
          "OK",
          "NC",
          "CT",
          "MD",
          "PA",
          "MA",
          "KY",
          "NV",
          "VA",
          "MO",
          "ME",
          "VA",
          "PA",
          "MT",
          "AL",
          "AR",
          "NJ",
          "OR",
          "FL",
          "OK",
          "MT",
          "TX",
          "MD",
          "UT",
          "NV",
          "NH",
          "KY",
          "SC",
          "KS",
          "WA",
          "PA",
          "PA",
          "NY",
          "RI",
          "SC",
          "SC",
          "WY",
          "OH",
          "OH",
          "IL",
          "HI",
          "WY",
          "GA",
          "TX",
          "CO",
          "NM",
          "MI",
          "TX",
          "OR",
          "WI",
          "KY",
          "CA",
          "MO",
          "WA",
          "ID",
          "MN",
          "MN",
          "NE",
          "ID",
          "SC",
          "OH",
          "DC",
          "FL",
          "MT",
          "OR",
          "WV",
          "AK",
          "KS",
          "PA",
          "DC",
          "IL",
          "MA",
          "NC",
          "WY",
          "MA",
          "ND",
          "SC",
          "ID",
          "OR",
          "NC",
          "NE",
          "KY",
          "NJ",
          "CT",
          "MO",
          "OR",
          "AR",
          "IA",
          "WA",
          "AZ",
          "AZ",
          "NM",
          "MI",
          "ME",
          "KS",
          "PA",
          "OK",
          "MI",
          "TX",
          "UT",
          "AL",
          "AZ",
          "IL",
          "TN",
          "HI",
          "LA",
          "WI",
          "PA",
          "NE",
          "WY",
          "MO",
          "AL",
          "RI",
          "KY",
          "NC",
          "NJ",
          "IN",
          "OR",
          "MI",
          "FL",
          "TX",
          "PA",
          "ND",
          "NE",
          "TX",
          "KY",
          "UT",
          "DE",
          "ME",
          "NC",
          "IL",
          "ID",
          "IA",
          "FL",
          "AL",
          "CT",
          "MI",
          "WY",
          "IN",
          "VT",
          "MA",
          "NH",
          "SD",
          "HI",
          "CA",
          "CA",
          "KY",
          "NM",
          "AK",
          "KY",
          "DC",
          "ME",
          "NH",
          "HI",
          "WV",
          "MN",
          "MI",
          "WV",
          "AZ",
          "NE",
          "IN",
          "MT",
          "AK",
          "KS",
          "NH",
          "KS",
          "NY",
          "DE",
          "AK",
          "ID",
          "CO",
          "WV",
          "AL",
          "NY",
          "WI",
          "MS",
          "FL",
          "NV",
          "ND",
          "NC",
          "ND",
          "DE",
          "PA",
          "MI",
          "AL",
          "NJ",
          "MD",
          "IA",
          "VA",
          "SD",
          "TX",
          "FL",
          "ND",
          "CO",
          "OR",
          "NC",
          "WA",
          "NV",
          "ME",
          "PA",
          "DE",
          "LA",
          "AL",
          "IL",
          "ID",
          "AK",
          "PA",
          "OK",
          "NV",
          "IA",
          "NY",
          "FL",
          "DC",
          "MA",
          "WI",
          "TN",
          "AZ",
          "LA",
          "NC",
          "MI",
          "CT",
          "AR",
          "UT",
          "IL",
          "CO",
          "VA",
          "ID",
          "TN",
          "NY",
          "KY",
          "AR",
          "WV",
          "CO",
          "AZ",
          "OR",
          "NY",
          "OK",
          "NY",
          "NJ",
          "MT",
          "OH",
          "FL",
          "KS",
          "UT",
          "NE",
          "AL",
          "KS",
          "UT",
          "AL",
          "OR",
          "SC",
          "WV",
          "NV",
          "MI",
          "MT",
          "AL",
          "WV",
          "HI",
          "KS",
          "MT",
          "VT",
          "GA",
          "NJ",
          "WV",
          "AR",
          "MD",
          "ME",
          "VA",
          "VT",
          "AL",
          "MI",
          "VA",
          "TX",
          "FL",
          "DE",
          "WV",
          "KY",
          "WV",
          "AZ",
          "MD",
          "NC",
          "KY",
          "DE",
          "NY",
          "UT",
          "AZ",
          "MO",
          "VA",
          "IL",
          "OR",
          "MN",
          "VA",
          "WI",
          "UT",
          "IN",
          "CA",
          "WI",
          "ID",
          "ND",
          "TN",
          "VT",
          "MN",
          "OH",
          "ID",
          "IA",
          "NM",
          "MO",
          "FL",
          "WI",
          "IL",
          "GA",
          "MT",
          "MI",
          "IA",
          "WY",
          "TN",
          "UT",
          "AL",
          "CO",
          "ND",
          "LA",
          "NM",
          "ID",
          "UT",
          "TN",
          "SC",
          "MD",
          "GA",
          "WV",
          "MI",
          "TX",
          "IL",
          "NY",
          "KS",
          "AL",
          "MS",
          "MT",
          "SD",
          "AL",
          "WY",
          "MI",
          "MN",
          "OH",
          "UT",
          "OH",
          "MT",
          "WI",
          "MN",
          "NM",
          "OH",
          "WI",
          "WI",
          "OK",
          "KS",
          "IA",
          "NY",
          "KS",
          "KY",
          "DC",
          "MI",
          "MN",
          "MS",
          "CO",
          "MN",
          "NV",
          "NE",
          "GA",
          "MI",
          "NV",
          "OR",
          "MD",
          "TN",
          "OK",
          "WV",
          "AL",
          "OK",
          "NH",
          "TX",
          "WI",
          "IA",
          "FL",
          "AR",
          "CA",
          "AL",
          "UT",
          "MD",
          "TX",
          "IA",
          "GA",
          "UT",
          "MS",
          "KS",
          "MA",
          "CO",
          "KS",
          "NH",
          "AR",
          "DC",
          "CT",
          "KS",
          "NH",
          "LA",
          "VT",
          "AK",
          "NC",
          "NC",
          "AZ",
          "CA",
          "IN",
          "PA",
          "SC",
          "SC",
          "NM",
          "AK",
          "NC",
          "WA",
          "NC",
          "CA",
          "MI",
          "IN",
          "IN",
          "MN",
          "OK",
          "RI",
          "LA",
          "ND",
          "NM",
          "OH",
          "SD",
          "WA",
          "NC",
          "NV",
          "UT",
          "KY",
          "KY",
          "IN",
          "MD",
          "MI",
          "IL",
          "NJ",
          "MT",
          "AK",
          "TN",
          "WY"
         ],
         "legendgroup": "",
         "name": "",
         "showlegend": true,
         "type": "pie"
        }
       ],
       "layout": {
        "legend": {
         "tracegroupgap": 0
        },
        "template": {
         "data": {
          "bar": [
           {
            "error_x": {
             "color": "#2a3f5f"
            },
            "error_y": {
             "color": "#2a3f5f"
            },
            "marker": {
             "line": {
              "color": "#E5ECF6",
              "width": 0.5
             },
             "pattern": {
              "fillmode": "overlay",
              "size": 10,
              "solidity": 0.2
             }
            },
            "type": "bar"
           }
          ],
          "barpolar": [
           {
            "marker": {
             "line": {
              "color": "#E5ECF6",
              "width": 0.5
             },
             "pattern": {
              "fillmode": "overlay",
              "size": 10,
              "solidity": 0.2
             }
            },
            "type": "barpolar"
           }
          ],
          "carpet": [
           {
            "aaxis": {
             "endlinecolor": "#2a3f5f",
             "gridcolor": "white",
             "linecolor": "white",
             "minorgridcolor": "white",
             "startlinecolor": "#2a3f5f"
            },
            "baxis": {
             "endlinecolor": "#2a3f5f",
             "gridcolor": "white",
             "linecolor": "white",
             "minorgridcolor": "white",
             "startlinecolor": "#2a3f5f"
            },
            "type": "carpet"
           }
          ],
          "choropleth": [
           {
            "colorbar": {
             "outlinewidth": 0,
             "ticks": ""
            },
            "type": "choropleth"
           }
          ],
          "contour": [
           {
            "colorbar": {
             "outlinewidth": 0,
             "ticks": ""
            },
            "colorscale": [
             [
              0,
              "#0d0887"
             ],
             [
              0.1111111111111111,
              "#46039f"
             ],
             [
              0.2222222222222222,
              "#7201a8"
             ],
             [
              0.3333333333333333,
              "#9c179e"
             ],
             [
              0.4444444444444444,
              "#bd3786"
             ],
             [
              0.5555555555555556,
              "#d8576b"
             ],
             [
              0.6666666666666666,
              "#ed7953"
             ],
             [
              0.7777777777777778,
              "#fb9f3a"
             ],
             [
              0.8888888888888888,
              "#fdca26"
             ],
             [
              1,
              "#f0f921"
             ]
            ],
            "type": "contour"
           }
          ],
          "contourcarpet": [
           {
            "colorbar": {
             "outlinewidth": 0,
             "ticks": ""
            },
            "type": "contourcarpet"
           }
          ],
          "heatmap": [
           {
            "colorbar": {
             "outlinewidth": 0,
             "ticks": ""
            },
            "colorscale": [
             [
              0,
              "#0d0887"
             ],
             [
              0.1111111111111111,
              "#46039f"
             ],
             [
              0.2222222222222222,
              "#7201a8"
             ],
             [
              0.3333333333333333,
              "#9c179e"
             ],
             [
              0.4444444444444444,
              "#bd3786"
             ],
             [
              0.5555555555555556,
              "#d8576b"
             ],
             [
              0.6666666666666666,
              "#ed7953"
             ],
             [
              0.7777777777777778,
              "#fb9f3a"
             ],
             [
              0.8888888888888888,
              "#fdca26"
             ],
             [
              1,
              "#f0f921"
             ]
            ],
            "type": "heatmap"
           }
          ],
          "heatmapgl": [
           {
            "colorbar": {
             "outlinewidth": 0,
             "ticks": ""
            },
            "colorscale": [
             [
              0,
              "#0d0887"
             ],
             [
              0.1111111111111111,
              "#46039f"
             ],
             [
              0.2222222222222222,
              "#7201a8"
             ],
             [
              0.3333333333333333,
              "#9c179e"
             ],
             [
              0.4444444444444444,
              "#bd3786"
             ],
             [
              0.5555555555555556,
              "#d8576b"
             ],
             [
              0.6666666666666666,
              "#ed7953"
             ],
             [
              0.7777777777777778,
              "#fb9f3a"
             ],
             [
              0.8888888888888888,
              "#fdca26"
             ],
             [
              1,
              "#f0f921"
             ]
            ],
            "type": "heatmapgl"
           }
          ],
          "histogram": [
           {
            "marker": {
             "pattern": {
              "fillmode": "overlay",
              "size": 10,
              "solidity": 0.2
             }
            },
            "type": "histogram"
           }
          ],
          "histogram2d": [
           {
            "colorbar": {
             "outlinewidth": 0,
             "ticks": ""
            },
            "colorscale": [
             [
              0,
              "#0d0887"
             ],
             [
              0.1111111111111111,
              "#46039f"
             ],
             [
              0.2222222222222222,
              "#7201a8"
             ],
             [
              0.3333333333333333,
              "#9c179e"
             ],
             [
              0.4444444444444444,
              "#bd3786"
             ],
             [
              0.5555555555555556,
              "#d8576b"
             ],
             [
              0.6666666666666666,
              "#ed7953"
             ],
             [
              0.7777777777777778,
              "#fb9f3a"
             ],
             [
              0.8888888888888888,
              "#fdca26"
             ],
             [
              1,
              "#f0f921"
             ]
            ],
            "type": "histogram2d"
           }
          ],
          "histogram2dcontour": [
           {
            "colorbar": {
             "outlinewidth": 0,
             "ticks": ""
            },
            "colorscale": [
             [
              0,
              "#0d0887"
             ],
             [
              0.1111111111111111,
              "#46039f"
             ],
             [
              0.2222222222222222,
              "#7201a8"
             ],
             [
              0.3333333333333333,
              "#9c179e"
             ],
             [
              0.4444444444444444,
              "#bd3786"
             ],
             [
              0.5555555555555556,
              "#d8576b"
             ],
             [
              0.6666666666666666,
              "#ed7953"
             ],
             [
              0.7777777777777778,
              "#fb9f3a"
             ],
             [
              0.8888888888888888,
              "#fdca26"
             ],
             [
              1,
              "#f0f921"
             ]
            ],
            "type": "histogram2dcontour"
           }
          ],
          "mesh3d": [
           {
            "colorbar": {
             "outlinewidth": 0,
             "ticks": ""
            },
            "type": "mesh3d"
           }
          ],
          "parcoords": [
           {
            "line": {
             "colorbar": {
              "outlinewidth": 0,
              "ticks": ""
             }
            },
            "type": "parcoords"
           }
          ],
          "pie": [
           {
            "automargin": true,
            "type": "pie"
           }
          ],
          "scatter": [
           {
            "marker": {
             "colorbar": {
              "outlinewidth": 0,
              "ticks": ""
             }
            },
            "type": "scatter"
           }
          ],
          "scatter3d": [
           {
            "line": {
             "colorbar": {
              "outlinewidth": 0,
              "ticks": ""
             }
            },
            "marker": {
             "colorbar": {
              "outlinewidth": 0,
              "ticks": ""
             }
            },
            "type": "scatter3d"
           }
          ],
          "scattercarpet": [
           {
            "marker": {
             "colorbar": {
              "outlinewidth": 0,
              "ticks": ""
             }
            },
            "type": "scattercarpet"
           }
          ],
          "scattergeo": [
           {
            "marker": {
             "colorbar": {
              "outlinewidth": 0,
              "ticks": ""
             }
            },
            "type": "scattergeo"
           }
          ],
          "scattergl": [
           {
            "marker": {
             "colorbar": {
              "outlinewidth": 0,
              "ticks": ""
             }
            },
            "type": "scattergl"
           }
          ],
          "scattermapbox": [
           {
            "marker": {
             "colorbar": {
              "outlinewidth": 0,
              "ticks": ""
             }
            },
            "type": "scattermapbox"
           }
          ],
          "scatterpolar": [
           {
            "marker": {
             "colorbar": {
              "outlinewidth": 0,
              "ticks": ""
             }
            },
            "type": "scatterpolar"
           }
          ],
          "scatterpolargl": [
           {
            "marker": {
             "colorbar": {
              "outlinewidth": 0,
              "ticks": ""
             }
            },
            "type": "scatterpolargl"
           }
          ],
          "scatterternary": [
           {
            "marker": {
             "colorbar": {
              "outlinewidth": 0,
              "ticks": ""
             }
            },
            "type": "scatterternary"
           }
          ],
          "surface": [
           {
            "colorbar": {
             "outlinewidth": 0,
             "ticks": ""
            },
            "colorscale": [
             [
              0,
              "#0d0887"
             ],
             [
              0.1111111111111111,
              "#46039f"
             ],
             [
              0.2222222222222222,
              "#7201a8"
             ],
             [
              0.3333333333333333,
              "#9c179e"
             ],
             [
              0.4444444444444444,
              "#bd3786"
             ],
             [
              0.5555555555555556,
              "#d8576b"
             ],
             [
              0.6666666666666666,
              "#ed7953"
             ],
             [
              0.7777777777777778,
              "#fb9f3a"
             ],
             [
              0.8888888888888888,
              "#fdca26"
             ],
             [
              1,
              "#f0f921"
             ]
            ],
            "type": "surface"
           }
          ],
          "table": [
           {
            "cells": {
             "fill": {
              "color": "#EBF0F8"
             },
             "line": {
              "color": "white"
             }
            },
            "header": {
             "fill": {
              "color": "#C8D4E3"
             },
             "line": {
              "color": "white"
             }
            },
            "type": "table"
           }
          ]
         },
         "layout": {
          "annotationdefaults": {
           "arrowcolor": "#2a3f5f",
           "arrowhead": 0,
           "arrowwidth": 1
          },
          "autotypenumbers": "strict",
          "coloraxis": {
           "colorbar": {
            "outlinewidth": 0,
            "ticks": ""
           }
          },
          "colorscale": {
           "diverging": [
            [
             0,
             "#8e0152"
            ],
            [
             0.1,
             "#c51b7d"
            ],
            [
             0.2,
             "#de77ae"
            ],
            [
             0.3,
             "#f1b6da"
            ],
            [
             0.4,
             "#fde0ef"
            ],
            [
             0.5,
             "#f7f7f7"
            ],
            [
             0.6,
             "#e6f5d0"
            ],
            [
             0.7,
             "#b8e186"
            ],
            [
             0.8,
             "#7fbc41"
            ],
            [
             0.9,
             "#4d9221"
            ],
            [
             1,
             "#276419"
            ]
           ],
           "sequential": [
            [
             0,
             "#0d0887"
            ],
            [
             0.1111111111111111,
             "#46039f"
            ],
            [
             0.2222222222222222,
             "#7201a8"
            ],
            [
             0.3333333333333333,
             "#9c179e"
            ],
            [
             0.4444444444444444,
             "#bd3786"
            ],
            [
             0.5555555555555556,
             "#d8576b"
            ],
            [
             0.6666666666666666,
             "#ed7953"
            ],
            [
             0.7777777777777778,
             "#fb9f3a"
            ],
            [
             0.8888888888888888,
             "#fdca26"
            ],
            [
             1,
             "#f0f921"
            ]
           ],
           "sequentialminus": [
            [
             0,
             "#0d0887"
            ],
            [
             0.1111111111111111,
             "#46039f"
            ],
            [
             0.2222222222222222,
             "#7201a8"
            ],
            [
             0.3333333333333333,
             "#9c179e"
            ],
            [
             0.4444444444444444,
             "#bd3786"
            ],
            [
             0.5555555555555556,
             "#d8576b"
            ],
            [
             0.6666666666666666,
             "#ed7953"
            ],
            [
             0.7777777777777778,
             "#fb9f3a"
            ],
            [
             0.8888888888888888,
             "#fdca26"
            ],
            [
             1,
             "#f0f921"
            ]
           ]
          },
          "colorway": [
           "#636efa",
           "#EF553B",
           "#00cc96",
           "#ab63fa",
           "#FFA15A",
           "#19d3f3",
           "#FF6692",
           "#B6E880",
           "#FF97FF",
           "#FECB52"
          ],
          "font": {
           "color": "#2a3f5f"
          },
          "geo": {
           "bgcolor": "white",
           "lakecolor": "white",
           "landcolor": "#E5ECF6",
           "showlakes": true,
           "showland": true,
           "subunitcolor": "white"
          },
          "hoverlabel": {
           "align": "left"
          },
          "hovermode": "closest",
          "mapbox": {
           "style": "light"
          },
          "paper_bgcolor": "white",
          "plot_bgcolor": "#E5ECF6",
          "polar": {
           "angularaxis": {
            "gridcolor": "white",
            "linecolor": "white",
            "ticks": ""
           },
           "bgcolor": "#E5ECF6",
           "radialaxis": {
            "gridcolor": "white",
            "linecolor": "white",
            "ticks": ""
           }
          },
          "scene": {
           "xaxis": {
            "backgroundcolor": "#E5ECF6",
            "gridcolor": "white",
            "gridwidth": 2,
            "linecolor": "white",
            "showbackground": true,
            "ticks": "",
            "zerolinecolor": "white"
           },
           "yaxis": {
            "backgroundcolor": "#E5ECF6",
            "gridcolor": "white",
            "gridwidth": 2,
            "linecolor": "white",
            "showbackground": true,
            "ticks": "",
            "zerolinecolor": "white"
           },
           "zaxis": {
            "backgroundcolor": "#E5ECF6",
            "gridcolor": "white",
            "gridwidth": 2,
            "linecolor": "white",
            "showbackground": true,
            "ticks": "",
            "zerolinecolor": "white"
           }
          },
          "shapedefaults": {
           "line": {
            "color": "#2a3f5f"
           }
          },
          "ternary": {
           "aaxis": {
            "gridcolor": "white",
            "linecolor": "white",
            "ticks": ""
           },
           "baxis": {
            "gridcolor": "white",
            "linecolor": "white",
            "ticks": ""
           },
           "bgcolor": "#E5ECF6",
           "caxis": {
            "gridcolor": "white",
            "linecolor": "white",
            "ticks": ""
           }
          },
          "title": {
           "x": 0.05
          },
          "xaxis": {
           "automargin": true,
           "gridcolor": "white",
           "linecolor": "white",
           "ticks": "",
           "title": {
            "standoff": 15
           },
           "zerolinecolor": "white",
           "zerolinewidth": 2
          },
          "yaxis": {
           "automargin": true,
           "gridcolor": "white",
           "linecolor": "white",
           "ticks": "",
           "title": {
            "standoff": 15
           },
           "zerolinecolor": "white",
           "zerolinewidth": 2
          }
         }
        },
        "title": {
         "text": "Payment on time - State"
        }
       }
      },
      "text/html": [
       "<div>                            <div id=\"85ce70be-8c9f-4409-a415-b737dec21611\" class=\"plotly-graph-div\" style=\"height:525px; width:100%;\"></div>            <script type=\"text/javascript\">                require([\"plotly\"], function(Plotly) {                    window.PLOTLYENV=window.PLOTLYENV || {};                                    if (document.getElementById(\"85ce70be-8c9f-4409-a415-b737dec21611\")) {                    Plotly.newPlot(                        \"85ce70be-8c9f-4409-a415-b737dec21611\",                        [{\"domain\":{\"x\":[0.0,1.0],\"y\":[0.0,1.0]},\"hovertemplate\":\"state=%{label}<extra></extra>\",\"labels\":[\"HI\",\"CT\",\"TN\",\"TX\",\"CT\",\"NY\",\"IL\",\"AL\",\"MO\",\"VA\",\"MS\",\"KS\",\"WV\",\"UT\",\"WV\",\"WY\",\"WI\",\"NJ\",\"CO\",\"NH\",\"NY\",\"WY\",\"ID\",\"NY\",\"MD\",\"DC\",\"HI\",\"MA\",\"TN\",\"MN\",\"RI\",\"MT\",\"OR\",\"OK\",\"MO\",\"WI\",\"RI\",\"NV\",\"KS\",\"ID\",\"CO\",\"MO\",\"OR\",\"TN\",\"HI\",\"VA\",\"OH\",\"NE\",\"RI\",\"WY\",\"MD\",\"NJ\",\"IL\",\"NE\",\"AL\",\"ID\",\"NY\",\"SD\",\"NE\",\"OH\",\"ND\",\"DE\",\"ME\",\"MO\",\"DC\",\"SC\",\"AZ\",\"KS\",\"ND\",\"OK\",\"ID\",\"OH\",\"OK\",\"IN\",\"OR\",\"VT\",\"FL\",\"AR\",\"CO\",\"AL\",\"VT\",\"TN\",\"MN\",\"RI\",\"AL\",\"GA\",\"IL\",\"TX\",\"VA\",\"WY\",\"MN\",\"MS\",\"NE\",\"OH\",\"WV\",\"LA\",\"VA\",\"NJ\",\"MI\",\"SD\",\"ME\",\"AL\",\"CT\",\"NC\",\"WA\",\"CT\",\"WV\",\"KS\",\"MO\",\"AL\",\"OH\",\"GA\",\"CT\",\"MT\",\"KS\",\"LA\",\"KY\",\"TX\",\"OH\",\"SC\",\"SD\",\"MO\",\"MN\",\"TN\",\"CT\",\"RI\",\"WY\",\"IN\",\"TN\",\"IL\",\"AZ\",\"IN\",\"MT\",\"MA\",\"NH\",\"LA\",\"DC\",\"FL\",\"NY\",\"PA\",\"RI\",\"TX\",\"KY\",\"AZ\",\"SD\",\"LA\",\"NM\",\"WY\",\"MA\",\"CO\",\"IL\",\"DE\",\"WY\",\"IL\",\"IN\",\"TN\",\"IL\",\"NM\",\"VA\",\"AZ\",\"ME\",\"MN\",\"WY\",\"LA\",\"NY\",\"SD\",\"CO\",\"WI\",\"FL\",\"VT\",\"TX\",\"NJ\",\"CT\",\"MN\",\"ND\",\"WI\",\"VA\",\"NH\",\"IN\",\"AL\",\"CT\",\"MI\",\"HI\",\"IN\",\"NJ\",\"WY\",\"KY\",\"NE\",\"VA\",\"NH\",\"ID\",\"WI\",\"NH\",\"NM\",\"MS\",\"FL\",\"MD\",\"ID\",\"FL\",\"RI\",\"WI\",\"HI\",\"SC\",\"MA\",\"WV\",\"NM\",\"KY\",\"MO\",\"AL\",\"FL\",\"MA\",\"WY\",\"DC\",\"KY\",\"NC\",\"IN\",\"IA\",\"CO\",\"WV\",\"CO\",\"CT\",\"AK\",\"NY\",\"AZ\",\"WV\",\"WV\",\"LA\",\"AZ\",\"CO\",\"WY\",\"NV\",\"ID\",\"VA\",\"UT\",\"KY\",\"LA\",\"NC\",\"WA\",\"CO\",\"MT\",\"DC\",\"IL\",\"VT\",\"TX\",\"ND\",\"AK\",\"MS\",\"CO\",\"WI\",\"OR\",\"DC\",\"MS\",\"AZ\",\"OK\",\"IA\",\"AK\",\"SC\",\"UT\",\"UT\",\"TX\",\"ND\",\"HI\",\"ID\",\"MA\",\"WV\",\"OK\",\"DE\",\"IL\",\"ME\",\"NJ\",\"MA\",\"WA\",\"UT\",\"WV\",\"DE\",\"NV\",\"NH\",\"CO\",\"DE\",\"MT\",\"MN\",\"AL\",\"KS\",\"NH\",\"OH\",\"UT\",\"MS\",\"NM\",\"MD\",\"CA\",\"WV\",\"WA\",\"ID\",\"WV\",\"CT\",\"IA\",\"IL\",\"MS\",\"VA\",\"LA\",\"CA\",\"WV\",\"WV\",\"UT\",\"AZ\",\"SD\",\"DE\",\"NV\",\"NJ\",\"MT\",\"DE\",\"AZ\",\"NM\",\"AK\",\"OR\",\"MN\",\"GA\",\"IL\",\"AR\",\"CA\",\"NY\",\"MA\",\"OH\",\"ND\",\"DC\",\"HI\",\"OR\",\"CT\",\"LA\",\"MS\",\"OH\",\"OH\",\"WY\",\"MA\",\"FL\",\"VA\",\"VA\",\"WY\",\"MS\",\"ND\",\"MS\",\"OR\",\"HI\",\"NY\",\"ND\",\"WV\",\"OR\",\"RI\",\"NM\",\"CT\",\"RI\",\"SD\",\"NH\",\"MN\",\"ND\",\"DE\",\"NJ\",\"GA\",\"PA\",\"WV\",\"MN\",\"IL\",\"WY\",\"AL\",\"LA\",\"KY\",\"DE\",\"WV\",\"MT\",\"AL\",\"WY\",\"WV\",\"OR\",\"OR\",\"MA\",\"MN\",\"ME\",\"MI\",\"TN\",\"MI\",\"NC\",\"NV\",\"FL\",\"UT\",\"ND\",\"AR\",\"MS\",\"WI\",\"OH\",\"MD\",\"MI\",\"AL\",\"ME\",\"MD\",\"TX\",\"WV\",\"TN\",\"NE\",\"KS\",\"CO\",\"OR\",\"SC\",\"WI\",\"MT\",\"WA\",\"RI\",\"TX\",\"AL\",\"IA\",\"WY\",\"NE\",\"TX\",\"KS\",\"MS\",\"NJ\",\"TN\",\"NM\",\"OH\",\"HI\",\"MD\",\"IA\",\"IN\",\"CT\",\"NJ\",\"UT\",\"IL\",\"FL\",\"WY\",\"MN\",\"DE\",\"HI\",\"IN\",\"OK\",\"NE\",\"FL\",\"NC\",\"MI\",\"HI\",\"DE\",\"OK\",\"MO\",\"MD\",\"CO\",\"PA\",\"WA\",\"DC\",\"MA\",\"SD\",\"WY\",\"AZ\",\"TX\",\"WY\",\"DC\",\"MD\",\"NH\",\"MO\",\"CO\",\"IA\",\"NV\",\"LA\",\"RI\",\"NH\",\"SD\",\"NJ\",\"VT\",\"DE\",\"FL\",\"OK\",\"GA\",\"CO\",\"HI\",\"ID\",\"KS\",\"MN\",\"OK\",\"SC\",\"CA\",\"AK\",\"OR\",\"NE\",\"KS\",\"DC\",\"DC\",\"NM\",\"WI\",\"CT\",\"TN\",\"ID\",\"MA\",\"CO\",\"MO\",\"KS\",\"VA\",\"IN\",\"MT\",\"IN\",\"SD\",\"WI\",\"NY\",\"MN\",\"NM\",\"MN\",\"DC\",\"NY\",\"NV\",\"ID\",\"DE\",\"VA\",\"IA\",\"MN\",\"KY\",\"DC\",\"AL\",\"TX\",\"MD\",\"IL\",\"ND\",\"NJ\",\"MO\",\"HI\",\"VA\",\"AL\",\"DC\",\"WY\",\"UT\",\"CA\",\"VA\",\"VT\",\"SC\",\"GA\",\"CT\",\"LA\",\"ND\",\"PA\",\"AZ\",\"RI\",\"RI\",\"WV\",\"AZ\",\"DE\",\"OH\",\"TN\",\"NY\",\"OH\",\"NM\",\"WV\",\"NV\",\"MN\",\"WY\",\"IA\",\"KY\",\"NE\",\"CT\",\"IN\",\"UT\",\"WV\",\"NE\",\"MD\",\"WV\",\"UT\",\"ND\",\"MD\",\"HI\",\"NJ\",\"NH\",\"NV\",\"HI\",\"AK\",\"MI\",\"NH\",\"NE\",\"MA\",\"MT\",\"DE\",\"HI\",\"MN\",\"TN\",\"WY\",\"IN\",\"MI\",\"MN\",\"OK\",\"WY\",\"TN\",\"LA\",\"MA\",\"NJ\",\"AL\",\"NH\",\"WI\",\"NC\",\"VT\",\"GA\",\"NC\",\"NV\",\"MS\",\"WV\",\"IN\",\"DE\",\"VA\",\"TN\",\"NJ\",\"TX\",\"VA\",\"WY\",\"NJ\",\"NJ\",\"OH\",\"CT\",\"DE\",\"MS\",\"ME\",\"CT\",\"NJ\",\"KS\",\"UT\",\"NM\",\"FL\",\"NC\",\"AR\",\"IN\",\"IN\",\"PA\",\"IA\",\"TX\",\"ME\",\"KS\",\"DE\",\"WI\",\"MI\",\"WY\",\"WY\",\"IN\",\"PA\",\"AZ\",\"VA\",\"MS\",\"AZ\",\"MI\",\"FL\",\"WY\",\"MT\",\"NC\",\"CT\",\"PA\",\"UT\",\"WY\",\"NY\",\"WV\",\"FL\",\"CT\",\"WY\",\"WV\",\"UT\",\"AZ\",\"MN\",\"NE\",\"NY\",\"WI\",\"DC\",\"OK\",\"ME\",\"DE\",\"TX\",\"AR\",\"MT\",\"CO\",\"KY\",\"IA\",\"WY\",\"OK\",\"VT\",\"MI\",\"WV\",\"AR\",\"ID\",\"NJ\",\"AK\",\"OH\",\"AL\",\"NH\",\"TN\",\"OH\",\"IA\",\"FL\",\"ID\",\"LA\",\"OH\",\"AK\",\"NJ\",\"OK\",\"IN\",\"CO\",\"MI\",\"SC\",\"VT\",\"MO\",\"TN\",\"NE\",\"NY\",\"DE\",\"NJ\",\"OH\",\"WA\",\"TX\",\"AK\",\"ND\",\"SD\",\"CT\",\"CO\",\"KY\",\"UT\",\"SD\",\"NE\",\"MT\",\"VT\",\"DC\",\"LA\",\"KS\",\"DC\",\"WI\",\"MT\",\"WA\",\"AL\",\"VT\",\"NM\",\"VT\",\"SD\",\"MN\",\"NM\",\"SD\",\"WI\",\"IA\",\"FL\",\"MD\",\"WY\",\"DE\",\"UT\",\"NH\",\"NV\",\"NY\",\"VA\",\"WA\",\"MA\",\"NV\",\"MS\",\"MS\",\"WV\",\"HI\",\"MT\",\"MA\",\"PA\",\"WV\",\"NM\",\"MT\",\"TX\",\"ND\",\"ID\",\"ND\",\"IL\",\"MS\",\"IN\",\"IN\",\"IN\",\"KS\",\"NY\",\"CT\",\"IL\",\"TN\",\"AL\",\"CT\",\"ME\",\"VT\",\"ID\",\"NV\",\"VT\",\"WY\",\"DE\",\"IN\",\"DE\",\"MO\",\"MD\",\"CO\",\"VT\",\"MA\",\"MA\",\"UT\",\"AK\",\"ME\",\"ME\",\"VT\",\"CO\",\"AK\",\"MN\",\"ND\",\"NM\",\"IN\",\"OH\",\"WV\",\"VT\",\"KS\",\"MA\",\"MT\",\"NJ\",\"ME\",\"OH\",\"SC\",\"MT\",\"MI\",\"RI\",\"LA\",\"FL\",\"ND\",\"MS\",\"UT\",\"WV\",\"NC\",\"LA\",\"NV\",\"FL\",\"LA\",\"AL\",\"SC\",\"VA\",\"ID\",\"MI\",\"GA\",\"WI\",\"AR\",\"NC\",\"NY\",\"WY\",\"DC\",\"WY\",\"WV\",\"MO\",\"MA\",\"MN\",\"WV\",\"NY\",\"OK\",\"MA\",\"MD\",\"GA\",\"NY\",\"WV\",\"NM\",\"AL\",\"WA\",\"LA\",\"OK\",\"FL\",\"AZ\",\"RI\",\"HI\",\"IL\",\"WI\",\"NH\",\"WA\",\"ID\",\"MN\",\"WI\",\"NC\",\"OR\",\"GA\",\"VA\",\"CO\",\"AL\",\"MT\",\"WV\",\"DE\",\"TX\",\"WV\",\"AR\",\"MA\",\"UT\",\"OH\",\"AL\",\"SC\",\"TN\",\"NC\",\"AR\",\"KS\",\"VA\",\"MO\",\"TN\",\"AZ\",\"TN\",\"WY\",\"OK\",\"WI\",\"NH\",\"NM\",\"LA\",\"LA\",\"DE\",\"ID\",\"RI\",\"ID\",\"MI\",\"NY\",\"MI\",\"KY\",\"NM\",\"MI\",\"AL\",\"MS\",\"MI\",\"NJ\",\"WV\",\"UT\",\"PA\",\"ND\",\"MN\",\"GA\",\"UT\",\"MN\",\"RI\",\"RI\",\"VT\",\"MI\",\"MO\",\"WA\",\"WV\",\"VA\",\"TX\",\"CT\",\"ND\",\"IN\",\"FL\",\"VT\",\"CT\",\"WY\",\"NV\",\"HI\",\"MD\",\"NC\",\"AR\",\"MA\",\"SD\",\"MI\",\"SC\",\"MA\",\"NJ\",\"IL\",\"GA\",\"IA\",\"MS\",\"WY\",\"MO\",\"NY\",\"RI\",\"WY\",\"AL\",\"RI\",\"DE\",\"OH\",\"IN\",\"NY\",\"KS\",\"MA\",\"IN\",\"CO\",\"SD\",\"FL\",\"IA\",\"NJ\",\"MI\",\"WY\",\"IL\",\"DC\",\"OR\",\"MO\",\"ID\",\"ID\",\"IL\",\"DE\",\"WI\",\"RI\",\"OK\",\"NH\",\"ID\",\"MI\",\"GA\",\"VT\",\"VA\",\"CO\",\"VA\",\"ME\",\"MO\",\"VA\",\"KS\",\"MA\",\"ME\",\"CT\",\"TN\",\"GA\",\"MI\",\"AZ\",\"FL\",\"WA\",\"NY\",\"VA\",\"VA\",\"OR\",\"MD\",\"NY\",\"DC\",\"VA\",\"WA\",\"HI\",\"KY\",\"NM\",\"AK\",\"ND\",\"CT\",\"MO\",\"NV\",\"MS\",\"GA\",\"GA\",\"WA\",\"MT\",\"WA\",\"NY\",\"IN\",\"NY\",\"IL\",\"HI\",\"WY\",\"MA\",\"TX\",\"MS\",\"GA\",\"OK\",\"WV\",\"DE\",\"MA\",\"NJ\",\"VA\",\"DE\",\"AZ\",\"IA\",\"AL\",\"MT\",\"FL\",\"WI\",\"WV\",\"MA\",\"TX\",\"FL\",\"SC\",\"KY\",\"AR\",\"VA\",\"ID\",\"MS\",\"GA\",\"WV\",\"UT\",\"WY\",\"IL\",\"MO\",\"NC\",\"FL\",\"RI\",\"LA\",\"UT\",\"RI\",\"NC\",\"WI\",\"DC\",\"ND\",\"IA\",\"WV\",\"MS\",\"WA\",\"KY\",\"MA\",\"OR\",\"MO\",\"VA\",\"SC\",\"RI\",\"MI\",\"WI\",\"WA\",\"UT\",\"MN\",\"DC\",\"IN\",\"NC\",\"AL\",\"AR\",\"CT\",\"ME\",\"NC\",\"MN\",\"AR\",\"OR\",\"AL\",\"CT\",\"OK\",\"WI\",\"WV\",\"VA\",\"HI\",\"VA\",\"NC\",\"VA\",\"ND\",\"TN\",\"KY\",\"OH\",\"NM\",\"AL\",\"NM\",\"PA\",\"ME\",\"SC\",\"AZ\",\"IL\",\"OK\",\"CT\",\"MI\",\"MS\",\"MO\",\"KY\",\"SC\",\"FL\",\"AK\",\"CO\",\"ID\",\"VA\",\"MN\",\"OR\",\"MD\",\"KS\",\"OK\",\"WV\",\"AL\",\"NC\",\"NY\",\"VT\",\"ME\",\"UT\",\"NJ\",\"VT\",\"MN\",\"MD\",\"AR\",\"OR\",\"AL\",\"SC\",\"RI\",\"DC\",\"ME\",\"MA\",\"MN\",\"OR\",\"UT\",\"PA\",\"AZ\",\"DC\",\"OK\",\"HI\",\"WI\",\"DC\",\"WA\",\"AZ\",\"OH\",\"KY\",\"VA\",\"DC\",\"RI\",\"AL\",\"OR\",\"CO\",\"NH\",\"AL\",\"MI\",\"MO\",\"FL\",\"DE\",\"AR\",\"MN\",\"AL\",\"MI\",\"NH\",\"MS\",\"VA\",\"MD\",\"AL\",\"MS\",\"DC\",\"MS\",\"IL\",\"CA\",\"ID\",\"AZ\",\"NH\",\"WI\",\"MN\",\"OH\",\"KY\",\"MI\",\"MI\",\"KY\",\"TX\",\"HI\",\"ND\",\"GA\",\"IN\",\"NJ\",\"AK\",\"SD\",\"ID\",\"NE\",\"NV\",\"OR\",\"LA\",\"AK\",\"AR\",\"DC\",\"ND\",\"IL\",\"VA\",\"SC\",\"KY\",\"TN\",\"VA\",\"TX\",\"ID\",\"TN\",\"WV\",\"DC\",\"MA\",\"DE\",\"MD\",\"NM\",\"TX\",\"NC\",\"MA\",\"OK\",\"NE\",\"NM\",\"TX\",\"ID\",\"HI\",\"RI\",\"AR\",\"DC\",\"MT\",\"MS\",\"AZ\",\"NM\",\"VT\",\"GA\",\"WY\",\"WV\",\"WY\",\"WY\",\"NY\",\"MT\",\"ID\",\"WI\",\"AR\",\"AK\",\"IL\",\"VA\",\"HI\",\"RI\",\"ME\",\"AK\",\"ID\",\"RI\",\"RI\",\"ME\",\"OR\",\"RI\",\"SC\",\"WA\",\"MT\",\"NH\",\"NY\",\"LA\",\"AR\",\"IA\",\"ME\",\"AR\",\"GA\",\"FL\",\"MI\",\"WY\",\"WA\",\"NM\",\"MI\",\"MI\",\"LA\",\"KS\",\"NJ\",\"IL\",\"AL\",\"NY\",\"NM\",\"NJ\",\"AZ\",\"MS\",\"WV\",\"IA\",\"WY\",\"ME\",\"NM\",\"KS\",\"HI\",\"AK\",\"AL\",\"VA\",\"SC\",\"VT\",\"OH\",\"NH\",\"OH\",\"AL\",\"ME\",\"MI\",\"NV\",\"OH\",\"NE\",\"MA\",\"MT\",\"AR\",\"WY\",\"RI\",\"MA\",\"TX\",\"VT\",\"WV\",\"LA\",\"CT\",\"TX\",\"DE\",\"ND\",\"MI\",\"PA\",\"KS\",\"TX\",\"OK\",\"GA\",\"KS\",\"MS\",\"NJ\",\"ME\",\"VA\",\"TX\",\"AZ\",\"AK\",\"CT\",\"TX\",\"NY\",\"WI\",\"DC\",\"WI\",\"AR\",\"OK\",\"NV\",\"LA\",\"ID\",\"AR\",\"OH\",\"HI\",\"AL\",\"AR\",\"FL\",\"NY\",\"NY\",\"MA\",\"AK\",\"MN\",\"SC\",\"OR\",\"ND\",\"ND\",\"NY\",\"VA\",\"NV\",\"NE\",\"WI\",\"AL\",\"KY\",\"AK\",\"AK\",\"SC\",\"MN\",\"IN\",\"RI\",\"NH\",\"ID\",\"NE\",\"WV\",\"IA\",\"GA\",\"WA\",\"NY\",\"IL\",\"VA\",\"NM\",\"NV\",\"IL\",\"MD\",\"DC\",\"VA\",\"SC\",\"MO\",\"KY\",\"NH\",\"KY\",\"ME\",\"SD\",\"VA\",\"IN\",\"HI\",\"WV\",\"KS\",\"MA\",\"KS\",\"AK\",\"AK\",\"KS\",\"PA\",\"CT\",\"SD\",\"SC\",\"VA\",\"ME\",\"NC\",\"AK\",\"NE\",\"WY\",\"SC\",\"NE\",\"AZ\",\"WA\",\"SC\",\"RI\",\"MT\",\"OR\",\"MI\",\"OH\",\"AR\",\"CT\",\"MN\",\"OK\",\"ME\",\"FL\",\"WV\",\"CT\",\"GA\",\"IL\",\"MN\",\"IL\",\"CO\",\"MN\",\"NV\",\"DE\",\"VT\",\"CO\",\"VT\",\"MN\",\"CO\",\"ID\",\"UT\",\"MS\",\"IA\",\"MN\",\"SD\",\"PA\",\"CT\",\"VT\",\"NM\",\"AZ\",\"NY\",\"NE\",\"OR\",\"AL\",\"OH\",\"WI\",\"TX\",\"AR\",\"WA\",\"OK\",\"MN\",\"WI\",\"MN\",\"WV\",\"FL\",\"OK\",\"MI\",\"OH\",\"UT\",\"NH\",\"VT\",\"MN\",\"MT\",\"MS\",\"NY\",\"ME\",\"CT\",\"CT\",\"LA\",\"ME\",\"CT\",\"MN\",\"WI\",\"LA\",\"MT\",\"NM\",\"ID\",\"UT\",\"IL\",\"MS\",\"ND\",\"WV\",\"PA\",\"AR\",\"IN\",\"AR\",\"CT\",\"ID\",\"TN\",\"MO\",\"SC\",\"AR\",\"IL\",\"WY\",\"VA\",\"WI\",\"NY\",\"PA\",\"SC\",\"VA\",\"FL\",\"UT\",\"MN\",\"IA\",\"NY\",\"WV\",\"WV\",\"AL\",\"AZ\",\"SD\",\"OH\",\"VT\",\"WI\",\"MN\",\"CO\",\"WA\",\"UT\",\"NC\",\"NE\",\"WV\",\"AR\",\"NM\",\"WA\",\"NE\",\"MO\",\"CA\",\"PA\",\"TX\",\"IL\",\"CT\",\"SD\",\"WV\",\"SD\",\"NY\",\"OH\",\"KY\",\"ME\",\"OR\",\"NH\",\"NH\",\"NE\",\"AZ\",\"MN\",\"MA\",\"AR\",\"MN\",\"OH\",\"MS\",\"LA\",\"AZ\",\"NY\",\"AZ\",\"WI\",\"ND\",\"MN\",\"WA\",\"MA\",\"ID\",\"NM\",\"FL\",\"MO\",\"ND\",\"DC\",\"OH\",\"NE\",\"GA\",\"MO\",\"WV\",\"MT\",\"VA\",\"GA\",\"WI\",\"PA\",\"VT\",\"MI\",\"PA\",\"VT\",\"NH\",\"IN\",\"CO\",\"TX\",\"VT\",\"NM\",\"SC\",\"NV\",\"OK\",\"PA\",\"CT\",\"DE\",\"PA\",\"MS\",\"OK\",\"OH\",\"WV\",\"PA\",\"GA\",\"MT\",\"CO\",\"TN\",\"WV\",\"WV\",\"KS\",\"IL\",\"NE\",\"NJ\",\"NY\",\"FL\",\"MN\",\"NY\",\"VT\",\"CO\",\"NM\",\"ID\",\"AR\",\"NH\",\"ID\",\"NH\",\"ID\",\"RI\",\"CT\",\"AR\",\"NM\",\"ME\",\"LA\",\"ME\",\"MA\",\"OH\",\"NE\",\"NM\",\"SD\",\"RI\",\"AZ\",\"NV\",\"TX\",\"ME\",\"OH\",\"WI\",\"NH\",\"SC\",\"GA\",\"RI\",\"SC\",\"NV\",\"NH\",\"TX\",\"VA\",\"WV\",\"CA\",\"WV\",\"OR\",\"VT\",\"MI\",\"RI\",\"CT\",\"CO\",\"WA\",\"NM\",\"AK\",\"NH\",\"SD\",\"VT\",\"TX\",\"OH\",\"IA\",\"OK\",\"PA\",\"NJ\",\"MO\",\"ME\",\"LA\",\"MA\",\"GA\",\"NE\",\"ID\",\"PA\",\"OK\",\"WY\",\"WA\",\"FL\",\"VT\",\"MN\",\"MS\",\"LA\",\"MI\",\"SD\",\"HI\",\"VA\",\"HI\",\"OK\",\"WY\",\"IL\",\"WV\",\"MD\",\"MD\",\"WV\",\"WY\",\"NM\",\"NC\",\"NJ\",\"ID\",\"MD\",\"TX\",\"SC\",\"DE\",\"KY\",\"AZ\",\"WI\",\"WV\",\"MD\",\"MA\",\"MN\",\"AZ\",\"ID\",\"NE\",\"WA\",\"VA\",\"UT\",\"TN\",\"ME\",\"RI\",\"MN\",\"LA\",\"AL\",\"ID\",\"OK\",\"TX\",\"NC\",\"OH\",\"MN\",\"CT\",\"DE\",\"OK\",\"NE\",\"OR\",\"LA\",\"HI\",\"NE\",\"VT\",\"CT\",\"MT\",\"ND\",\"LA\",\"RI\",\"VA\",\"IL\",\"NE\",\"MT\",\"IN\",\"MD\",\"WA\",\"OR\",\"IL\",\"MT\",\"DC\",\"SC\",\"NE\",\"UT\",\"NJ\",\"AL\",\"NY\",\"IN\",\"CA\",\"NM\",\"MI\",\"ND\",\"TN\",\"AR\",\"UT\",\"AZ\",\"WV\",\"WA\",\"MA\",\"IA\",\"ME\",\"AK\",\"NV\",\"NE\",\"RI\",\"ID\",\"FL\",\"NM\",\"CA\",\"TX\",\"WI\",\"FL\",\"CO\",\"MA\",\"OK\",\"CT\",\"NH\",\"AK\",\"KY\",\"OR\",\"VT\",\"VA\",\"IN\",\"PA\",\"DC\",\"NH\",\"NY\",\"MN\",\"IA\",\"FL\",\"NE\",\"IN\",\"RI\",\"TX\",\"OR\",\"ME\",\"VA\",\"NY\",\"OR\",\"UT\",\"RI\",\"OH\",\"HI\",\"NV\",\"ME\",\"NJ\",\"UT\",\"MA\",\"NM\",\"VT\",\"SD\",\"OH\",\"MT\",\"NV\",\"ID\",\"OK\",\"NH\",\"NE\",\"SC\",\"IN\",\"SD\",\"MD\",\"OH\",\"ME\",\"IL\",\"IN\",\"CT\",\"OH\",\"OR\",\"WY\",\"HI\",\"MO\",\"IA\",\"VT\",\"GA\",\"NM\",\"SD\",\"VT\",\"WY\",\"WV\",\"WA\",\"AR\",\"OH\",\"NC\",\"CO\",\"UT\",\"LA\",\"OR\",\"WV\",\"TN\",\"VT\",\"MT\",\"AL\",\"VA\",\"MI\",\"TN\",\"AR\",\"OR\",\"UT\",\"WY\",\"WI\",\"MT\",\"NV\",\"TN\",\"GA\",\"IA\",\"ME\",\"DE\",\"NE\",\"KY\",\"MA\",\"AL\",\"IA\",\"KS\",\"WY\",\"MS\",\"NY\",\"SC\",\"HI\",\"MS\",\"CO\",\"WI\",\"SD\",\"ID\",\"MD\",\"SD\",\"KS\",\"NH\",\"NM\",\"KY\",\"UT\",\"RI\",\"DC\",\"VA\",\"SC\",\"NV\",\"AR\",\"VA\",\"AZ\",\"ND\",\"NV\",\"IL\",\"GA\",\"VT\",\"CT\",\"GA\",\"AZ\",\"MT\",\"OH\",\"IN\",\"MA\",\"MO\",\"HI\",\"KY\",\"AZ\",\"NJ\",\"DC\",\"NC\",\"VT\",\"CT\",\"NJ\",\"VA\",\"PA\",\"NJ\",\"MO\",\"NY\",\"MI\",\"ND\",\"CO\",\"RI\",\"KY\",\"TN\",\"AL\",\"AL\",\"RI\",\"DC\",\"WV\",\"NC\",\"ND\",\"MO\",\"TN\",\"WY\",\"MS\",\"WI\",\"AK\",\"MS\",\"FL\",\"NY\",\"OR\",\"ME\",\"ND\",\"ND\",\"MS\",\"MI\",\"AL\",\"RI\",\"NJ\",\"NH\",\"SC\",\"NE\",\"CA\",\"VT\",\"VA\",\"IN\",\"OR\",\"ND\",\"NV\",\"PA\",\"TX\",\"ID\",\"NJ\",\"AR\",\"CO\",\"WI\",\"MT\",\"MI\",\"WA\",\"OR\",\"OK\",\"NV\",\"UT\",\"ID\",\"ME\",\"MN\",\"MS\",\"ID\",\"NH\",\"NH\",\"AR\",\"UT\",\"AK\",\"OH\",\"DC\",\"IL\",\"WI\",\"OH\",\"OH\",\"KY\",\"WV\",\"NJ\",\"SC\",\"NC\",\"ND\",\"OH\",\"WY\",\"CO\",\"MA\",\"AL\",\"GA\",\"NC\",\"GA\",\"OR\",\"IL\",\"KS\",\"ND\",\"OH\",\"DC\",\"WV\",\"GA\",\"WV\",\"NH\",\"WY\",\"NM\",\"IL\",\"WA\",\"WV\",\"VT\",\"HI\",\"TX\",\"MN\",\"ND\",\"NE\",\"WV\",\"AL\",\"NH\",\"MT\",\"AL\",\"VA\",\"VA\",\"CO\",\"IL\",\"MN\",\"FL\",\"OH\",\"AK\",\"MS\",\"NM\",\"WV\",\"OK\",\"WI\",\"OR\",\"ND\",\"PA\",\"NM\",\"ID\",\"WY\",\"WA\",\"MD\",\"AK\",\"ID\",\"DC\",\"MT\",\"IN\",\"KY\",\"VT\",\"CO\",\"DE\",\"SC\",\"HI\",\"OK\",\"NM\",\"NE\",\"IL\",\"MO\",\"ME\",\"NC\",\"MD\",\"RI\",\"IN\",\"CT\",\"AR\",\"SD\",\"LA\",\"WI\",\"CA\",\"AK\",\"FL\",\"VT\",\"IN\",\"OK\",\"NC\",\"CT\",\"MD\",\"PA\",\"MA\",\"KY\",\"NV\",\"VA\",\"MO\",\"ME\",\"VA\",\"PA\",\"MT\",\"AL\",\"AR\",\"NJ\",\"OR\",\"FL\",\"OK\",\"MT\",\"TX\",\"MD\",\"UT\",\"NV\",\"NH\",\"KY\",\"SC\",\"KS\",\"WA\",\"PA\",\"PA\",\"NY\",\"RI\",\"SC\",\"SC\",\"WY\",\"OH\",\"OH\",\"IL\",\"HI\",\"WY\",\"GA\",\"TX\",\"CO\",\"NM\",\"MI\",\"TX\",\"OR\",\"WI\",\"KY\",\"CA\",\"MO\",\"WA\",\"ID\",\"MN\",\"MN\",\"NE\",\"ID\",\"SC\",\"OH\",\"DC\",\"FL\",\"MT\",\"OR\",\"WV\",\"AK\",\"KS\",\"PA\",\"DC\",\"IL\",\"MA\",\"NC\",\"WY\",\"MA\",\"ND\",\"SC\",\"ID\",\"OR\",\"NC\",\"NE\",\"KY\",\"NJ\",\"CT\",\"MO\",\"OR\",\"AR\",\"IA\",\"WA\",\"AZ\",\"AZ\",\"NM\",\"MI\",\"ME\",\"KS\",\"PA\",\"OK\",\"MI\",\"TX\",\"UT\",\"AL\",\"AZ\",\"IL\",\"TN\",\"HI\",\"LA\",\"WI\",\"PA\",\"NE\",\"WY\",\"MO\",\"AL\",\"RI\",\"KY\",\"NC\",\"NJ\",\"IN\",\"OR\",\"MI\",\"FL\",\"TX\",\"PA\",\"ND\",\"NE\",\"TX\",\"KY\",\"UT\",\"DE\",\"ME\",\"NC\",\"IL\",\"ID\",\"IA\",\"FL\",\"AL\",\"CT\",\"MI\",\"WY\",\"IN\",\"VT\",\"MA\",\"NH\",\"SD\",\"HI\",\"CA\",\"CA\",\"KY\",\"NM\",\"AK\",\"KY\",\"DC\",\"ME\",\"NH\",\"HI\",\"WV\",\"MN\",\"MI\",\"WV\",\"AZ\",\"NE\",\"IN\",\"MT\",\"AK\",\"KS\",\"NH\",\"KS\",\"NY\",\"DE\",\"AK\",\"ID\",\"CO\",\"WV\",\"AL\",\"NY\",\"WI\",\"MS\",\"FL\",\"NV\",\"ND\",\"NC\",\"ND\",\"DE\",\"PA\",\"MI\",\"AL\",\"NJ\",\"MD\",\"IA\",\"VA\",\"SD\",\"TX\",\"FL\",\"ND\",\"CO\",\"OR\",\"NC\",\"WA\",\"NV\",\"ME\",\"PA\",\"DE\",\"LA\",\"AL\",\"IL\",\"ID\",\"AK\",\"PA\",\"OK\",\"NV\",\"IA\",\"NY\",\"FL\",\"DC\",\"MA\",\"WI\",\"TN\",\"AZ\",\"LA\",\"NC\",\"MI\",\"CT\",\"AR\",\"UT\",\"IL\",\"CO\",\"VA\",\"ID\",\"TN\",\"NY\",\"KY\",\"AR\",\"WV\",\"CO\",\"AZ\",\"OR\",\"NY\",\"OK\",\"NY\",\"NJ\",\"MT\",\"OH\",\"FL\",\"KS\",\"UT\",\"NE\",\"AL\",\"KS\",\"UT\",\"AL\",\"OR\",\"SC\",\"WV\",\"NV\",\"MI\",\"MT\",\"AL\",\"WV\",\"HI\",\"KS\",\"MT\",\"VT\",\"GA\",\"NJ\",\"WV\",\"AR\",\"MD\",\"ME\",\"VA\",\"VT\",\"AL\",\"MI\",\"VA\",\"TX\",\"FL\",\"DE\",\"WV\",\"KY\",\"WV\",\"AZ\",\"MD\",\"NC\",\"KY\",\"DE\",\"NY\",\"UT\",\"AZ\",\"MO\",\"VA\",\"IL\",\"OR\",\"MN\",\"VA\",\"WI\",\"UT\",\"IN\",\"CA\",\"WI\",\"ID\",\"ND\",\"TN\",\"VT\",\"MN\",\"OH\",\"ID\",\"IA\",\"NM\",\"MO\",\"FL\",\"WI\",\"IL\",\"GA\",\"MT\",\"MI\",\"IA\",\"WY\",\"TN\",\"UT\",\"AL\",\"CO\",\"ND\",\"LA\",\"NM\",\"ID\",\"UT\",\"TN\",\"SC\",\"MD\",\"GA\",\"WV\",\"MI\",\"TX\",\"IL\",\"NY\",\"KS\",\"AL\",\"MS\",\"MT\",\"SD\",\"AL\",\"WY\",\"MI\",\"MN\",\"OH\",\"UT\",\"OH\",\"MT\",\"WI\",\"MN\",\"NM\",\"OH\",\"WI\",\"WI\",\"OK\",\"KS\",\"IA\",\"NY\",\"KS\",\"KY\",\"DC\",\"MI\",\"MN\",\"MS\",\"CO\",\"MN\",\"NV\",\"NE\",\"GA\",\"MI\",\"NV\",\"OR\",\"MD\",\"TN\",\"OK\",\"WV\",\"AL\",\"OK\",\"NH\",\"TX\",\"WI\",\"IA\",\"FL\",\"AR\",\"CA\",\"AL\",\"UT\",\"MD\",\"TX\",\"IA\",\"GA\",\"UT\",\"MS\",\"KS\",\"MA\",\"CO\",\"KS\",\"NH\",\"AR\",\"DC\",\"CT\",\"KS\",\"NH\",\"LA\",\"VT\",\"AK\",\"NC\",\"NC\",\"AZ\",\"CA\",\"IN\",\"PA\",\"SC\",\"SC\",\"NM\",\"AK\",\"NC\",\"WA\",\"NC\",\"CA\",\"MI\",\"IN\",\"IN\",\"MN\",\"OK\",\"RI\",\"LA\",\"ND\",\"NM\",\"OH\",\"SD\",\"WA\",\"NC\",\"NV\",\"UT\",\"KY\",\"KY\",\"IN\",\"MD\",\"MI\",\"IL\",\"NJ\",\"MT\",\"AK\",\"TN\",\"WY\"],\"legendgroup\":\"\",\"name\":\"\",\"showlegend\":true,\"type\":\"pie\"}],                        {\"legend\":{\"tracegroupgap\":0},\"template\":{\"data\":{\"bar\":[{\"error_x\":{\"color\":\"#2a3f5f\"},\"error_y\":{\"color\":\"#2a3f5f\"},\"marker\":{\"line\":{\"color\":\"#E5ECF6\",\"width\":0.5},\"pattern\":{\"fillmode\":\"overlay\",\"size\":10,\"solidity\":0.2}},\"type\":\"bar\"}],\"barpolar\":[{\"marker\":{\"line\":{\"color\":\"#E5ECF6\",\"width\":0.5},\"pattern\":{\"fillmode\":\"overlay\",\"size\":10,\"solidity\":0.2}},\"type\":\"barpolar\"}],\"carpet\":[{\"aaxis\":{\"endlinecolor\":\"#2a3f5f\",\"gridcolor\":\"white\",\"linecolor\":\"white\",\"minorgridcolor\":\"white\",\"startlinecolor\":\"#2a3f5f\"},\"baxis\":{\"endlinecolor\":\"#2a3f5f\",\"gridcolor\":\"white\",\"linecolor\":\"white\",\"minorgridcolor\":\"white\",\"startlinecolor\":\"#2a3f5f\"},\"type\":\"carpet\"}],\"choropleth\":[{\"colorbar\":{\"outlinewidth\":0,\"ticks\":\"\"},\"type\":\"choropleth\"}],\"contour\":[{\"colorbar\":{\"outlinewidth\":0,\"ticks\":\"\"},\"colorscale\":[[0.0,\"#0d0887\"],[0.1111111111111111,\"#46039f\"],[0.2222222222222222,\"#7201a8\"],[0.3333333333333333,\"#9c179e\"],[0.4444444444444444,\"#bd3786\"],[0.5555555555555556,\"#d8576b\"],[0.6666666666666666,\"#ed7953\"],[0.7777777777777778,\"#fb9f3a\"],[0.8888888888888888,\"#fdca26\"],[1.0,\"#f0f921\"]],\"type\":\"contour\"}],\"contourcarpet\":[{\"colorbar\":{\"outlinewidth\":0,\"ticks\":\"\"},\"type\":\"contourcarpet\"}],\"heatmap\":[{\"colorbar\":{\"outlinewidth\":0,\"ticks\":\"\"},\"colorscale\":[[0.0,\"#0d0887\"],[0.1111111111111111,\"#46039f\"],[0.2222222222222222,\"#7201a8\"],[0.3333333333333333,\"#9c179e\"],[0.4444444444444444,\"#bd3786\"],[0.5555555555555556,\"#d8576b\"],[0.6666666666666666,\"#ed7953\"],[0.7777777777777778,\"#fb9f3a\"],[0.8888888888888888,\"#fdca26\"],[1.0,\"#f0f921\"]],\"type\":\"heatmap\"}],\"heatmapgl\":[{\"colorbar\":{\"outlinewidth\":0,\"ticks\":\"\"},\"colorscale\":[[0.0,\"#0d0887\"],[0.1111111111111111,\"#46039f\"],[0.2222222222222222,\"#7201a8\"],[0.3333333333333333,\"#9c179e\"],[0.4444444444444444,\"#bd3786\"],[0.5555555555555556,\"#d8576b\"],[0.6666666666666666,\"#ed7953\"],[0.7777777777777778,\"#fb9f3a\"],[0.8888888888888888,\"#fdca26\"],[1.0,\"#f0f921\"]],\"type\":\"heatmapgl\"}],\"histogram\":[{\"marker\":{\"pattern\":{\"fillmode\":\"overlay\",\"size\":10,\"solidity\":0.2}},\"type\":\"histogram\"}],\"histogram2d\":[{\"colorbar\":{\"outlinewidth\":0,\"ticks\":\"\"},\"colorscale\":[[0.0,\"#0d0887\"],[0.1111111111111111,\"#46039f\"],[0.2222222222222222,\"#7201a8\"],[0.3333333333333333,\"#9c179e\"],[0.4444444444444444,\"#bd3786\"],[0.5555555555555556,\"#d8576b\"],[0.6666666666666666,\"#ed7953\"],[0.7777777777777778,\"#fb9f3a\"],[0.8888888888888888,\"#fdca26\"],[1.0,\"#f0f921\"]],\"type\":\"histogram2d\"}],\"histogram2dcontour\":[{\"colorbar\":{\"outlinewidth\":0,\"ticks\":\"\"},\"colorscale\":[[0.0,\"#0d0887\"],[0.1111111111111111,\"#46039f\"],[0.2222222222222222,\"#7201a8\"],[0.3333333333333333,\"#9c179e\"],[0.4444444444444444,\"#bd3786\"],[0.5555555555555556,\"#d8576b\"],[0.6666666666666666,\"#ed7953\"],[0.7777777777777778,\"#fb9f3a\"],[0.8888888888888888,\"#fdca26\"],[1.0,\"#f0f921\"]],\"type\":\"histogram2dcontour\"}],\"mesh3d\":[{\"colorbar\":{\"outlinewidth\":0,\"ticks\":\"\"},\"type\":\"mesh3d\"}],\"parcoords\":[{\"line\":{\"colorbar\":{\"outlinewidth\":0,\"ticks\":\"\"}},\"type\":\"parcoords\"}],\"pie\":[{\"automargin\":true,\"type\":\"pie\"}],\"scatter\":[{\"marker\":{\"colorbar\":{\"outlinewidth\":0,\"ticks\":\"\"}},\"type\":\"scatter\"}],\"scatter3d\":[{\"line\":{\"colorbar\":{\"outlinewidth\":0,\"ticks\":\"\"}},\"marker\":{\"colorbar\":{\"outlinewidth\":0,\"ticks\":\"\"}},\"type\":\"scatter3d\"}],\"scattercarpet\":[{\"marker\":{\"colorbar\":{\"outlinewidth\":0,\"ticks\":\"\"}},\"type\":\"scattercarpet\"}],\"scattergeo\":[{\"marker\":{\"colorbar\":{\"outlinewidth\":0,\"ticks\":\"\"}},\"type\":\"scattergeo\"}],\"scattergl\":[{\"marker\":{\"colorbar\":{\"outlinewidth\":0,\"ticks\":\"\"}},\"type\":\"scattergl\"}],\"scattermapbox\":[{\"marker\":{\"colorbar\":{\"outlinewidth\":0,\"ticks\":\"\"}},\"type\":\"scattermapbox\"}],\"scatterpolar\":[{\"marker\":{\"colorbar\":{\"outlinewidth\":0,\"ticks\":\"\"}},\"type\":\"scatterpolar\"}],\"scatterpolargl\":[{\"marker\":{\"colorbar\":{\"outlinewidth\":0,\"ticks\":\"\"}},\"type\":\"scatterpolargl\"}],\"scatterternary\":[{\"marker\":{\"colorbar\":{\"outlinewidth\":0,\"ticks\":\"\"}},\"type\":\"scatterternary\"}],\"surface\":[{\"colorbar\":{\"outlinewidth\":0,\"ticks\":\"\"},\"colorscale\":[[0.0,\"#0d0887\"],[0.1111111111111111,\"#46039f\"],[0.2222222222222222,\"#7201a8\"],[0.3333333333333333,\"#9c179e\"],[0.4444444444444444,\"#bd3786\"],[0.5555555555555556,\"#d8576b\"],[0.6666666666666666,\"#ed7953\"],[0.7777777777777778,\"#fb9f3a\"],[0.8888888888888888,\"#fdca26\"],[1.0,\"#f0f921\"]],\"type\":\"surface\"}],\"table\":[{\"cells\":{\"fill\":{\"color\":\"#EBF0F8\"},\"line\":{\"color\":\"white\"}},\"header\":{\"fill\":{\"color\":\"#C8D4E3\"},\"line\":{\"color\":\"white\"}},\"type\":\"table\"}]},\"layout\":{\"annotationdefaults\":{\"arrowcolor\":\"#2a3f5f\",\"arrowhead\":0,\"arrowwidth\":1},\"autotypenumbers\":\"strict\",\"coloraxis\":{\"colorbar\":{\"outlinewidth\":0,\"ticks\":\"\"}},\"colorscale\":{\"diverging\":[[0,\"#8e0152\"],[0.1,\"#c51b7d\"],[0.2,\"#de77ae\"],[0.3,\"#f1b6da\"],[0.4,\"#fde0ef\"],[0.5,\"#f7f7f7\"],[0.6,\"#e6f5d0\"],[0.7,\"#b8e186\"],[0.8,\"#7fbc41\"],[0.9,\"#4d9221\"],[1,\"#276419\"]],\"sequential\":[[0.0,\"#0d0887\"],[0.1111111111111111,\"#46039f\"],[0.2222222222222222,\"#7201a8\"],[0.3333333333333333,\"#9c179e\"],[0.4444444444444444,\"#bd3786\"],[0.5555555555555556,\"#d8576b\"],[0.6666666666666666,\"#ed7953\"],[0.7777777777777778,\"#fb9f3a\"],[0.8888888888888888,\"#fdca26\"],[1.0,\"#f0f921\"]],\"sequentialminus\":[[0.0,\"#0d0887\"],[0.1111111111111111,\"#46039f\"],[0.2222222222222222,\"#7201a8\"],[0.3333333333333333,\"#9c179e\"],[0.4444444444444444,\"#bd3786\"],[0.5555555555555556,\"#d8576b\"],[0.6666666666666666,\"#ed7953\"],[0.7777777777777778,\"#fb9f3a\"],[0.8888888888888888,\"#fdca26\"],[1.0,\"#f0f921\"]]},\"colorway\":[\"#636efa\",\"#EF553B\",\"#00cc96\",\"#ab63fa\",\"#FFA15A\",\"#19d3f3\",\"#FF6692\",\"#B6E880\",\"#FF97FF\",\"#FECB52\"],\"font\":{\"color\":\"#2a3f5f\"},\"geo\":{\"bgcolor\":\"white\",\"lakecolor\":\"white\",\"landcolor\":\"#E5ECF6\",\"showlakes\":true,\"showland\":true,\"subunitcolor\":\"white\"},\"hoverlabel\":{\"align\":\"left\"},\"hovermode\":\"closest\",\"mapbox\":{\"style\":\"light\"},\"paper_bgcolor\":\"white\",\"plot_bgcolor\":\"#E5ECF6\",\"polar\":{\"angularaxis\":{\"gridcolor\":\"white\",\"linecolor\":\"white\",\"ticks\":\"\"},\"bgcolor\":\"#E5ECF6\",\"radialaxis\":{\"gridcolor\":\"white\",\"linecolor\":\"white\",\"ticks\":\"\"}},\"scene\":{\"xaxis\":{\"backgroundcolor\":\"#E5ECF6\",\"gridcolor\":\"white\",\"gridwidth\":2,\"linecolor\":\"white\",\"showbackground\":true,\"ticks\":\"\",\"zerolinecolor\":\"white\"},\"yaxis\":{\"backgroundcolor\":\"#E5ECF6\",\"gridcolor\":\"white\",\"gridwidth\":2,\"linecolor\":\"white\",\"showbackground\":true,\"ticks\":\"\",\"zerolinecolor\":\"white\"},\"zaxis\":{\"backgroundcolor\":\"#E5ECF6\",\"gridcolor\":\"white\",\"gridwidth\":2,\"linecolor\":\"white\",\"showbackground\":true,\"ticks\":\"\",\"zerolinecolor\":\"white\"}},\"shapedefaults\":{\"line\":{\"color\":\"#2a3f5f\"}},\"ternary\":{\"aaxis\":{\"gridcolor\":\"white\",\"linecolor\":\"white\",\"ticks\":\"\"},\"baxis\":{\"gridcolor\":\"white\",\"linecolor\":\"white\",\"ticks\":\"\"},\"bgcolor\":\"#E5ECF6\",\"caxis\":{\"gridcolor\":\"white\",\"linecolor\":\"white\",\"ticks\":\"\"}},\"title\":{\"x\":0.05},\"xaxis\":{\"automargin\":true,\"gridcolor\":\"white\",\"linecolor\":\"white\",\"ticks\":\"\",\"title\":{\"standoff\":15},\"zerolinecolor\":\"white\",\"zerolinewidth\":2},\"yaxis\":{\"automargin\":true,\"gridcolor\":\"white\",\"linecolor\":\"white\",\"ticks\":\"\",\"title\":{\"standoff\":15},\"zerolinecolor\":\"white\",\"zerolinewidth\":2}}},\"title\":{\"text\":\"Payment on time - State\"}},                        {\"responsive\": true}                    ).then(function(){\n",
       "                            \n",
       "var gd = document.getElementById('85ce70be-8c9f-4409-a415-b737dec21611');\n",
       "var x = new MutationObserver(function (mutations, observer) {{\n",
       "        var display = window.getComputedStyle(gd).display;\n",
       "        if (!display || display === 'none') {{\n",
       "            console.log([gd, 'removed!']);\n",
       "            Plotly.purge(gd);\n",
       "            observer.disconnect();\n",
       "        }}\n",
       "}});\n",
       "\n",
       "// Listen for the removal of the full notebook cells\n",
       "var notebookContainer = gd.closest('#notebook-container');\n",
       "if (notebookContainer) {{\n",
       "    x.observe(notebookContainer, {childList: true});\n",
       "}}\n",
       "\n",
       "// Listen for the clearing of the current output cell\n",
       "var outputEl = gd.closest('.output');\n",
       "if (outputEl) {{\n",
       "    x.observe(outputEl, {childList: true});\n",
       "}}\n",
       "\n",
       "                        })                };                });            </script>        </div>"
      ]
     },
     "metadata": {},
     "output_type": "display_data"
    }
   ],
   "source": [
    "fig = px.pie(df[df['payment_delay'] == 'yes'], names='state', title='Payment Delay - State')\n",
    "fig.show()\n",
    "\n",
    "fig = px.pie(df[df['payment_delay'] == 'no'], names='state', title='Payment on time - State')\n",
    "fig.show()"
   ]
  },
  {
   "cell_type": "markdown",
   "id": "7b080462",
   "metadata": {},
   "source": [
    "Seems like there are no outliers in the state distribution of the customers."
   ]
  },
  {
   "cell_type": "code",
   "execution_count": 14,
   "id": "4ce3a75e",
   "metadata": {},
   "outputs": [
    {
     "data": {
      "application/vnd.plotly.v1+json": {
       "config": {
        "plotlyServerURL": "https://plot.ly"
       },
       "data": [
        {
         "domain": {
          "x": [
           0,
           1
          ],
          "y": [
           0,
           1
          ]
         },
         "hovertemplate": "area_code=%{label}<extra></extra>",
         "labels": [
          "area_code_415",
          "area_code_415",
          "area_code_510",
          "area_code_415",
          "area_code_415",
          "area_code_415",
          "area_code_510",
          "area_code_415",
          "area_code_415",
          "area_code_510",
          "area_code_415",
          "area_code_415",
          "area_code_415",
          "area_code_510",
          "area_code_415",
          "area_code_415",
          "area_code_415",
          "area_code_415",
          "area_code_408",
          "area_code_510",
          "area_code_408",
          "area_code_510",
          "area_code_415",
          "area_code_510",
          "area_code_415",
          "area_code_510",
          "area_code_415",
          "area_code_415",
          "area_code_408",
          "area_code_510",
          "area_code_415",
          "area_code_415",
          "area_code_415",
          "area_code_408",
          "area_code_408",
          "area_code_415",
          "area_code_415",
          "area_code_408",
          "area_code_510",
          "area_code_510",
          "area_code_408",
          "area_code_415",
          "area_code_408",
          "area_code_415",
          "area_code_510",
          "area_code_415",
          "area_code_510",
          "area_code_415",
          "area_code_408",
          "area_code_415",
          "area_code_408",
          "area_code_408",
          "area_code_510",
          "area_code_510",
          "area_code_408",
          "area_code_408",
          "area_code_510",
          "area_code_415",
          "area_code_415",
          "area_code_415",
          "area_code_415",
          "area_code_510",
          "area_code_408",
          "area_code_415",
          "area_code_415",
          "area_code_408",
          "area_code_415",
          "area_code_415",
          "area_code_415",
          "area_code_510",
          "area_code_415",
          "area_code_510",
          "area_code_510",
          "area_code_408",
          "area_code_415",
          "area_code_415",
          "area_code_408",
          "area_code_415",
          "area_code_408",
          "area_code_415",
          "area_code_415",
          "area_code_408",
          "area_code_415",
          "area_code_510",
          "area_code_510",
          "area_code_408",
          "area_code_415",
          "area_code_415",
          "area_code_510",
          "area_code_415",
          "area_code_408",
          "area_code_415",
          "area_code_510",
          "area_code_415",
          "area_code_415",
          "area_code_415",
          "area_code_415",
          "area_code_510",
          "area_code_510",
          "area_code_415",
          "area_code_415",
          "area_code_510",
          "area_code_510",
          "area_code_510",
          "area_code_510",
          "area_code_415",
          "area_code_408",
          "area_code_510",
          "area_code_408",
          "area_code_408",
          "area_code_510",
          "area_code_415",
          "area_code_510",
          "area_code_408",
          "area_code_415",
          "area_code_408",
          "area_code_408",
          "area_code_415",
          "area_code_510",
          "area_code_510",
          "area_code_415",
          "area_code_408",
          "area_code_408",
          "area_code_408",
          "area_code_415",
          "area_code_510",
          "area_code_415",
          "area_code_415",
          "area_code_415",
          "area_code_415",
          "area_code_415",
          "area_code_415",
          "area_code_510",
          "area_code_415",
          "area_code_408",
          "area_code_408",
          "area_code_415",
          "area_code_510",
          "area_code_415",
          "area_code_408",
          "area_code_415",
          "area_code_415",
          "area_code_415",
          "area_code_408",
          "area_code_415",
          "area_code_408",
          "area_code_510",
          "area_code_415",
          "area_code_408",
          "area_code_415",
          "area_code_510",
          "area_code_415",
          "area_code_510",
          "area_code_415",
          "area_code_510",
          "area_code_415",
          "area_code_408",
          "area_code_510",
          "area_code_408",
          "area_code_408",
          "area_code_415",
          "area_code_415",
          "area_code_408",
          "area_code_415",
          "area_code_510",
          "area_code_408",
          "area_code_415",
          "area_code_408",
          "area_code_510",
          "area_code_415",
          "area_code_415",
          "area_code_510",
          "area_code_415",
          "area_code_415",
          "area_code_510",
          "area_code_408",
          "area_code_408",
          "area_code_408",
          "area_code_408",
          "area_code_415",
          "area_code_415",
          "area_code_408",
          "area_code_510",
          "area_code_408",
          "area_code_408",
          "area_code_415",
          "area_code_415",
          "area_code_415",
          "area_code_510",
          "area_code_408",
          "area_code_415",
          "area_code_510",
          "area_code_510",
          "area_code_415",
          "area_code_408",
          "area_code_415",
          "area_code_408",
          "area_code_415",
          "area_code_408",
          "area_code_408",
          "area_code_415",
          "area_code_510",
          "area_code_415",
          "area_code_510",
          "area_code_415",
          "area_code_415",
          "area_code_415",
          "area_code_415",
          "area_code_408",
          "area_code_510",
          "area_code_415",
          "area_code_415",
          "area_code_415",
          "area_code_415",
          "area_code_510",
          "area_code_415",
          "area_code_415",
          "area_code_415",
          "area_code_408",
          "area_code_415",
          "area_code_408",
          "area_code_510",
          "area_code_415",
          "area_code_415",
          "area_code_415",
          "area_code_415",
          "area_code_408",
          "area_code_510",
          "area_code_408",
          "area_code_510",
          "area_code_415",
          "area_code_510",
          "area_code_415",
          "area_code_415",
          "area_code_415",
          "area_code_510",
          "area_code_415",
          "area_code_415",
          "area_code_408",
          "area_code_408",
          "area_code_415",
          "area_code_415",
          "area_code_510",
          "area_code_415",
          "area_code_510",
          "area_code_415",
          "area_code_415",
          "area_code_415",
          "area_code_510",
          "area_code_415",
          "area_code_510",
          "area_code_510",
          "area_code_415",
          "area_code_510",
          "area_code_510",
          "area_code_510",
          "area_code_415",
          "area_code_510",
          "area_code_510",
          "area_code_510",
          "area_code_510",
          "area_code_415",
          "area_code_510",
          "area_code_510",
          "area_code_415",
          "area_code_408",
          "area_code_408",
          "area_code_415",
          "area_code_415",
          "area_code_510",
          "area_code_510",
          "area_code_510",
          "area_code_415",
          "area_code_408",
          "area_code_415",
          "area_code_415",
          "area_code_408",
          "area_code_510",
          "area_code_415",
          "area_code_415",
          "area_code_415",
          "area_code_510",
          "area_code_408",
          "area_code_510",
          "area_code_415",
          "area_code_415",
          "area_code_510",
          "area_code_415",
          "area_code_510",
          "area_code_415",
          "area_code_415",
          "area_code_415",
          "area_code_415",
          "area_code_415",
          "area_code_408",
          "area_code_415",
          "area_code_408",
          "area_code_408",
          "area_code_408",
          "area_code_415",
          "area_code_415",
          "area_code_415",
          "area_code_510",
          "area_code_415",
          "area_code_510",
          "area_code_408",
          "area_code_415",
          "area_code_408",
          "area_code_510",
          "area_code_510",
          "area_code_510",
          "area_code_408",
          "area_code_510",
          "area_code_408",
          "area_code_415",
          "area_code_408",
          "area_code_408",
          "area_code_510",
          "area_code_415",
          "area_code_415",
          "area_code_415",
          "area_code_415",
          "area_code_408",
          "area_code_408",
          "area_code_510",
          "area_code_510",
          "area_code_510",
          "area_code_510",
          "area_code_415",
          "area_code_408",
          "area_code_510",
          "area_code_415",
          "area_code_415",
          "area_code_415",
          "area_code_408",
          "area_code_510",
          "area_code_408",
          "area_code_415",
          "area_code_415",
          "area_code_415",
          "area_code_510",
          "area_code_415",
          "area_code_415",
          "area_code_415",
          "area_code_415",
          "area_code_415",
          "area_code_408",
          "area_code_415",
          "area_code_510",
          "area_code_510",
          "area_code_408",
          "area_code_415",
          "area_code_415",
          "area_code_415",
          "area_code_408",
          "area_code_408",
          "area_code_408",
          "area_code_510",
          "area_code_510",
          "area_code_415",
          "area_code_408",
          "area_code_415",
          "area_code_415",
          "area_code_408",
          "area_code_415",
          "area_code_415",
          "area_code_415",
          "area_code_415",
          "area_code_415",
          "area_code_510",
          "area_code_415",
          "area_code_510",
          "area_code_510",
          "area_code_408",
          "area_code_510",
          "area_code_415",
          "area_code_415",
          "area_code_415",
          "area_code_415",
          "area_code_415",
          "area_code_510",
          "area_code_510",
          "area_code_415",
          "area_code_408",
          "area_code_408",
          "area_code_415",
          "area_code_510",
          "area_code_415",
          "area_code_415",
          "area_code_510",
          "area_code_510",
          "area_code_415",
          "area_code_510",
          "area_code_510",
          "area_code_408",
          "area_code_408",
          "area_code_510",
          "area_code_408",
          "area_code_415",
          "area_code_510",
          "area_code_408",
          "area_code_415",
          "area_code_415",
          "area_code_510",
          "area_code_408",
          "area_code_510",
          "area_code_510",
          "area_code_415",
          "area_code_510",
          "area_code_415",
          "area_code_415",
          "area_code_510",
          "area_code_415"
         ],
         "legendgroup": "",
         "name": "",
         "showlegend": true,
         "type": "pie"
        }
       ],
       "layout": {
        "legend": {
         "tracegroupgap": 0
        },
        "template": {
         "data": {
          "bar": [
           {
            "error_x": {
             "color": "#2a3f5f"
            },
            "error_y": {
             "color": "#2a3f5f"
            },
            "marker": {
             "line": {
              "color": "#E5ECF6",
              "width": 0.5
             },
             "pattern": {
              "fillmode": "overlay",
              "size": 10,
              "solidity": 0.2
             }
            },
            "type": "bar"
           }
          ],
          "barpolar": [
           {
            "marker": {
             "line": {
              "color": "#E5ECF6",
              "width": 0.5
             },
             "pattern": {
              "fillmode": "overlay",
              "size": 10,
              "solidity": 0.2
             }
            },
            "type": "barpolar"
           }
          ],
          "carpet": [
           {
            "aaxis": {
             "endlinecolor": "#2a3f5f",
             "gridcolor": "white",
             "linecolor": "white",
             "minorgridcolor": "white",
             "startlinecolor": "#2a3f5f"
            },
            "baxis": {
             "endlinecolor": "#2a3f5f",
             "gridcolor": "white",
             "linecolor": "white",
             "minorgridcolor": "white",
             "startlinecolor": "#2a3f5f"
            },
            "type": "carpet"
           }
          ],
          "choropleth": [
           {
            "colorbar": {
             "outlinewidth": 0,
             "ticks": ""
            },
            "type": "choropleth"
           }
          ],
          "contour": [
           {
            "colorbar": {
             "outlinewidth": 0,
             "ticks": ""
            },
            "colorscale": [
             [
              0,
              "#0d0887"
             ],
             [
              0.1111111111111111,
              "#46039f"
             ],
             [
              0.2222222222222222,
              "#7201a8"
             ],
             [
              0.3333333333333333,
              "#9c179e"
             ],
             [
              0.4444444444444444,
              "#bd3786"
             ],
             [
              0.5555555555555556,
              "#d8576b"
             ],
             [
              0.6666666666666666,
              "#ed7953"
             ],
             [
              0.7777777777777778,
              "#fb9f3a"
             ],
             [
              0.8888888888888888,
              "#fdca26"
             ],
             [
              1,
              "#f0f921"
             ]
            ],
            "type": "contour"
           }
          ],
          "contourcarpet": [
           {
            "colorbar": {
             "outlinewidth": 0,
             "ticks": ""
            },
            "type": "contourcarpet"
           }
          ],
          "heatmap": [
           {
            "colorbar": {
             "outlinewidth": 0,
             "ticks": ""
            },
            "colorscale": [
             [
              0,
              "#0d0887"
             ],
             [
              0.1111111111111111,
              "#46039f"
             ],
             [
              0.2222222222222222,
              "#7201a8"
             ],
             [
              0.3333333333333333,
              "#9c179e"
             ],
             [
              0.4444444444444444,
              "#bd3786"
             ],
             [
              0.5555555555555556,
              "#d8576b"
             ],
             [
              0.6666666666666666,
              "#ed7953"
             ],
             [
              0.7777777777777778,
              "#fb9f3a"
             ],
             [
              0.8888888888888888,
              "#fdca26"
             ],
             [
              1,
              "#f0f921"
             ]
            ],
            "type": "heatmap"
           }
          ],
          "heatmapgl": [
           {
            "colorbar": {
             "outlinewidth": 0,
             "ticks": ""
            },
            "colorscale": [
             [
              0,
              "#0d0887"
             ],
             [
              0.1111111111111111,
              "#46039f"
             ],
             [
              0.2222222222222222,
              "#7201a8"
             ],
             [
              0.3333333333333333,
              "#9c179e"
             ],
             [
              0.4444444444444444,
              "#bd3786"
             ],
             [
              0.5555555555555556,
              "#d8576b"
             ],
             [
              0.6666666666666666,
              "#ed7953"
             ],
             [
              0.7777777777777778,
              "#fb9f3a"
             ],
             [
              0.8888888888888888,
              "#fdca26"
             ],
             [
              1,
              "#f0f921"
             ]
            ],
            "type": "heatmapgl"
           }
          ],
          "histogram": [
           {
            "marker": {
             "pattern": {
              "fillmode": "overlay",
              "size": 10,
              "solidity": 0.2
             }
            },
            "type": "histogram"
           }
          ],
          "histogram2d": [
           {
            "colorbar": {
             "outlinewidth": 0,
             "ticks": ""
            },
            "colorscale": [
             [
              0,
              "#0d0887"
             ],
             [
              0.1111111111111111,
              "#46039f"
             ],
             [
              0.2222222222222222,
              "#7201a8"
             ],
             [
              0.3333333333333333,
              "#9c179e"
             ],
             [
              0.4444444444444444,
              "#bd3786"
             ],
             [
              0.5555555555555556,
              "#d8576b"
             ],
             [
              0.6666666666666666,
              "#ed7953"
             ],
             [
              0.7777777777777778,
              "#fb9f3a"
             ],
             [
              0.8888888888888888,
              "#fdca26"
             ],
             [
              1,
              "#f0f921"
             ]
            ],
            "type": "histogram2d"
           }
          ],
          "histogram2dcontour": [
           {
            "colorbar": {
             "outlinewidth": 0,
             "ticks": ""
            },
            "colorscale": [
             [
              0,
              "#0d0887"
             ],
             [
              0.1111111111111111,
              "#46039f"
             ],
             [
              0.2222222222222222,
              "#7201a8"
             ],
             [
              0.3333333333333333,
              "#9c179e"
             ],
             [
              0.4444444444444444,
              "#bd3786"
             ],
             [
              0.5555555555555556,
              "#d8576b"
             ],
             [
              0.6666666666666666,
              "#ed7953"
             ],
             [
              0.7777777777777778,
              "#fb9f3a"
             ],
             [
              0.8888888888888888,
              "#fdca26"
             ],
             [
              1,
              "#f0f921"
             ]
            ],
            "type": "histogram2dcontour"
           }
          ],
          "mesh3d": [
           {
            "colorbar": {
             "outlinewidth": 0,
             "ticks": ""
            },
            "type": "mesh3d"
           }
          ],
          "parcoords": [
           {
            "line": {
             "colorbar": {
              "outlinewidth": 0,
              "ticks": ""
             }
            },
            "type": "parcoords"
           }
          ],
          "pie": [
           {
            "automargin": true,
            "type": "pie"
           }
          ],
          "scatter": [
           {
            "marker": {
             "colorbar": {
              "outlinewidth": 0,
              "ticks": ""
             }
            },
            "type": "scatter"
           }
          ],
          "scatter3d": [
           {
            "line": {
             "colorbar": {
              "outlinewidth": 0,
              "ticks": ""
             }
            },
            "marker": {
             "colorbar": {
              "outlinewidth": 0,
              "ticks": ""
             }
            },
            "type": "scatter3d"
           }
          ],
          "scattercarpet": [
           {
            "marker": {
             "colorbar": {
              "outlinewidth": 0,
              "ticks": ""
             }
            },
            "type": "scattercarpet"
           }
          ],
          "scattergeo": [
           {
            "marker": {
             "colorbar": {
              "outlinewidth": 0,
              "ticks": ""
             }
            },
            "type": "scattergeo"
           }
          ],
          "scattergl": [
           {
            "marker": {
             "colorbar": {
              "outlinewidth": 0,
              "ticks": ""
             }
            },
            "type": "scattergl"
           }
          ],
          "scattermapbox": [
           {
            "marker": {
             "colorbar": {
              "outlinewidth": 0,
              "ticks": ""
             }
            },
            "type": "scattermapbox"
           }
          ],
          "scatterpolar": [
           {
            "marker": {
             "colorbar": {
              "outlinewidth": 0,
              "ticks": ""
             }
            },
            "type": "scatterpolar"
           }
          ],
          "scatterpolargl": [
           {
            "marker": {
             "colorbar": {
              "outlinewidth": 0,
              "ticks": ""
             }
            },
            "type": "scatterpolargl"
           }
          ],
          "scatterternary": [
           {
            "marker": {
             "colorbar": {
              "outlinewidth": 0,
              "ticks": ""
             }
            },
            "type": "scatterternary"
           }
          ],
          "surface": [
           {
            "colorbar": {
             "outlinewidth": 0,
             "ticks": ""
            },
            "colorscale": [
             [
              0,
              "#0d0887"
             ],
             [
              0.1111111111111111,
              "#46039f"
             ],
             [
              0.2222222222222222,
              "#7201a8"
             ],
             [
              0.3333333333333333,
              "#9c179e"
             ],
             [
              0.4444444444444444,
              "#bd3786"
             ],
             [
              0.5555555555555556,
              "#d8576b"
             ],
             [
              0.6666666666666666,
              "#ed7953"
             ],
             [
              0.7777777777777778,
              "#fb9f3a"
             ],
             [
              0.8888888888888888,
              "#fdca26"
             ],
             [
              1,
              "#f0f921"
             ]
            ],
            "type": "surface"
           }
          ],
          "table": [
           {
            "cells": {
             "fill": {
              "color": "#EBF0F8"
             },
             "line": {
              "color": "white"
             }
            },
            "header": {
             "fill": {
              "color": "#C8D4E3"
             },
             "line": {
              "color": "white"
             }
            },
            "type": "table"
           }
          ]
         },
         "layout": {
          "annotationdefaults": {
           "arrowcolor": "#2a3f5f",
           "arrowhead": 0,
           "arrowwidth": 1
          },
          "autotypenumbers": "strict",
          "coloraxis": {
           "colorbar": {
            "outlinewidth": 0,
            "ticks": ""
           }
          },
          "colorscale": {
           "diverging": [
            [
             0,
             "#8e0152"
            ],
            [
             0.1,
             "#c51b7d"
            ],
            [
             0.2,
             "#de77ae"
            ],
            [
             0.3,
             "#f1b6da"
            ],
            [
             0.4,
             "#fde0ef"
            ],
            [
             0.5,
             "#f7f7f7"
            ],
            [
             0.6,
             "#e6f5d0"
            ],
            [
             0.7,
             "#b8e186"
            ],
            [
             0.8,
             "#7fbc41"
            ],
            [
             0.9,
             "#4d9221"
            ],
            [
             1,
             "#276419"
            ]
           ],
           "sequential": [
            [
             0,
             "#0d0887"
            ],
            [
             0.1111111111111111,
             "#46039f"
            ],
            [
             0.2222222222222222,
             "#7201a8"
            ],
            [
             0.3333333333333333,
             "#9c179e"
            ],
            [
             0.4444444444444444,
             "#bd3786"
            ],
            [
             0.5555555555555556,
             "#d8576b"
            ],
            [
             0.6666666666666666,
             "#ed7953"
            ],
            [
             0.7777777777777778,
             "#fb9f3a"
            ],
            [
             0.8888888888888888,
             "#fdca26"
            ],
            [
             1,
             "#f0f921"
            ]
           ],
           "sequentialminus": [
            [
             0,
             "#0d0887"
            ],
            [
             0.1111111111111111,
             "#46039f"
            ],
            [
             0.2222222222222222,
             "#7201a8"
            ],
            [
             0.3333333333333333,
             "#9c179e"
            ],
            [
             0.4444444444444444,
             "#bd3786"
            ],
            [
             0.5555555555555556,
             "#d8576b"
            ],
            [
             0.6666666666666666,
             "#ed7953"
            ],
            [
             0.7777777777777778,
             "#fb9f3a"
            ],
            [
             0.8888888888888888,
             "#fdca26"
            ],
            [
             1,
             "#f0f921"
            ]
           ]
          },
          "colorway": [
           "#636efa",
           "#EF553B",
           "#00cc96",
           "#ab63fa",
           "#FFA15A",
           "#19d3f3",
           "#FF6692",
           "#B6E880",
           "#FF97FF",
           "#FECB52"
          ],
          "font": {
           "color": "#2a3f5f"
          },
          "geo": {
           "bgcolor": "white",
           "lakecolor": "white",
           "landcolor": "#E5ECF6",
           "showlakes": true,
           "showland": true,
           "subunitcolor": "white"
          },
          "hoverlabel": {
           "align": "left"
          },
          "hovermode": "closest",
          "mapbox": {
           "style": "light"
          },
          "paper_bgcolor": "white",
          "plot_bgcolor": "#E5ECF6",
          "polar": {
           "angularaxis": {
            "gridcolor": "white",
            "linecolor": "white",
            "ticks": ""
           },
           "bgcolor": "#E5ECF6",
           "radialaxis": {
            "gridcolor": "white",
            "linecolor": "white",
            "ticks": ""
           }
          },
          "scene": {
           "xaxis": {
            "backgroundcolor": "#E5ECF6",
            "gridcolor": "white",
            "gridwidth": 2,
            "linecolor": "white",
            "showbackground": true,
            "ticks": "",
            "zerolinecolor": "white"
           },
           "yaxis": {
            "backgroundcolor": "#E5ECF6",
            "gridcolor": "white",
            "gridwidth": 2,
            "linecolor": "white",
            "showbackground": true,
            "ticks": "",
            "zerolinecolor": "white"
           },
           "zaxis": {
            "backgroundcolor": "#E5ECF6",
            "gridcolor": "white",
            "gridwidth": 2,
            "linecolor": "white",
            "showbackground": true,
            "ticks": "",
            "zerolinecolor": "white"
           }
          },
          "shapedefaults": {
           "line": {
            "color": "#2a3f5f"
           }
          },
          "ternary": {
           "aaxis": {
            "gridcolor": "white",
            "linecolor": "white",
            "ticks": ""
           },
           "baxis": {
            "gridcolor": "white",
            "linecolor": "white",
            "ticks": ""
           },
           "bgcolor": "#E5ECF6",
           "caxis": {
            "gridcolor": "white",
            "linecolor": "white",
            "ticks": ""
           }
          },
          "title": {
           "x": 0.05
          },
          "xaxis": {
           "automargin": true,
           "gridcolor": "white",
           "linecolor": "white",
           "ticks": "",
           "title": {
            "standoff": 15
           },
           "zerolinecolor": "white",
           "zerolinewidth": 2
          },
          "yaxis": {
           "automargin": true,
           "gridcolor": "white",
           "linecolor": "white",
           "ticks": "",
           "title": {
            "standoff": 15
           },
           "zerolinecolor": "white",
           "zerolinewidth": 2
          }
         }
        },
        "title": {
         "text": "Payment Delay - Area code"
        }
       }
      },
      "text/html": [
       "<div>                            <div id=\"77271312-5182-40ea-838f-352d32817cb5\" class=\"plotly-graph-div\" style=\"height:525px; width:100%;\"></div>            <script type=\"text/javascript\">                require([\"plotly\"], function(Plotly) {                    window.PLOTLYENV=window.PLOTLYENV || {};                                    if (document.getElementById(\"77271312-5182-40ea-838f-352d32817cb5\")) {                    Plotly.newPlot(                        \"77271312-5182-40ea-838f-352d32817cb5\",                        [{\"domain\":{\"x\":[0.0,1.0],\"y\":[0.0,1.0]},\"hovertemplate\":\"area_code=%{label}<extra></extra>\",\"labels\":[\"area_code_415\",\"area_code_415\",\"area_code_510\",\"area_code_415\",\"area_code_415\",\"area_code_415\",\"area_code_510\",\"area_code_415\",\"area_code_415\",\"area_code_510\",\"area_code_415\",\"area_code_415\",\"area_code_415\",\"area_code_510\",\"area_code_415\",\"area_code_415\",\"area_code_415\",\"area_code_415\",\"area_code_408\",\"area_code_510\",\"area_code_408\",\"area_code_510\",\"area_code_415\",\"area_code_510\",\"area_code_415\",\"area_code_510\",\"area_code_415\",\"area_code_415\",\"area_code_408\",\"area_code_510\",\"area_code_415\",\"area_code_415\",\"area_code_415\",\"area_code_408\",\"area_code_408\",\"area_code_415\",\"area_code_415\",\"area_code_408\",\"area_code_510\",\"area_code_510\",\"area_code_408\",\"area_code_415\",\"area_code_408\",\"area_code_415\",\"area_code_510\",\"area_code_415\",\"area_code_510\",\"area_code_415\",\"area_code_408\",\"area_code_415\",\"area_code_408\",\"area_code_408\",\"area_code_510\",\"area_code_510\",\"area_code_408\",\"area_code_408\",\"area_code_510\",\"area_code_415\",\"area_code_415\",\"area_code_415\",\"area_code_415\",\"area_code_510\",\"area_code_408\",\"area_code_415\",\"area_code_415\",\"area_code_408\",\"area_code_415\",\"area_code_415\",\"area_code_415\",\"area_code_510\",\"area_code_415\",\"area_code_510\",\"area_code_510\",\"area_code_408\",\"area_code_415\",\"area_code_415\",\"area_code_408\",\"area_code_415\",\"area_code_408\",\"area_code_415\",\"area_code_415\",\"area_code_408\",\"area_code_415\",\"area_code_510\",\"area_code_510\",\"area_code_408\",\"area_code_415\",\"area_code_415\",\"area_code_510\",\"area_code_415\",\"area_code_408\",\"area_code_415\",\"area_code_510\",\"area_code_415\",\"area_code_415\",\"area_code_415\",\"area_code_415\",\"area_code_510\",\"area_code_510\",\"area_code_415\",\"area_code_415\",\"area_code_510\",\"area_code_510\",\"area_code_510\",\"area_code_510\",\"area_code_415\",\"area_code_408\",\"area_code_510\",\"area_code_408\",\"area_code_408\",\"area_code_510\",\"area_code_415\",\"area_code_510\",\"area_code_408\",\"area_code_415\",\"area_code_408\",\"area_code_408\",\"area_code_415\",\"area_code_510\",\"area_code_510\",\"area_code_415\",\"area_code_408\",\"area_code_408\",\"area_code_408\",\"area_code_415\",\"area_code_510\",\"area_code_415\",\"area_code_415\",\"area_code_415\",\"area_code_415\",\"area_code_415\",\"area_code_415\",\"area_code_510\",\"area_code_415\",\"area_code_408\",\"area_code_408\",\"area_code_415\",\"area_code_510\",\"area_code_415\",\"area_code_408\",\"area_code_415\",\"area_code_415\",\"area_code_415\",\"area_code_408\",\"area_code_415\",\"area_code_408\",\"area_code_510\",\"area_code_415\",\"area_code_408\",\"area_code_415\",\"area_code_510\",\"area_code_415\",\"area_code_510\",\"area_code_415\",\"area_code_510\",\"area_code_415\",\"area_code_408\",\"area_code_510\",\"area_code_408\",\"area_code_408\",\"area_code_415\",\"area_code_415\",\"area_code_408\",\"area_code_415\",\"area_code_510\",\"area_code_408\",\"area_code_415\",\"area_code_408\",\"area_code_510\",\"area_code_415\",\"area_code_415\",\"area_code_510\",\"area_code_415\",\"area_code_415\",\"area_code_510\",\"area_code_408\",\"area_code_408\",\"area_code_408\",\"area_code_408\",\"area_code_415\",\"area_code_415\",\"area_code_408\",\"area_code_510\",\"area_code_408\",\"area_code_408\",\"area_code_415\",\"area_code_415\",\"area_code_415\",\"area_code_510\",\"area_code_408\",\"area_code_415\",\"area_code_510\",\"area_code_510\",\"area_code_415\",\"area_code_408\",\"area_code_415\",\"area_code_408\",\"area_code_415\",\"area_code_408\",\"area_code_408\",\"area_code_415\",\"area_code_510\",\"area_code_415\",\"area_code_510\",\"area_code_415\",\"area_code_415\",\"area_code_415\",\"area_code_415\",\"area_code_408\",\"area_code_510\",\"area_code_415\",\"area_code_415\",\"area_code_415\",\"area_code_415\",\"area_code_510\",\"area_code_415\",\"area_code_415\",\"area_code_415\",\"area_code_408\",\"area_code_415\",\"area_code_408\",\"area_code_510\",\"area_code_415\",\"area_code_415\",\"area_code_415\",\"area_code_415\",\"area_code_408\",\"area_code_510\",\"area_code_408\",\"area_code_510\",\"area_code_415\",\"area_code_510\",\"area_code_415\",\"area_code_415\",\"area_code_415\",\"area_code_510\",\"area_code_415\",\"area_code_415\",\"area_code_408\",\"area_code_408\",\"area_code_415\",\"area_code_415\",\"area_code_510\",\"area_code_415\",\"area_code_510\",\"area_code_415\",\"area_code_415\",\"area_code_415\",\"area_code_510\",\"area_code_415\",\"area_code_510\",\"area_code_510\",\"area_code_415\",\"area_code_510\",\"area_code_510\",\"area_code_510\",\"area_code_415\",\"area_code_510\",\"area_code_510\",\"area_code_510\",\"area_code_510\",\"area_code_415\",\"area_code_510\",\"area_code_510\",\"area_code_415\",\"area_code_408\",\"area_code_408\",\"area_code_415\",\"area_code_415\",\"area_code_510\",\"area_code_510\",\"area_code_510\",\"area_code_415\",\"area_code_408\",\"area_code_415\",\"area_code_415\",\"area_code_408\",\"area_code_510\",\"area_code_415\",\"area_code_415\",\"area_code_415\",\"area_code_510\",\"area_code_408\",\"area_code_510\",\"area_code_415\",\"area_code_415\",\"area_code_510\",\"area_code_415\",\"area_code_510\",\"area_code_415\",\"area_code_415\",\"area_code_415\",\"area_code_415\",\"area_code_415\",\"area_code_408\",\"area_code_415\",\"area_code_408\",\"area_code_408\",\"area_code_408\",\"area_code_415\",\"area_code_415\",\"area_code_415\",\"area_code_510\",\"area_code_415\",\"area_code_510\",\"area_code_408\",\"area_code_415\",\"area_code_408\",\"area_code_510\",\"area_code_510\",\"area_code_510\",\"area_code_408\",\"area_code_510\",\"area_code_408\",\"area_code_415\",\"area_code_408\",\"area_code_408\",\"area_code_510\",\"area_code_415\",\"area_code_415\",\"area_code_415\",\"area_code_415\",\"area_code_408\",\"area_code_408\",\"area_code_510\",\"area_code_510\",\"area_code_510\",\"area_code_510\",\"area_code_415\",\"area_code_408\",\"area_code_510\",\"area_code_415\",\"area_code_415\",\"area_code_415\",\"area_code_408\",\"area_code_510\",\"area_code_408\",\"area_code_415\",\"area_code_415\",\"area_code_415\",\"area_code_510\",\"area_code_415\",\"area_code_415\",\"area_code_415\",\"area_code_415\",\"area_code_415\",\"area_code_408\",\"area_code_415\",\"area_code_510\",\"area_code_510\",\"area_code_408\",\"area_code_415\",\"area_code_415\",\"area_code_415\",\"area_code_408\",\"area_code_408\",\"area_code_408\",\"area_code_510\",\"area_code_510\",\"area_code_415\",\"area_code_408\",\"area_code_415\",\"area_code_415\",\"area_code_408\",\"area_code_415\",\"area_code_415\",\"area_code_415\",\"area_code_415\",\"area_code_415\",\"area_code_510\",\"area_code_415\",\"area_code_510\",\"area_code_510\",\"area_code_408\",\"area_code_510\",\"area_code_415\",\"area_code_415\",\"area_code_415\",\"area_code_415\",\"area_code_415\",\"area_code_510\",\"area_code_510\",\"area_code_415\",\"area_code_408\",\"area_code_408\",\"area_code_415\",\"area_code_510\",\"area_code_415\",\"area_code_415\",\"area_code_510\",\"area_code_510\",\"area_code_415\",\"area_code_510\",\"area_code_510\",\"area_code_408\",\"area_code_408\",\"area_code_510\",\"area_code_408\",\"area_code_415\",\"area_code_510\",\"area_code_408\",\"area_code_415\",\"area_code_415\",\"area_code_510\",\"area_code_408\",\"area_code_510\",\"area_code_510\",\"area_code_415\",\"area_code_510\",\"area_code_415\",\"area_code_415\",\"area_code_510\",\"area_code_415\"],\"legendgroup\":\"\",\"name\":\"\",\"showlegend\":true,\"type\":\"pie\"}],                        {\"legend\":{\"tracegroupgap\":0},\"template\":{\"data\":{\"bar\":[{\"error_x\":{\"color\":\"#2a3f5f\"},\"error_y\":{\"color\":\"#2a3f5f\"},\"marker\":{\"line\":{\"color\":\"#E5ECF6\",\"width\":0.5},\"pattern\":{\"fillmode\":\"overlay\",\"size\":10,\"solidity\":0.2}},\"type\":\"bar\"}],\"barpolar\":[{\"marker\":{\"line\":{\"color\":\"#E5ECF6\",\"width\":0.5},\"pattern\":{\"fillmode\":\"overlay\",\"size\":10,\"solidity\":0.2}},\"type\":\"barpolar\"}],\"carpet\":[{\"aaxis\":{\"endlinecolor\":\"#2a3f5f\",\"gridcolor\":\"white\",\"linecolor\":\"white\",\"minorgridcolor\":\"white\",\"startlinecolor\":\"#2a3f5f\"},\"baxis\":{\"endlinecolor\":\"#2a3f5f\",\"gridcolor\":\"white\",\"linecolor\":\"white\",\"minorgridcolor\":\"white\",\"startlinecolor\":\"#2a3f5f\"},\"type\":\"carpet\"}],\"choropleth\":[{\"colorbar\":{\"outlinewidth\":0,\"ticks\":\"\"},\"type\":\"choropleth\"}],\"contour\":[{\"colorbar\":{\"outlinewidth\":0,\"ticks\":\"\"},\"colorscale\":[[0.0,\"#0d0887\"],[0.1111111111111111,\"#46039f\"],[0.2222222222222222,\"#7201a8\"],[0.3333333333333333,\"#9c179e\"],[0.4444444444444444,\"#bd3786\"],[0.5555555555555556,\"#d8576b\"],[0.6666666666666666,\"#ed7953\"],[0.7777777777777778,\"#fb9f3a\"],[0.8888888888888888,\"#fdca26\"],[1.0,\"#f0f921\"]],\"type\":\"contour\"}],\"contourcarpet\":[{\"colorbar\":{\"outlinewidth\":0,\"ticks\":\"\"},\"type\":\"contourcarpet\"}],\"heatmap\":[{\"colorbar\":{\"outlinewidth\":0,\"ticks\":\"\"},\"colorscale\":[[0.0,\"#0d0887\"],[0.1111111111111111,\"#46039f\"],[0.2222222222222222,\"#7201a8\"],[0.3333333333333333,\"#9c179e\"],[0.4444444444444444,\"#bd3786\"],[0.5555555555555556,\"#d8576b\"],[0.6666666666666666,\"#ed7953\"],[0.7777777777777778,\"#fb9f3a\"],[0.8888888888888888,\"#fdca26\"],[1.0,\"#f0f921\"]],\"type\":\"heatmap\"}],\"heatmapgl\":[{\"colorbar\":{\"outlinewidth\":0,\"ticks\":\"\"},\"colorscale\":[[0.0,\"#0d0887\"],[0.1111111111111111,\"#46039f\"],[0.2222222222222222,\"#7201a8\"],[0.3333333333333333,\"#9c179e\"],[0.4444444444444444,\"#bd3786\"],[0.5555555555555556,\"#d8576b\"],[0.6666666666666666,\"#ed7953\"],[0.7777777777777778,\"#fb9f3a\"],[0.8888888888888888,\"#fdca26\"],[1.0,\"#f0f921\"]],\"type\":\"heatmapgl\"}],\"histogram\":[{\"marker\":{\"pattern\":{\"fillmode\":\"overlay\",\"size\":10,\"solidity\":0.2}},\"type\":\"histogram\"}],\"histogram2d\":[{\"colorbar\":{\"outlinewidth\":0,\"ticks\":\"\"},\"colorscale\":[[0.0,\"#0d0887\"],[0.1111111111111111,\"#46039f\"],[0.2222222222222222,\"#7201a8\"],[0.3333333333333333,\"#9c179e\"],[0.4444444444444444,\"#bd3786\"],[0.5555555555555556,\"#d8576b\"],[0.6666666666666666,\"#ed7953\"],[0.7777777777777778,\"#fb9f3a\"],[0.8888888888888888,\"#fdca26\"],[1.0,\"#f0f921\"]],\"type\":\"histogram2d\"}],\"histogram2dcontour\":[{\"colorbar\":{\"outlinewidth\":0,\"ticks\":\"\"},\"colorscale\":[[0.0,\"#0d0887\"],[0.1111111111111111,\"#46039f\"],[0.2222222222222222,\"#7201a8\"],[0.3333333333333333,\"#9c179e\"],[0.4444444444444444,\"#bd3786\"],[0.5555555555555556,\"#d8576b\"],[0.6666666666666666,\"#ed7953\"],[0.7777777777777778,\"#fb9f3a\"],[0.8888888888888888,\"#fdca26\"],[1.0,\"#f0f921\"]],\"type\":\"histogram2dcontour\"}],\"mesh3d\":[{\"colorbar\":{\"outlinewidth\":0,\"ticks\":\"\"},\"type\":\"mesh3d\"}],\"parcoords\":[{\"line\":{\"colorbar\":{\"outlinewidth\":0,\"ticks\":\"\"}},\"type\":\"parcoords\"}],\"pie\":[{\"automargin\":true,\"type\":\"pie\"}],\"scatter\":[{\"marker\":{\"colorbar\":{\"outlinewidth\":0,\"ticks\":\"\"}},\"type\":\"scatter\"}],\"scatter3d\":[{\"line\":{\"colorbar\":{\"outlinewidth\":0,\"ticks\":\"\"}},\"marker\":{\"colorbar\":{\"outlinewidth\":0,\"ticks\":\"\"}},\"type\":\"scatter3d\"}],\"scattercarpet\":[{\"marker\":{\"colorbar\":{\"outlinewidth\":0,\"ticks\":\"\"}},\"type\":\"scattercarpet\"}],\"scattergeo\":[{\"marker\":{\"colorbar\":{\"outlinewidth\":0,\"ticks\":\"\"}},\"type\":\"scattergeo\"}],\"scattergl\":[{\"marker\":{\"colorbar\":{\"outlinewidth\":0,\"ticks\":\"\"}},\"type\":\"scattergl\"}],\"scattermapbox\":[{\"marker\":{\"colorbar\":{\"outlinewidth\":0,\"ticks\":\"\"}},\"type\":\"scattermapbox\"}],\"scatterpolar\":[{\"marker\":{\"colorbar\":{\"outlinewidth\":0,\"ticks\":\"\"}},\"type\":\"scatterpolar\"}],\"scatterpolargl\":[{\"marker\":{\"colorbar\":{\"outlinewidth\":0,\"ticks\":\"\"}},\"type\":\"scatterpolargl\"}],\"scatterternary\":[{\"marker\":{\"colorbar\":{\"outlinewidth\":0,\"ticks\":\"\"}},\"type\":\"scatterternary\"}],\"surface\":[{\"colorbar\":{\"outlinewidth\":0,\"ticks\":\"\"},\"colorscale\":[[0.0,\"#0d0887\"],[0.1111111111111111,\"#46039f\"],[0.2222222222222222,\"#7201a8\"],[0.3333333333333333,\"#9c179e\"],[0.4444444444444444,\"#bd3786\"],[0.5555555555555556,\"#d8576b\"],[0.6666666666666666,\"#ed7953\"],[0.7777777777777778,\"#fb9f3a\"],[0.8888888888888888,\"#fdca26\"],[1.0,\"#f0f921\"]],\"type\":\"surface\"}],\"table\":[{\"cells\":{\"fill\":{\"color\":\"#EBF0F8\"},\"line\":{\"color\":\"white\"}},\"header\":{\"fill\":{\"color\":\"#C8D4E3\"},\"line\":{\"color\":\"white\"}},\"type\":\"table\"}]},\"layout\":{\"annotationdefaults\":{\"arrowcolor\":\"#2a3f5f\",\"arrowhead\":0,\"arrowwidth\":1},\"autotypenumbers\":\"strict\",\"coloraxis\":{\"colorbar\":{\"outlinewidth\":0,\"ticks\":\"\"}},\"colorscale\":{\"diverging\":[[0,\"#8e0152\"],[0.1,\"#c51b7d\"],[0.2,\"#de77ae\"],[0.3,\"#f1b6da\"],[0.4,\"#fde0ef\"],[0.5,\"#f7f7f7\"],[0.6,\"#e6f5d0\"],[0.7,\"#b8e186\"],[0.8,\"#7fbc41\"],[0.9,\"#4d9221\"],[1,\"#276419\"]],\"sequential\":[[0.0,\"#0d0887\"],[0.1111111111111111,\"#46039f\"],[0.2222222222222222,\"#7201a8\"],[0.3333333333333333,\"#9c179e\"],[0.4444444444444444,\"#bd3786\"],[0.5555555555555556,\"#d8576b\"],[0.6666666666666666,\"#ed7953\"],[0.7777777777777778,\"#fb9f3a\"],[0.8888888888888888,\"#fdca26\"],[1.0,\"#f0f921\"]],\"sequentialminus\":[[0.0,\"#0d0887\"],[0.1111111111111111,\"#46039f\"],[0.2222222222222222,\"#7201a8\"],[0.3333333333333333,\"#9c179e\"],[0.4444444444444444,\"#bd3786\"],[0.5555555555555556,\"#d8576b\"],[0.6666666666666666,\"#ed7953\"],[0.7777777777777778,\"#fb9f3a\"],[0.8888888888888888,\"#fdca26\"],[1.0,\"#f0f921\"]]},\"colorway\":[\"#636efa\",\"#EF553B\",\"#00cc96\",\"#ab63fa\",\"#FFA15A\",\"#19d3f3\",\"#FF6692\",\"#B6E880\",\"#FF97FF\",\"#FECB52\"],\"font\":{\"color\":\"#2a3f5f\"},\"geo\":{\"bgcolor\":\"white\",\"lakecolor\":\"white\",\"landcolor\":\"#E5ECF6\",\"showlakes\":true,\"showland\":true,\"subunitcolor\":\"white\"},\"hoverlabel\":{\"align\":\"left\"},\"hovermode\":\"closest\",\"mapbox\":{\"style\":\"light\"},\"paper_bgcolor\":\"white\",\"plot_bgcolor\":\"#E5ECF6\",\"polar\":{\"angularaxis\":{\"gridcolor\":\"white\",\"linecolor\":\"white\",\"ticks\":\"\"},\"bgcolor\":\"#E5ECF6\",\"radialaxis\":{\"gridcolor\":\"white\",\"linecolor\":\"white\",\"ticks\":\"\"}},\"scene\":{\"xaxis\":{\"backgroundcolor\":\"#E5ECF6\",\"gridcolor\":\"white\",\"gridwidth\":2,\"linecolor\":\"white\",\"showbackground\":true,\"ticks\":\"\",\"zerolinecolor\":\"white\"},\"yaxis\":{\"backgroundcolor\":\"#E5ECF6\",\"gridcolor\":\"white\",\"gridwidth\":2,\"linecolor\":\"white\",\"showbackground\":true,\"ticks\":\"\",\"zerolinecolor\":\"white\"},\"zaxis\":{\"backgroundcolor\":\"#E5ECF6\",\"gridcolor\":\"white\",\"gridwidth\":2,\"linecolor\":\"white\",\"showbackground\":true,\"ticks\":\"\",\"zerolinecolor\":\"white\"}},\"shapedefaults\":{\"line\":{\"color\":\"#2a3f5f\"}},\"ternary\":{\"aaxis\":{\"gridcolor\":\"white\",\"linecolor\":\"white\",\"ticks\":\"\"},\"baxis\":{\"gridcolor\":\"white\",\"linecolor\":\"white\",\"ticks\":\"\"},\"bgcolor\":\"#E5ECF6\",\"caxis\":{\"gridcolor\":\"white\",\"linecolor\":\"white\",\"ticks\":\"\"}},\"title\":{\"x\":0.05},\"xaxis\":{\"automargin\":true,\"gridcolor\":\"white\",\"linecolor\":\"white\",\"ticks\":\"\",\"title\":{\"standoff\":15},\"zerolinecolor\":\"white\",\"zerolinewidth\":2},\"yaxis\":{\"automargin\":true,\"gridcolor\":\"white\",\"linecolor\":\"white\",\"ticks\":\"\",\"title\":{\"standoff\":15},\"zerolinecolor\":\"white\",\"zerolinewidth\":2}}},\"title\":{\"text\":\"Payment Delay - Area code\"}},                        {\"responsive\": true}                    ).then(function(){\n",
       "                            \n",
       "var gd = document.getElementById('77271312-5182-40ea-838f-352d32817cb5');\n",
       "var x = new MutationObserver(function (mutations, observer) {{\n",
       "        var display = window.getComputedStyle(gd).display;\n",
       "        if (!display || display === 'none') {{\n",
       "            console.log([gd, 'removed!']);\n",
       "            Plotly.purge(gd);\n",
       "            observer.disconnect();\n",
       "        }}\n",
       "}});\n",
       "\n",
       "// Listen for the removal of the full notebook cells\n",
       "var notebookContainer = gd.closest('#notebook-container');\n",
       "if (notebookContainer) {{\n",
       "    x.observe(notebookContainer, {childList: true});\n",
       "}}\n",
       "\n",
       "// Listen for the clearing of the current output cell\n",
       "var outputEl = gd.closest('.output');\n",
       "if (outputEl) {{\n",
       "    x.observe(outputEl, {childList: true});\n",
       "}}\n",
       "\n",
       "                        })                };                });            </script>        </div>"
      ]
     },
     "metadata": {},
     "output_type": "display_data"
    },
    {
     "data": {
      "application/vnd.plotly.v1+json": {
       "config": {
        "plotlyServerURL": "https://plot.ly"
       },
       "data": [
        {
         "domain": {
          "x": [
           0,
           1
          ],
          "y": [
           0,
           1
          ]
         },
         "hovertemplate": "area_code=%{label}<extra></extra>",
         "labels": [
          "area_code_415",
          "area_code_408",
          "area_code_415",
          "area_code_408",
          "area_code_408",
          "area_code_415",
          "area_code_415",
          "area_code_415",
          "area_code_510",
          "area_code_415",
          "area_code_415",
          "area_code_415",
          "area_code_408",
          "area_code_510",
          "area_code_408",
          "area_code_510",
          "area_code_408",
          "area_code_408",
          "area_code_415",
          "area_code_415",
          "area_code_415",
          "area_code_415",
          "area_code_415",
          "area_code_415",
          "area_code_415",
          "area_code_415",
          "area_code_415",
          "area_code_510",
          "area_code_415",
          "area_code_408",
          "area_code_408",
          "area_code_415",
          "area_code_415",
          "area_code_408",
          "area_code_415",
          "area_code_415",
          "area_code_408",
          "area_code_510",
          "area_code_415",
          "area_code_408",
          "area_code_415",
          "area_code_415",
          "area_code_415",
          "area_code_415",
          "area_code_408",
          "area_code_415",
          "area_code_415",
          "area_code_408",
          "area_code_415",
          "area_code_408",
          "area_code_408",
          "area_code_415",
          "area_code_408",
          "area_code_408",
          "area_code_415",
          "area_code_415",
          "area_code_415",
          "area_code_415",
          "area_code_415",
          "area_code_415",
          "area_code_415",
          "area_code_415",
          "area_code_510",
          "area_code_415",
          "area_code_510",
          "area_code_408",
          "area_code_415",
          "area_code_415",
          "area_code_408",
          "area_code_510",
          "area_code_415",
          "area_code_510",
          "area_code_408",
          "area_code_408",
          "area_code_510",
          "area_code_415",
          "area_code_415",
          "area_code_415",
          "area_code_408",
          "area_code_408",
          "area_code_415",
          "area_code_408",
          "area_code_408",
          "area_code_415",
          "area_code_415",
          "area_code_510",
          "area_code_408",
          "area_code_415",
          "area_code_510",
          "area_code_510",
          "area_code_415",
          "area_code_510",
          "area_code_415",
          "area_code_510",
          "area_code_415",
          "area_code_408",
          "area_code_415",
          "area_code_415",
          "area_code_415",
          "area_code_415",
          "area_code_415",
          "area_code_408",
          "area_code_408",
          "area_code_510",
          "area_code_408",
          "area_code_408",
          "area_code_415",
          "area_code_408",
          "area_code_415",
          "area_code_510",
          "area_code_510",
          "area_code_408",
          "area_code_415",
          "area_code_415",
          "area_code_510",
          "area_code_408",
          "area_code_408",
          "area_code_408",
          "area_code_415",
          "area_code_415",
          "area_code_415",
          "area_code_415",
          "area_code_415",
          "area_code_415",
          "area_code_415",
          "area_code_415",
          "area_code_408",
          "area_code_415",
          "area_code_415",
          "area_code_415",
          "area_code_408",
          "area_code_415",
          "area_code_408",
          "area_code_415",
          "area_code_415",
          "area_code_415",
          "area_code_415",
          "area_code_415",
          "area_code_415",
          "area_code_408",
          "area_code_510",
          "area_code_415",
          "area_code_408",
          "area_code_510",
          "area_code_408",
          "area_code_510",
          "area_code_415",
          "area_code_415",
          "area_code_415",
          "area_code_415",
          "area_code_408",
          "area_code_415",
          "area_code_510",
          "area_code_415",
          "area_code_408",
          "area_code_408",
          "area_code_408",
          "area_code_415",
          "area_code_510",
          "area_code_408",
          "area_code_510",
          "area_code_510",
          "area_code_415",
          "area_code_510",
          "area_code_408",
          "area_code_415",
          "area_code_415",
          "area_code_415",
          "area_code_415",
          "area_code_415",
          "area_code_510",
          "area_code_415",
          "area_code_510",
          "area_code_510",
          "area_code_415",
          "area_code_408",
          "area_code_415",
          "area_code_408",
          "area_code_415",
          "area_code_408",
          "area_code_415",
          "area_code_415",
          "area_code_408",
          "area_code_510",
          "area_code_510",
          "area_code_415",
          "area_code_408",
          "area_code_510",
          "area_code_408",
          "area_code_415",
          "area_code_415",
          "area_code_510",
          "area_code_415",
          "area_code_415",
          "area_code_408",
          "area_code_408",
          "area_code_415",
          "area_code_510",
          "area_code_415",
          "area_code_415",
          "area_code_510",
          "area_code_415",
          "area_code_415",
          "area_code_408",
          "area_code_510",
          "area_code_415",
          "area_code_510",
          "area_code_415",
          "area_code_415",
          "area_code_510",
          "area_code_415",
          "area_code_415",
          "area_code_415",
          "area_code_408",
          "area_code_408",
          "area_code_510",
          "area_code_510",
          "area_code_415",
          "area_code_408",
          "area_code_408",
          "area_code_408",
          "area_code_510",
          "area_code_408",
          "area_code_415",
          "area_code_408",
          "area_code_415",
          "area_code_408",
          "area_code_415",
          "area_code_408",
          "area_code_408",
          "area_code_510",
          "area_code_510",
          "area_code_408",
          "area_code_415",
          "area_code_415",
          "area_code_408",
          "area_code_415",
          "area_code_415",
          "area_code_408",
          "area_code_510",
          "area_code_408",
          "area_code_510",
          "area_code_510",
          "area_code_408",
          "area_code_408",
          "area_code_408",
          "area_code_510",
          "area_code_415",
          "area_code_415",
          "area_code_510",
          "area_code_415",
          "area_code_415",
          "area_code_408",
          "area_code_408",
          "area_code_415",
          "area_code_408",
          "area_code_510",
          "area_code_408",
          "area_code_510",
          "area_code_408",
          "area_code_415",
          "area_code_510",
          "area_code_510",
          "area_code_415",
          "area_code_415",
          "area_code_408",
          "area_code_415",
          "area_code_415",
          "area_code_408",
          "area_code_415",
          "area_code_510",
          "area_code_510",
          "area_code_408",
          "area_code_415",
          "area_code_408",
          "area_code_415",
          "area_code_415",
          "area_code_510",
          "area_code_408",
          "area_code_415",
          "area_code_415",
          "area_code_415",
          "area_code_415",
          "area_code_408",
          "area_code_415",
          "area_code_415",
          "area_code_510",
          "area_code_408",
          "area_code_415",
          "area_code_510",
          "area_code_415",
          "area_code_415",
          "area_code_415",
          "area_code_415",
          "area_code_415",
          "area_code_510",
          "area_code_415",
          "area_code_510",
          "area_code_415",
          "area_code_408",
          "area_code_510",
          "area_code_408",
          "area_code_415",
          "area_code_510",
          "area_code_415",
          "area_code_415",
          "area_code_510",
          "area_code_510",
          "area_code_510",
          "area_code_510",
          "area_code_510",
          "area_code_415",
          "area_code_510",
          "area_code_408",
          "area_code_415",
          "area_code_408",
          "area_code_510",
          "area_code_415",
          "area_code_415",
          "area_code_415",
          "area_code_415",
          "area_code_408",
          "area_code_415",
          "area_code_408",
          "area_code_415",
          "area_code_415",
          "area_code_415",
          "area_code_415",
          "area_code_415",
          "area_code_408",
          "area_code_510",
          "area_code_415",
          "area_code_408",
          "area_code_408",
          "area_code_415",
          "area_code_415",
          "area_code_415",
          "area_code_408",
          "area_code_415",
          "area_code_510",
          "area_code_415",
          "area_code_510",
          "area_code_510",
          "area_code_408",
          "area_code_415",
          "area_code_510",
          "area_code_415",
          "area_code_510",
          "area_code_415",
          "area_code_510",
          "area_code_415",
          "area_code_510",
          "area_code_415",
          "area_code_510",
          "area_code_415",
          "area_code_415",
          "area_code_415",
          "area_code_408",
          "area_code_510",
          "area_code_415",
          "area_code_415",
          "area_code_510",
          "area_code_415",
          "area_code_415",
          "area_code_510",
          "area_code_415",
          "area_code_408",
          "area_code_408",
          "area_code_510",
          "area_code_415",
          "area_code_415",
          "area_code_408",
          "area_code_510",
          "area_code_408",
          "area_code_415",
          "area_code_415",
          "area_code_415",
          "area_code_510",
          "area_code_510",
          "area_code_510",
          "area_code_510",
          "area_code_510",
          "area_code_415",
          "area_code_510",
          "area_code_408",
          "area_code_415",
          "area_code_415",
          "area_code_510",
          "area_code_510",
          "area_code_415",
          "area_code_510",
          "area_code_510",
          "area_code_510",
          "area_code_510",
          "area_code_415",
          "area_code_510",
          "area_code_415",
          "area_code_510",
          "area_code_415",
          "area_code_415",
          "area_code_510",
          "area_code_408",
          "area_code_415",
          "area_code_415",
          "area_code_510",
          "area_code_510",
          "area_code_408",
          "area_code_408",
          "area_code_415",
          "area_code_415",
          "area_code_415",
          "area_code_510",
          "area_code_415",
          "area_code_408",
          "area_code_510",
          "area_code_510",
          "area_code_415",
          "area_code_415",
          "area_code_510",
          "area_code_415",
          "area_code_510",
          "area_code_415",
          "area_code_415",
          "area_code_415",
          "area_code_510",
          "area_code_408",
          "area_code_408",
          "area_code_408",
          "area_code_510",
          "area_code_415",
          "area_code_415",
          "area_code_415",
          "area_code_415",
          "area_code_415",
          "area_code_408",
          "area_code_510",
          "area_code_415",
          "area_code_510",
          "area_code_408",
          "area_code_408",
          "area_code_415",
          "area_code_408",
          "area_code_510",
          "area_code_408",
          "area_code_510",
          "area_code_415",
          "area_code_408",
          "area_code_415",
          "area_code_415",
          "area_code_510",
          "area_code_415",
          "area_code_415",
          "area_code_415",
          "area_code_415",
          "area_code_408",
          "area_code_415",
          "area_code_408",
          "area_code_408",
          "area_code_510",
          "area_code_408",
          "area_code_408",
          "area_code_415",
          "area_code_415",
          "area_code_415",
          "area_code_408",
          "area_code_408",
          "area_code_415",
          "area_code_415",
          "area_code_415",
          "area_code_415",
          "area_code_415",
          "area_code_415",
          "area_code_415",
          "area_code_415",
          "area_code_415",
          "area_code_408",
          "area_code_510",
          "area_code_510",
          "area_code_415",
          "area_code_510",
          "area_code_415",
          "area_code_415",
          "area_code_510",
          "area_code_415",
          "area_code_510",
          "area_code_408",
          "area_code_415",
          "area_code_415",
          "area_code_408",
          "area_code_510",
          "area_code_415",
          "area_code_415",
          "area_code_408",
          "area_code_408",
          "area_code_510",
          "area_code_510",
          "area_code_415",
          "area_code_408",
          "area_code_510",
          "area_code_415",
          "area_code_415",
          "area_code_408",
          "area_code_415",
          "area_code_510",
          "area_code_415",
          "area_code_510",
          "area_code_510",
          "area_code_415",
          "area_code_415",
          "area_code_408",
          "area_code_408",
          "area_code_408",
          "area_code_415",
          "area_code_408",
          "area_code_415",
          "area_code_415",
          "area_code_415",
          "area_code_415",
          "area_code_415",
          "area_code_415",
          "area_code_415",
          "area_code_415",
          "area_code_510",
          "area_code_408",
          "area_code_408",
          "area_code_415",
          "area_code_415",
          "area_code_415",
          "area_code_408",
          "area_code_408",
          "area_code_415",
          "area_code_415",
          "area_code_408",
          "area_code_408",
          "area_code_510",
          "area_code_415",
          "area_code_415",
          "area_code_415",
          "area_code_415",
          "area_code_415",
          "area_code_415",
          "area_code_510",
          "area_code_415",
          "area_code_510",
          "area_code_408",
          "area_code_510",
          "area_code_510",
          "area_code_510",
          "area_code_408",
          "area_code_510",
          "area_code_415",
          "area_code_510",
          "area_code_408",
          "area_code_415",
          "area_code_510",
          "area_code_510",
          "area_code_415",
          "area_code_415",
          "area_code_510",
          "area_code_510",
          "area_code_415",
          "area_code_415",
          "area_code_408",
          "area_code_510",
          "area_code_415",
          "area_code_510",
          "area_code_415",
          "area_code_408",
          "area_code_415",
          "area_code_510",
          "area_code_510",
          "area_code_408",
          "area_code_408",
          "area_code_415",
          "area_code_408",
          "area_code_415",
          "area_code_415",
          "area_code_408",
          "area_code_415",
          "area_code_408",
          "area_code_415",
          "area_code_510",
          "area_code_415",
          "area_code_510",
          "area_code_510",
          "area_code_408",
          "area_code_408",
          "area_code_510",
          "area_code_415",
          "area_code_408",
          "area_code_408",
          "area_code_415",
          "area_code_408",
          "area_code_415",
          "area_code_510",
          "area_code_510",
          "area_code_510",
          "area_code_415",
          "area_code_415",
          "area_code_408",
          "area_code_415",
          "area_code_415",
          "area_code_415",
          "area_code_415",
          "area_code_415",
          "area_code_415",
          "area_code_415",
          "area_code_408",
          "area_code_408",
          "area_code_510",
          "area_code_415",
          "area_code_415",
          "area_code_415",
          "area_code_510",
          "area_code_510",
          "area_code_415",
          "area_code_408",
          "area_code_510",
          "area_code_408",
          "area_code_510",
          "area_code_510",
          "area_code_408",
          "area_code_510",
          "area_code_415",
          "area_code_408",
          "area_code_510",
          "area_code_510",
          "area_code_415",
          "area_code_415",
          "area_code_415",
          "area_code_415",
          "area_code_415",
          "area_code_408",
          "area_code_510",
          "area_code_510",
          "area_code_408",
          "area_code_415",
          "area_code_415",
          "area_code_415",
          "area_code_510",
          "area_code_415",
          "area_code_415",
          "area_code_415",
          "area_code_415",
          "area_code_415",
          "area_code_415",
          "area_code_408",
          "area_code_408",
          "area_code_510",
          "area_code_415",
          "area_code_510",
          "area_code_415",
          "area_code_510",
          "area_code_415",
          "area_code_415",
          "area_code_510",
          "area_code_415",
          "area_code_510",
          "area_code_415",
          "area_code_415",
          "area_code_510",
          "area_code_510",
          "area_code_408",
          "area_code_415",
          "area_code_408",
          "area_code_510",
          "area_code_415",
          "area_code_415",
          "area_code_408",
          "area_code_415",
          "area_code_415",
          "area_code_510",
          "area_code_415",
          "area_code_510",
          "area_code_415",
          "area_code_510",
          "area_code_415",
          "area_code_510",
          "area_code_415",
          "area_code_408",
          "area_code_415",
          "area_code_415",
          "area_code_415",
          "area_code_510",
          "area_code_408",
          "area_code_415",
          "area_code_415",
          "area_code_415",
          "area_code_510",
          "area_code_415",
          "area_code_415",
          "area_code_510",
          "area_code_415",
          "area_code_510",
          "area_code_415",
          "area_code_415",
          "area_code_415",
          "area_code_510",
          "area_code_510",
          "area_code_408",
          "area_code_415",
          "area_code_415",
          "area_code_415",
          "area_code_510",
          "area_code_510",
          "area_code_415",
          "area_code_415",
          "area_code_415",
          "area_code_415",
          "area_code_510",
          "area_code_415",
          "area_code_415",
          "area_code_510",
          "area_code_408",
          "area_code_408",
          "area_code_510",
          "area_code_415",
          "area_code_408",
          "area_code_415",
          "area_code_415",
          "area_code_415",
          "area_code_415",
          "area_code_510",
          "area_code_408",
          "area_code_415",
          "area_code_408",
          "area_code_510",
          "area_code_510",
          "area_code_510",
          "area_code_510",
          "area_code_408",
          "area_code_510",
          "area_code_510",
          "area_code_415",
          "area_code_415",
          "area_code_415",
          "area_code_408",
          "area_code_510",
          "area_code_415",
          "area_code_415",
          "area_code_510",
          "area_code_408",
          "area_code_415",
          "area_code_415",
          "area_code_408",
          "area_code_510",
          "area_code_408",
          "area_code_510",
          "area_code_510",
          "area_code_415",
          "area_code_408",
          "area_code_510",
          "area_code_415",
          "area_code_408",
          "area_code_415",
          "area_code_510",
          "area_code_510",
          "area_code_408",
          "area_code_415",
          "area_code_408",
          "area_code_415",
          "area_code_415",
          "area_code_408",
          "area_code_415",
          "area_code_510",
          "area_code_510",
          "area_code_408",
          "area_code_510",
          "area_code_415",
          "area_code_415",
          "area_code_408",
          "area_code_408",
          "area_code_510",
          "area_code_510",
          "area_code_415",
          "area_code_510",
          "area_code_408",
          "area_code_415",
          "area_code_415",
          "area_code_408",
          "area_code_415",
          "area_code_408",
          "area_code_415",
          "area_code_408",
          "area_code_408",
          "area_code_408",
          "area_code_415",
          "area_code_415",
          "area_code_408",
          "area_code_415",
          "area_code_510",
          "area_code_510",
          "area_code_415",
          "area_code_408",
          "area_code_415",
          "area_code_510",
          "area_code_415",
          "area_code_415",
          "area_code_408",
          "area_code_510",
          "area_code_510",
          "area_code_415",
          "area_code_408",
          "area_code_408",
          "area_code_415",
          "area_code_408",
          "area_code_415",
          "area_code_415",
          "area_code_510",
          "area_code_415",
          "area_code_415",
          "area_code_408",
          "area_code_510",
          "area_code_415",
          "area_code_415",
          "area_code_415",
          "area_code_408",
          "area_code_408",
          "area_code_415",
          "area_code_510",
          "area_code_510",
          "area_code_408",
          "area_code_408",
          "area_code_510",
          "area_code_415",
          "area_code_510",
          "area_code_408",
          "area_code_415",
          "area_code_415",
          "area_code_510",
          "area_code_415",
          "area_code_408",
          "area_code_415",
          "area_code_510",
          "area_code_415",
          "area_code_408",
          "area_code_408",
          "area_code_510",
          "area_code_408",
          "area_code_408",
          "area_code_415",
          "area_code_408",
          "area_code_510",
          "area_code_510",
          "area_code_415",
          "area_code_510",
          "area_code_415",
          "area_code_408",
          "area_code_510",
          "area_code_415",
          "area_code_415",
          "area_code_415",
          "area_code_408",
          "area_code_415",
          "area_code_415",
          "area_code_415",
          "area_code_415",
          "area_code_408",
          "area_code_415",
          "area_code_408",
          "area_code_415",
          "area_code_415",
          "area_code_408",
          "area_code_510",
          "area_code_408",
          "area_code_415",
          "area_code_415",
          "area_code_510",
          "area_code_415",
          "area_code_415",
          "area_code_510",
          "area_code_415",
          "area_code_415",
          "area_code_408",
          "area_code_510",
          "area_code_408",
          "area_code_408",
          "area_code_415",
          "area_code_510",
          "area_code_408",
          "area_code_415",
          "area_code_510",
          "area_code_415",
          "area_code_510",
          "area_code_510",
          "area_code_415",
          "area_code_415",
          "area_code_510",
          "area_code_415",
          "area_code_408",
          "area_code_415",
          "area_code_408",
          "area_code_415",
          "area_code_415",
          "area_code_510",
          "area_code_408",
          "area_code_510",
          "area_code_415",
          "area_code_415",
          "area_code_415",
          "area_code_408",
          "area_code_510",
          "area_code_415",
          "area_code_510",
          "area_code_415",
          "area_code_408",
          "area_code_510",
          "area_code_510",
          "area_code_415",
          "area_code_510",
          "area_code_510",
          "area_code_415",
          "area_code_408",
          "area_code_510",
          "area_code_408",
          "area_code_510",
          "area_code_415",
          "area_code_510",
          "area_code_415",
          "area_code_510",
          "area_code_408",
          "area_code_415",
          "area_code_510",
          "area_code_415",
          "area_code_408",
          "area_code_510",
          "area_code_415",
          "area_code_510",
          "area_code_510",
          "area_code_510",
          "area_code_415",
          "area_code_415",
          "area_code_415",
          "area_code_408",
          "area_code_415",
          "area_code_415",
          "area_code_415",
          "area_code_415",
          "area_code_415",
          "area_code_408",
          "area_code_415",
          "area_code_510",
          "area_code_408",
          "area_code_510",
          "area_code_408",
          "area_code_510",
          "area_code_415",
          "area_code_510",
          "area_code_415",
          "area_code_415",
          "area_code_415",
          "area_code_408",
          "area_code_510",
          "area_code_415",
          "area_code_408",
          "area_code_510",
          "area_code_408",
          "area_code_415",
          "area_code_415",
          "area_code_415",
          "area_code_408",
          "area_code_408",
          "area_code_415",
          "area_code_415",
          "area_code_415",
          "area_code_415",
          "area_code_415",
          "area_code_510",
          "area_code_415",
          "area_code_415",
          "area_code_408",
          "area_code_408",
          "area_code_415",
          "area_code_510",
          "area_code_415",
          "area_code_510",
          "area_code_415",
          "area_code_510",
          "area_code_510",
          "area_code_408",
          "area_code_415",
          "area_code_408",
          "area_code_510",
          "area_code_415",
          "area_code_408",
          "area_code_510",
          "area_code_408",
          "area_code_415",
          "area_code_415",
          "area_code_510",
          "area_code_408",
          "area_code_510",
          "area_code_510",
          "area_code_510",
          "area_code_510",
          "area_code_415",
          "area_code_510",
          "area_code_415",
          "area_code_408",
          "area_code_415",
          "area_code_415",
          "area_code_510",
          "area_code_408",
          "area_code_415",
          "area_code_415",
          "area_code_408",
          "area_code_415",
          "area_code_408",
          "area_code_510",
          "area_code_415",
          "area_code_408",
          "area_code_415",
          "area_code_510",
          "area_code_408",
          "area_code_415",
          "area_code_510",
          "area_code_415",
          "area_code_415",
          "area_code_415",
          "area_code_415",
          "area_code_415",
          "area_code_415",
          "area_code_510",
          "area_code_510",
          "area_code_415",
          "area_code_510",
          "area_code_510",
          "area_code_408",
          "area_code_510",
          "area_code_415",
          "area_code_415",
          "area_code_408",
          "area_code_510",
          "area_code_510",
          "area_code_415",
          "area_code_415",
          "area_code_510",
          "area_code_408",
          "area_code_510",
          "area_code_415",
          "area_code_415",
          "area_code_510",
          "area_code_408",
          "area_code_408",
          "area_code_510",
          "area_code_415",
          "area_code_408",
          "area_code_408",
          "area_code_408",
          "area_code_415",
          "area_code_415",
          "area_code_415",
          "area_code_415",
          "area_code_415",
          "area_code_415",
          "area_code_415",
          "area_code_415",
          "area_code_408",
          "area_code_415",
          "area_code_408",
          "area_code_415",
          "area_code_408",
          "area_code_415",
          "area_code_408",
          "area_code_408",
          "area_code_408",
          "area_code_408",
          "area_code_408",
          "area_code_408",
          "area_code_510",
          "area_code_408",
          "area_code_415",
          "area_code_415",
          "area_code_510",
          "area_code_510",
          "area_code_415",
          "area_code_415",
          "area_code_415",
          "area_code_415",
          "area_code_408",
          "area_code_408",
          "area_code_415",
          "area_code_510",
          "area_code_415",
          "area_code_510",
          "area_code_415",
          "area_code_415",
          "area_code_415",
          "area_code_415",
          "area_code_408",
          "area_code_415",
          "area_code_408",
          "area_code_510",
          "area_code_415",
          "area_code_510",
          "area_code_510",
          "area_code_408",
          "area_code_415",
          "area_code_408",
          "area_code_415",
          "area_code_415",
          "area_code_510",
          "area_code_415",
          "area_code_415",
          "area_code_510",
          "area_code_415",
          "area_code_510",
          "area_code_415",
          "area_code_415",
          "area_code_415",
          "area_code_510",
          "area_code_510",
          "area_code_415",
          "area_code_408",
          "area_code_408",
          "area_code_408",
          "area_code_415",
          "area_code_510",
          "area_code_510",
          "area_code_408",
          "area_code_408",
          "area_code_415",
          "area_code_408",
          "area_code_415",
          "area_code_415",
          "area_code_510",
          "area_code_408",
          "area_code_415",
          "area_code_415",
          "area_code_510",
          "area_code_415",
          "area_code_510",
          "area_code_408",
          "area_code_415",
          "area_code_510",
          "area_code_415",
          "area_code_415",
          "area_code_415",
          "area_code_510",
          "area_code_415",
          "area_code_510",
          "area_code_510",
          "area_code_408",
          "area_code_415",
          "area_code_510",
          "area_code_415",
          "area_code_415",
          "area_code_408",
          "area_code_415",
          "area_code_415",
          "area_code_408",
          "area_code_510",
          "area_code_408",
          "area_code_415",
          "area_code_510",
          "area_code_510",
          "area_code_415",
          "area_code_415",
          "area_code_415",
          "area_code_408",
          "area_code_510",
          "area_code_415",
          "area_code_415",
          "area_code_510",
          "area_code_415",
          "area_code_408",
          "area_code_415",
          "area_code_408",
          "area_code_510",
          "area_code_415",
          "area_code_408",
          "area_code_415",
          "area_code_408",
          "area_code_408",
          "area_code_510",
          "area_code_415",
          "area_code_408",
          "area_code_408",
          "area_code_408",
          "area_code_415",
          "area_code_415",
          "area_code_510",
          "area_code_510",
          "area_code_415",
          "area_code_408",
          "area_code_415",
          "area_code_415",
          "area_code_510",
          "area_code_415",
          "area_code_408",
          "area_code_415",
          "area_code_408",
          "area_code_415",
          "area_code_510",
          "area_code_510",
          "area_code_415",
          "area_code_415",
          "area_code_415",
          "area_code_415",
          "area_code_510",
          "area_code_415",
          "area_code_408",
          "area_code_408",
          "area_code_510",
          "area_code_415",
          "area_code_415",
          "area_code_408",
          "area_code_415",
          "area_code_510",
          "area_code_510",
          "area_code_415",
          "area_code_415",
          "area_code_415",
          "area_code_415",
          "area_code_408",
          "area_code_415",
          "area_code_415",
          "area_code_415",
          "area_code_415",
          "area_code_415",
          "area_code_408",
          "area_code_415",
          "area_code_415",
          "area_code_415",
          "area_code_510",
          "area_code_408",
          "area_code_408",
          "area_code_415",
          "area_code_415",
          "area_code_408",
          "area_code_415",
          "area_code_415",
          "area_code_415",
          "area_code_408",
          "area_code_408",
          "area_code_408",
          "area_code_415",
          "area_code_415",
          "area_code_415",
          "area_code_415",
          "area_code_415",
          "area_code_408",
          "area_code_408",
          "area_code_415",
          "area_code_415",
          "area_code_408",
          "area_code_415",
          "area_code_408",
          "area_code_415",
          "area_code_415",
          "area_code_510",
          "area_code_408",
          "area_code_415",
          "area_code_415",
          "area_code_510",
          "area_code_408",
          "area_code_415",
          "area_code_415",
          "area_code_415",
          "area_code_408",
          "area_code_510",
          "area_code_415",
          "area_code_510",
          "area_code_415",
          "area_code_408",
          "area_code_408",
          "area_code_415",
          "area_code_415",
          "area_code_415",
          "area_code_510",
          "area_code_415",
          "area_code_415",
          "area_code_510",
          "area_code_408",
          "area_code_415",
          "area_code_415",
          "area_code_415",
          "area_code_510",
          "area_code_408",
          "area_code_415",
          "area_code_415",
          "area_code_415",
          "area_code_510",
          "area_code_415",
          "area_code_510",
          "area_code_415",
          "area_code_408",
          "area_code_510",
          "area_code_415",
          "area_code_415",
          "area_code_415",
          "area_code_408",
          "area_code_415",
          "area_code_408",
          "area_code_415",
          "area_code_408",
          "area_code_510",
          "area_code_408",
          "area_code_510",
          "area_code_510",
          "area_code_415",
          "area_code_415",
          "area_code_510",
          "area_code_415",
          "area_code_415",
          "area_code_510",
          "area_code_415",
          "area_code_408",
          "area_code_408",
          "area_code_408",
          "area_code_408",
          "area_code_415",
          "area_code_415",
          "area_code_408",
          "area_code_415",
          "area_code_408",
          "area_code_415",
          "area_code_415",
          "area_code_415",
          "area_code_408",
          "area_code_510",
          "area_code_415",
          "area_code_415",
          "area_code_408",
          "area_code_510",
          "area_code_510",
          "area_code_408",
          "area_code_415",
          "area_code_408",
          "area_code_510",
          "area_code_415",
          "area_code_510",
          "area_code_415",
          "area_code_415",
          "area_code_415",
          "area_code_510",
          "area_code_415",
          "area_code_415",
          "area_code_415",
          "area_code_415",
          "area_code_415",
          "area_code_510",
          "area_code_415",
          "area_code_510",
          "area_code_415",
          "area_code_415",
          "area_code_510",
          "area_code_415",
          "area_code_415",
          "area_code_415",
          "area_code_415",
          "area_code_510",
          "area_code_415",
          "area_code_415",
          "area_code_415",
          "area_code_415",
          "area_code_510",
          "area_code_415",
          "area_code_415",
          "area_code_415",
          "area_code_510",
          "area_code_415",
          "area_code_415",
          "area_code_510",
          "area_code_408",
          "area_code_415",
          "area_code_415",
          "area_code_415",
          "area_code_415",
          "area_code_408",
          "area_code_510",
          "area_code_408",
          "area_code_415",
          "area_code_415",
          "area_code_415",
          "area_code_415",
          "area_code_510",
          "area_code_415",
          "area_code_415",
          "area_code_415",
          "area_code_408",
          "area_code_408",
          "area_code_510",
          "area_code_415",
          "area_code_415",
          "area_code_510",
          "area_code_510",
          "area_code_408",
          "area_code_415",
          "area_code_408",
          "area_code_415",
          "area_code_510",
          "area_code_415",
          "area_code_415",
          "area_code_510",
          "area_code_415",
          "area_code_408",
          "area_code_510",
          "area_code_415",
          "area_code_510",
          "area_code_510",
          "area_code_510",
          "area_code_415",
          "area_code_415",
          "area_code_510",
          "area_code_415",
          "area_code_408",
          "area_code_415",
          "area_code_408",
          "area_code_408",
          "area_code_415",
          "area_code_415",
          "area_code_510",
          "area_code_510",
          "area_code_510",
          "area_code_415",
          "area_code_408",
          "area_code_415",
          "area_code_408",
          "area_code_510",
          "area_code_415",
          "area_code_415",
          "area_code_415",
          "area_code_415",
          "area_code_415",
          "area_code_415",
          "area_code_415",
          "area_code_408",
          "area_code_510",
          "area_code_415",
          "area_code_408",
          "area_code_408",
          "area_code_510",
          "area_code_415",
          "area_code_510",
          "area_code_408",
          "area_code_415",
          "area_code_415",
          "area_code_415",
          "area_code_415",
          "area_code_415",
          "area_code_408",
          "area_code_408",
          "area_code_408",
          "area_code_510",
          "area_code_415",
          "area_code_510",
          "area_code_415",
          "area_code_415",
          "area_code_415",
          "area_code_415",
          "area_code_415",
          "area_code_510",
          "area_code_510",
          "area_code_408",
          "area_code_510",
          "area_code_415",
          "area_code_408",
          "area_code_415",
          "area_code_415",
          "area_code_510",
          "area_code_408",
          "area_code_415",
          "area_code_415",
          "area_code_415",
          "area_code_408",
          "area_code_415",
          "area_code_510",
          "area_code_510",
          "area_code_415",
          "area_code_415",
          "area_code_408",
          "area_code_415",
          "area_code_408",
          "area_code_415",
          "area_code_415",
          "area_code_408",
          "area_code_510",
          "area_code_408",
          "area_code_415",
          "area_code_510",
          "area_code_510",
          "area_code_510",
          "area_code_408",
          "area_code_415",
          "area_code_415",
          "area_code_415",
          "area_code_415",
          "area_code_510",
          "area_code_408",
          "area_code_415",
          "area_code_408",
          "area_code_510",
          "area_code_415",
          "area_code_510",
          "area_code_415",
          "area_code_415",
          "area_code_415",
          "area_code_415",
          "area_code_408",
          "area_code_408",
          "area_code_415",
          "area_code_415",
          "area_code_415",
          "area_code_415",
          "area_code_510",
          "area_code_510",
          "area_code_510",
          "area_code_408",
          "area_code_415",
          "area_code_415",
          "area_code_415",
          "area_code_415",
          "area_code_415",
          "area_code_510",
          "area_code_510",
          "area_code_415",
          "area_code_408",
          "area_code_408",
          "area_code_415",
          "area_code_510",
          "area_code_510",
          "area_code_408",
          "area_code_415",
          "area_code_415",
          "area_code_415",
          "area_code_408",
          "area_code_415",
          "area_code_415",
          "area_code_415",
          "area_code_415",
          "area_code_415",
          "area_code_510",
          "area_code_415",
          "area_code_415",
          "area_code_415",
          "area_code_510",
          "area_code_415",
          "area_code_415",
          "area_code_408",
          "area_code_408",
          "area_code_415",
          "area_code_415",
          "area_code_510",
          "area_code_510",
          "area_code_415",
          "area_code_415",
          "area_code_415",
          "area_code_415",
          "area_code_408",
          "area_code_510",
          "area_code_415",
          "area_code_510",
          "area_code_415",
          "area_code_408",
          "area_code_510",
          "area_code_510",
          "area_code_510",
          "area_code_510",
          "area_code_415",
          "area_code_510",
          "area_code_510",
          "area_code_510",
          "area_code_510",
          "area_code_510",
          "area_code_415",
          "area_code_408",
          "area_code_415",
          "area_code_510",
          "area_code_415",
          "area_code_510",
          "area_code_408",
          "area_code_408",
          "area_code_415",
          "area_code_408",
          "area_code_415",
          "area_code_408",
          "area_code_510",
          "area_code_408",
          "area_code_510",
          "area_code_510",
          "area_code_415",
          "area_code_408",
          "area_code_415",
          "area_code_408",
          "area_code_408",
          "area_code_510",
          "area_code_415",
          "area_code_415",
          "area_code_408",
          "area_code_415",
          "area_code_408",
          "area_code_415",
          "area_code_415",
          "area_code_415",
          "area_code_415",
          "area_code_415",
          "area_code_408",
          "area_code_415",
          "area_code_510",
          "area_code_415",
          "area_code_415",
          "area_code_415",
          "area_code_510",
          "area_code_510",
          "area_code_510",
          "area_code_415",
          "area_code_408",
          "area_code_510",
          "area_code_510",
          "area_code_415",
          "area_code_415",
          "area_code_415",
          "area_code_415",
          "area_code_510",
          "area_code_415",
          "area_code_415",
          "area_code_415",
          "area_code_408",
          "area_code_510",
          "area_code_510",
          "area_code_415",
          "area_code_510",
          "area_code_415",
          "area_code_415",
          "area_code_510",
          "area_code_415",
          "area_code_415",
          "area_code_408",
          "area_code_415",
          "area_code_415",
          "area_code_510",
          "area_code_415",
          "area_code_510",
          "area_code_510",
          "area_code_415",
          "area_code_408",
          "area_code_415",
          "area_code_415",
          "area_code_415",
          "area_code_415",
          "area_code_415",
          "area_code_415",
          "area_code_415",
          "area_code_408",
          "area_code_415",
          "area_code_415",
          "area_code_415",
          "area_code_415",
          "area_code_510",
          "area_code_415",
          "area_code_408",
          "area_code_408",
          "area_code_415",
          "area_code_510",
          "area_code_408",
          "area_code_415",
          "area_code_510",
          "area_code_510",
          "area_code_415",
          "area_code_415",
          "area_code_415",
          "area_code_408",
          "area_code_415",
          "area_code_408",
          "area_code_408",
          "area_code_408",
          "area_code_415",
          "area_code_415",
          "area_code_408",
          "area_code_408",
          "area_code_510",
          "area_code_415",
          "area_code_415",
          "area_code_408",
          "area_code_408",
          "area_code_415",
          "area_code_415",
          "area_code_510",
          "area_code_415",
          "area_code_408",
          "area_code_408",
          "area_code_415",
          "area_code_510",
          "area_code_408",
          "area_code_408",
          "area_code_408",
          "area_code_510",
          "area_code_408",
          "area_code_408",
          "area_code_415",
          "area_code_510",
          "area_code_415",
          "area_code_415",
          "area_code_510",
          "area_code_415",
          "area_code_415",
          "area_code_408",
          "area_code_415",
          "area_code_408",
          "area_code_408",
          "area_code_408",
          "area_code_415",
          "area_code_408",
          "area_code_415",
          "area_code_415",
          "area_code_415",
          "area_code_415",
          "area_code_408",
          "area_code_510",
          "area_code_408",
          "area_code_408",
          "area_code_510",
          "area_code_415",
          "area_code_415",
          "area_code_408",
          "area_code_510",
          "area_code_415",
          "area_code_408",
          "area_code_408",
          "area_code_415",
          "area_code_415",
          "area_code_510",
          "area_code_510",
          "area_code_415",
          "area_code_510",
          "area_code_408",
          "area_code_415",
          "area_code_408",
          "area_code_408",
          "area_code_408",
          "area_code_408",
          "area_code_415",
          "area_code_415",
          "area_code_415",
          "area_code_408",
          "area_code_415",
          "area_code_415",
          "area_code_408",
          "area_code_510",
          "area_code_415",
          "area_code_415",
          "area_code_408",
          "area_code_415",
          "area_code_415",
          "area_code_408",
          "area_code_415",
          "area_code_408",
          "area_code_415",
          "area_code_415",
          "area_code_415",
          "area_code_415",
          "area_code_415",
          "area_code_510",
          "area_code_510",
          "area_code_510",
          "area_code_510",
          "area_code_510",
          "area_code_415",
          "area_code_415",
          "area_code_510",
          "area_code_415",
          "area_code_415",
          "area_code_415",
          "area_code_510",
          "area_code_510",
          "area_code_510",
          "area_code_415",
          "area_code_415",
          "area_code_408",
          "area_code_415",
          "area_code_415",
          "area_code_510",
          "area_code_415",
          "area_code_415",
          "area_code_415",
          "area_code_408",
          "area_code_510",
          "area_code_415",
          "area_code_415",
          "area_code_415",
          "area_code_510",
          "area_code_408",
          "area_code_408",
          "area_code_415",
          "area_code_415",
          "area_code_415",
          "area_code_408",
          "area_code_415",
          "area_code_510",
          "area_code_408",
          "area_code_415",
          "area_code_415",
          "area_code_415",
          "area_code_415",
          "area_code_510",
          "area_code_510",
          "area_code_510",
          "area_code_415",
          "area_code_415",
          "area_code_408",
          "area_code_415",
          "area_code_408",
          "area_code_510",
          "area_code_408",
          "area_code_510",
          "area_code_510",
          "area_code_415",
          "area_code_408",
          "area_code_408",
          "area_code_408",
          "area_code_415",
          "area_code_408",
          "area_code_408",
          "area_code_415",
          "area_code_510",
          "area_code_415",
          "area_code_510",
          "area_code_415",
          "area_code_415",
          "area_code_408",
          "area_code_415",
          "area_code_415",
          "area_code_408",
          "area_code_510",
          "area_code_510",
          "area_code_415",
          "area_code_415",
          "area_code_510",
          "area_code_415",
          "area_code_408",
          "area_code_415",
          "area_code_510",
          "area_code_415",
          "area_code_408",
          "area_code_415",
          "area_code_415",
          "area_code_510",
          "area_code_510",
          "area_code_510",
          "area_code_415",
          "area_code_510",
          "area_code_510",
          "area_code_415",
          "area_code_415",
          "area_code_510",
          "area_code_415",
          "area_code_510",
          "area_code_510",
          "area_code_408",
          "area_code_415",
          "area_code_415",
          "area_code_510",
          "area_code_415",
          "area_code_415",
          "area_code_415",
          "area_code_415",
          "area_code_408",
          "area_code_510",
          "area_code_510",
          "area_code_415",
          "area_code_510",
          "area_code_408",
          "area_code_415",
          "area_code_415",
          "area_code_408",
          "area_code_415",
          "area_code_510",
          "area_code_510",
          "area_code_408",
          "area_code_415",
          "area_code_415",
          "area_code_415",
          "area_code_415",
          "area_code_510",
          "area_code_408",
          "area_code_510",
          "area_code_415",
          "area_code_415",
          "area_code_408",
          "area_code_408",
          "area_code_408",
          "area_code_408",
          "area_code_408",
          "area_code_408",
          "area_code_415",
          "area_code_415",
          "area_code_510",
          "area_code_408",
          "area_code_415",
          "area_code_408",
          "area_code_415",
          "area_code_415",
          "area_code_415",
          "area_code_415",
          "area_code_510",
          "area_code_408",
          "area_code_415",
          "area_code_415",
          "area_code_415",
          "area_code_408",
          "area_code_415",
          "area_code_415",
          "area_code_415",
          "area_code_408",
          "area_code_415",
          "area_code_415",
          "area_code_510",
          "area_code_408",
          "area_code_415",
          "area_code_408",
          "area_code_408",
          "area_code_415",
          "area_code_408",
          "area_code_415",
          "area_code_415",
          "area_code_510",
          "area_code_408",
          "area_code_415",
          "area_code_510",
          "area_code_415",
          "area_code_415",
          "area_code_408",
          "area_code_415",
          "area_code_510",
          "area_code_408",
          "area_code_510",
          "area_code_408",
          "area_code_408",
          "area_code_510",
          "area_code_415",
          "area_code_510",
          "area_code_415",
          "area_code_408",
          "area_code_415",
          "area_code_415",
          "area_code_510",
          "area_code_510",
          "area_code_510",
          "area_code_415",
          "area_code_415",
          "area_code_408",
          "area_code_510",
          "area_code_408",
          "area_code_510",
          "area_code_415",
          "area_code_415",
          "area_code_415",
          "area_code_408",
          "area_code_408",
          "area_code_510",
          "area_code_408",
          "area_code_415",
          "area_code_510",
          "area_code_415",
          "area_code_408",
          "area_code_415",
          "area_code_415",
          "area_code_415",
          "area_code_408",
          "area_code_415",
          "area_code_415",
          "area_code_510",
          "area_code_510",
          "area_code_415",
          "area_code_415",
          "area_code_510",
          "area_code_415",
          "area_code_510",
          "area_code_408",
          "area_code_415",
          "area_code_408",
          "area_code_415",
          "area_code_408",
          "area_code_408",
          "area_code_408",
          "area_code_408",
          "area_code_510",
          "area_code_415",
          "area_code_415",
          "area_code_415",
          "area_code_408",
          "area_code_415",
          "area_code_415",
          "area_code_415",
          "area_code_408",
          "area_code_415",
          "area_code_415",
          "area_code_415",
          "area_code_510",
          "area_code_415",
          "area_code_408",
          "area_code_408",
          "area_code_408",
          "area_code_415",
          "area_code_510",
          "area_code_408",
          "area_code_415",
          "area_code_415",
          "area_code_510",
          "area_code_408",
          "area_code_415",
          "area_code_415",
          "area_code_510",
          "area_code_408",
          "area_code_510",
          "area_code_415",
          "area_code_415",
          "area_code_415",
          "area_code_415",
          "area_code_415",
          "area_code_510",
          "area_code_415",
          "area_code_408",
          "area_code_415",
          "area_code_408",
          "area_code_510",
          "area_code_408",
          "area_code_415",
          "area_code_408",
          "area_code_408",
          "area_code_415",
          "area_code_408",
          "area_code_415",
          "area_code_408",
          "area_code_510",
          "area_code_415",
          "area_code_408",
          "area_code_415",
          "area_code_408",
          "area_code_415",
          "area_code_408",
          "area_code_415",
          "area_code_415",
          "area_code_415",
          "area_code_415",
          "area_code_415",
          "area_code_415",
          "area_code_510",
          "area_code_415",
          "area_code_408",
          "area_code_408",
          "area_code_415",
          "area_code_510",
          "area_code_415",
          "area_code_510",
          "area_code_510",
          "area_code_415",
          "area_code_408",
          "area_code_415",
          "area_code_415",
          "area_code_415",
          "area_code_408",
          "area_code_510",
          "area_code_415",
          "area_code_415",
          "area_code_408",
          "area_code_415",
          "area_code_415",
          "area_code_415",
          "area_code_408",
          "area_code_415",
          "area_code_408",
          "area_code_415",
          "area_code_415",
          "area_code_415",
          "area_code_510",
          "area_code_415",
          "area_code_408",
          "area_code_415",
          "area_code_408",
          "area_code_415",
          "area_code_408",
          "area_code_510",
          "area_code_408",
          "area_code_415",
          "area_code_415",
          "area_code_510",
          "area_code_408",
          "area_code_510",
          "area_code_408",
          "area_code_415",
          "area_code_415",
          "area_code_415",
          "area_code_510",
          "area_code_408",
          "area_code_408",
          "area_code_415",
          "area_code_415",
          "area_code_415",
          "area_code_415",
          "area_code_415",
          "area_code_408",
          "area_code_510",
          "area_code_408",
          "area_code_415",
          "area_code_415",
          "area_code_415",
          "area_code_415",
          "area_code_510",
          "area_code_510",
          "area_code_415",
          "area_code_510",
          "area_code_510",
          "area_code_415",
          "area_code_415",
          "area_code_510",
          "area_code_408",
          "area_code_408",
          "area_code_415",
          "area_code_510",
          "area_code_415",
          "area_code_510",
          "area_code_510",
          "area_code_415",
          "area_code_510",
          "area_code_408",
          "area_code_415",
          "area_code_415",
          "area_code_408",
          "area_code_415",
          "area_code_415",
          "area_code_408",
          "area_code_408",
          "area_code_408",
          "area_code_415",
          "area_code_408",
          "area_code_510",
          "area_code_408",
          "area_code_510",
          "area_code_510",
          "area_code_415",
          "area_code_510",
          "area_code_408",
          "area_code_415",
          "area_code_408",
          "area_code_408",
          "area_code_415",
          "area_code_510",
          "area_code_415",
          "area_code_415",
          "area_code_415",
          "area_code_408",
          "area_code_415",
          "area_code_415",
          "area_code_415",
          "area_code_415",
          "area_code_415",
          "area_code_408",
          "area_code_510",
          "area_code_408",
          "area_code_408",
          "area_code_415",
          "area_code_408",
          "area_code_415",
          "area_code_408",
          "area_code_415",
          "area_code_415",
          "area_code_415",
          "area_code_415",
          "area_code_510",
          "area_code_415",
          "area_code_510",
          "area_code_415",
          "area_code_510",
          "area_code_415",
          "area_code_415",
          "area_code_415",
          "area_code_415",
          "area_code_510",
          "area_code_510",
          "area_code_510",
          "area_code_510",
          "area_code_510",
          "area_code_415",
          "area_code_415",
          "area_code_408",
          "area_code_415",
          "area_code_408",
          "area_code_510",
          "area_code_415",
          "area_code_408",
          "area_code_510",
          "area_code_510",
          "area_code_415",
          "area_code_415",
          "area_code_408",
          "area_code_415",
          "area_code_415",
          "area_code_415",
          "area_code_415",
          "area_code_510",
          "area_code_408",
          "area_code_415",
          "area_code_408",
          "area_code_510",
          "area_code_415",
          "area_code_408",
          "area_code_510",
          "area_code_408",
          "area_code_510",
          "area_code_415",
          "area_code_510",
          "area_code_415",
          "area_code_408",
          "area_code_408",
          "area_code_415",
          "area_code_415",
          "area_code_408",
          "area_code_415",
          "area_code_408",
          "area_code_415",
          "area_code_415",
          "area_code_415",
          "area_code_415",
          "area_code_408",
          "area_code_510",
          "area_code_415",
          "area_code_415",
          "area_code_415",
          "area_code_415",
          "area_code_510",
          "area_code_415",
          "area_code_415",
          "area_code_408",
          "area_code_510",
          "area_code_415",
          "area_code_408",
          "area_code_415",
          "area_code_408",
          "area_code_415",
          "area_code_408",
          "area_code_415",
          "area_code_408",
          "area_code_510",
          "area_code_415",
          "area_code_408",
          "area_code_415",
          "area_code_415",
          "area_code_510",
          "area_code_408",
          "area_code_510",
          "area_code_415",
          "area_code_408",
          "area_code_415",
          "area_code_415",
          "area_code_415",
          "area_code_408",
          "area_code_415",
          "area_code_415",
          "area_code_415",
          "area_code_415",
          "area_code_415",
          "area_code_415",
          "area_code_408",
          "area_code_415",
          "area_code_510",
          "area_code_408",
          "area_code_408",
          "area_code_415",
          "area_code_415",
          "area_code_510",
          "area_code_510",
          "area_code_510",
          "area_code_408",
          "area_code_408",
          "area_code_408",
          "area_code_510",
          "area_code_408",
          "area_code_415",
          "area_code_408",
          "area_code_408",
          "area_code_510",
          "area_code_408",
          "area_code_408",
          "area_code_415",
          "area_code_510",
          "area_code_415",
          "area_code_408",
          "area_code_510",
          "area_code_408",
          "area_code_415",
          "area_code_408",
          "area_code_408",
          "area_code_415",
          "area_code_408",
          "area_code_415",
          "area_code_415",
          "area_code_510",
          "area_code_415",
          "area_code_415",
          "area_code_510",
          "area_code_415",
          "area_code_408",
          "area_code_408",
          "area_code_415",
          "area_code_415",
          "area_code_510",
          "area_code_415",
          "area_code_510",
          "area_code_510",
          "area_code_415",
          "area_code_510",
          "area_code_510",
          "area_code_510",
          "area_code_408",
          "area_code_408",
          "area_code_510",
          "area_code_415",
          "area_code_415",
          "area_code_415",
          "area_code_408",
          "area_code_408",
          "area_code_408",
          "area_code_415",
          "area_code_415",
          "area_code_408",
          "area_code_408",
          "area_code_510",
          "area_code_510",
          "area_code_510",
          "area_code_408",
          "area_code_408",
          "area_code_415",
          "area_code_510",
          "area_code_415",
          "area_code_415",
          "area_code_415",
          "area_code_415",
          "area_code_415",
          "area_code_415",
          "area_code_408",
          "area_code_408",
          "area_code_415",
          "area_code_510",
          "area_code_408",
          "area_code_510",
          "area_code_415",
          "area_code_408",
          "area_code_510",
          "area_code_415",
          "area_code_415",
          "area_code_408",
          "area_code_408",
          "area_code_415",
          "area_code_510",
          "area_code_415",
          "area_code_415",
          "area_code_510",
          "area_code_415",
          "area_code_408",
          "area_code_510",
          "area_code_415",
          "area_code_415",
          "area_code_408",
          "area_code_415",
          "area_code_415",
          "area_code_408",
          "area_code_510",
          "area_code_415",
          "area_code_510",
          "area_code_415",
          "area_code_415",
          "area_code_408",
          "area_code_408",
          "area_code_510",
          "area_code_415",
          "area_code_415",
          "area_code_408",
          "area_code_415",
          "area_code_415",
          "area_code_415",
          "area_code_415",
          "area_code_415",
          "area_code_408",
          "area_code_408",
          "area_code_415",
          "area_code_415",
          "area_code_415",
          "area_code_408",
          "area_code_510",
          "area_code_510",
          "area_code_510",
          "area_code_415",
          "area_code_408",
          "area_code_415",
          "area_code_510",
          "area_code_415",
          "area_code_510",
          "area_code_415",
          "area_code_415",
          "area_code_415",
          "area_code_408",
          "area_code_510",
          "area_code_408",
          "area_code_408",
          "area_code_415",
          "area_code_415",
          "area_code_415",
          "area_code_415",
          "area_code_510",
          "area_code_510",
          "area_code_415",
          "area_code_415",
          "area_code_415",
          "area_code_408",
          "area_code_415",
          "area_code_415",
          "area_code_415",
          "area_code_415",
          "area_code_415",
          "area_code_408",
          "area_code_510",
          "area_code_510",
          "area_code_510",
          "area_code_415",
          "area_code_510",
          "area_code_510",
          "area_code_415",
          "area_code_415",
          "area_code_415",
          "area_code_408",
          "area_code_408",
          "area_code_408",
          "area_code_510",
          "area_code_415",
          "area_code_415",
          "area_code_415",
          "area_code_415",
          "area_code_408",
          "area_code_408",
          "area_code_408",
          "area_code_408",
          "area_code_510",
          "area_code_415",
          "area_code_510",
          "area_code_510",
          "area_code_510",
          "area_code_415",
          "area_code_408",
          "area_code_415",
          "area_code_510",
          "area_code_415",
          "area_code_510",
          "area_code_408",
          "area_code_415",
          "area_code_415",
          "area_code_408",
          "area_code_415",
          "area_code_415",
          "area_code_510",
          "area_code_408",
          "area_code_510",
          "area_code_510",
          "area_code_415",
          "area_code_415",
          "area_code_510",
          "area_code_510",
          "area_code_415",
          "area_code_415",
          "area_code_408",
          "area_code_415",
          "area_code_415",
          "area_code_415",
          "area_code_408",
          "area_code_408",
          "area_code_408",
          "area_code_415",
          "area_code_510",
          "area_code_510",
          "area_code_415",
          "area_code_510",
          "area_code_415",
          "area_code_415",
          "area_code_408",
          "area_code_510",
          "area_code_415",
          "area_code_408",
          "area_code_415",
          "area_code_510",
          "area_code_510",
          "area_code_415",
          "area_code_415",
          "area_code_415",
          "area_code_408",
          "area_code_415",
          "area_code_510",
          "area_code_408",
          "area_code_408",
          "area_code_408",
          "area_code_408",
          "area_code_415",
          "area_code_415",
          "area_code_415",
          "area_code_408",
          "area_code_408",
          "area_code_510",
          "area_code_510",
          "area_code_510",
          "area_code_415",
          "area_code_415",
          "area_code_415",
          "area_code_415",
          "area_code_415",
          "area_code_415",
          "area_code_415",
          "area_code_408",
          "area_code_408",
          "area_code_415",
          "area_code_408",
          "area_code_415",
          "area_code_408",
          "area_code_510",
          "area_code_415",
          "area_code_510",
          "area_code_415",
          "area_code_510",
          "area_code_415",
          "area_code_408",
          "area_code_408",
          "area_code_510",
          "area_code_510",
          "area_code_415",
          "area_code_415",
          "area_code_510",
          "area_code_510",
          "area_code_510",
          "area_code_415",
          "area_code_415",
          "area_code_415",
          "area_code_415",
          "area_code_415",
          "area_code_415",
          "area_code_415",
          "area_code_408",
          "area_code_415",
          "area_code_408",
          "area_code_415",
          "area_code_408",
          "area_code_415",
          "area_code_415",
          "area_code_408",
          "area_code_415",
          "area_code_510",
          "area_code_510",
          "area_code_408",
          "area_code_415",
          "area_code_510",
          "area_code_415",
          "area_code_415",
          "area_code_408",
          "area_code_510",
          "area_code_408",
          "area_code_415",
          "area_code_408",
          "area_code_415",
          "area_code_415",
          "area_code_415",
          "area_code_408",
          "area_code_510",
          "area_code_510",
          "area_code_510",
          "area_code_415",
          "area_code_415",
          "area_code_415",
          "area_code_510",
          "area_code_415",
          "area_code_415",
          "area_code_510",
          "area_code_415",
          "area_code_510",
          "area_code_415",
          "area_code_408",
          "area_code_510",
          "area_code_415",
          "area_code_415",
          "area_code_415",
          "area_code_510",
          "area_code_510",
          "area_code_415",
          "area_code_415",
          "area_code_510",
          "area_code_415",
          "area_code_510",
          "area_code_510",
          "area_code_408",
          "area_code_510"
         ],
         "legendgroup": "",
         "name": "",
         "showlegend": true,
         "type": "pie"
        }
       ],
       "layout": {
        "legend": {
         "tracegroupgap": 0
        },
        "template": {
         "data": {
          "bar": [
           {
            "error_x": {
             "color": "#2a3f5f"
            },
            "error_y": {
             "color": "#2a3f5f"
            },
            "marker": {
             "line": {
              "color": "#E5ECF6",
              "width": 0.5
             },
             "pattern": {
              "fillmode": "overlay",
              "size": 10,
              "solidity": 0.2
             }
            },
            "type": "bar"
           }
          ],
          "barpolar": [
           {
            "marker": {
             "line": {
              "color": "#E5ECF6",
              "width": 0.5
             },
             "pattern": {
              "fillmode": "overlay",
              "size": 10,
              "solidity": 0.2
             }
            },
            "type": "barpolar"
           }
          ],
          "carpet": [
           {
            "aaxis": {
             "endlinecolor": "#2a3f5f",
             "gridcolor": "white",
             "linecolor": "white",
             "minorgridcolor": "white",
             "startlinecolor": "#2a3f5f"
            },
            "baxis": {
             "endlinecolor": "#2a3f5f",
             "gridcolor": "white",
             "linecolor": "white",
             "minorgridcolor": "white",
             "startlinecolor": "#2a3f5f"
            },
            "type": "carpet"
           }
          ],
          "choropleth": [
           {
            "colorbar": {
             "outlinewidth": 0,
             "ticks": ""
            },
            "type": "choropleth"
           }
          ],
          "contour": [
           {
            "colorbar": {
             "outlinewidth": 0,
             "ticks": ""
            },
            "colorscale": [
             [
              0,
              "#0d0887"
             ],
             [
              0.1111111111111111,
              "#46039f"
             ],
             [
              0.2222222222222222,
              "#7201a8"
             ],
             [
              0.3333333333333333,
              "#9c179e"
             ],
             [
              0.4444444444444444,
              "#bd3786"
             ],
             [
              0.5555555555555556,
              "#d8576b"
             ],
             [
              0.6666666666666666,
              "#ed7953"
             ],
             [
              0.7777777777777778,
              "#fb9f3a"
             ],
             [
              0.8888888888888888,
              "#fdca26"
             ],
             [
              1,
              "#f0f921"
             ]
            ],
            "type": "contour"
           }
          ],
          "contourcarpet": [
           {
            "colorbar": {
             "outlinewidth": 0,
             "ticks": ""
            },
            "type": "contourcarpet"
           }
          ],
          "heatmap": [
           {
            "colorbar": {
             "outlinewidth": 0,
             "ticks": ""
            },
            "colorscale": [
             [
              0,
              "#0d0887"
             ],
             [
              0.1111111111111111,
              "#46039f"
             ],
             [
              0.2222222222222222,
              "#7201a8"
             ],
             [
              0.3333333333333333,
              "#9c179e"
             ],
             [
              0.4444444444444444,
              "#bd3786"
             ],
             [
              0.5555555555555556,
              "#d8576b"
             ],
             [
              0.6666666666666666,
              "#ed7953"
             ],
             [
              0.7777777777777778,
              "#fb9f3a"
             ],
             [
              0.8888888888888888,
              "#fdca26"
             ],
             [
              1,
              "#f0f921"
             ]
            ],
            "type": "heatmap"
           }
          ],
          "heatmapgl": [
           {
            "colorbar": {
             "outlinewidth": 0,
             "ticks": ""
            },
            "colorscale": [
             [
              0,
              "#0d0887"
             ],
             [
              0.1111111111111111,
              "#46039f"
             ],
             [
              0.2222222222222222,
              "#7201a8"
             ],
             [
              0.3333333333333333,
              "#9c179e"
             ],
             [
              0.4444444444444444,
              "#bd3786"
             ],
             [
              0.5555555555555556,
              "#d8576b"
             ],
             [
              0.6666666666666666,
              "#ed7953"
             ],
             [
              0.7777777777777778,
              "#fb9f3a"
             ],
             [
              0.8888888888888888,
              "#fdca26"
             ],
             [
              1,
              "#f0f921"
             ]
            ],
            "type": "heatmapgl"
           }
          ],
          "histogram": [
           {
            "marker": {
             "pattern": {
              "fillmode": "overlay",
              "size": 10,
              "solidity": 0.2
             }
            },
            "type": "histogram"
           }
          ],
          "histogram2d": [
           {
            "colorbar": {
             "outlinewidth": 0,
             "ticks": ""
            },
            "colorscale": [
             [
              0,
              "#0d0887"
             ],
             [
              0.1111111111111111,
              "#46039f"
             ],
             [
              0.2222222222222222,
              "#7201a8"
             ],
             [
              0.3333333333333333,
              "#9c179e"
             ],
             [
              0.4444444444444444,
              "#bd3786"
             ],
             [
              0.5555555555555556,
              "#d8576b"
             ],
             [
              0.6666666666666666,
              "#ed7953"
             ],
             [
              0.7777777777777778,
              "#fb9f3a"
             ],
             [
              0.8888888888888888,
              "#fdca26"
             ],
             [
              1,
              "#f0f921"
             ]
            ],
            "type": "histogram2d"
           }
          ],
          "histogram2dcontour": [
           {
            "colorbar": {
             "outlinewidth": 0,
             "ticks": ""
            },
            "colorscale": [
             [
              0,
              "#0d0887"
             ],
             [
              0.1111111111111111,
              "#46039f"
             ],
             [
              0.2222222222222222,
              "#7201a8"
             ],
             [
              0.3333333333333333,
              "#9c179e"
             ],
             [
              0.4444444444444444,
              "#bd3786"
             ],
             [
              0.5555555555555556,
              "#d8576b"
             ],
             [
              0.6666666666666666,
              "#ed7953"
             ],
             [
              0.7777777777777778,
              "#fb9f3a"
             ],
             [
              0.8888888888888888,
              "#fdca26"
             ],
             [
              1,
              "#f0f921"
             ]
            ],
            "type": "histogram2dcontour"
           }
          ],
          "mesh3d": [
           {
            "colorbar": {
             "outlinewidth": 0,
             "ticks": ""
            },
            "type": "mesh3d"
           }
          ],
          "parcoords": [
           {
            "line": {
             "colorbar": {
              "outlinewidth": 0,
              "ticks": ""
             }
            },
            "type": "parcoords"
           }
          ],
          "pie": [
           {
            "automargin": true,
            "type": "pie"
           }
          ],
          "scatter": [
           {
            "marker": {
             "colorbar": {
              "outlinewidth": 0,
              "ticks": ""
             }
            },
            "type": "scatter"
           }
          ],
          "scatter3d": [
           {
            "line": {
             "colorbar": {
              "outlinewidth": 0,
              "ticks": ""
             }
            },
            "marker": {
             "colorbar": {
              "outlinewidth": 0,
              "ticks": ""
             }
            },
            "type": "scatter3d"
           }
          ],
          "scattercarpet": [
           {
            "marker": {
             "colorbar": {
              "outlinewidth": 0,
              "ticks": ""
             }
            },
            "type": "scattercarpet"
           }
          ],
          "scattergeo": [
           {
            "marker": {
             "colorbar": {
              "outlinewidth": 0,
              "ticks": ""
             }
            },
            "type": "scattergeo"
           }
          ],
          "scattergl": [
           {
            "marker": {
             "colorbar": {
              "outlinewidth": 0,
              "ticks": ""
             }
            },
            "type": "scattergl"
           }
          ],
          "scattermapbox": [
           {
            "marker": {
             "colorbar": {
              "outlinewidth": 0,
              "ticks": ""
             }
            },
            "type": "scattermapbox"
           }
          ],
          "scatterpolar": [
           {
            "marker": {
             "colorbar": {
              "outlinewidth": 0,
              "ticks": ""
             }
            },
            "type": "scatterpolar"
           }
          ],
          "scatterpolargl": [
           {
            "marker": {
             "colorbar": {
              "outlinewidth": 0,
              "ticks": ""
             }
            },
            "type": "scatterpolargl"
           }
          ],
          "scatterternary": [
           {
            "marker": {
             "colorbar": {
              "outlinewidth": 0,
              "ticks": ""
             }
            },
            "type": "scatterternary"
           }
          ],
          "surface": [
           {
            "colorbar": {
             "outlinewidth": 0,
             "ticks": ""
            },
            "colorscale": [
             [
              0,
              "#0d0887"
             ],
             [
              0.1111111111111111,
              "#46039f"
             ],
             [
              0.2222222222222222,
              "#7201a8"
             ],
             [
              0.3333333333333333,
              "#9c179e"
             ],
             [
              0.4444444444444444,
              "#bd3786"
             ],
             [
              0.5555555555555556,
              "#d8576b"
             ],
             [
              0.6666666666666666,
              "#ed7953"
             ],
             [
              0.7777777777777778,
              "#fb9f3a"
             ],
             [
              0.8888888888888888,
              "#fdca26"
             ],
             [
              1,
              "#f0f921"
             ]
            ],
            "type": "surface"
           }
          ],
          "table": [
           {
            "cells": {
             "fill": {
              "color": "#EBF0F8"
             },
             "line": {
              "color": "white"
             }
            },
            "header": {
             "fill": {
              "color": "#C8D4E3"
             },
             "line": {
              "color": "white"
             }
            },
            "type": "table"
           }
          ]
         },
         "layout": {
          "annotationdefaults": {
           "arrowcolor": "#2a3f5f",
           "arrowhead": 0,
           "arrowwidth": 1
          },
          "autotypenumbers": "strict",
          "coloraxis": {
           "colorbar": {
            "outlinewidth": 0,
            "ticks": ""
           }
          },
          "colorscale": {
           "diverging": [
            [
             0,
             "#8e0152"
            ],
            [
             0.1,
             "#c51b7d"
            ],
            [
             0.2,
             "#de77ae"
            ],
            [
             0.3,
             "#f1b6da"
            ],
            [
             0.4,
             "#fde0ef"
            ],
            [
             0.5,
             "#f7f7f7"
            ],
            [
             0.6,
             "#e6f5d0"
            ],
            [
             0.7,
             "#b8e186"
            ],
            [
             0.8,
             "#7fbc41"
            ],
            [
             0.9,
             "#4d9221"
            ],
            [
             1,
             "#276419"
            ]
           ],
           "sequential": [
            [
             0,
             "#0d0887"
            ],
            [
             0.1111111111111111,
             "#46039f"
            ],
            [
             0.2222222222222222,
             "#7201a8"
            ],
            [
             0.3333333333333333,
             "#9c179e"
            ],
            [
             0.4444444444444444,
             "#bd3786"
            ],
            [
             0.5555555555555556,
             "#d8576b"
            ],
            [
             0.6666666666666666,
             "#ed7953"
            ],
            [
             0.7777777777777778,
             "#fb9f3a"
            ],
            [
             0.8888888888888888,
             "#fdca26"
            ],
            [
             1,
             "#f0f921"
            ]
           ],
           "sequentialminus": [
            [
             0,
             "#0d0887"
            ],
            [
             0.1111111111111111,
             "#46039f"
            ],
            [
             0.2222222222222222,
             "#7201a8"
            ],
            [
             0.3333333333333333,
             "#9c179e"
            ],
            [
             0.4444444444444444,
             "#bd3786"
            ],
            [
             0.5555555555555556,
             "#d8576b"
            ],
            [
             0.6666666666666666,
             "#ed7953"
            ],
            [
             0.7777777777777778,
             "#fb9f3a"
            ],
            [
             0.8888888888888888,
             "#fdca26"
            ],
            [
             1,
             "#f0f921"
            ]
           ]
          },
          "colorway": [
           "#636efa",
           "#EF553B",
           "#00cc96",
           "#ab63fa",
           "#FFA15A",
           "#19d3f3",
           "#FF6692",
           "#B6E880",
           "#FF97FF",
           "#FECB52"
          ],
          "font": {
           "color": "#2a3f5f"
          },
          "geo": {
           "bgcolor": "white",
           "lakecolor": "white",
           "landcolor": "#E5ECF6",
           "showlakes": true,
           "showland": true,
           "subunitcolor": "white"
          },
          "hoverlabel": {
           "align": "left"
          },
          "hovermode": "closest",
          "mapbox": {
           "style": "light"
          },
          "paper_bgcolor": "white",
          "plot_bgcolor": "#E5ECF6",
          "polar": {
           "angularaxis": {
            "gridcolor": "white",
            "linecolor": "white",
            "ticks": ""
           },
           "bgcolor": "#E5ECF6",
           "radialaxis": {
            "gridcolor": "white",
            "linecolor": "white",
            "ticks": ""
           }
          },
          "scene": {
           "xaxis": {
            "backgroundcolor": "#E5ECF6",
            "gridcolor": "white",
            "gridwidth": 2,
            "linecolor": "white",
            "showbackground": true,
            "ticks": "",
            "zerolinecolor": "white"
           },
           "yaxis": {
            "backgroundcolor": "#E5ECF6",
            "gridcolor": "white",
            "gridwidth": 2,
            "linecolor": "white",
            "showbackground": true,
            "ticks": "",
            "zerolinecolor": "white"
           },
           "zaxis": {
            "backgroundcolor": "#E5ECF6",
            "gridcolor": "white",
            "gridwidth": 2,
            "linecolor": "white",
            "showbackground": true,
            "ticks": "",
            "zerolinecolor": "white"
           }
          },
          "shapedefaults": {
           "line": {
            "color": "#2a3f5f"
           }
          },
          "ternary": {
           "aaxis": {
            "gridcolor": "white",
            "linecolor": "white",
            "ticks": ""
           },
           "baxis": {
            "gridcolor": "white",
            "linecolor": "white",
            "ticks": ""
           },
           "bgcolor": "#E5ECF6",
           "caxis": {
            "gridcolor": "white",
            "linecolor": "white",
            "ticks": ""
           }
          },
          "title": {
           "x": 0.05
          },
          "xaxis": {
           "automargin": true,
           "gridcolor": "white",
           "linecolor": "white",
           "ticks": "",
           "title": {
            "standoff": 15
           },
           "zerolinecolor": "white",
           "zerolinewidth": 2
          },
          "yaxis": {
           "automargin": true,
           "gridcolor": "white",
           "linecolor": "white",
           "ticks": "",
           "title": {
            "standoff": 15
           },
           "zerolinecolor": "white",
           "zerolinewidth": 2
          }
         }
        },
        "title": {
         "text": "Payment on time - Area code"
        }
       }
      },
      "text/html": [
       "<div>                            <div id=\"6eae8cf9-f292-47a2-9b90-4bf9a0d42042\" class=\"plotly-graph-div\" style=\"height:525px; width:100%;\"></div>            <script type=\"text/javascript\">                require([\"plotly\"], function(Plotly) {                    window.PLOTLYENV=window.PLOTLYENV || {};                                    if (document.getElementById(\"6eae8cf9-f292-47a2-9b90-4bf9a0d42042\")) {                    Plotly.newPlot(                        \"6eae8cf9-f292-47a2-9b90-4bf9a0d42042\",                        [{\"domain\":{\"x\":[0.0,1.0],\"y\":[0.0,1.0]},\"hovertemplate\":\"area_code=%{label}<extra></extra>\",\"labels\":[\"area_code_415\",\"area_code_408\",\"area_code_415\",\"area_code_408\",\"area_code_408\",\"area_code_415\",\"area_code_415\",\"area_code_415\",\"area_code_510\",\"area_code_415\",\"area_code_415\",\"area_code_415\",\"area_code_408\",\"area_code_510\",\"area_code_408\",\"area_code_510\",\"area_code_408\",\"area_code_408\",\"area_code_415\",\"area_code_415\",\"area_code_415\",\"area_code_415\",\"area_code_415\",\"area_code_415\",\"area_code_415\",\"area_code_415\",\"area_code_415\",\"area_code_510\",\"area_code_415\",\"area_code_408\",\"area_code_408\",\"area_code_415\",\"area_code_415\",\"area_code_408\",\"area_code_415\",\"area_code_415\",\"area_code_408\",\"area_code_510\",\"area_code_415\",\"area_code_408\",\"area_code_415\",\"area_code_415\",\"area_code_415\",\"area_code_415\",\"area_code_408\",\"area_code_415\",\"area_code_415\",\"area_code_408\",\"area_code_415\",\"area_code_408\",\"area_code_408\",\"area_code_415\",\"area_code_408\",\"area_code_408\",\"area_code_415\",\"area_code_415\",\"area_code_415\",\"area_code_415\",\"area_code_415\",\"area_code_415\",\"area_code_415\",\"area_code_415\",\"area_code_510\",\"area_code_415\",\"area_code_510\",\"area_code_408\",\"area_code_415\",\"area_code_415\",\"area_code_408\",\"area_code_510\",\"area_code_415\",\"area_code_510\",\"area_code_408\",\"area_code_408\",\"area_code_510\",\"area_code_415\",\"area_code_415\",\"area_code_415\",\"area_code_408\",\"area_code_408\",\"area_code_415\",\"area_code_408\",\"area_code_408\",\"area_code_415\",\"area_code_415\",\"area_code_510\",\"area_code_408\",\"area_code_415\",\"area_code_510\",\"area_code_510\",\"area_code_415\",\"area_code_510\",\"area_code_415\",\"area_code_510\",\"area_code_415\",\"area_code_408\",\"area_code_415\",\"area_code_415\",\"area_code_415\",\"area_code_415\",\"area_code_415\",\"area_code_408\",\"area_code_408\",\"area_code_510\",\"area_code_408\",\"area_code_408\",\"area_code_415\",\"area_code_408\",\"area_code_415\",\"area_code_510\",\"area_code_510\",\"area_code_408\",\"area_code_415\",\"area_code_415\",\"area_code_510\",\"area_code_408\",\"area_code_408\",\"area_code_408\",\"area_code_415\",\"area_code_415\",\"area_code_415\",\"area_code_415\",\"area_code_415\",\"area_code_415\",\"area_code_415\",\"area_code_415\",\"area_code_408\",\"area_code_415\",\"area_code_415\",\"area_code_415\",\"area_code_408\",\"area_code_415\",\"area_code_408\",\"area_code_415\",\"area_code_415\",\"area_code_415\",\"area_code_415\",\"area_code_415\",\"area_code_415\",\"area_code_408\",\"area_code_510\",\"area_code_415\",\"area_code_408\",\"area_code_510\",\"area_code_408\",\"area_code_510\",\"area_code_415\",\"area_code_415\",\"area_code_415\",\"area_code_415\",\"area_code_408\",\"area_code_415\",\"area_code_510\",\"area_code_415\",\"area_code_408\",\"area_code_408\",\"area_code_408\",\"area_code_415\",\"area_code_510\",\"area_code_408\",\"area_code_510\",\"area_code_510\",\"area_code_415\",\"area_code_510\",\"area_code_408\",\"area_code_415\",\"area_code_415\",\"area_code_415\",\"area_code_415\",\"area_code_415\",\"area_code_510\",\"area_code_415\",\"area_code_510\",\"area_code_510\",\"area_code_415\",\"area_code_408\",\"area_code_415\",\"area_code_408\",\"area_code_415\",\"area_code_408\",\"area_code_415\",\"area_code_415\",\"area_code_408\",\"area_code_510\",\"area_code_510\",\"area_code_415\",\"area_code_408\",\"area_code_510\",\"area_code_408\",\"area_code_415\",\"area_code_415\",\"area_code_510\",\"area_code_415\",\"area_code_415\",\"area_code_408\",\"area_code_408\",\"area_code_415\",\"area_code_510\",\"area_code_415\",\"area_code_415\",\"area_code_510\",\"area_code_415\",\"area_code_415\",\"area_code_408\",\"area_code_510\",\"area_code_415\",\"area_code_510\",\"area_code_415\",\"area_code_415\",\"area_code_510\",\"area_code_415\",\"area_code_415\",\"area_code_415\",\"area_code_408\",\"area_code_408\",\"area_code_510\",\"area_code_510\",\"area_code_415\",\"area_code_408\",\"area_code_408\",\"area_code_408\",\"area_code_510\",\"area_code_408\",\"area_code_415\",\"area_code_408\",\"area_code_415\",\"area_code_408\",\"area_code_415\",\"area_code_408\",\"area_code_408\",\"area_code_510\",\"area_code_510\",\"area_code_408\",\"area_code_415\",\"area_code_415\",\"area_code_408\",\"area_code_415\",\"area_code_415\",\"area_code_408\",\"area_code_510\",\"area_code_408\",\"area_code_510\",\"area_code_510\",\"area_code_408\",\"area_code_408\",\"area_code_408\",\"area_code_510\",\"area_code_415\",\"area_code_415\",\"area_code_510\",\"area_code_415\",\"area_code_415\",\"area_code_408\",\"area_code_408\",\"area_code_415\",\"area_code_408\",\"area_code_510\",\"area_code_408\",\"area_code_510\",\"area_code_408\",\"area_code_415\",\"area_code_510\",\"area_code_510\",\"area_code_415\",\"area_code_415\",\"area_code_408\",\"area_code_415\",\"area_code_415\",\"area_code_408\",\"area_code_415\",\"area_code_510\",\"area_code_510\",\"area_code_408\",\"area_code_415\",\"area_code_408\",\"area_code_415\",\"area_code_415\",\"area_code_510\",\"area_code_408\",\"area_code_415\",\"area_code_415\",\"area_code_415\",\"area_code_415\",\"area_code_408\",\"area_code_415\",\"area_code_415\",\"area_code_510\",\"area_code_408\",\"area_code_415\",\"area_code_510\",\"area_code_415\",\"area_code_415\",\"area_code_415\",\"area_code_415\",\"area_code_415\",\"area_code_510\",\"area_code_415\",\"area_code_510\",\"area_code_415\",\"area_code_408\",\"area_code_510\",\"area_code_408\",\"area_code_415\",\"area_code_510\",\"area_code_415\",\"area_code_415\",\"area_code_510\",\"area_code_510\",\"area_code_510\",\"area_code_510\",\"area_code_510\",\"area_code_415\",\"area_code_510\",\"area_code_408\",\"area_code_415\",\"area_code_408\",\"area_code_510\",\"area_code_415\",\"area_code_415\",\"area_code_415\",\"area_code_415\",\"area_code_408\",\"area_code_415\",\"area_code_408\",\"area_code_415\",\"area_code_415\",\"area_code_415\",\"area_code_415\",\"area_code_415\",\"area_code_408\",\"area_code_510\",\"area_code_415\",\"area_code_408\",\"area_code_408\",\"area_code_415\",\"area_code_415\",\"area_code_415\",\"area_code_408\",\"area_code_415\",\"area_code_510\",\"area_code_415\",\"area_code_510\",\"area_code_510\",\"area_code_408\",\"area_code_415\",\"area_code_510\",\"area_code_415\",\"area_code_510\",\"area_code_415\",\"area_code_510\",\"area_code_415\",\"area_code_510\",\"area_code_415\",\"area_code_510\",\"area_code_415\",\"area_code_415\",\"area_code_415\",\"area_code_408\",\"area_code_510\",\"area_code_415\",\"area_code_415\",\"area_code_510\",\"area_code_415\",\"area_code_415\",\"area_code_510\",\"area_code_415\",\"area_code_408\",\"area_code_408\",\"area_code_510\",\"area_code_415\",\"area_code_415\",\"area_code_408\",\"area_code_510\",\"area_code_408\",\"area_code_415\",\"area_code_415\",\"area_code_415\",\"area_code_510\",\"area_code_510\",\"area_code_510\",\"area_code_510\",\"area_code_510\",\"area_code_415\",\"area_code_510\",\"area_code_408\",\"area_code_415\",\"area_code_415\",\"area_code_510\",\"area_code_510\",\"area_code_415\",\"area_code_510\",\"area_code_510\",\"area_code_510\",\"area_code_510\",\"area_code_415\",\"area_code_510\",\"area_code_415\",\"area_code_510\",\"area_code_415\",\"area_code_415\",\"area_code_510\",\"area_code_408\",\"area_code_415\",\"area_code_415\",\"area_code_510\",\"area_code_510\",\"area_code_408\",\"area_code_408\",\"area_code_415\",\"area_code_415\",\"area_code_415\",\"area_code_510\",\"area_code_415\",\"area_code_408\",\"area_code_510\",\"area_code_510\",\"area_code_415\",\"area_code_415\",\"area_code_510\",\"area_code_415\",\"area_code_510\",\"area_code_415\",\"area_code_415\",\"area_code_415\",\"area_code_510\",\"area_code_408\",\"area_code_408\",\"area_code_408\",\"area_code_510\",\"area_code_415\",\"area_code_415\",\"area_code_415\",\"area_code_415\",\"area_code_415\",\"area_code_408\",\"area_code_510\",\"area_code_415\",\"area_code_510\",\"area_code_408\",\"area_code_408\",\"area_code_415\",\"area_code_408\",\"area_code_510\",\"area_code_408\",\"area_code_510\",\"area_code_415\",\"area_code_408\",\"area_code_415\",\"area_code_415\",\"area_code_510\",\"area_code_415\",\"area_code_415\",\"area_code_415\",\"area_code_415\",\"area_code_408\",\"area_code_415\",\"area_code_408\",\"area_code_408\",\"area_code_510\",\"area_code_408\",\"area_code_408\",\"area_code_415\",\"area_code_415\",\"area_code_415\",\"area_code_408\",\"area_code_408\",\"area_code_415\",\"area_code_415\",\"area_code_415\",\"area_code_415\",\"area_code_415\",\"area_code_415\",\"area_code_415\",\"area_code_415\",\"area_code_415\",\"area_code_408\",\"area_code_510\",\"area_code_510\",\"area_code_415\",\"area_code_510\",\"area_code_415\",\"area_code_415\",\"area_code_510\",\"area_code_415\",\"area_code_510\",\"area_code_408\",\"area_code_415\",\"area_code_415\",\"area_code_408\",\"area_code_510\",\"area_code_415\",\"area_code_415\",\"area_code_408\",\"area_code_408\",\"area_code_510\",\"area_code_510\",\"area_code_415\",\"area_code_408\",\"area_code_510\",\"area_code_415\",\"area_code_415\",\"area_code_408\",\"area_code_415\",\"area_code_510\",\"area_code_415\",\"area_code_510\",\"area_code_510\",\"area_code_415\",\"area_code_415\",\"area_code_408\",\"area_code_408\",\"area_code_408\",\"area_code_415\",\"area_code_408\",\"area_code_415\",\"area_code_415\",\"area_code_415\",\"area_code_415\",\"area_code_415\",\"area_code_415\",\"area_code_415\",\"area_code_415\",\"area_code_510\",\"area_code_408\",\"area_code_408\",\"area_code_415\",\"area_code_415\",\"area_code_415\",\"area_code_408\",\"area_code_408\",\"area_code_415\",\"area_code_415\",\"area_code_408\",\"area_code_408\",\"area_code_510\",\"area_code_415\",\"area_code_415\",\"area_code_415\",\"area_code_415\",\"area_code_415\",\"area_code_415\",\"area_code_510\",\"area_code_415\",\"area_code_510\",\"area_code_408\",\"area_code_510\",\"area_code_510\",\"area_code_510\",\"area_code_408\",\"area_code_510\",\"area_code_415\",\"area_code_510\",\"area_code_408\",\"area_code_415\",\"area_code_510\",\"area_code_510\",\"area_code_415\",\"area_code_415\",\"area_code_510\",\"area_code_510\",\"area_code_415\",\"area_code_415\",\"area_code_408\",\"area_code_510\",\"area_code_415\",\"area_code_510\",\"area_code_415\",\"area_code_408\",\"area_code_415\",\"area_code_510\",\"area_code_510\",\"area_code_408\",\"area_code_408\",\"area_code_415\",\"area_code_408\",\"area_code_415\",\"area_code_415\",\"area_code_408\",\"area_code_415\",\"area_code_408\",\"area_code_415\",\"area_code_510\",\"area_code_415\",\"area_code_510\",\"area_code_510\",\"area_code_408\",\"area_code_408\",\"area_code_510\",\"area_code_415\",\"area_code_408\",\"area_code_408\",\"area_code_415\",\"area_code_408\",\"area_code_415\",\"area_code_510\",\"area_code_510\",\"area_code_510\",\"area_code_415\",\"area_code_415\",\"area_code_408\",\"area_code_415\",\"area_code_415\",\"area_code_415\",\"area_code_415\",\"area_code_415\",\"area_code_415\",\"area_code_415\",\"area_code_408\",\"area_code_408\",\"area_code_510\",\"area_code_415\",\"area_code_415\",\"area_code_415\",\"area_code_510\",\"area_code_510\",\"area_code_415\",\"area_code_408\",\"area_code_510\",\"area_code_408\",\"area_code_510\",\"area_code_510\",\"area_code_408\",\"area_code_510\",\"area_code_415\",\"area_code_408\",\"area_code_510\",\"area_code_510\",\"area_code_415\",\"area_code_415\",\"area_code_415\",\"area_code_415\",\"area_code_415\",\"area_code_408\",\"area_code_510\",\"area_code_510\",\"area_code_408\",\"area_code_415\",\"area_code_415\",\"area_code_415\",\"area_code_510\",\"area_code_415\",\"area_code_415\",\"area_code_415\",\"area_code_415\",\"area_code_415\",\"area_code_415\",\"area_code_408\",\"area_code_408\",\"area_code_510\",\"area_code_415\",\"area_code_510\",\"area_code_415\",\"area_code_510\",\"area_code_415\",\"area_code_415\",\"area_code_510\",\"area_code_415\",\"area_code_510\",\"area_code_415\",\"area_code_415\",\"area_code_510\",\"area_code_510\",\"area_code_408\",\"area_code_415\",\"area_code_408\",\"area_code_510\",\"area_code_415\",\"area_code_415\",\"area_code_408\",\"area_code_415\",\"area_code_415\",\"area_code_510\",\"area_code_415\",\"area_code_510\",\"area_code_415\",\"area_code_510\",\"area_code_415\",\"area_code_510\",\"area_code_415\",\"area_code_408\",\"area_code_415\",\"area_code_415\",\"area_code_415\",\"area_code_510\",\"area_code_408\",\"area_code_415\",\"area_code_415\",\"area_code_415\",\"area_code_510\",\"area_code_415\",\"area_code_415\",\"area_code_510\",\"area_code_415\",\"area_code_510\",\"area_code_415\",\"area_code_415\",\"area_code_415\",\"area_code_510\",\"area_code_510\",\"area_code_408\",\"area_code_415\",\"area_code_415\",\"area_code_415\",\"area_code_510\",\"area_code_510\",\"area_code_415\",\"area_code_415\",\"area_code_415\",\"area_code_415\",\"area_code_510\",\"area_code_415\",\"area_code_415\",\"area_code_510\",\"area_code_408\",\"area_code_408\",\"area_code_510\",\"area_code_415\",\"area_code_408\",\"area_code_415\",\"area_code_415\",\"area_code_415\",\"area_code_415\",\"area_code_510\",\"area_code_408\",\"area_code_415\",\"area_code_408\",\"area_code_510\",\"area_code_510\",\"area_code_510\",\"area_code_510\",\"area_code_408\",\"area_code_510\",\"area_code_510\",\"area_code_415\",\"area_code_415\",\"area_code_415\",\"area_code_408\",\"area_code_510\",\"area_code_415\",\"area_code_415\",\"area_code_510\",\"area_code_408\",\"area_code_415\",\"area_code_415\",\"area_code_408\",\"area_code_510\",\"area_code_408\",\"area_code_510\",\"area_code_510\",\"area_code_415\",\"area_code_408\",\"area_code_510\",\"area_code_415\",\"area_code_408\",\"area_code_415\",\"area_code_510\",\"area_code_510\",\"area_code_408\",\"area_code_415\",\"area_code_408\",\"area_code_415\",\"area_code_415\",\"area_code_408\",\"area_code_415\",\"area_code_510\",\"area_code_510\",\"area_code_408\",\"area_code_510\",\"area_code_415\",\"area_code_415\",\"area_code_408\",\"area_code_408\",\"area_code_510\",\"area_code_510\",\"area_code_415\",\"area_code_510\",\"area_code_408\",\"area_code_415\",\"area_code_415\",\"area_code_408\",\"area_code_415\",\"area_code_408\",\"area_code_415\",\"area_code_408\",\"area_code_408\",\"area_code_408\",\"area_code_415\",\"area_code_415\",\"area_code_408\",\"area_code_415\",\"area_code_510\",\"area_code_510\",\"area_code_415\",\"area_code_408\",\"area_code_415\",\"area_code_510\",\"area_code_415\",\"area_code_415\",\"area_code_408\",\"area_code_510\",\"area_code_510\",\"area_code_415\",\"area_code_408\",\"area_code_408\",\"area_code_415\",\"area_code_408\",\"area_code_415\",\"area_code_415\",\"area_code_510\",\"area_code_415\",\"area_code_415\",\"area_code_408\",\"area_code_510\",\"area_code_415\",\"area_code_415\",\"area_code_415\",\"area_code_408\",\"area_code_408\",\"area_code_415\",\"area_code_510\",\"area_code_510\",\"area_code_408\",\"area_code_408\",\"area_code_510\",\"area_code_415\",\"area_code_510\",\"area_code_408\",\"area_code_415\",\"area_code_415\",\"area_code_510\",\"area_code_415\",\"area_code_408\",\"area_code_415\",\"area_code_510\",\"area_code_415\",\"area_code_408\",\"area_code_408\",\"area_code_510\",\"area_code_408\",\"area_code_408\",\"area_code_415\",\"area_code_408\",\"area_code_510\",\"area_code_510\",\"area_code_415\",\"area_code_510\",\"area_code_415\",\"area_code_408\",\"area_code_510\",\"area_code_415\",\"area_code_415\",\"area_code_415\",\"area_code_408\",\"area_code_415\",\"area_code_415\",\"area_code_415\",\"area_code_415\",\"area_code_408\",\"area_code_415\",\"area_code_408\",\"area_code_415\",\"area_code_415\",\"area_code_408\",\"area_code_510\",\"area_code_408\",\"area_code_415\",\"area_code_415\",\"area_code_510\",\"area_code_415\",\"area_code_415\",\"area_code_510\",\"area_code_415\",\"area_code_415\",\"area_code_408\",\"area_code_510\",\"area_code_408\",\"area_code_408\",\"area_code_415\",\"area_code_510\",\"area_code_408\",\"area_code_415\",\"area_code_510\",\"area_code_415\",\"area_code_510\",\"area_code_510\",\"area_code_415\",\"area_code_415\",\"area_code_510\",\"area_code_415\",\"area_code_408\",\"area_code_415\",\"area_code_408\",\"area_code_415\",\"area_code_415\",\"area_code_510\",\"area_code_408\",\"area_code_510\",\"area_code_415\",\"area_code_415\",\"area_code_415\",\"area_code_408\",\"area_code_510\",\"area_code_415\",\"area_code_510\",\"area_code_415\",\"area_code_408\",\"area_code_510\",\"area_code_510\",\"area_code_415\",\"area_code_510\",\"area_code_510\",\"area_code_415\",\"area_code_408\",\"area_code_510\",\"area_code_408\",\"area_code_510\",\"area_code_415\",\"area_code_510\",\"area_code_415\",\"area_code_510\",\"area_code_408\",\"area_code_415\",\"area_code_510\",\"area_code_415\",\"area_code_408\",\"area_code_510\",\"area_code_415\",\"area_code_510\",\"area_code_510\",\"area_code_510\",\"area_code_415\",\"area_code_415\",\"area_code_415\",\"area_code_408\",\"area_code_415\",\"area_code_415\",\"area_code_415\",\"area_code_415\",\"area_code_415\",\"area_code_408\",\"area_code_415\",\"area_code_510\",\"area_code_408\",\"area_code_510\",\"area_code_408\",\"area_code_510\",\"area_code_415\",\"area_code_510\",\"area_code_415\",\"area_code_415\",\"area_code_415\",\"area_code_408\",\"area_code_510\",\"area_code_415\",\"area_code_408\",\"area_code_510\",\"area_code_408\",\"area_code_415\",\"area_code_415\",\"area_code_415\",\"area_code_408\",\"area_code_408\",\"area_code_415\",\"area_code_415\",\"area_code_415\",\"area_code_415\",\"area_code_415\",\"area_code_510\",\"area_code_415\",\"area_code_415\",\"area_code_408\",\"area_code_408\",\"area_code_415\",\"area_code_510\",\"area_code_415\",\"area_code_510\",\"area_code_415\",\"area_code_510\",\"area_code_510\",\"area_code_408\",\"area_code_415\",\"area_code_408\",\"area_code_510\",\"area_code_415\",\"area_code_408\",\"area_code_510\",\"area_code_408\",\"area_code_415\",\"area_code_415\",\"area_code_510\",\"area_code_408\",\"area_code_510\",\"area_code_510\",\"area_code_510\",\"area_code_510\",\"area_code_415\",\"area_code_510\",\"area_code_415\",\"area_code_408\",\"area_code_415\",\"area_code_415\",\"area_code_510\",\"area_code_408\",\"area_code_415\",\"area_code_415\",\"area_code_408\",\"area_code_415\",\"area_code_408\",\"area_code_510\",\"area_code_415\",\"area_code_408\",\"area_code_415\",\"area_code_510\",\"area_code_408\",\"area_code_415\",\"area_code_510\",\"area_code_415\",\"area_code_415\",\"area_code_415\",\"area_code_415\",\"area_code_415\",\"area_code_415\",\"area_code_510\",\"area_code_510\",\"area_code_415\",\"area_code_510\",\"area_code_510\",\"area_code_408\",\"area_code_510\",\"area_code_415\",\"area_code_415\",\"area_code_408\",\"area_code_510\",\"area_code_510\",\"area_code_415\",\"area_code_415\",\"area_code_510\",\"area_code_408\",\"area_code_510\",\"area_code_415\",\"area_code_415\",\"area_code_510\",\"area_code_408\",\"area_code_408\",\"area_code_510\",\"area_code_415\",\"area_code_408\",\"area_code_408\",\"area_code_408\",\"area_code_415\",\"area_code_415\",\"area_code_415\",\"area_code_415\",\"area_code_415\",\"area_code_415\",\"area_code_415\",\"area_code_415\",\"area_code_408\",\"area_code_415\",\"area_code_408\",\"area_code_415\",\"area_code_408\",\"area_code_415\",\"area_code_408\",\"area_code_408\",\"area_code_408\",\"area_code_408\",\"area_code_408\",\"area_code_408\",\"area_code_510\",\"area_code_408\",\"area_code_415\",\"area_code_415\",\"area_code_510\",\"area_code_510\",\"area_code_415\",\"area_code_415\",\"area_code_415\",\"area_code_415\",\"area_code_408\",\"area_code_408\",\"area_code_415\",\"area_code_510\",\"area_code_415\",\"area_code_510\",\"area_code_415\",\"area_code_415\",\"area_code_415\",\"area_code_415\",\"area_code_408\",\"area_code_415\",\"area_code_408\",\"area_code_510\",\"area_code_415\",\"area_code_510\",\"area_code_510\",\"area_code_408\",\"area_code_415\",\"area_code_408\",\"area_code_415\",\"area_code_415\",\"area_code_510\",\"area_code_415\",\"area_code_415\",\"area_code_510\",\"area_code_415\",\"area_code_510\",\"area_code_415\",\"area_code_415\",\"area_code_415\",\"area_code_510\",\"area_code_510\",\"area_code_415\",\"area_code_408\",\"area_code_408\",\"area_code_408\",\"area_code_415\",\"area_code_510\",\"area_code_510\",\"area_code_408\",\"area_code_408\",\"area_code_415\",\"area_code_408\",\"area_code_415\",\"area_code_415\",\"area_code_510\",\"area_code_408\",\"area_code_415\",\"area_code_415\",\"area_code_510\",\"area_code_415\",\"area_code_510\",\"area_code_408\",\"area_code_415\",\"area_code_510\",\"area_code_415\",\"area_code_415\",\"area_code_415\",\"area_code_510\",\"area_code_415\",\"area_code_510\",\"area_code_510\",\"area_code_408\",\"area_code_415\",\"area_code_510\",\"area_code_415\",\"area_code_415\",\"area_code_408\",\"area_code_415\",\"area_code_415\",\"area_code_408\",\"area_code_510\",\"area_code_408\",\"area_code_415\",\"area_code_510\",\"area_code_510\",\"area_code_415\",\"area_code_415\",\"area_code_415\",\"area_code_408\",\"area_code_510\",\"area_code_415\",\"area_code_415\",\"area_code_510\",\"area_code_415\",\"area_code_408\",\"area_code_415\",\"area_code_408\",\"area_code_510\",\"area_code_415\",\"area_code_408\",\"area_code_415\",\"area_code_408\",\"area_code_408\",\"area_code_510\",\"area_code_415\",\"area_code_408\",\"area_code_408\",\"area_code_408\",\"area_code_415\",\"area_code_415\",\"area_code_510\",\"area_code_510\",\"area_code_415\",\"area_code_408\",\"area_code_415\",\"area_code_415\",\"area_code_510\",\"area_code_415\",\"area_code_408\",\"area_code_415\",\"area_code_408\",\"area_code_415\",\"area_code_510\",\"area_code_510\",\"area_code_415\",\"area_code_415\",\"area_code_415\",\"area_code_415\",\"area_code_510\",\"area_code_415\",\"area_code_408\",\"area_code_408\",\"area_code_510\",\"area_code_415\",\"area_code_415\",\"area_code_408\",\"area_code_415\",\"area_code_510\",\"area_code_510\",\"area_code_415\",\"area_code_415\",\"area_code_415\",\"area_code_415\",\"area_code_408\",\"area_code_415\",\"area_code_415\",\"area_code_415\",\"area_code_415\",\"area_code_415\",\"area_code_408\",\"area_code_415\",\"area_code_415\",\"area_code_415\",\"area_code_510\",\"area_code_408\",\"area_code_408\",\"area_code_415\",\"area_code_415\",\"area_code_408\",\"area_code_415\",\"area_code_415\",\"area_code_415\",\"area_code_408\",\"area_code_408\",\"area_code_408\",\"area_code_415\",\"area_code_415\",\"area_code_415\",\"area_code_415\",\"area_code_415\",\"area_code_408\",\"area_code_408\",\"area_code_415\",\"area_code_415\",\"area_code_408\",\"area_code_415\",\"area_code_408\",\"area_code_415\",\"area_code_415\",\"area_code_510\",\"area_code_408\",\"area_code_415\",\"area_code_415\",\"area_code_510\",\"area_code_408\",\"area_code_415\",\"area_code_415\",\"area_code_415\",\"area_code_408\",\"area_code_510\",\"area_code_415\",\"area_code_510\",\"area_code_415\",\"area_code_408\",\"area_code_408\",\"area_code_415\",\"area_code_415\",\"area_code_415\",\"area_code_510\",\"area_code_415\",\"area_code_415\",\"area_code_510\",\"area_code_408\",\"area_code_415\",\"area_code_415\",\"area_code_415\",\"area_code_510\",\"area_code_408\",\"area_code_415\",\"area_code_415\",\"area_code_415\",\"area_code_510\",\"area_code_415\",\"area_code_510\",\"area_code_415\",\"area_code_408\",\"area_code_510\",\"area_code_415\",\"area_code_415\",\"area_code_415\",\"area_code_408\",\"area_code_415\",\"area_code_408\",\"area_code_415\",\"area_code_408\",\"area_code_510\",\"area_code_408\",\"area_code_510\",\"area_code_510\",\"area_code_415\",\"area_code_415\",\"area_code_510\",\"area_code_415\",\"area_code_415\",\"area_code_510\",\"area_code_415\",\"area_code_408\",\"area_code_408\",\"area_code_408\",\"area_code_408\",\"area_code_415\",\"area_code_415\",\"area_code_408\",\"area_code_415\",\"area_code_408\",\"area_code_415\",\"area_code_415\",\"area_code_415\",\"area_code_408\",\"area_code_510\",\"area_code_415\",\"area_code_415\",\"area_code_408\",\"area_code_510\",\"area_code_510\",\"area_code_408\",\"area_code_415\",\"area_code_408\",\"area_code_510\",\"area_code_415\",\"area_code_510\",\"area_code_415\",\"area_code_415\",\"area_code_415\",\"area_code_510\",\"area_code_415\",\"area_code_415\",\"area_code_415\",\"area_code_415\",\"area_code_415\",\"area_code_510\",\"area_code_415\",\"area_code_510\",\"area_code_415\",\"area_code_415\",\"area_code_510\",\"area_code_415\",\"area_code_415\",\"area_code_415\",\"area_code_415\",\"area_code_510\",\"area_code_415\",\"area_code_415\",\"area_code_415\",\"area_code_415\",\"area_code_510\",\"area_code_415\",\"area_code_415\",\"area_code_415\",\"area_code_510\",\"area_code_415\",\"area_code_415\",\"area_code_510\",\"area_code_408\",\"area_code_415\",\"area_code_415\",\"area_code_415\",\"area_code_415\",\"area_code_408\",\"area_code_510\",\"area_code_408\",\"area_code_415\",\"area_code_415\",\"area_code_415\",\"area_code_415\",\"area_code_510\",\"area_code_415\",\"area_code_415\",\"area_code_415\",\"area_code_408\",\"area_code_408\",\"area_code_510\",\"area_code_415\",\"area_code_415\",\"area_code_510\",\"area_code_510\",\"area_code_408\",\"area_code_415\",\"area_code_408\",\"area_code_415\",\"area_code_510\",\"area_code_415\",\"area_code_415\",\"area_code_510\",\"area_code_415\",\"area_code_408\",\"area_code_510\",\"area_code_415\",\"area_code_510\",\"area_code_510\",\"area_code_510\",\"area_code_415\",\"area_code_415\",\"area_code_510\",\"area_code_415\",\"area_code_408\",\"area_code_415\",\"area_code_408\",\"area_code_408\",\"area_code_415\",\"area_code_415\",\"area_code_510\",\"area_code_510\",\"area_code_510\",\"area_code_415\",\"area_code_408\",\"area_code_415\",\"area_code_408\",\"area_code_510\",\"area_code_415\",\"area_code_415\",\"area_code_415\",\"area_code_415\",\"area_code_415\",\"area_code_415\",\"area_code_415\",\"area_code_408\",\"area_code_510\",\"area_code_415\",\"area_code_408\",\"area_code_408\",\"area_code_510\",\"area_code_415\",\"area_code_510\",\"area_code_408\",\"area_code_415\",\"area_code_415\",\"area_code_415\",\"area_code_415\",\"area_code_415\",\"area_code_408\",\"area_code_408\",\"area_code_408\",\"area_code_510\",\"area_code_415\",\"area_code_510\",\"area_code_415\",\"area_code_415\",\"area_code_415\",\"area_code_415\",\"area_code_415\",\"area_code_510\",\"area_code_510\",\"area_code_408\",\"area_code_510\",\"area_code_415\",\"area_code_408\",\"area_code_415\",\"area_code_415\",\"area_code_510\",\"area_code_408\",\"area_code_415\",\"area_code_415\",\"area_code_415\",\"area_code_408\",\"area_code_415\",\"area_code_510\",\"area_code_510\",\"area_code_415\",\"area_code_415\",\"area_code_408\",\"area_code_415\",\"area_code_408\",\"area_code_415\",\"area_code_415\",\"area_code_408\",\"area_code_510\",\"area_code_408\",\"area_code_415\",\"area_code_510\",\"area_code_510\",\"area_code_510\",\"area_code_408\",\"area_code_415\",\"area_code_415\",\"area_code_415\",\"area_code_415\",\"area_code_510\",\"area_code_408\",\"area_code_415\",\"area_code_408\",\"area_code_510\",\"area_code_415\",\"area_code_510\",\"area_code_415\",\"area_code_415\",\"area_code_415\",\"area_code_415\",\"area_code_408\",\"area_code_408\",\"area_code_415\",\"area_code_415\",\"area_code_415\",\"area_code_415\",\"area_code_510\",\"area_code_510\",\"area_code_510\",\"area_code_408\",\"area_code_415\",\"area_code_415\",\"area_code_415\",\"area_code_415\",\"area_code_415\",\"area_code_510\",\"area_code_510\",\"area_code_415\",\"area_code_408\",\"area_code_408\",\"area_code_415\",\"area_code_510\",\"area_code_510\",\"area_code_408\",\"area_code_415\",\"area_code_415\",\"area_code_415\",\"area_code_408\",\"area_code_415\",\"area_code_415\",\"area_code_415\",\"area_code_415\",\"area_code_415\",\"area_code_510\",\"area_code_415\",\"area_code_415\",\"area_code_415\",\"area_code_510\",\"area_code_415\",\"area_code_415\",\"area_code_408\",\"area_code_408\",\"area_code_415\",\"area_code_415\",\"area_code_510\",\"area_code_510\",\"area_code_415\",\"area_code_415\",\"area_code_415\",\"area_code_415\",\"area_code_408\",\"area_code_510\",\"area_code_415\",\"area_code_510\",\"area_code_415\",\"area_code_408\",\"area_code_510\",\"area_code_510\",\"area_code_510\",\"area_code_510\",\"area_code_415\",\"area_code_510\",\"area_code_510\",\"area_code_510\",\"area_code_510\",\"area_code_510\",\"area_code_415\",\"area_code_408\",\"area_code_415\",\"area_code_510\",\"area_code_415\",\"area_code_510\",\"area_code_408\",\"area_code_408\",\"area_code_415\",\"area_code_408\",\"area_code_415\",\"area_code_408\",\"area_code_510\",\"area_code_408\",\"area_code_510\",\"area_code_510\",\"area_code_415\",\"area_code_408\",\"area_code_415\",\"area_code_408\",\"area_code_408\",\"area_code_510\",\"area_code_415\",\"area_code_415\",\"area_code_408\",\"area_code_415\",\"area_code_408\",\"area_code_415\",\"area_code_415\",\"area_code_415\",\"area_code_415\",\"area_code_415\",\"area_code_408\",\"area_code_415\",\"area_code_510\",\"area_code_415\",\"area_code_415\",\"area_code_415\",\"area_code_510\",\"area_code_510\",\"area_code_510\",\"area_code_415\",\"area_code_408\",\"area_code_510\",\"area_code_510\",\"area_code_415\",\"area_code_415\",\"area_code_415\",\"area_code_415\",\"area_code_510\",\"area_code_415\",\"area_code_415\",\"area_code_415\",\"area_code_408\",\"area_code_510\",\"area_code_510\",\"area_code_415\",\"area_code_510\",\"area_code_415\",\"area_code_415\",\"area_code_510\",\"area_code_415\",\"area_code_415\",\"area_code_408\",\"area_code_415\",\"area_code_415\",\"area_code_510\",\"area_code_415\",\"area_code_510\",\"area_code_510\",\"area_code_415\",\"area_code_408\",\"area_code_415\",\"area_code_415\",\"area_code_415\",\"area_code_415\",\"area_code_415\",\"area_code_415\",\"area_code_415\",\"area_code_408\",\"area_code_415\",\"area_code_415\",\"area_code_415\",\"area_code_415\",\"area_code_510\",\"area_code_415\",\"area_code_408\",\"area_code_408\",\"area_code_415\",\"area_code_510\",\"area_code_408\",\"area_code_415\",\"area_code_510\",\"area_code_510\",\"area_code_415\",\"area_code_415\",\"area_code_415\",\"area_code_408\",\"area_code_415\",\"area_code_408\",\"area_code_408\",\"area_code_408\",\"area_code_415\",\"area_code_415\",\"area_code_408\",\"area_code_408\",\"area_code_510\",\"area_code_415\",\"area_code_415\",\"area_code_408\",\"area_code_408\",\"area_code_415\",\"area_code_415\",\"area_code_510\",\"area_code_415\",\"area_code_408\",\"area_code_408\",\"area_code_415\",\"area_code_510\",\"area_code_408\",\"area_code_408\",\"area_code_408\",\"area_code_510\",\"area_code_408\",\"area_code_408\",\"area_code_415\",\"area_code_510\",\"area_code_415\",\"area_code_415\",\"area_code_510\",\"area_code_415\",\"area_code_415\",\"area_code_408\",\"area_code_415\",\"area_code_408\",\"area_code_408\",\"area_code_408\",\"area_code_415\",\"area_code_408\",\"area_code_415\",\"area_code_415\",\"area_code_415\",\"area_code_415\",\"area_code_408\",\"area_code_510\",\"area_code_408\",\"area_code_408\",\"area_code_510\",\"area_code_415\",\"area_code_415\",\"area_code_408\",\"area_code_510\",\"area_code_415\",\"area_code_408\",\"area_code_408\",\"area_code_415\",\"area_code_415\",\"area_code_510\",\"area_code_510\",\"area_code_415\",\"area_code_510\",\"area_code_408\",\"area_code_415\",\"area_code_408\",\"area_code_408\",\"area_code_408\",\"area_code_408\",\"area_code_415\",\"area_code_415\",\"area_code_415\",\"area_code_408\",\"area_code_415\",\"area_code_415\",\"area_code_408\",\"area_code_510\",\"area_code_415\",\"area_code_415\",\"area_code_408\",\"area_code_415\",\"area_code_415\",\"area_code_408\",\"area_code_415\",\"area_code_408\",\"area_code_415\",\"area_code_415\",\"area_code_415\",\"area_code_415\",\"area_code_415\",\"area_code_510\",\"area_code_510\",\"area_code_510\",\"area_code_510\",\"area_code_510\",\"area_code_415\",\"area_code_415\",\"area_code_510\",\"area_code_415\",\"area_code_415\",\"area_code_415\",\"area_code_510\",\"area_code_510\",\"area_code_510\",\"area_code_415\",\"area_code_415\",\"area_code_408\",\"area_code_415\",\"area_code_415\",\"area_code_510\",\"area_code_415\",\"area_code_415\",\"area_code_415\",\"area_code_408\",\"area_code_510\",\"area_code_415\",\"area_code_415\",\"area_code_415\",\"area_code_510\",\"area_code_408\",\"area_code_408\",\"area_code_415\",\"area_code_415\",\"area_code_415\",\"area_code_408\",\"area_code_415\",\"area_code_510\",\"area_code_408\",\"area_code_415\",\"area_code_415\",\"area_code_415\",\"area_code_415\",\"area_code_510\",\"area_code_510\",\"area_code_510\",\"area_code_415\",\"area_code_415\",\"area_code_408\",\"area_code_415\",\"area_code_408\",\"area_code_510\",\"area_code_408\",\"area_code_510\",\"area_code_510\",\"area_code_415\",\"area_code_408\",\"area_code_408\",\"area_code_408\",\"area_code_415\",\"area_code_408\",\"area_code_408\",\"area_code_415\",\"area_code_510\",\"area_code_415\",\"area_code_510\",\"area_code_415\",\"area_code_415\",\"area_code_408\",\"area_code_415\",\"area_code_415\",\"area_code_408\",\"area_code_510\",\"area_code_510\",\"area_code_415\",\"area_code_415\",\"area_code_510\",\"area_code_415\",\"area_code_408\",\"area_code_415\",\"area_code_510\",\"area_code_415\",\"area_code_408\",\"area_code_415\",\"area_code_415\",\"area_code_510\",\"area_code_510\",\"area_code_510\",\"area_code_415\",\"area_code_510\",\"area_code_510\",\"area_code_415\",\"area_code_415\",\"area_code_510\",\"area_code_415\",\"area_code_510\",\"area_code_510\",\"area_code_408\",\"area_code_415\",\"area_code_415\",\"area_code_510\",\"area_code_415\",\"area_code_415\",\"area_code_415\",\"area_code_415\",\"area_code_408\",\"area_code_510\",\"area_code_510\",\"area_code_415\",\"area_code_510\",\"area_code_408\",\"area_code_415\",\"area_code_415\",\"area_code_408\",\"area_code_415\",\"area_code_510\",\"area_code_510\",\"area_code_408\",\"area_code_415\",\"area_code_415\",\"area_code_415\",\"area_code_415\",\"area_code_510\",\"area_code_408\",\"area_code_510\",\"area_code_415\",\"area_code_415\",\"area_code_408\",\"area_code_408\",\"area_code_408\",\"area_code_408\",\"area_code_408\",\"area_code_408\",\"area_code_415\",\"area_code_415\",\"area_code_510\",\"area_code_408\",\"area_code_415\",\"area_code_408\",\"area_code_415\",\"area_code_415\",\"area_code_415\",\"area_code_415\",\"area_code_510\",\"area_code_408\",\"area_code_415\",\"area_code_415\",\"area_code_415\",\"area_code_408\",\"area_code_415\",\"area_code_415\",\"area_code_415\",\"area_code_408\",\"area_code_415\",\"area_code_415\",\"area_code_510\",\"area_code_408\",\"area_code_415\",\"area_code_408\",\"area_code_408\",\"area_code_415\",\"area_code_408\",\"area_code_415\",\"area_code_415\",\"area_code_510\",\"area_code_408\",\"area_code_415\",\"area_code_510\",\"area_code_415\",\"area_code_415\",\"area_code_408\",\"area_code_415\",\"area_code_510\",\"area_code_408\",\"area_code_510\",\"area_code_408\",\"area_code_408\",\"area_code_510\",\"area_code_415\",\"area_code_510\",\"area_code_415\",\"area_code_408\",\"area_code_415\",\"area_code_415\",\"area_code_510\",\"area_code_510\",\"area_code_510\",\"area_code_415\",\"area_code_415\",\"area_code_408\",\"area_code_510\",\"area_code_408\",\"area_code_510\",\"area_code_415\",\"area_code_415\",\"area_code_415\",\"area_code_408\",\"area_code_408\",\"area_code_510\",\"area_code_408\",\"area_code_415\",\"area_code_510\",\"area_code_415\",\"area_code_408\",\"area_code_415\",\"area_code_415\",\"area_code_415\",\"area_code_408\",\"area_code_415\",\"area_code_415\",\"area_code_510\",\"area_code_510\",\"area_code_415\",\"area_code_415\",\"area_code_510\",\"area_code_415\",\"area_code_510\",\"area_code_408\",\"area_code_415\",\"area_code_408\",\"area_code_415\",\"area_code_408\",\"area_code_408\",\"area_code_408\",\"area_code_408\",\"area_code_510\",\"area_code_415\",\"area_code_415\",\"area_code_415\",\"area_code_408\",\"area_code_415\",\"area_code_415\",\"area_code_415\",\"area_code_408\",\"area_code_415\",\"area_code_415\",\"area_code_415\",\"area_code_510\",\"area_code_415\",\"area_code_408\",\"area_code_408\",\"area_code_408\",\"area_code_415\",\"area_code_510\",\"area_code_408\",\"area_code_415\",\"area_code_415\",\"area_code_510\",\"area_code_408\",\"area_code_415\",\"area_code_415\",\"area_code_510\",\"area_code_408\",\"area_code_510\",\"area_code_415\",\"area_code_415\",\"area_code_415\",\"area_code_415\",\"area_code_415\",\"area_code_510\",\"area_code_415\",\"area_code_408\",\"area_code_415\",\"area_code_408\",\"area_code_510\",\"area_code_408\",\"area_code_415\",\"area_code_408\",\"area_code_408\",\"area_code_415\",\"area_code_408\",\"area_code_415\",\"area_code_408\",\"area_code_510\",\"area_code_415\",\"area_code_408\",\"area_code_415\",\"area_code_408\",\"area_code_415\",\"area_code_408\",\"area_code_415\",\"area_code_415\",\"area_code_415\",\"area_code_415\",\"area_code_415\",\"area_code_415\",\"area_code_510\",\"area_code_415\",\"area_code_408\",\"area_code_408\",\"area_code_415\",\"area_code_510\",\"area_code_415\",\"area_code_510\",\"area_code_510\",\"area_code_415\",\"area_code_408\",\"area_code_415\",\"area_code_415\",\"area_code_415\",\"area_code_408\",\"area_code_510\",\"area_code_415\",\"area_code_415\",\"area_code_408\",\"area_code_415\",\"area_code_415\",\"area_code_415\",\"area_code_408\",\"area_code_415\",\"area_code_408\",\"area_code_415\",\"area_code_415\",\"area_code_415\",\"area_code_510\",\"area_code_415\",\"area_code_408\",\"area_code_415\",\"area_code_408\",\"area_code_415\",\"area_code_408\",\"area_code_510\",\"area_code_408\",\"area_code_415\",\"area_code_415\",\"area_code_510\",\"area_code_408\",\"area_code_510\",\"area_code_408\",\"area_code_415\",\"area_code_415\",\"area_code_415\",\"area_code_510\",\"area_code_408\",\"area_code_408\",\"area_code_415\",\"area_code_415\",\"area_code_415\",\"area_code_415\",\"area_code_415\",\"area_code_408\",\"area_code_510\",\"area_code_408\",\"area_code_415\",\"area_code_415\",\"area_code_415\",\"area_code_415\",\"area_code_510\",\"area_code_510\",\"area_code_415\",\"area_code_510\",\"area_code_510\",\"area_code_415\",\"area_code_415\",\"area_code_510\",\"area_code_408\",\"area_code_408\",\"area_code_415\",\"area_code_510\",\"area_code_415\",\"area_code_510\",\"area_code_510\",\"area_code_415\",\"area_code_510\",\"area_code_408\",\"area_code_415\",\"area_code_415\",\"area_code_408\",\"area_code_415\",\"area_code_415\",\"area_code_408\",\"area_code_408\",\"area_code_408\",\"area_code_415\",\"area_code_408\",\"area_code_510\",\"area_code_408\",\"area_code_510\",\"area_code_510\",\"area_code_415\",\"area_code_510\",\"area_code_408\",\"area_code_415\",\"area_code_408\",\"area_code_408\",\"area_code_415\",\"area_code_510\",\"area_code_415\",\"area_code_415\",\"area_code_415\",\"area_code_408\",\"area_code_415\",\"area_code_415\",\"area_code_415\",\"area_code_415\",\"area_code_415\",\"area_code_408\",\"area_code_510\",\"area_code_408\",\"area_code_408\",\"area_code_415\",\"area_code_408\",\"area_code_415\",\"area_code_408\",\"area_code_415\",\"area_code_415\",\"area_code_415\",\"area_code_415\",\"area_code_510\",\"area_code_415\",\"area_code_510\",\"area_code_415\",\"area_code_510\",\"area_code_415\",\"area_code_415\",\"area_code_415\",\"area_code_415\",\"area_code_510\",\"area_code_510\",\"area_code_510\",\"area_code_510\",\"area_code_510\",\"area_code_415\",\"area_code_415\",\"area_code_408\",\"area_code_415\",\"area_code_408\",\"area_code_510\",\"area_code_415\",\"area_code_408\",\"area_code_510\",\"area_code_510\",\"area_code_415\",\"area_code_415\",\"area_code_408\",\"area_code_415\",\"area_code_415\",\"area_code_415\",\"area_code_415\",\"area_code_510\",\"area_code_408\",\"area_code_415\",\"area_code_408\",\"area_code_510\",\"area_code_415\",\"area_code_408\",\"area_code_510\",\"area_code_408\",\"area_code_510\",\"area_code_415\",\"area_code_510\",\"area_code_415\",\"area_code_408\",\"area_code_408\",\"area_code_415\",\"area_code_415\",\"area_code_408\",\"area_code_415\",\"area_code_408\",\"area_code_415\",\"area_code_415\",\"area_code_415\",\"area_code_415\",\"area_code_408\",\"area_code_510\",\"area_code_415\",\"area_code_415\",\"area_code_415\",\"area_code_415\",\"area_code_510\",\"area_code_415\",\"area_code_415\",\"area_code_408\",\"area_code_510\",\"area_code_415\",\"area_code_408\",\"area_code_415\",\"area_code_408\",\"area_code_415\",\"area_code_408\",\"area_code_415\",\"area_code_408\",\"area_code_510\",\"area_code_415\",\"area_code_408\",\"area_code_415\",\"area_code_415\",\"area_code_510\",\"area_code_408\",\"area_code_510\",\"area_code_415\",\"area_code_408\",\"area_code_415\",\"area_code_415\",\"area_code_415\",\"area_code_408\",\"area_code_415\",\"area_code_415\",\"area_code_415\",\"area_code_415\",\"area_code_415\",\"area_code_415\",\"area_code_408\",\"area_code_415\",\"area_code_510\",\"area_code_408\",\"area_code_408\",\"area_code_415\",\"area_code_415\",\"area_code_510\",\"area_code_510\",\"area_code_510\",\"area_code_408\",\"area_code_408\",\"area_code_408\",\"area_code_510\",\"area_code_408\",\"area_code_415\",\"area_code_408\",\"area_code_408\",\"area_code_510\",\"area_code_408\",\"area_code_408\",\"area_code_415\",\"area_code_510\",\"area_code_415\",\"area_code_408\",\"area_code_510\",\"area_code_408\",\"area_code_415\",\"area_code_408\",\"area_code_408\",\"area_code_415\",\"area_code_408\",\"area_code_415\",\"area_code_415\",\"area_code_510\",\"area_code_415\",\"area_code_415\",\"area_code_510\",\"area_code_415\",\"area_code_408\",\"area_code_408\",\"area_code_415\",\"area_code_415\",\"area_code_510\",\"area_code_415\",\"area_code_510\",\"area_code_510\",\"area_code_415\",\"area_code_510\",\"area_code_510\",\"area_code_510\",\"area_code_408\",\"area_code_408\",\"area_code_510\",\"area_code_415\",\"area_code_415\",\"area_code_415\",\"area_code_408\",\"area_code_408\",\"area_code_408\",\"area_code_415\",\"area_code_415\",\"area_code_408\",\"area_code_408\",\"area_code_510\",\"area_code_510\",\"area_code_510\",\"area_code_408\",\"area_code_408\",\"area_code_415\",\"area_code_510\",\"area_code_415\",\"area_code_415\",\"area_code_415\",\"area_code_415\",\"area_code_415\",\"area_code_415\",\"area_code_408\",\"area_code_408\",\"area_code_415\",\"area_code_510\",\"area_code_408\",\"area_code_510\",\"area_code_415\",\"area_code_408\",\"area_code_510\",\"area_code_415\",\"area_code_415\",\"area_code_408\",\"area_code_408\",\"area_code_415\",\"area_code_510\",\"area_code_415\",\"area_code_415\",\"area_code_510\",\"area_code_415\",\"area_code_408\",\"area_code_510\",\"area_code_415\",\"area_code_415\",\"area_code_408\",\"area_code_415\",\"area_code_415\",\"area_code_408\",\"area_code_510\",\"area_code_415\",\"area_code_510\",\"area_code_415\",\"area_code_415\",\"area_code_408\",\"area_code_408\",\"area_code_510\",\"area_code_415\",\"area_code_415\",\"area_code_408\",\"area_code_415\",\"area_code_415\",\"area_code_415\",\"area_code_415\",\"area_code_415\",\"area_code_408\",\"area_code_408\",\"area_code_415\",\"area_code_415\",\"area_code_415\",\"area_code_408\",\"area_code_510\",\"area_code_510\",\"area_code_510\",\"area_code_415\",\"area_code_408\",\"area_code_415\",\"area_code_510\",\"area_code_415\",\"area_code_510\",\"area_code_415\",\"area_code_415\",\"area_code_415\",\"area_code_408\",\"area_code_510\",\"area_code_408\",\"area_code_408\",\"area_code_415\",\"area_code_415\",\"area_code_415\",\"area_code_415\",\"area_code_510\",\"area_code_510\",\"area_code_415\",\"area_code_415\",\"area_code_415\",\"area_code_408\",\"area_code_415\",\"area_code_415\",\"area_code_415\",\"area_code_415\",\"area_code_415\",\"area_code_408\",\"area_code_510\",\"area_code_510\",\"area_code_510\",\"area_code_415\",\"area_code_510\",\"area_code_510\",\"area_code_415\",\"area_code_415\",\"area_code_415\",\"area_code_408\",\"area_code_408\",\"area_code_408\",\"area_code_510\",\"area_code_415\",\"area_code_415\",\"area_code_415\",\"area_code_415\",\"area_code_408\",\"area_code_408\",\"area_code_408\",\"area_code_408\",\"area_code_510\",\"area_code_415\",\"area_code_510\",\"area_code_510\",\"area_code_510\",\"area_code_415\",\"area_code_408\",\"area_code_415\",\"area_code_510\",\"area_code_415\",\"area_code_510\",\"area_code_408\",\"area_code_415\",\"area_code_415\",\"area_code_408\",\"area_code_415\",\"area_code_415\",\"area_code_510\",\"area_code_408\",\"area_code_510\",\"area_code_510\",\"area_code_415\",\"area_code_415\",\"area_code_510\",\"area_code_510\",\"area_code_415\",\"area_code_415\",\"area_code_408\",\"area_code_415\",\"area_code_415\",\"area_code_415\",\"area_code_408\",\"area_code_408\",\"area_code_408\",\"area_code_415\",\"area_code_510\",\"area_code_510\",\"area_code_415\",\"area_code_510\",\"area_code_415\",\"area_code_415\",\"area_code_408\",\"area_code_510\",\"area_code_415\",\"area_code_408\",\"area_code_415\",\"area_code_510\",\"area_code_510\",\"area_code_415\",\"area_code_415\",\"area_code_415\",\"area_code_408\",\"area_code_415\",\"area_code_510\",\"area_code_408\",\"area_code_408\",\"area_code_408\",\"area_code_408\",\"area_code_415\",\"area_code_415\",\"area_code_415\",\"area_code_408\",\"area_code_408\",\"area_code_510\",\"area_code_510\",\"area_code_510\",\"area_code_415\",\"area_code_415\",\"area_code_415\",\"area_code_415\",\"area_code_415\",\"area_code_415\",\"area_code_415\",\"area_code_408\",\"area_code_408\",\"area_code_415\",\"area_code_408\",\"area_code_415\",\"area_code_408\",\"area_code_510\",\"area_code_415\",\"area_code_510\",\"area_code_415\",\"area_code_510\",\"area_code_415\",\"area_code_408\",\"area_code_408\",\"area_code_510\",\"area_code_510\",\"area_code_415\",\"area_code_415\",\"area_code_510\",\"area_code_510\",\"area_code_510\",\"area_code_415\",\"area_code_415\",\"area_code_415\",\"area_code_415\",\"area_code_415\",\"area_code_415\",\"area_code_415\",\"area_code_408\",\"area_code_415\",\"area_code_408\",\"area_code_415\",\"area_code_408\",\"area_code_415\",\"area_code_415\",\"area_code_408\",\"area_code_415\",\"area_code_510\",\"area_code_510\",\"area_code_408\",\"area_code_415\",\"area_code_510\",\"area_code_415\",\"area_code_415\",\"area_code_408\",\"area_code_510\",\"area_code_408\",\"area_code_415\",\"area_code_408\",\"area_code_415\",\"area_code_415\",\"area_code_415\",\"area_code_408\",\"area_code_510\",\"area_code_510\",\"area_code_510\",\"area_code_415\",\"area_code_415\",\"area_code_415\",\"area_code_510\",\"area_code_415\",\"area_code_415\",\"area_code_510\",\"area_code_415\",\"area_code_510\",\"area_code_415\",\"area_code_408\",\"area_code_510\",\"area_code_415\",\"area_code_415\",\"area_code_415\",\"area_code_510\",\"area_code_510\",\"area_code_415\",\"area_code_415\",\"area_code_510\",\"area_code_415\",\"area_code_510\",\"area_code_510\",\"area_code_408\",\"area_code_510\"],\"legendgroup\":\"\",\"name\":\"\",\"showlegend\":true,\"type\":\"pie\"}],                        {\"legend\":{\"tracegroupgap\":0},\"template\":{\"data\":{\"bar\":[{\"error_x\":{\"color\":\"#2a3f5f\"},\"error_y\":{\"color\":\"#2a3f5f\"},\"marker\":{\"line\":{\"color\":\"#E5ECF6\",\"width\":0.5},\"pattern\":{\"fillmode\":\"overlay\",\"size\":10,\"solidity\":0.2}},\"type\":\"bar\"}],\"barpolar\":[{\"marker\":{\"line\":{\"color\":\"#E5ECF6\",\"width\":0.5},\"pattern\":{\"fillmode\":\"overlay\",\"size\":10,\"solidity\":0.2}},\"type\":\"barpolar\"}],\"carpet\":[{\"aaxis\":{\"endlinecolor\":\"#2a3f5f\",\"gridcolor\":\"white\",\"linecolor\":\"white\",\"minorgridcolor\":\"white\",\"startlinecolor\":\"#2a3f5f\"},\"baxis\":{\"endlinecolor\":\"#2a3f5f\",\"gridcolor\":\"white\",\"linecolor\":\"white\",\"minorgridcolor\":\"white\",\"startlinecolor\":\"#2a3f5f\"},\"type\":\"carpet\"}],\"choropleth\":[{\"colorbar\":{\"outlinewidth\":0,\"ticks\":\"\"},\"type\":\"choropleth\"}],\"contour\":[{\"colorbar\":{\"outlinewidth\":0,\"ticks\":\"\"},\"colorscale\":[[0.0,\"#0d0887\"],[0.1111111111111111,\"#46039f\"],[0.2222222222222222,\"#7201a8\"],[0.3333333333333333,\"#9c179e\"],[0.4444444444444444,\"#bd3786\"],[0.5555555555555556,\"#d8576b\"],[0.6666666666666666,\"#ed7953\"],[0.7777777777777778,\"#fb9f3a\"],[0.8888888888888888,\"#fdca26\"],[1.0,\"#f0f921\"]],\"type\":\"contour\"}],\"contourcarpet\":[{\"colorbar\":{\"outlinewidth\":0,\"ticks\":\"\"},\"type\":\"contourcarpet\"}],\"heatmap\":[{\"colorbar\":{\"outlinewidth\":0,\"ticks\":\"\"},\"colorscale\":[[0.0,\"#0d0887\"],[0.1111111111111111,\"#46039f\"],[0.2222222222222222,\"#7201a8\"],[0.3333333333333333,\"#9c179e\"],[0.4444444444444444,\"#bd3786\"],[0.5555555555555556,\"#d8576b\"],[0.6666666666666666,\"#ed7953\"],[0.7777777777777778,\"#fb9f3a\"],[0.8888888888888888,\"#fdca26\"],[1.0,\"#f0f921\"]],\"type\":\"heatmap\"}],\"heatmapgl\":[{\"colorbar\":{\"outlinewidth\":0,\"ticks\":\"\"},\"colorscale\":[[0.0,\"#0d0887\"],[0.1111111111111111,\"#46039f\"],[0.2222222222222222,\"#7201a8\"],[0.3333333333333333,\"#9c179e\"],[0.4444444444444444,\"#bd3786\"],[0.5555555555555556,\"#d8576b\"],[0.6666666666666666,\"#ed7953\"],[0.7777777777777778,\"#fb9f3a\"],[0.8888888888888888,\"#fdca26\"],[1.0,\"#f0f921\"]],\"type\":\"heatmapgl\"}],\"histogram\":[{\"marker\":{\"pattern\":{\"fillmode\":\"overlay\",\"size\":10,\"solidity\":0.2}},\"type\":\"histogram\"}],\"histogram2d\":[{\"colorbar\":{\"outlinewidth\":0,\"ticks\":\"\"},\"colorscale\":[[0.0,\"#0d0887\"],[0.1111111111111111,\"#46039f\"],[0.2222222222222222,\"#7201a8\"],[0.3333333333333333,\"#9c179e\"],[0.4444444444444444,\"#bd3786\"],[0.5555555555555556,\"#d8576b\"],[0.6666666666666666,\"#ed7953\"],[0.7777777777777778,\"#fb9f3a\"],[0.8888888888888888,\"#fdca26\"],[1.0,\"#f0f921\"]],\"type\":\"histogram2d\"}],\"histogram2dcontour\":[{\"colorbar\":{\"outlinewidth\":0,\"ticks\":\"\"},\"colorscale\":[[0.0,\"#0d0887\"],[0.1111111111111111,\"#46039f\"],[0.2222222222222222,\"#7201a8\"],[0.3333333333333333,\"#9c179e\"],[0.4444444444444444,\"#bd3786\"],[0.5555555555555556,\"#d8576b\"],[0.6666666666666666,\"#ed7953\"],[0.7777777777777778,\"#fb9f3a\"],[0.8888888888888888,\"#fdca26\"],[1.0,\"#f0f921\"]],\"type\":\"histogram2dcontour\"}],\"mesh3d\":[{\"colorbar\":{\"outlinewidth\":0,\"ticks\":\"\"},\"type\":\"mesh3d\"}],\"parcoords\":[{\"line\":{\"colorbar\":{\"outlinewidth\":0,\"ticks\":\"\"}},\"type\":\"parcoords\"}],\"pie\":[{\"automargin\":true,\"type\":\"pie\"}],\"scatter\":[{\"marker\":{\"colorbar\":{\"outlinewidth\":0,\"ticks\":\"\"}},\"type\":\"scatter\"}],\"scatter3d\":[{\"line\":{\"colorbar\":{\"outlinewidth\":0,\"ticks\":\"\"}},\"marker\":{\"colorbar\":{\"outlinewidth\":0,\"ticks\":\"\"}},\"type\":\"scatter3d\"}],\"scattercarpet\":[{\"marker\":{\"colorbar\":{\"outlinewidth\":0,\"ticks\":\"\"}},\"type\":\"scattercarpet\"}],\"scattergeo\":[{\"marker\":{\"colorbar\":{\"outlinewidth\":0,\"ticks\":\"\"}},\"type\":\"scattergeo\"}],\"scattergl\":[{\"marker\":{\"colorbar\":{\"outlinewidth\":0,\"ticks\":\"\"}},\"type\":\"scattergl\"}],\"scattermapbox\":[{\"marker\":{\"colorbar\":{\"outlinewidth\":0,\"ticks\":\"\"}},\"type\":\"scattermapbox\"}],\"scatterpolar\":[{\"marker\":{\"colorbar\":{\"outlinewidth\":0,\"ticks\":\"\"}},\"type\":\"scatterpolar\"}],\"scatterpolargl\":[{\"marker\":{\"colorbar\":{\"outlinewidth\":0,\"ticks\":\"\"}},\"type\":\"scatterpolargl\"}],\"scatterternary\":[{\"marker\":{\"colorbar\":{\"outlinewidth\":0,\"ticks\":\"\"}},\"type\":\"scatterternary\"}],\"surface\":[{\"colorbar\":{\"outlinewidth\":0,\"ticks\":\"\"},\"colorscale\":[[0.0,\"#0d0887\"],[0.1111111111111111,\"#46039f\"],[0.2222222222222222,\"#7201a8\"],[0.3333333333333333,\"#9c179e\"],[0.4444444444444444,\"#bd3786\"],[0.5555555555555556,\"#d8576b\"],[0.6666666666666666,\"#ed7953\"],[0.7777777777777778,\"#fb9f3a\"],[0.8888888888888888,\"#fdca26\"],[1.0,\"#f0f921\"]],\"type\":\"surface\"}],\"table\":[{\"cells\":{\"fill\":{\"color\":\"#EBF0F8\"},\"line\":{\"color\":\"white\"}},\"header\":{\"fill\":{\"color\":\"#C8D4E3\"},\"line\":{\"color\":\"white\"}},\"type\":\"table\"}]},\"layout\":{\"annotationdefaults\":{\"arrowcolor\":\"#2a3f5f\",\"arrowhead\":0,\"arrowwidth\":1},\"autotypenumbers\":\"strict\",\"coloraxis\":{\"colorbar\":{\"outlinewidth\":0,\"ticks\":\"\"}},\"colorscale\":{\"diverging\":[[0,\"#8e0152\"],[0.1,\"#c51b7d\"],[0.2,\"#de77ae\"],[0.3,\"#f1b6da\"],[0.4,\"#fde0ef\"],[0.5,\"#f7f7f7\"],[0.6,\"#e6f5d0\"],[0.7,\"#b8e186\"],[0.8,\"#7fbc41\"],[0.9,\"#4d9221\"],[1,\"#276419\"]],\"sequential\":[[0.0,\"#0d0887\"],[0.1111111111111111,\"#46039f\"],[0.2222222222222222,\"#7201a8\"],[0.3333333333333333,\"#9c179e\"],[0.4444444444444444,\"#bd3786\"],[0.5555555555555556,\"#d8576b\"],[0.6666666666666666,\"#ed7953\"],[0.7777777777777778,\"#fb9f3a\"],[0.8888888888888888,\"#fdca26\"],[1.0,\"#f0f921\"]],\"sequentialminus\":[[0.0,\"#0d0887\"],[0.1111111111111111,\"#46039f\"],[0.2222222222222222,\"#7201a8\"],[0.3333333333333333,\"#9c179e\"],[0.4444444444444444,\"#bd3786\"],[0.5555555555555556,\"#d8576b\"],[0.6666666666666666,\"#ed7953\"],[0.7777777777777778,\"#fb9f3a\"],[0.8888888888888888,\"#fdca26\"],[1.0,\"#f0f921\"]]},\"colorway\":[\"#636efa\",\"#EF553B\",\"#00cc96\",\"#ab63fa\",\"#FFA15A\",\"#19d3f3\",\"#FF6692\",\"#B6E880\",\"#FF97FF\",\"#FECB52\"],\"font\":{\"color\":\"#2a3f5f\"},\"geo\":{\"bgcolor\":\"white\",\"lakecolor\":\"white\",\"landcolor\":\"#E5ECF6\",\"showlakes\":true,\"showland\":true,\"subunitcolor\":\"white\"},\"hoverlabel\":{\"align\":\"left\"},\"hovermode\":\"closest\",\"mapbox\":{\"style\":\"light\"},\"paper_bgcolor\":\"white\",\"plot_bgcolor\":\"#E5ECF6\",\"polar\":{\"angularaxis\":{\"gridcolor\":\"white\",\"linecolor\":\"white\",\"ticks\":\"\"},\"bgcolor\":\"#E5ECF6\",\"radialaxis\":{\"gridcolor\":\"white\",\"linecolor\":\"white\",\"ticks\":\"\"}},\"scene\":{\"xaxis\":{\"backgroundcolor\":\"#E5ECF6\",\"gridcolor\":\"white\",\"gridwidth\":2,\"linecolor\":\"white\",\"showbackground\":true,\"ticks\":\"\",\"zerolinecolor\":\"white\"},\"yaxis\":{\"backgroundcolor\":\"#E5ECF6\",\"gridcolor\":\"white\",\"gridwidth\":2,\"linecolor\":\"white\",\"showbackground\":true,\"ticks\":\"\",\"zerolinecolor\":\"white\"},\"zaxis\":{\"backgroundcolor\":\"#E5ECF6\",\"gridcolor\":\"white\",\"gridwidth\":2,\"linecolor\":\"white\",\"showbackground\":true,\"ticks\":\"\",\"zerolinecolor\":\"white\"}},\"shapedefaults\":{\"line\":{\"color\":\"#2a3f5f\"}},\"ternary\":{\"aaxis\":{\"gridcolor\":\"white\",\"linecolor\":\"white\",\"ticks\":\"\"},\"baxis\":{\"gridcolor\":\"white\",\"linecolor\":\"white\",\"ticks\":\"\"},\"bgcolor\":\"#E5ECF6\",\"caxis\":{\"gridcolor\":\"white\",\"linecolor\":\"white\",\"ticks\":\"\"}},\"title\":{\"x\":0.05},\"xaxis\":{\"automargin\":true,\"gridcolor\":\"white\",\"linecolor\":\"white\",\"ticks\":\"\",\"title\":{\"standoff\":15},\"zerolinecolor\":\"white\",\"zerolinewidth\":2},\"yaxis\":{\"automargin\":true,\"gridcolor\":\"white\",\"linecolor\":\"white\",\"ticks\":\"\",\"title\":{\"standoff\":15},\"zerolinecolor\":\"white\",\"zerolinewidth\":2}}},\"title\":{\"text\":\"Payment on time - Area code\"}},                        {\"responsive\": true}                    ).then(function(){\n",
       "                            \n",
       "var gd = document.getElementById('6eae8cf9-f292-47a2-9b90-4bf9a0d42042');\n",
       "var x = new MutationObserver(function (mutations, observer) {{\n",
       "        var display = window.getComputedStyle(gd).display;\n",
       "        if (!display || display === 'none') {{\n",
       "            console.log([gd, 'removed!']);\n",
       "            Plotly.purge(gd);\n",
       "            observer.disconnect();\n",
       "        }}\n",
       "}});\n",
       "\n",
       "// Listen for the removal of the full notebook cells\n",
       "var notebookContainer = gd.closest('#notebook-container');\n",
       "if (notebookContainer) {{\n",
       "    x.observe(notebookContainer, {childList: true});\n",
       "}}\n",
       "\n",
       "// Listen for the clearing of the current output cell\n",
       "var outputEl = gd.closest('.output');\n",
       "if (outputEl) {{\n",
       "    x.observe(outputEl, {childList: true});\n",
       "}}\n",
       "\n",
       "                        })                };                });            </script>        </div>"
      ]
     },
     "metadata": {},
     "output_type": "display_data"
    }
   ],
   "source": [
    "fig = px.pie(df[df['payment_delay'] == 'yes'], names='area_code', title='Payment Delay - Area code')\n",
    "fig.show()\n",
    "\n",
    "fig = px.pie(df[df['payment_delay'] == 'no'], names='area_code', title='Payment on time - Area code')\n",
    "fig.show()"
   ]
  },
  {
   "cell_type": "markdown",
   "id": "4c96d453",
   "metadata": {},
   "source": [
    "No difference in the area code distribution."
   ]
  },
  {
   "cell_type": "markdown",
   "id": "c06c7d0c",
   "metadata": {},
   "source": [
    "In order to predict the payment delay probability, I firstly used the **random forest machine learning method**. For preprocessing the data, we need to encode the string data using the **one hot encoding technique** in order to allow the machine learning model to process it. "
   ]
  },
  {
   "cell_type": "code",
   "execution_count": 15,
   "id": "8e744dc1",
   "metadata": {},
   "outputs": [],
   "source": [
    "df = df.drop(['payment_delay'], axis = 1)"
   ]
  },
  {
   "cell_type": "code",
   "execution_count": 16,
   "id": "05bfc4dd",
   "metadata": {},
   "outputs": [
    {
     "name": "stdout",
     "output_type": "stream",
     "text": [
      "(3000, 73)\n"
     ]
    }
   ],
   "source": [
    "df_one_hot = pd.get_dummies(df)\n",
    "print(df_one_hot.shape)"
   ]
  },
  {
   "cell_type": "code",
   "execution_count": 17,
   "id": "ef37ac8b",
   "metadata": {},
   "outputs": [
    {
     "data": {
      "text/html": [
       "<div>\n",
       "<style scoped>\n",
       "    .dataframe tbody tr th:only-of-type {\n",
       "        vertical-align: middle;\n",
       "    }\n",
       "\n",
       "    .dataframe tbody tr th {\n",
       "        vertical-align: top;\n",
       "    }\n",
       "\n",
       "    .dataframe thead th {\n",
       "        text-align: right;\n",
       "    }\n",
       "</style>\n",
       "<table border=\"1\" class=\"dataframe\">\n",
       "  <thead>\n",
       "    <tr style=\"text-align: right;\">\n",
       "      <th></th>\n",
       "      <th>account_length</th>\n",
       "      <th>number_vmail_messages</th>\n",
       "      <th>total_day_minutes</th>\n",
       "      <th>total_day_calls</th>\n",
       "      <th>total_day_charge</th>\n",
       "      <th>total_eve_minutes</th>\n",
       "      <th>total_eve_calls</th>\n",
       "      <th>total_eve_charge</th>\n",
       "      <th>total_night_minutes</th>\n",
       "      <th>total_night_calls</th>\n",
       "      <th>...</th>\n",
       "      <th>state_WI</th>\n",
       "      <th>state_WV</th>\n",
       "      <th>state_WY</th>\n",
       "      <th>area_code_area_code_408</th>\n",
       "      <th>area_code_area_code_415</th>\n",
       "      <th>area_code_area_code_510</th>\n",
       "      <th>international_plan_no</th>\n",
       "      <th>international_plan_yes</th>\n",
       "      <th>voice_mail_plan_no</th>\n",
       "      <th>voice_mail_plan_yes</th>\n",
       "    </tr>\n",
       "  </thead>\n",
       "  <tbody>\n",
       "    <tr>\n",
       "      <th>0</th>\n",
       "      <td>33</td>\n",
       "      <td>0</td>\n",
       "      <td>200.5</td>\n",
       "      <td>117</td>\n",
       "      <td>34.09</td>\n",
       "      <td>159.9</td>\n",
       "      <td>111</td>\n",
       "      <td>13.59</td>\n",
       "      <td>196.2</td>\n",
       "      <td>84</td>\n",
       "      <td>...</td>\n",
       "      <td>0</td>\n",
       "      <td>0</td>\n",
       "      <td>0</td>\n",
       "      <td>0</td>\n",
       "      <td>1</td>\n",
       "      <td>0</td>\n",
       "      <td>1</td>\n",
       "      <td>0</td>\n",
       "      <td>1</td>\n",
       "      <td>0</td>\n",
       "    </tr>\n",
       "    <tr>\n",
       "      <th>1</th>\n",
       "      <td>80</td>\n",
       "      <td>0</td>\n",
       "      <td>276.5</td>\n",
       "      <td>122</td>\n",
       "      <td>47.01</td>\n",
       "      <td>195.6</td>\n",
       "      <td>79</td>\n",
       "      <td>16.63</td>\n",
       "      <td>210.3</td>\n",
       "      <td>78</td>\n",
       "      <td>...</td>\n",
       "      <td>0</td>\n",
       "      <td>0</td>\n",
       "      <td>0</td>\n",
       "      <td>0</td>\n",
       "      <td>1</td>\n",
       "      <td>0</td>\n",
       "      <td>0</td>\n",
       "      <td>1</td>\n",
       "      <td>1</td>\n",
       "      <td>0</td>\n",
       "    </tr>\n",
       "    <tr>\n",
       "      <th>2</th>\n",
       "      <td>37</td>\n",
       "      <td>0</td>\n",
       "      <td>134.9</td>\n",
       "      <td>98</td>\n",
       "      <td>22.93</td>\n",
       "      <td>248.4</td>\n",
       "      <td>130</td>\n",
       "      <td>21.11</td>\n",
       "      <td>236.2</td>\n",
       "      <td>113</td>\n",
       "      <td>...</td>\n",
       "      <td>0</td>\n",
       "      <td>0</td>\n",
       "      <td>0</td>\n",
       "      <td>1</td>\n",
       "      <td>0</td>\n",
       "      <td>0</td>\n",
       "      <td>1</td>\n",
       "      <td>0</td>\n",
       "      <td>1</td>\n",
       "      <td>0</td>\n",
       "    </tr>\n",
       "    <tr>\n",
       "      <th>3</th>\n",
       "      <td>106</td>\n",
       "      <td>0</td>\n",
       "      <td>119.2</td>\n",
       "      <td>142</td>\n",
       "      <td>20.26</td>\n",
       "      <td>228.4</td>\n",
       "      <td>139</td>\n",
       "      <td>19.41</td>\n",
       "      <td>197.9</td>\n",
       "      <td>61</td>\n",
       "      <td>...</td>\n",
       "      <td>0</td>\n",
       "      <td>0</td>\n",
       "      <td>0</td>\n",
       "      <td>0</td>\n",
       "      <td>1</td>\n",
       "      <td>0</td>\n",
       "      <td>1</td>\n",
       "      <td>0</td>\n",
       "      <td>1</td>\n",
       "      <td>0</td>\n",
       "    </tr>\n",
       "    <tr>\n",
       "      <th>4</th>\n",
       "      <td>123</td>\n",
       "      <td>0</td>\n",
       "      <td>260.9</td>\n",
       "      <td>85</td>\n",
       "      <td>44.35</td>\n",
       "      <td>168.5</td>\n",
       "      <td>103</td>\n",
       "      <td>14.32</td>\n",
       "      <td>178.3</td>\n",
       "      <td>91</td>\n",
       "      <td>...</td>\n",
       "      <td>0</td>\n",
       "      <td>0</td>\n",
       "      <td>0</td>\n",
       "      <td>1</td>\n",
       "      <td>0</td>\n",
       "      <td>0</td>\n",
       "      <td>1</td>\n",
       "      <td>0</td>\n",
       "      <td>1</td>\n",
       "      <td>0</td>\n",
       "    </tr>\n",
       "  </tbody>\n",
       "</table>\n",
       "<p>5 rows × 73 columns</p>\n",
       "</div>"
      ],
      "text/plain": [
       "   account_length  number_vmail_messages  total_day_minutes  total_day_calls  \\\n",
       "0              33                      0              200.5              117   \n",
       "1              80                      0              276.5              122   \n",
       "2              37                      0              134.9               98   \n",
       "3             106                      0              119.2              142   \n",
       "4             123                      0              260.9               85   \n",
       "\n",
       "   total_day_charge  total_eve_minutes  total_eve_calls  total_eve_charge  \\\n",
       "0             34.09              159.9              111             13.59   \n",
       "1             47.01              195.6               79             16.63   \n",
       "2             22.93              248.4              130             21.11   \n",
       "3             20.26              228.4              139             19.41   \n",
       "4             44.35              168.5              103             14.32   \n",
       "\n",
       "   total_night_minutes  total_night_calls  ...  state_WI  state_WV  state_WY  \\\n",
       "0                196.2                 84  ...         0         0         0   \n",
       "1                210.3                 78  ...         0         0         0   \n",
       "2                236.2                113  ...         0         0         0   \n",
       "3                197.9                 61  ...         0         0         0   \n",
       "4                178.3                 91  ...         0         0         0   \n",
       "\n",
       "   area_code_area_code_408  area_code_area_code_415  area_code_area_code_510  \\\n",
       "0                        0                        1                        0   \n",
       "1                        0                        1                        0   \n",
       "2                        1                        0                        0   \n",
       "3                        0                        1                        0   \n",
       "4                        1                        0                        0   \n",
       "\n",
       "   international_plan_no  international_plan_yes  voice_mail_plan_no  \\\n",
       "0                      1                       0                   1   \n",
       "1                      0                       1                   1   \n",
       "2                      1                       0                   1   \n",
       "3                      1                       0                   1   \n",
       "4                      1                       0                   1   \n",
       "\n",
       "   voice_mail_plan_yes  \n",
       "0                    0  \n",
       "1                    0  \n",
       "2                    0  \n",
       "3                    0  \n",
       "4                    0  \n",
       "\n",
       "[5 rows x 73 columns]"
      ]
     },
     "execution_count": 17,
     "metadata": {},
     "output_type": "execute_result"
    }
   ],
   "source": [
    "df_one_hot.head()"
   ]
  },
  {
   "cell_type": "code",
   "execution_count": 18,
   "id": "68804cc3",
   "metadata": {},
   "outputs": [],
   "source": [
    "# def standard_scale(dataframe):\n",
    "#     for i in df_yes.columns:\n",
    "#         dataframe[i] = (dataframe[i] - dataframe[i].mean())/dataframe[i].std()\n",
    "#     return dataframe"
   ]
  },
  {
   "cell_type": "code",
   "execution_count": 19,
   "id": "2cd0e72b",
   "metadata": {},
   "outputs": [
    {
     "data": {
      "text/html": [
       "<div>\n",
       "<style scoped>\n",
       "    .dataframe tbody tr th:only-of-type {\n",
       "        vertical-align: middle;\n",
       "    }\n",
       "\n",
       "    .dataframe tbody tr th {\n",
       "        vertical-align: top;\n",
       "    }\n",
       "\n",
       "    .dataframe thead th {\n",
       "        text-align: right;\n",
       "    }\n",
       "</style>\n",
       "<table border=\"1\" class=\"dataframe\">\n",
       "  <thead>\n",
       "    <tr style=\"text-align: right;\">\n",
       "      <th></th>\n",
       "      <th>account_length</th>\n",
       "      <th>number_vmail_messages</th>\n",
       "      <th>total_day_minutes</th>\n",
       "      <th>total_day_calls</th>\n",
       "      <th>total_day_charge</th>\n",
       "      <th>total_eve_minutes</th>\n",
       "      <th>total_eve_calls</th>\n",
       "      <th>total_eve_charge</th>\n",
       "      <th>total_night_minutes</th>\n",
       "      <th>total_night_calls</th>\n",
       "      <th>...</th>\n",
       "      <th>state_WI</th>\n",
       "      <th>state_WV</th>\n",
       "      <th>state_WY</th>\n",
       "      <th>area_code_area_code_408</th>\n",
       "      <th>area_code_area_code_415</th>\n",
       "      <th>area_code_area_code_510</th>\n",
       "      <th>international_plan_no</th>\n",
       "      <th>international_plan_yes</th>\n",
       "      <th>voice_mail_plan_no</th>\n",
       "      <th>voice_mail_plan_yes</th>\n",
       "    </tr>\n",
       "  </thead>\n",
       "  <tbody>\n",
       "    <tr>\n",
       "      <th>0</th>\n",
       "      <td>33</td>\n",
       "      <td>0</td>\n",
       "      <td>200.5</td>\n",
       "      <td>117</td>\n",
       "      <td>34.09</td>\n",
       "      <td>159.9</td>\n",
       "      <td>111</td>\n",
       "      <td>13.59</td>\n",
       "      <td>196.2</td>\n",
       "      <td>84</td>\n",
       "      <td>...</td>\n",
       "      <td>0</td>\n",
       "      <td>0</td>\n",
       "      <td>0</td>\n",
       "      <td>0</td>\n",
       "      <td>1</td>\n",
       "      <td>0</td>\n",
       "      <td>1</td>\n",
       "      <td>0</td>\n",
       "      <td>1</td>\n",
       "      <td>0</td>\n",
       "    </tr>\n",
       "    <tr>\n",
       "      <th>1</th>\n",
       "      <td>80</td>\n",
       "      <td>0</td>\n",
       "      <td>276.5</td>\n",
       "      <td>122</td>\n",
       "      <td>47.01</td>\n",
       "      <td>195.6</td>\n",
       "      <td>79</td>\n",
       "      <td>16.63</td>\n",
       "      <td>210.3</td>\n",
       "      <td>78</td>\n",
       "      <td>...</td>\n",
       "      <td>0</td>\n",
       "      <td>0</td>\n",
       "      <td>0</td>\n",
       "      <td>0</td>\n",
       "      <td>1</td>\n",
       "      <td>0</td>\n",
       "      <td>0</td>\n",
       "      <td>1</td>\n",
       "      <td>1</td>\n",
       "      <td>0</td>\n",
       "    </tr>\n",
       "    <tr>\n",
       "      <th>2</th>\n",
       "      <td>37</td>\n",
       "      <td>0</td>\n",
       "      <td>134.9</td>\n",
       "      <td>98</td>\n",
       "      <td>22.93</td>\n",
       "      <td>248.4</td>\n",
       "      <td>130</td>\n",
       "      <td>21.11</td>\n",
       "      <td>236.2</td>\n",
       "      <td>113</td>\n",
       "      <td>...</td>\n",
       "      <td>0</td>\n",
       "      <td>0</td>\n",
       "      <td>0</td>\n",
       "      <td>1</td>\n",
       "      <td>0</td>\n",
       "      <td>0</td>\n",
       "      <td>1</td>\n",
       "      <td>0</td>\n",
       "      <td>1</td>\n",
       "      <td>0</td>\n",
       "    </tr>\n",
       "    <tr>\n",
       "      <th>3</th>\n",
       "      <td>106</td>\n",
       "      <td>0</td>\n",
       "      <td>119.2</td>\n",
       "      <td>142</td>\n",
       "      <td>20.26</td>\n",
       "      <td>228.4</td>\n",
       "      <td>139</td>\n",
       "      <td>19.41</td>\n",
       "      <td>197.9</td>\n",
       "      <td>61</td>\n",
       "      <td>...</td>\n",
       "      <td>0</td>\n",
       "      <td>0</td>\n",
       "      <td>0</td>\n",
       "      <td>0</td>\n",
       "      <td>1</td>\n",
       "      <td>0</td>\n",
       "      <td>1</td>\n",
       "      <td>0</td>\n",
       "      <td>1</td>\n",
       "      <td>0</td>\n",
       "    </tr>\n",
       "    <tr>\n",
       "      <th>4</th>\n",
       "      <td>123</td>\n",
       "      <td>0</td>\n",
       "      <td>260.9</td>\n",
       "      <td>85</td>\n",
       "      <td>44.35</td>\n",
       "      <td>168.5</td>\n",
       "      <td>103</td>\n",
       "      <td>14.32</td>\n",
       "      <td>178.3</td>\n",
       "      <td>91</td>\n",
       "      <td>...</td>\n",
       "      <td>0</td>\n",
       "      <td>0</td>\n",
       "      <td>0</td>\n",
       "      <td>1</td>\n",
       "      <td>0</td>\n",
       "      <td>0</td>\n",
       "      <td>1</td>\n",
       "      <td>0</td>\n",
       "      <td>1</td>\n",
       "      <td>0</td>\n",
       "    </tr>\n",
       "  </tbody>\n",
       "</table>\n",
       "<p>5 rows × 73 columns</p>\n",
       "</div>"
      ],
      "text/plain": [
       "   account_length  number_vmail_messages  total_day_minutes  total_day_calls  \\\n",
       "0              33                      0              200.5              117   \n",
       "1              80                      0              276.5              122   \n",
       "2              37                      0              134.9               98   \n",
       "3             106                      0              119.2              142   \n",
       "4             123                      0              260.9               85   \n",
       "\n",
       "   total_day_charge  total_eve_minutes  total_eve_calls  total_eve_charge  \\\n",
       "0             34.09              159.9              111             13.59   \n",
       "1             47.01              195.6               79             16.63   \n",
       "2             22.93              248.4              130             21.11   \n",
       "3             20.26              228.4              139             19.41   \n",
       "4             44.35              168.5              103             14.32   \n",
       "\n",
       "   total_night_minutes  total_night_calls  ...  state_WI  state_WV  state_WY  \\\n",
       "0                196.2                 84  ...         0         0         0   \n",
       "1                210.3                 78  ...         0         0         0   \n",
       "2                236.2                113  ...         0         0         0   \n",
       "3                197.9                 61  ...         0         0         0   \n",
       "4                178.3                 91  ...         0         0         0   \n",
       "\n",
       "   area_code_area_code_408  area_code_area_code_415  area_code_area_code_510  \\\n",
       "0                        0                        1                        0   \n",
       "1                        0                        1                        0   \n",
       "2                        1                        0                        0   \n",
       "3                        0                        1                        0   \n",
       "4                        1                        0                        0   \n",
       "\n",
       "   international_plan_no  international_plan_yes  voice_mail_plan_no  \\\n",
       "0                      1                       0                   1   \n",
       "1                      0                       1                   1   \n",
       "2                      1                       0                   1   \n",
       "3                      1                       0                   1   \n",
       "4                      1                       0                   1   \n",
       "\n",
       "   voice_mail_plan_yes  \n",
       "0                    0  \n",
       "1                    0  \n",
       "2                    0  \n",
       "3                    0  \n",
       "4                    0  \n",
       "\n",
       "[5 rows x 73 columns]"
      ]
     },
     "execution_count": 19,
     "metadata": {},
     "output_type": "execute_result"
    }
   ],
   "source": [
    "# df_one_hot = standard_scale(df_one_hot)\n",
    "df_one_hot.head()"
   ]
  },
  {
   "cell_type": "code",
   "execution_count": 20,
   "id": "9b6e8efa",
   "metadata": {},
   "outputs": [],
   "source": [
    "dataset = df_one_hot.to_numpy()"
   ]
  },
  {
   "cell_type": "markdown",
   "id": "8979f0aa",
   "metadata": {},
   "source": [
    "First, I will split the training dataset into a new training set and a test set. Thus, I will check the model performance on a test data with known labels, in order to determine its prediction accuracy."
   ]
  },
  {
   "cell_type": "code",
   "execution_count": 21,
   "id": "6cbf0735",
   "metadata": {},
   "outputs": [],
   "source": [
    "# Split the data into training and testing sets\n",
    "train_features, test_features, train_labels, test_labels = train_test_split(dataset, labels, test_size = 0.25, random_state = 30)\n"
   ]
  },
  {
   "cell_type": "code",
   "execution_count": 22,
   "id": "e826def8",
   "metadata": {},
   "outputs": [
    {
     "name": "stdout",
     "output_type": "stream",
     "text": [
      "Training Features Shape: (2250, 73)\n",
      "Training Labels Shape: (2250,)\n",
      "Testing Features Shape: (750, 73)\n",
      "Testing Labels Shape: (750,)\n"
     ]
    }
   ],
   "source": [
    "print('Training Features Shape:', train_features.shape)\n",
    "print('Training Labels Shape:', train_labels.shape)\n",
    "print('Testing Features Shape:', test_features.shape)\n",
    "print('Testing Labels Shape:', test_labels.shape)"
   ]
  },
  {
   "cell_type": "code",
   "execution_count": 23,
   "id": "7561ba20",
   "metadata": {},
   "outputs": [],
   "source": [
    "# Initialize model with N decision trees\n",
    "def train_model(N, train_features, train_labels):\n",
    "    model = RandomForestRegressor(n_estimators = N, random_state = 42)\n",
    "    \n",
    "    # Train the model on training data\n",
    "    tic = time.time()\n",
    "    model.fit(train_features, train_labels);\n",
    "    tac = time.time()\n",
    "    print('Time taken: ', np.round(tac-tic, 3),' seconds.')\n",
    "    return model\n",
    "\n",
    "def test_model(model, test_features):\n",
    "    predictions = model.predict(test_features)\n",
    "    predictions = np.where(predictions > 0.5, 1, 0)\n",
    "    print((predictions==1).sum())\n",
    "    # print((predictions==test_labels).sum())\n",
    "    print('Accuracy = ', np.round((predictions==test_labels).sum()/len(test_labels)*100, 2), '%')"
   ]
  },
  {
   "cell_type": "markdown",
   "id": "d4ff9fc8",
   "metadata": {},
   "source": [
    "The model predicts labels with values in [0,1]. However, I'll consider that any value below 0.5 is considered 0 (no), and the rest of them are considered 1 (yes)."
   ]
  },
  {
   "cell_type": "code",
   "execution_count": 24,
   "id": "0783fbbf",
   "metadata": {},
   "outputs": [
    {
     "name": "stdout",
     "output_type": "stream",
     "text": [
      "Time taken:  2.04  seconds.\n",
      "87\n",
      "Accuracy =  94.0 %\n"
     ]
    }
   ],
   "source": [
    "# 1st case: N = 100(default trees number)\n",
    "model = train_model(100, train_features, train_labels)\n",
    "test_model(model, test_features)"
   ]
  },
  {
   "cell_type": "markdown",
   "id": "a16d3a24",
   "metadata": {},
   "source": [
    "The accuracy is great, but it can do better...I'll initialize the random forest with N = 200 trees"
   ]
  },
  {
   "cell_type": "code",
   "execution_count": 25,
   "id": "6eda081a",
   "metadata": {},
   "outputs": [
    {
     "name": "stdout",
     "output_type": "stream",
     "text": [
      "Time taken:  3.681  seconds.\n",
      "88\n",
      "Accuracy =  94.67 %\n"
     ]
    }
   ],
   "source": [
    "#2nd case: N = 200\n",
    "model = train_model(200, train_features, train_labels)\n",
    "test_model(model, test_features)"
   ]
  },
  {
   "cell_type": "markdown",
   "id": "cd85f026",
   "metadata": {},
   "source": [
    "Let's see how it handels the test dataset for N = 400 trees."
   ]
  },
  {
   "cell_type": "code",
   "execution_count": 26,
   "id": "73ac1190",
   "metadata": {},
   "outputs": [
    {
     "name": "stdout",
     "output_type": "stream",
     "text": [
      "Time taken:  7.315  seconds.\n",
      "87\n",
      "Accuracy =  94.53 %\n"
     ]
    }
   ],
   "source": [
    "#2nd case: N = 400\n",
    "model = train_model(400, train_features, train_labels)\n",
    "test_model(model, test_features)"
   ]
  },
  {
   "cell_type": "markdown",
   "id": "ebf45bec",
   "metadata": {},
   "source": [
    "I think this is the best the model can do. </br> </br> I will now train the model on the proposed test set."
   ]
  },
  {
   "cell_type": "code",
   "execution_count": 27,
   "id": "ed154cfd",
   "metadata": {},
   "outputs": [
    {
     "data": {
      "text/html": [
       "<div>\n",
       "<style scoped>\n",
       "    .dataframe tbody tr th:only-of-type {\n",
       "        vertical-align: middle;\n",
       "    }\n",
       "\n",
       "    .dataframe tbody tr th {\n",
       "        vertical-align: top;\n",
       "    }\n",
       "\n",
       "    .dataframe thead th {\n",
       "        text-align: right;\n",
       "    }\n",
       "</style>\n",
       "<table border=\"1\" class=\"dataframe\">\n",
       "  <thead>\n",
       "    <tr style=\"text-align: right;\">\n",
       "      <th></th>\n",
       "      <th>state</th>\n",
       "      <th>account_length</th>\n",
       "      <th>area_code</th>\n",
       "      <th>international_plan</th>\n",
       "      <th>voice_mail_plan</th>\n",
       "      <th>number_vmail_messages</th>\n",
       "      <th>total_day_minutes</th>\n",
       "      <th>total_day_calls</th>\n",
       "      <th>total_day_charge</th>\n",
       "      <th>total_eve_minutes</th>\n",
       "      <th>total_eve_calls</th>\n",
       "      <th>total_eve_charge</th>\n",
       "      <th>total_night_minutes</th>\n",
       "      <th>total_night_calls</th>\n",
       "      <th>total_night_charge</th>\n",
       "      <th>total_intl_minutes</th>\n",
       "      <th>total_intl_calls</th>\n",
       "      <th>total_intl_charge</th>\n",
       "      <th>number_customer_service_calls</th>\n",
       "    </tr>\n",
       "  </thead>\n",
       "  <tbody>\n",
       "    <tr>\n",
       "      <th>0</th>\n",
       "      <td>AK</td>\n",
       "      <td>36</td>\n",
       "      <td>area_code_408</td>\n",
       "      <td>no</td>\n",
       "      <td>yes</td>\n",
       "      <td>30</td>\n",
       "      <td>146.3</td>\n",
       "      <td>128</td>\n",
       "      <td>24.87</td>\n",
       "      <td>162.5</td>\n",
       "      <td>80</td>\n",
       "      <td>13.81</td>\n",
       "      <td>129.3</td>\n",
       "      <td>109</td>\n",
       "      <td>5.82</td>\n",
       "      <td>14.5</td>\n",
       "      <td>6</td>\n",
       "      <td>3.92</td>\n",
       "      <td>0</td>\n",
       "    </tr>\n",
       "    <tr>\n",
       "      <th>1</th>\n",
       "      <td>AK</td>\n",
       "      <td>104</td>\n",
       "      <td>area_code_408</td>\n",
       "      <td>no</td>\n",
       "      <td>no</td>\n",
       "      <td>0</td>\n",
       "      <td>278.4</td>\n",
       "      <td>106</td>\n",
       "      <td>47.33</td>\n",
       "      <td>81.0</td>\n",
       "      <td>113</td>\n",
       "      <td>6.89</td>\n",
       "      <td>163.2</td>\n",
       "      <td>137</td>\n",
       "      <td>7.34</td>\n",
       "      <td>9.8</td>\n",
       "      <td>5</td>\n",
       "      <td>2.65</td>\n",
       "      <td>1</td>\n",
       "    </tr>\n",
       "    <tr>\n",
       "      <th>2</th>\n",
       "      <td>AK</td>\n",
       "      <td>126</td>\n",
       "      <td>area_code_415</td>\n",
       "      <td>no</td>\n",
       "      <td>no</td>\n",
       "      <td>0</td>\n",
       "      <td>58.2</td>\n",
       "      <td>94</td>\n",
       "      <td>9.89</td>\n",
       "      <td>138.7</td>\n",
       "      <td>118</td>\n",
       "      <td>11.79</td>\n",
       "      <td>136.8</td>\n",
       "      <td>91</td>\n",
       "      <td>6.16</td>\n",
       "      <td>11.9</td>\n",
       "      <td>1</td>\n",
       "      <td>3.21</td>\n",
       "      <td>5</td>\n",
       "    </tr>\n",
       "    <tr>\n",
       "      <th>3</th>\n",
       "      <td>AK</td>\n",
       "      <td>130</td>\n",
       "      <td>area_code_415</td>\n",
       "      <td>no</td>\n",
       "      <td>no</td>\n",
       "      <td>0</td>\n",
       "      <td>242.5</td>\n",
       "      <td>101</td>\n",
       "      <td>41.23</td>\n",
       "      <td>102.8</td>\n",
       "      <td>114</td>\n",
       "      <td>8.74</td>\n",
       "      <td>142.4</td>\n",
       "      <td>89</td>\n",
       "      <td>6.41</td>\n",
       "      <td>9.3</td>\n",
       "      <td>2</td>\n",
       "      <td>2.51</td>\n",
       "      <td>2</td>\n",
       "    </tr>\n",
       "    <tr>\n",
       "      <th>4</th>\n",
       "      <td>AK</td>\n",
       "      <td>78</td>\n",
       "      <td>area_code_510</td>\n",
       "      <td>no</td>\n",
       "      <td>no</td>\n",
       "      <td>0</td>\n",
       "      <td>190.3</td>\n",
       "      <td>88</td>\n",
       "      <td>32.35</td>\n",
       "      <td>194.5</td>\n",
       "      <td>89</td>\n",
       "      <td>16.53</td>\n",
       "      <td>256.5</td>\n",
       "      <td>109</td>\n",
       "      <td>11.54</td>\n",
       "      <td>11.7</td>\n",
       "      <td>5</td>\n",
       "      <td>3.16</td>\n",
       "      <td>2</td>\n",
       "    </tr>\n",
       "  </tbody>\n",
       "</table>\n",
       "</div>"
      ],
      "text/plain": [
       "  state  account_length      area_code international_plan voice_mail_plan  \\\n",
       "0    AK              36  area_code_408                 no             yes   \n",
       "1    AK             104  area_code_408                 no              no   \n",
       "2    AK             126  area_code_415                 no              no   \n",
       "3    AK             130  area_code_415                 no              no   \n",
       "4    AK              78  area_code_510                 no              no   \n",
       "\n",
       "   number_vmail_messages  total_day_minutes  total_day_calls  \\\n",
       "0                     30              146.3              128   \n",
       "1                      0              278.4              106   \n",
       "2                      0               58.2               94   \n",
       "3                      0              242.5              101   \n",
       "4                      0              190.3               88   \n",
       "\n",
       "   total_day_charge  total_eve_minutes  total_eve_calls  total_eve_charge  \\\n",
       "0             24.87              162.5               80             13.81   \n",
       "1             47.33               81.0              113              6.89   \n",
       "2              9.89              138.7              118             11.79   \n",
       "3             41.23              102.8              114              8.74   \n",
       "4             32.35              194.5               89             16.53   \n",
       "\n",
       "   total_night_minutes  total_night_calls  total_night_charge  \\\n",
       "0                129.3                109                5.82   \n",
       "1                163.2                137                7.34   \n",
       "2                136.8                 91                6.16   \n",
       "3                142.4                 89                6.41   \n",
       "4                256.5                109               11.54   \n",
       "\n",
       "   total_intl_minutes  total_intl_calls  total_intl_charge  \\\n",
       "0                14.5                 6               3.92   \n",
       "1                 9.8                 5               2.65   \n",
       "2                11.9                 1               3.21   \n",
       "3                 9.3                 2               2.51   \n",
       "4                11.7                 5               3.16   \n",
       "\n",
       "   number_customer_service_calls  \n",
       "0                              0  \n",
       "1                              1  \n",
       "2                              5  \n",
       "3                              2  \n",
       "4                              2  "
      ]
     },
     "execution_count": 27,
     "metadata": {},
     "output_type": "execute_result"
    }
   ],
   "source": [
    "test = pd.read_csv('test.csv')\n",
    "test.head()"
   ]
  },
  {
   "cell_type": "code",
   "execution_count": 28,
   "id": "029d4386",
   "metadata": {},
   "outputs": [
    {
     "name": "stdout",
     "output_type": "stream",
     "text": [
      "(2000, 73)\n"
     ]
    }
   ],
   "source": [
    "# test = test.drop('state', axis = 1)\n",
    "test_one_hot = pd.get_dummies(test)\n",
    "# test_one_hot = standard_scale(test_one_hot)\n",
    "new_test_features = test_one_hot.to_numpy()\n",
    "print(new_test_features.shape)"
   ]
  },
  {
   "cell_type": "markdown",
   "id": "af1fe5cf",
   "metadata": {},
   "source": [
    "I'll train the model using the whole provided training dataset."
   ]
  },
  {
   "cell_type": "code",
   "execution_count": 29,
   "id": "467a065f",
   "metadata": {},
   "outputs": [
    {
     "name": "stdout",
     "output_type": "stream",
     "text": [
      "Time taken:  4.99  seconds.\n"
     ]
    }
   ],
   "source": [
    "model = train_model(200, dataset, labels)\n",
    "predictions = model.predict(new_test_features)"
   ]
  },
  {
   "cell_type": "code",
   "execution_count": 30,
   "id": "bbcb6e88",
   "metadata": {},
   "outputs": [],
   "source": [
    "a = np.sort(predictions)[::-1]"
   ]
  },
  {
   "cell_type": "code",
   "execution_count": 31,
   "id": "94136ab1",
   "metadata": {},
   "outputs": [
    {
     "name": "stdout",
     "output_type": "stream",
     "text": [
      "238\n"
     ]
    }
   ],
   "source": [
    "print((a[:300]>0.5).sum())"
   ]
  },
  {
   "cell_type": "markdown",
   "id": "97057ca6",
   "metadata": {},
   "source": [
    "Considering my assumption (values less than 0.5 are equivalent to 'no', the other ones - 'yes'), looks like only 238 customers out of 2000 will delay their payment. However, since the task is to export the first 300 customers who are likely to register such delays, I'll just concatenate the predictions array to the initial test dataset and sort the values accordingly."
   ]
  },
  {
   "cell_type": "code",
   "execution_count": 32,
   "id": "992def6d",
   "metadata": {},
   "outputs": [],
   "source": [
    "test.insert(test.shape[1], 'payment_delay_prob[%]', predictions*100)"
   ]
  },
  {
   "cell_type": "code",
   "execution_count": 33,
   "id": "1933b28c",
   "metadata": {},
   "outputs": [],
   "source": [
    "test = test.sort_values('payment_delay_prob[%]', ascending = False)"
   ]
  },
  {
   "cell_type": "code",
   "execution_count": 34,
   "id": "bbb67c71",
   "metadata": {},
   "outputs": [
    {
     "data": {
      "text/html": [
       "<div>\n",
       "<style scoped>\n",
       "    .dataframe tbody tr th:only-of-type {\n",
       "        vertical-align: middle;\n",
       "    }\n",
       "\n",
       "    .dataframe tbody tr th {\n",
       "        vertical-align: top;\n",
       "    }\n",
       "\n",
       "    .dataframe thead th {\n",
       "        text-align: right;\n",
       "    }\n",
       "</style>\n",
       "<table border=\"1\" class=\"dataframe\">\n",
       "  <thead>\n",
       "    <tr style=\"text-align: right;\">\n",
       "      <th></th>\n",
       "      <th>state</th>\n",
       "      <th>account_length</th>\n",
       "      <th>area_code</th>\n",
       "      <th>international_plan</th>\n",
       "      <th>voice_mail_plan</th>\n",
       "      <th>number_vmail_messages</th>\n",
       "      <th>total_day_minutes</th>\n",
       "      <th>total_day_calls</th>\n",
       "      <th>total_day_charge</th>\n",
       "      <th>total_eve_minutes</th>\n",
       "      <th>total_eve_calls</th>\n",
       "      <th>total_eve_charge</th>\n",
       "      <th>total_night_minutes</th>\n",
       "      <th>total_night_calls</th>\n",
       "      <th>total_night_charge</th>\n",
       "      <th>total_intl_minutes</th>\n",
       "      <th>total_intl_calls</th>\n",
       "      <th>total_intl_charge</th>\n",
       "      <th>number_customer_service_calls</th>\n",
       "      <th>payment_delay_prob[%]</th>\n",
       "    </tr>\n",
       "  </thead>\n",
       "  <tbody>\n",
       "    <tr>\n",
       "      <th>1014</th>\n",
       "      <td>MT</td>\n",
       "      <td>64</td>\n",
       "      <td>area_code_415</td>\n",
       "      <td>no</td>\n",
       "      <td>no</td>\n",
       "      <td>0</td>\n",
       "      <td>131.3</td>\n",
       "      <td>105</td>\n",
       "      <td>22.32</td>\n",
       "      <td>109.4</td>\n",
       "      <td>114</td>\n",
       "      <td>9.30</td>\n",
       "      <td>246.2</td>\n",
       "      <td>125</td>\n",
       "      <td>11.08</td>\n",
       "      <td>12.7</td>\n",
       "      <td>4</td>\n",
       "      <td>3.43</td>\n",
       "      <td>4</td>\n",
       "      <td>100.0</td>\n",
       "    </tr>\n",
       "    <tr>\n",
       "      <th>708</th>\n",
       "      <td>MA</td>\n",
       "      <td>119</td>\n",
       "      <td>area_code_408</td>\n",
       "      <td>yes</td>\n",
       "      <td>yes</td>\n",
       "      <td>16</td>\n",
       "      <td>147.2</td>\n",
       "      <td>103</td>\n",
       "      <td>25.02</td>\n",
       "      <td>160.1</td>\n",
       "      <td>96</td>\n",
       "      <td>13.61</td>\n",
       "      <td>184.0</td>\n",
       "      <td>120</td>\n",
       "      <td>8.28</td>\n",
       "      <td>7.7</td>\n",
       "      <td>2</td>\n",
       "      <td>2.08</td>\n",
       "      <td>0</td>\n",
       "      <td>100.0</td>\n",
       "    </tr>\n",
       "    <tr>\n",
       "      <th>1075</th>\n",
       "      <td>ND</td>\n",
       "      <td>147</td>\n",
       "      <td>area_code_408</td>\n",
       "      <td>yes</td>\n",
       "      <td>yes</td>\n",
       "      <td>35</td>\n",
       "      <td>157.5</td>\n",
       "      <td>109</td>\n",
       "      <td>26.78</td>\n",
       "      <td>189.6</td>\n",
       "      <td>67</td>\n",
       "      <td>16.12</td>\n",
       "      <td>227.0</td>\n",
       "      <td>76</td>\n",
       "      <td>10.22</td>\n",
       "      <td>11.1</td>\n",
       "      <td>2</td>\n",
       "      <td>3.00</td>\n",
       "      <td>3</td>\n",
       "      <td>100.0</td>\n",
       "    </tr>\n",
       "    <tr>\n",
       "      <th>72</th>\n",
       "      <td>AL</td>\n",
       "      <td>91</td>\n",
       "      <td>area_code_415</td>\n",
       "      <td>no</td>\n",
       "      <td>no</td>\n",
       "      <td>0</td>\n",
       "      <td>271.9</td>\n",
       "      <td>106</td>\n",
       "      <td>46.22</td>\n",
       "      <td>231.9</td>\n",
       "      <td>116</td>\n",
       "      <td>19.71</td>\n",
       "      <td>247.0</td>\n",
       "      <td>110</td>\n",
       "      <td>11.12</td>\n",
       "      <td>9.3</td>\n",
       "      <td>3</td>\n",
       "      <td>2.51</td>\n",
       "      <td>1</td>\n",
       "      <td>100.0</td>\n",
       "    </tr>\n",
       "    <tr>\n",
       "      <th>1835</th>\n",
       "      <td>WA</td>\n",
       "      <td>100</td>\n",
       "      <td>area_code_408</td>\n",
       "      <td>no</td>\n",
       "      <td>no</td>\n",
       "      <td>0</td>\n",
       "      <td>70.8</td>\n",
       "      <td>94</td>\n",
       "      <td>12.04</td>\n",
       "      <td>215.6</td>\n",
       "      <td>102</td>\n",
       "      <td>18.33</td>\n",
       "      <td>230.8</td>\n",
       "      <td>125</td>\n",
       "      <td>10.39</td>\n",
       "      <td>9.5</td>\n",
       "      <td>1</td>\n",
       "      <td>2.57</td>\n",
       "      <td>6</td>\n",
       "      <td>100.0</td>\n",
       "    </tr>\n",
       "    <tr>\n",
       "      <th>...</th>\n",
       "      <td>...</td>\n",
       "      <td>...</td>\n",
       "      <td>...</td>\n",
       "      <td>...</td>\n",
       "      <td>...</td>\n",
       "      <td>...</td>\n",
       "      <td>...</td>\n",
       "      <td>...</td>\n",
       "      <td>...</td>\n",
       "      <td>...</td>\n",
       "      <td>...</td>\n",
       "      <td>...</td>\n",
       "      <td>...</td>\n",
       "      <td>...</td>\n",
       "      <td>...</td>\n",
       "      <td>...</td>\n",
       "      <td>...</td>\n",
       "      <td>...</td>\n",
       "      <td>...</td>\n",
       "      <td>...</td>\n",
       "    </tr>\n",
       "    <tr>\n",
       "      <th>1556</th>\n",
       "      <td>SC</td>\n",
       "      <td>84</td>\n",
       "      <td>area_code_415</td>\n",
       "      <td>no</td>\n",
       "      <td>no</td>\n",
       "      <td>0</td>\n",
       "      <td>274.1</td>\n",
       "      <td>119</td>\n",
       "      <td>46.60</td>\n",
       "      <td>144.1</td>\n",
       "      <td>123</td>\n",
       "      <td>12.25</td>\n",
       "      <td>268.2</td>\n",
       "      <td>100</td>\n",
       "      <td>12.07</td>\n",
       "      <td>9.9</td>\n",
       "      <td>5</td>\n",
       "      <td>2.67</td>\n",
       "      <td>2</td>\n",
       "      <td>27.5</td>\n",
       "    </tr>\n",
       "    <tr>\n",
       "      <th>772</th>\n",
       "      <td>MD</td>\n",
       "      <td>156</td>\n",
       "      <td>area_code_510</td>\n",
       "      <td>no</td>\n",
       "      <td>no</td>\n",
       "      <td>0</td>\n",
       "      <td>81.7</td>\n",
       "      <td>133</td>\n",
       "      <td>13.89</td>\n",
       "      <td>242.5</td>\n",
       "      <td>117</td>\n",
       "      <td>20.61</td>\n",
       "      <td>203.8</td>\n",
       "      <td>112</td>\n",
       "      <td>9.17</td>\n",
       "      <td>12.3</td>\n",
       "      <td>6</td>\n",
       "      <td>3.32</td>\n",
       "      <td>3</td>\n",
       "      <td>27.5</td>\n",
       "    </tr>\n",
       "    <tr>\n",
       "      <th>1681</th>\n",
       "      <td>TX</td>\n",
       "      <td>138</td>\n",
       "      <td>area_code_415</td>\n",
       "      <td>no</td>\n",
       "      <td>no</td>\n",
       "      <td>0</td>\n",
       "      <td>217.2</td>\n",
       "      <td>73</td>\n",
       "      <td>36.92</td>\n",
       "      <td>190.8</td>\n",
       "      <td>127</td>\n",
       "      <td>16.22</td>\n",
       "      <td>133.5</td>\n",
       "      <td>97</td>\n",
       "      <td>6.01</td>\n",
       "      <td>5.2</td>\n",
       "      <td>3</td>\n",
       "      <td>1.40</td>\n",
       "      <td>4</td>\n",
       "      <td>27.0</td>\n",
       "    </tr>\n",
       "    <tr>\n",
       "      <th>667</th>\n",
       "      <td>LA</td>\n",
       "      <td>149</td>\n",
       "      <td>area_code_415</td>\n",
       "      <td>no</td>\n",
       "      <td>yes</td>\n",
       "      <td>20</td>\n",
       "      <td>198.9</td>\n",
       "      <td>77</td>\n",
       "      <td>33.81</td>\n",
       "      <td>274.0</td>\n",
       "      <td>88</td>\n",
       "      <td>23.29</td>\n",
       "      <td>190.7</td>\n",
       "      <td>76</td>\n",
       "      <td>8.58</td>\n",
       "      <td>14.3</td>\n",
       "      <td>9</td>\n",
       "      <td>3.86</td>\n",
       "      <td>1</td>\n",
       "      <td>27.0</td>\n",
       "    </tr>\n",
       "    <tr>\n",
       "      <th>812</th>\n",
       "      <td>ME</td>\n",
       "      <td>57</td>\n",
       "      <td>area_code_510</td>\n",
       "      <td>no</td>\n",
       "      <td>no</td>\n",
       "      <td>0</td>\n",
       "      <td>155.2</td>\n",
       "      <td>99</td>\n",
       "      <td>26.38</td>\n",
       "      <td>214.1</td>\n",
       "      <td>98</td>\n",
       "      <td>18.20</td>\n",
       "      <td>241.0</td>\n",
       "      <td>64</td>\n",
       "      <td>10.85</td>\n",
       "      <td>7.5</td>\n",
       "      <td>7</td>\n",
       "      <td>2.03</td>\n",
       "      <td>1</td>\n",
       "      <td>27.0</td>\n",
       "    </tr>\n",
       "  </tbody>\n",
       "</table>\n",
       "<p>300 rows × 20 columns</p>\n",
       "</div>"
      ],
      "text/plain": [
       "     state  account_length      area_code international_plan voice_mail_plan  \\\n",
       "1014    MT              64  area_code_415                 no              no   \n",
       "708     MA             119  area_code_408                yes             yes   \n",
       "1075    ND             147  area_code_408                yes             yes   \n",
       "72      AL              91  area_code_415                 no              no   \n",
       "1835    WA             100  area_code_408                 no              no   \n",
       "...    ...             ...            ...                ...             ...   \n",
       "1556    SC              84  area_code_415                 no              no   \n",
       "772     MD             156  area_code_510                 no              no   \n",
       "1681    TX             138  area_code_415                 no              no   \n",
       "667     LA             149  area_code_415                 no             yes   \n",
       "812     ME              57  area_code_510                 no              no   \n",
       "\n",
       "      number_vmail_messages  total_day_minutes  total_day_calls  \\\n",
       "1014                      0              131.3              105   \n",
       "708                      16              147.2              103   \n",
       "1075                     35              157.5              109   \n",
       "72                        0              271.9              106   \n",
       "1835                      0               70.8               94   \n",
       "...                     ...                ...              ...   \n",
       "1556                      0              274.1              119   \n",
       "772                       0               81.7              133   \n",
       "1681                      0              217.2               73   \n",
       "667                      20              198.9               77   \n",
       "812                       0              155.2               99   \n",
       "\n",
       "      total_day_charge  total_eve_minutes  total_eve_calls  total_eve_charge  \\\n",
       "1014             22.32              109.4              114              9.30   \n",
       "708              25.02              160.1               96             13.61   \n",
       "1075             26.78              189.6               67             16.12   \n",
       "72               46.22              231.9              116             19.71   \n",
       "1835             12.04              215.6              102             18.33   \n",
       "...                ...                ...              ...               ...   \n",
       "1556             46.60              144.1              123             12.25   \n",
       "772              13.89              242.5              117             20.61   \n",
       "1681             36.92              190.8              127             16.22   \n",
       "667              33.81              274.0               88             23.29   \n",
       "812              26.38              214.1               98             18.20   \n",
       "\n",
       "      total_night_minutes  total_night_calls  total_night_charge  \\\n",
       "1014                246.2                125               11.08   \n",
       "708                 184.0                120                8.28   \n",
       "1075                227.0                 76               10.22   \n",
       "72                  247.0                110               11.12   \n",
       "1835                230.8                125               10.39   \n",
       "...                   ...                ...                 ...   \n",
       "1556                268.2                100               12.07   \n",
       "772                 203.8                112                9.17   \n",
       "1681                133.5                 97                6.01   \n",
       "667                 190.7                 76                8.58   \n",
       "812                 241.0                 64               10.85   \n",
       "\n",
       "      total_intl_minutes  total_intl_calls  total_intl_charge  \\\n",
       "1014                12.7                 4               3.43   \n",
       "708                  7.7                 2               2.08   \n",
       "1075                11.1                 2               3.00   \n",
       "72                   9.3                 3               2.51   \n",
       "1835                 9.5                 1               2.57   \n",
       "...                  ...               ...                ...   \n",
       "1556                 9.9                 5               2.67   \n",
       "772                 12.3                 6               3.32   \n",
       "1681                 5.2                 3               1.40   \n",
       "667                 14.3                 9               3.86   \n",
       "812                  7.5                 7               2.03   \n",
       "\n",
       "      number_customer_service_calls  payment_delay_prob[%]  \n",
       "1014                              4                  100.0  \n",
       "708                               0                  100.0  \n",
       "1075                              3                  100.0  \n",
       "72                                1                  100.0  \n",
       "1835                              6                  100.0  \n",
       "...                             ...                    ...  \n",
       "1556                              2                   27.5  \n",
       "772                               3                   27.5  \n",
       "1681                              4                   27.0  \n",
       "667                               1                   27.0  \n",
       "812                               1                   27.0  \n",
       "\n",
       "[300 rows x 20 columns]"
      ]
     },
     "execution_count": 34,
     "metadata": {},
     "output_type": "execute_result"
    }
   ],
   "source": [
    "test.head(300)"
   ]
  },
  {
   "cell_type": "code",
   "execution_count": null,
   "id": "a296a987",
   "metadata": {},
   "outputs": [],
   "source": []
  }
 ],
 "metadata": {
  "kernelspec": {
   "display_name": "Python 3 (ipykernel)",
   "language": "python",
   "name": "python3"
  },
  "language_info": {
   "codemirror_mode": {
    "name": "ipython",
    "version": 3
   },
   "file_extension": ".py",
   "mimetype": "text/x-python",
   "name": "python",
   "nbconvert_exporter": "python",
   "pygments_lexer": "ipython3",
   "version": "3.8.10"
  }
 },
 "nbformat": 4,
 "nbformat_minor": 5
}
